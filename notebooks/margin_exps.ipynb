{
 "cells": [
  {
   "cell_type": "markdown",
   "metadata": {},
   "source": [
    "# Imports"
   ]
  },
  {
   "cell_type": "code",
   "execution_count": 19,
   "metadata": {},
   "outputs": [
    {
     "data": {
      "text/plain": [
       "'/scratch_local/arubinstein17-163577/starlight'"
      ]
     },
     "execution_count": 19,
     "metadata": {},
     "output_type": "execute_result"
    }
   ],
   "source": [
    "%reload_ext autoreload\n",
    "%autoreload 2\n",
    "%matplotlib inline\n",
    "\n",
    "\n",
    "import os\n",
    "import sys\n",
    "import torch\n",
    "from tqdm import tqdm\n",
    "import pandas as pd\n",
    "import random\n",
    "# import copy\n",
    "# import h5py\n",
    "# import numpy as np\n",
    "# import pandas as pd\n",
    "from IPython.display import display\n",
    "# import random\n",
    "# import matplotlib.ticker as ticker\n",
    "# import matplotlib.pyplot as plt\n",
    "import numpy as np\n",
    "# import itertools\n",
    "# import sklearn\n",
    "\n",
    "\n",
    "# local imports\n",
    "sys.path.insert(\n",
    "    0,\n",
    "    os.path.join(\n",
    "        os.path.dirname(os.path.abspath(''))\n",
    "    )\n",
    ")\n",
    "from dataloaders.cifar10 import (\n",
    "    load_cifar10\n",
    ")\n",
    "from dataloaders.cifar100 import (\n",
    "    load_cifar100\n",
    ")\n",
    "from models import models_dict as MODELS_DICT\n",
    "# models_dict = {\n",
    "#     \"resnet18_cifar\": resnet18_cifar,\n",
    "#     \"resnet18_torch\": torchvision.models.resnet18,\n",
    "#     \"resnet50_torch\": torchvision.models.resnet50,\n",
    "#     \"densenet_cifar\": densenet_cifar\n",
    "# }\n",
    "from utils import (\n",
    "    compute_calibration_error,\n",
    "    check_config_for_training_experiment,\n",
    "    dataset_loss_and_accuracy,\n",
    "    has_batch_norm,\n",
    "    make_exps_deterministic,\n",
    "    make_interpolation_plot,\n",
    "    load_models,\n",
    "    match_weights,\n",
    "    setup_model,\n",
    "    setup_optimizer,\n",
    "    setup_scheduler,\n",
    "    StarDomain\n",
    ")\n",
    "sys.path.pop(0)\n"
   ]
  },
  {
   "cell_type": "markdown",
   "metadata": {},
   "source": [
    "# Functions"
   ]
  },
  {
   "cell_type": "code",
   "execution_count": 3,
   "metadata": {},
   "outputs": [],
   "source": [
    "\n",
    "def apply_random_seed(random_seed):\n",
    "    random.seed(random_seed)\n",
    "    np.random.seed(random_seed)\n",
    "    torch.manual_seed(random_seed)\n",
    "    torch.cuda.manual_seed(random_seed)\n",
    "    torch.cuda.manual_seed_all(random_seed)\n",
    "    torch.backends.cudnn.benchmark = False\n",
    "    torch.backends.cudnn.deterministic = True\n",
    "    os.environ[\"CUBLAS_WORKSPACE_CONFIG\"] = \":4096:8\"  # to suppress warning\n",
    "    torch.use_deterministic_algorithms(True, warn_only=True)\n",
    "\n",
    "\n",
    "def extract_list_from_huge_string(huge_string):\n",
    "    assert isinstance(huge_string, str)\n",
    "    split = huge_string.split('\\n')\n",
    "    res = []\n",
    "    for el in split:\n",
    "        el = el.strip()\n",
    "        if el != '':\n",
    "            res.append(el)\n",
    "    return res\n",
    "\n",
    "\n",
    "def get_model_id(model_path):\n",
    "    return model_path.split(os.sep)[-1].split(\".\")[0]\n",
    "\n",
    "\n",
    "def get_link(raw_link):\n",
    "    id = raw_link.split(\"/d/\")[-1].split(\"/\")[0]\n",
    "    return f\"https://drive.google.com/uc?id={id}\"\n",
    "\n",
    "\n",
    "def get_model(chkpt_path, model_name, model_settings={}):\n",
    "    model = MODELS_DICT[model_name](**model_settings)\n",
    "    model.load_state_dict(torch.load(chkpt_path)[\"state_dict\"])\n",
    "    return model\n",
    "\n",
    "\n",
    "def get_resnet18_cifar(chkpt_path, num_classes=10):\n",
    "    return get_model(\n",
    "        chkpt_path,\n",
    "        \"resnet18_cifar\",\n",
    "        model_settings={\"num_classes\": num_classes}\n",
    ")\n",
    "\n",
    "\n",
    "def get_resnet18_cifar100(chkpt_path):\n",
    "    return get_resnet18_cifar(chkpt_path, num_classes=100)\n",
    "\n",
    "\n",
    "def get_paths(root_path):\n",
    "    stars_path = os.path.join(root_path, \"stars\")\n",
    "    anchors_path = os.path.join(root_path, \"anchors\")\n",
    "\n",
    "    anchors = [\n",
    "        os.path.join(anchors_path, name) for name in os.listdir(anchors_path)\n",
    "    ]\n",
    "    stars = [\n",
    "        os.path.join(stars_path, name) for name in os.listdir(stars_path)\n",
    "    ]\n",
    "    return anchors, stars\n",
    "\n",
    "\n",
    "@torch.no_grad\n",
    "def compute_margin_for_batch(model, x, device=\"cuda:0\", agg=\"mean\", norm=\"l1\"):\n",
    "\n",
    "    x.requires_grad = True\n",
    "\n",
    "    with torch.enable_grad():\n",
    "        output = model(x)\n",
    "\n",
    "    output = output.to(device)\n",
    "\n",
    "    num_classes = output.shape[-1]\n",
    "    batch_size = output.shape[0]\n",
    "    used_classes = range(num_classes)\n",
    "\n",
    "    model_grads = {}\n",
    "\n",
    "    with torch.enable_grad():\n",
    "        for i, class_i in enumerate(used_classes):\n",
    "            model_grads[class_i] = get_grad(\n",
    "                output[..., class_i],\n",
    "                x,\n",
    "                retain_graph=(i != len(used_classes) - 1)\n",
    "            )\n",
    "\n",
    "        if agg == \"min_to_pred\":\n",
    "            margins_for_all_class_pairs = torch.ones(\n",
    "                batch_size,\n",
    "                num_classes,\n",
    "                num_classes\n",
    "            ).to(output.device) * torch.inf\n",
    "        else:\n",
    "            margins_for_all_class_pairs = torch.zeros(\n",
    "                batch_size,\n",
    "                num_classes,\n",
    "                num_classes\n",
    "            ).to(output.device)\n",
    "\n",
    "        for i in range(len(used_classes)):\n",
    "            for j in range(i + 1, len(used_classes)):\n",
    "\n",
    "                class_i = used_classes[i]\n",
    "                class_j = used_classes[j]\n",
    "\n",
    "                output_i = output[..., class_i]\n",
    "                output_j = output[..., class_j]\n",
    "\n",
    "                grad_i = model_grads[class_i]\n",
    "                grad_j = model_grads[class_j]\n",
    "                batch_margins_for_class_pair = compute_margin(\n",
    "                    output_i,\n",
    "                    output_j,\n",
    "                    grad_i,\n",
    "                    grad_j,\n",
    "                    norm=norm\n",
    "                )\n",
    "\n",
    "                # [batch_size, num_classes, num_classes],\n",
    "                # (s, i, j) - margin between classes i and j for sample s\n",
    "                margins_for_all_class_pairs[:, class_i, class_j] \\\n",
    "                    = batch_margins_for_class_pair\n",
    "                margins_for_all_class_pairs[:, class_j, class_i] \\\n",
    "                    = batch_margins_for_class_pair\n",
    "\n",
    "        if agg == \"min_to_pred\":\n",
    "            pred = output.argmax(dim=-1)\n",
    "\n",
    "            min_distances_for_all_classes = margins_for_all_class_pairs.min(dim=-1).values\n",
    "\n",
    "            min_distances_to_pred = min_distances_for_all_classes[\n",
    "                torch.arange(batch_size).to(pred.device),\n",
    "                pred\n",
    "            ]\n",
    "            return min_distances_to_pred.mean()\n",
    "        elif agg == \"max_first\":\n",
    "            # sanity check that it is higher than min_to_pred\n",
    "            res = margins_for_all_class_pairs.max(dim=-1).values.max(-1).values.mean()\n",
    "            return res\n",
    "        else:\n",
    "            res = margins_for_all_class_pairs.mean(dim=0)\n",
    "            if agg == \"mean\":\n",
    "                # diagonal for class_i == class_j has only zeros,\n",
    "                # so we don't need to use them in mean computation\n",
    "                return res.mean() * (num_classes / (num_classes - 1))\n",
    "            else:\n",
    "                assert agg == \"max\"\n",
    "                return res.max()\n",
    "\n",
    "\n",
    "def get_grad(output_i, x, retain_graph):\n",
    "    assert x.requires_grad == True\n",
    "    differentiable_value = output_i.sum()\n",
    "    differentiable_value.backward(inputs=x, retain_graph=retain_graph)\n",
    "    grad = x.grad\n",
    "    x.grad = None\n",
    "    return grad\n",
    "\n",
    "\n",
    "def compute_margin(output_i, output_j, grad_i, grad_j, norm=\"l1\"):\n",
    "    # eq. 7 here: https://proceedings.neurips.cc/paper_files/paper/2018/file/42998cf32d552343bc8e460416382dca-Paper.pdf\n",
    "    # d = |f_i(x) - f_j(x)| / |grad_x f_i(x) - grad_x f_j (x)|_q\n",
    "    outputs_diff = (output_i - output_j).abs()\n",
    "    grads_diff = (grad_i - grad_j)\n",
    "    if norm == \"l1\":\n",
    "        return (\n",
    "                outputs_diff\n",
    "            /\n",
    "                grads_diff.abs().sum()\n",
    "        )\n",
    "    elif norm == \"l2\":\n",
    "        return (\n",
    "                outputs_diff\n",
    "            /\n",
    "                # grads_diff.abs().pow(2).sum().sqrt()\n",
    "                torch.linalg.vector_norm(grads_diff, ord=2)\n",
    "        )\n",
    "    else:\n",
    "        raise NotImplementedError(\"Only L1 norm is supported\")\n",
    "\n",
    "\n",
    "def margin_on_dataloader(\n",
    "    model,\n",
    "    dataloader,\n",
    "    percent=0.01,\n",
    "    device=\"cuda:0\",\n",
    "    agg=\"mean\",\n",
    "    norm=\"l1\",\n",
    "    random_seed=42\n",
    "):\n",
    "\n",
    "    model.eval()\n",
    "    model.to(device)\n",
    "\n",
    "    dataloader_len = len(dataloader)\n",
    "    if percent == 1:\n",
    "        active_batches = list(range(dataloader_len))\n",
    "    else:\n",
    "        total_batches = int(percent * dataloader_len)\n",
    "        active_batches = np.linspace(0, dataloader_len, total_batches)\n",
    "        active_batches = active_batches.astype(int)\n",
    "\n",
    "    res = []\n",
    "    pb = tqdm(total=dataloader_len, desc='batch', position=0)\n",
    "    apply_random_seed(random_seed)\n",
    "    for i, batch in (enumerate(dataloader)):\n",
    "        pb.update(1)\n",
    "        if i not in active_batches:\n",
    "            continue\n",
    "        x, y = batch\n",
    "        x = x.to(device)\n",
    "        batch_margin = compute_margin_for_batch(\n",
    "            model,\n",
    "            x,\n",
    "            device=device,\n",
    "            agg=agg,\n",
    "            norm=norm\n",
    "        )\n",
    "        res.append(batch_margin)\n",
    "    return torch.Tensor(res).mean().item()\n",
    "\n",
    "\n",
    "def compute_results(\n",
    "    model_paths,\n",
    "    dataloader,\n",
    "    cache_path,\n",
    "    split_name,\n",
    "    percent=1,\n",
    "    load_model=get_resnet18_cifar,\n",
    "    recompute_substring=None,\n",
    "    agg=\"mean\",\n",
    "    norm=\"l1\"\n",
    "):\n",
    "    res = {}\n",
    "    if os.path.exists(cache_path):\n",
    "        print(f\"Loading existing results from {cache_path}\")\n",
    "        res = torch.load(cache_path)\n",
    "    else:\n",
    "        res = {}\n",
    "\n",
    "    dataset_root = dataloader.dataset.dataset.__dict__[\"root\"]\n",
    "    dataset_name = dataset_root.split(os.sep)[-1]\n",
    "    for model_path in model_paths:\n",
    "\n",
    "        path_split = model_path.split(os.sep)[-2:]\n",
    "        assert len(path_split) == 2\n",
    "        model_type = path_split[0]\n",
    "        model_id = path_split[1].split(\".\")[0]\n",
    "        df_id = f\"{model_type}_{model_id}_{dataset_name}_p{percent}\"\n",
    "        to_recompute = (not df_id in res)\n",
    "        if not to_recompute and recompute_substring is not None:\n",
    "            to_recompute = recompute_substring in df_id\n",
    "\n",
    "        if to_recompute:\n",
    "            print(f\"Computing results for {df_id}\")\n",
    "            res[df_id] = {}\n",
    "            res[df_id][\"margin\"] = margin_on_dataloader(\n",
    "                load_model(model_path),\n",
    "                dataloader,\n",
    "                percent=percent,\n",
    "                device=\"cuda:0\",\n",
    "                agg=agg,\n",
    "                norm=norm\n",
    "            )\n",
    "            res[df_id][\"model_type\"] = model_type\n",
    "            res[df_id][\"dataset_name\"] = dataset_name\n",
    "            res[df_id][\"percent\"] = percent\n",
    "            res[df_id][\"model_id\"] = model_id\n",
    "            res[df_id][\"split_name\"] = split_name\n",
    "        else:\n",
    "            print(f\"Reusing results for {df_id}\")\n",
    "    torch.save(res, cache_path)\n",
    "    return res\n",
    "\n",
    "\n",
    "def plot_dict(\n",
    "    res,\n",
    "    to_show=True,\n",
    "    filter_dict={},\n",
    "    drop_columns=[],\n",
    "    group_aggregate_list=[],\n",
    "    query=None\n",
    "):\n",
    "\n",
    "    df = pd.DataFrame.from_dict(res, orient='index')\n",
    "\n",
    "    for column_name, allowed_values in filter_dict.items():\n",
    "        df = df[df[column_name] in allowed_values]\n",
    "\n",
    "    if query is not None:\n",
    "        df = df.query(query)\n",
    "\n",
    "    for column_name in drop_columns:\n",
    "        if column_name == \"index\":\n",
    "            df.reset_index(drop=True, inplace=True)\n",
    "        else:\n",
    "            df = df.drop(column_name, axis=1)\n",
    "\n",
    "    for new_index in group_aggregate_list:\n",
    "        df = df.groupby(new_index).agg([(f'mean', 'mean'), (f'std', 'std')])\n",
    "\n",
    "    if to_show:\n",
    "        display(df)\n",
    "    return df"
   ]
  },
  {
   "cell_type": "markdown",
   "metadata": {},
   "source": [
    "# Prepare synthetic"
   ]
  },
  {
   "cell_type": "code",
   "execution_count": 13,
   "metadata": {},
   "outputs": [],
   "source": [
    "csv_path = \"./spirals.csv\""
   ]
  },
  {
   "cell_type": "code",
   "execution_count": 14,
   "metadata": {},
   "outputs": [
    {
     "data": {
      "image/png": "[encoded data removed]",
      "text/plain": [
       "<Figure size 1000x600 with 2 Axes>"
      ]
     },
     "metadata": {},
     "output_type": "display_data"
    }
   ],
   "source": [
    "import matplotlib.pyplot as plt\n",
    "\n",
    "# from io import StringIO\n",
    "df = pd.read_csv(csv_path)\n",
    "\n",
    "# Plotting\n",
    "plt.figure(figsize=(10, 6))\n",
    "scatter = plt.scatter(df['x1'], df['x2'], c=df['y'], cmap='viridis')\n",
    "plt.title('2D Dataset Visualization')\n",
    "plt.xlabel('x1')\n",
    "plt.ylabel('x2')\n",
    "plt.colorbar(scatter, label='y')\n",
    "plt.show()"
   ]
  },
  {
   "cell_type": "code",
   "execution_count": 29,
   "metadata": {},
   "outputs": [
    {
     "name": "stdout",
     "output_type": "stream",
     "text": [
      "tensor([[-0.5375,  0.2955],\n",
      "        [ 0.2395, -0.4929],\n",
      "        [ 0.2472,  0.7608],\n",
      "        [ 0.3992,  0.6654],\n",
      "        [ 0.3466,  0.1423],\n",
      "        [-0.0187, -0.4956],\n",
      "        [-0.6749, -0.1112],\n",
      "        [-0.5290,  0.7281],\n",
      "        [ 0.5017, -0.3364],\n",
      "        [-0.5497, -0.5033],\n",
      "        [ 0.8364, -0.4462],\n",
      "        [ 0.2031, -0.8343],\n",
      "        [ 0.5844,  0.4474],\n",
      "        [-0.3535,  0.8030],\n",
      "        [-0.3420, -0.1716],\n",
      "        [-0.6480, -0.2950],\n",
      "        [-0.9843,  0.0993],\n",
      "        [-0.9428,  0.2421],\n",
      "        [-0.6436,  0.6518],\n",
      "        [ 0.2195,  0.7735],\n",
      "        [-0.6727, -0.0508],\n",
      "        [ 0.4032, -0.4187],\n",
      "        [ 0.0126, -0.5025],\n",
      "        [ 0.9470, -0.2305],\n",
      "        [-0.5868,  0.2238],\n",
      "        [-0.5742,  0.2442],\n",
      "        [ 0.9914, -0.0624],\n",
      "        [-0.8562,  0.4161],\n",
      "        [ 0.1041, -0.5108],\n",
      "        [-0.9194,  0.2987],\n",
      "        [ 0.6199, -0.1592],\n",
      "        [-0.6505,  0.0739],\n",
      "        [-0.3782,  0.4344],\n",
      "        [-0.0316,  0.8367],\n",
      "        [ 0.3197,  0.2448],\n",
      "        [-0.7471,  0.5572],\n",
      "        [ 0.3655, -0.4418],\n",
      "        [-0.7224,  0.5825],\n",
      "        [-0.6590, -0.2514],\n",
      "        [ 0.5471, -0.2831],\n",
      "        [-0.3199,  0.4645],\n",
      "        [-0.1068, -0.4639],\n",
      "        [-0.2583, -0.3463],\n",
      "        [ 0.4506,  0.6202],\n",
      "        [-0.9551,  0.2072],\n",
      "        [-0.8688,  0.3956],\n",
      "        [-0.8084,  0.4849],\n",
      "        [-0.3758, -0.6835],\n",
      "        [-0.9728,  0.1478],\n",
      "        [ 0.3180,  0.7224],\n",
      "        [-0.5550, -0.4955],\n",
      "        [-0.3359, -0.0084],\n",
      "        [-0.2277, -0.3796],\n",
      "        [-0.6058, -0.4061],\n",
      "        [ 0.4990, -0.7442],\n",
      "        [ 0.3215, -0.8120],\n",
      "        [ 0.1815,  0.7887],\n",
      "        [ 0.3480,  0.1277],\n",
      "        [-0.0643,  0.5093],\n",
      "        [ 0.3908, -0.4268],\n",
      "        [ 0.2920,  0.7376],\n",
      "        [-0.3460, -0.1472],\n",
      "        [-0.2893,  0.8198],\n",
      "        [-0.5750, -0.4637],\n",
      "        [ 0.3410,  0.1765],\n",
      "        [ 0.0431,  0.4888],\n",
      "        [-0.0551, -0.4849],\n",
      "        [ 0.5742, -0.2442],\n",
      "        [-0.5908,  0.2169],\n",
      "        [ 0.3217,  0.2400],\n",
      "        [ 0.3346,  0.0042],\n",
      "        [ 0.1595,  0.4343],\n",
      "        [ 0.3265,  0.7172],\n",
      "        [-0.3461,  0.4520],\n",
      "        [ 0.3460,  0.0570],\n",
      "        [ 0.2277,  0.3796],\n",
      "        [-0.6741, -0.1374],\n",
      "        [ 0.6731,  0.1549],\n",
      "        [ 0.2720,  0.3288],\n",
      "        [ 0.3236,  0.2351],\n",
      "        [ 0.2236,  0.3836],\n",
      "        [ 0.5443,  0.5111],\n",
      "        [-0.1377,  0.5097],\n",
      "        [-0.5683,  0.7048],\n",
      "        [ 0.5375, -0.2955],\n",
      "        [ 0.3177,  0.2496],\n",
      "        [ 0.3489,  0.0990],\n",
      "        [ 0.6263, -0.1441],\n",
      "        [ 0.8296, -0.4561],\n",
      "        [-0.5276,  0.3075],\n",
      "        [ 0.0187,  0.4956],\n",
      "        [ 0.1911,  0.7851],\n",
      "        [-0.8926,  0.3534],\n",
      "        [ 0.3428, -0.8061],\n",
      "        [-0.4990,  0.7442],\n",
      "        [-0.9037,  0.3318],\n",
      "        [ 0.3431,  0.0390],\n",
      "        [-0.6371, -0.3297],\n",
      "        [ 0.1384, -0.8393],\n",
      "        [ 0.3413,  0.0301],\n",
      "        [ 0.3597,  0.6951],\n",
      "        [ 0.2397,  0.3674],\n",
      "        [ 0.0416,  0.8270],\n",
      "        [-0.2463,  0.4910],\n",
      "        [ 0.0105, -0.8346],\n",
      "        [ 0.1061, -0.8400],\n",
      "        [ 0.6433, -0.0977],\n",
      "        [-0.3454, -0.0525],\n",
      "        [ 0.6720,  0.0423],\n",
      "        [-0.6352,  0.1212],\n",
      "        [ 0.8431, -0.4363],\n",
      "        [ 0.6480,  0.2950],\n",
      "        [-0.3597, -0.6951],\n",
      "        [-0.5971,  0.6859],\n",
      "        [-0.0063, -0.4986],\n",
      "        [-0.4686,  0.3682],\n",
      "        [ 0.6528,  0.2776],\n",
      "        [-0.3488, -0.0943],\n",
      "        [-0.4909,  0.3473],\n",
      "        [-0.3641,  0.7997],\n",
      "        [-0.0610, -0.4828],\n",
      "        [ 0.6017,  0.4145],\n",
      "        [ 0.2124, -0.4994],\n",
      "        [-0.2743, -0.7472],\n",
      "        [ 0.1599, -0.8382],\n",
      "        [ 0.6745,  0.1287],\n",
      "        [ 0.5550,  0.4955],\n",
      "        [ 0.4375, -0.7727]]) tensor([0, 1, 1, 1, 0, 1, 0, 1, 1, 0, 0, 0, 1, 1, 1, 0, 1, 1, 1, 1, 0, 1, 1, 0,\n",
      "        0, 0, 0, 1, 1, 1, 1, 0, 0, 1, 0, 1, 1, 1, 0, 1, 0, 1, 1, 1, 1, 1, 1, 0,\n",
      "        1, 1, 0, 1, 1, 0, 0, 0, 1, 0, 0, 1, 1, 1, 1, 0, 0, 0, 1, 1, 0, 0, 0, 0,\n",
      "        1, 0, 0, 0, 0, 1, 0, 0, 0, 1, 0, 1, 1, 0, 0, 1, 0, 0, 0, 1, 1, 0, 1, 1,\n",
      "        0, 0, 0, 0, 1, 0, 1, 0, 0, 0, 1, 1, 1, 0, 0, 1, 0, 1, 1, 0, 1, 1, 0, 1,\n",
      "        1, 1, 1, 0, 0, 1, 1, 0])\n",
      "tensor([[-0.6702, -0.0253],\n",
      "        [ 0.6626,  0.2339],\n",
      "        [-0.3350, -0.2010],\n",
      "        [ 0.3852, -0.7927],\n",
      "        [ 0.6482, -0.0819],\n",
      "        [-0.0063,  0.5013],\n",
      "        [-0.5157, -0.5492],\n",
      "        [-0.1493, -0.4407],\n",
      "        [-0.9470,  0.2305],\n",
      "        [-0.0724, -0.8208],\n",
      "        [-0.2065, -0.3991],\n",
      "        [-0.8296,  0.4561],\n",
      "        [-0.6716, -0.1724],\n",
      "        [-0.5844, -0.4474],\n",
      "        [-0.0927, -0.8161],\n",
      "        [ 0.6341,  0.3383],\n",
      "        [-0.6671, -0.2075],\n",
      "        [-0.2260,  0.4963],\n",
      "        [ 0.3447,  0.0480],\n",
      "        [ 0.8562, -0.4161],\n",
      "        [ 0.8497, -0.4263],\n",
      "        [-0.3915, -0.6716],\n",
      "        [-0.1976, -0.4065],\n",
      "        [ 0.0785,  0.4762],\n",
      "        [ 0.1742,  0.4243],\n",
      "        [ 0.1544,  0.4375],\n",
      "        [-0.3067,  0.4701],\n",
      "        [ 0.6746,  0.0852],\n",
      "        [ 0.9511, -0.2189],\n",
      "        [ 0.3305,  0.2156],\n",
      "        [ 0.3915,  0.6716],\n",
      "        [-0.6605,  0.0332],\n",
      "        [-0.2288, -0.7694],\n",
      "        [ 0.0775, -0.5101],\n",
      "        [-0.3430, -0.1667],\n",
      "        [-0.2875, -0.3062],\n",
      "        [-0.1384,  0.8393],\n",
      "        [-0.2124,  0.4994],\n",
      "        [ 0.2815,  0.3153],\n",
      "        [-0.3958,  0.7890],\n",
      "        [-0.4514,  0.3831],\n",
      "        [-0.2006, -0.7813],\n",
      "        [ 0.9662, -0.1718],\n",
      "        [ 0.0209,  0.8304],\n",
      "        [ 0.1716, -0.5064],\n",
      "        [ 0.5174, -0.3193],\n",
      "        [-0.3410, -0.1765],\n",
      "        [-0.6739, -0.0680],\n",
      "        [ 0.5699, -0.2509],\n",
      "        [-0.3001,  0.4728],\n",
      "        [-0.3001,  0.8173],\n",
      "        [ 0.3454,  0.0525],\n",
      "        [-0.0740,  0.8394],\n",
      "        [-0.4455,  0.3878],\n",
      "        [-0.1622, -0.7956],\n",
      "        [-0.5326,  0.3015],\n",
      "        [-0.6679, -0.0084],\n",
      "        [-0.3466, -0.1423],\n",
      "        [-0.6734, -0.0594],\n",
      "        [-0.1693, -0.4277],\n",
      "        [ 0.3958, -0.7890],\n",
      "        [-0.5610,  0.2640],\n",
      "        [-0.7630,  0.5398],\n",
      "        [ 0.3322, -0.8091],\n",
      "        [-0.3489, -0.1037],\n",
      "        [-0.3485, -0.0848],\n",
      "        [ 0.6309,  0.3469],\n",
      "        [-0.6345,  0.6588],\n",
      "        [ 0.7630, -0.5398],\n",
      "        [-0.3845,  0.4307],\n",
      "        [ 0.7708, -0.5310],\n",
      "        [ 0.2653,  0.3376],\n",
      "        [-0.6527,  0.0658],\n",
      "        [-0.8155,  0.4754],\n",
      "        [-0.4167,  0.7811],\n",
      "        [ 0.0447, -0.5074],\n",
      "        [-0.3217, -0.2400],\n",
      "        [ 0.6173,  0.3809],\n",
      "        [ 0.5225, -0.3135],\n",
      "        [-0.1390, -0.4469],\n",
      "        [-0.2473, -0.3591],\n",
      "        [ 0.6277,  0.3554],\n",
      "        [ 0.9728, -0.1478],\n",
      "        [ 0.3333,  0.0000],\n",
      "        [-0.3272, -0.2254],\n",
      "        [ 0.2786, -0.8221],\n",
      "        [-0.4799,  0.3579],\n",
      "        [ 0.2056, -0.5008],\n",
      "        [-0.8497,  0.4263],\n",
      "        [-0.1707,  0.8374],\n",
      "        [ 0.6671,  0.2075],\n",
      "        [ 0.9868, -0.0870],\n",
      "        [-0.3475, -0.0708],\n",
      "        [-0.1784,  0.5054],\n",
      "        [-0.2784, -0.3198],\n",
      "        [-0.3333,  0.0000],\n",
      "        [ 0.6231, -0.1517],\n",
      "        [-0.1168,  0.8399],\n",
      "        [-0.4068, -0.6592],\n",
      "        [-0.1988,  0.5021],\n",
      "        [-0.3322,  0.8091],\n",
      "        [ 0.3535, -0.8030],\n",
      "        [ 0.6527, -0.0658],\n",
      "        [ 0.1513, -0.5087],\n",
      "        [ 0.5875, -0.6923],\n",
      "        [ 0.9037, -0.3318],\n",
      "        [ 0.5655, -0.2575],\n",
      "        [-0.0842, -0.4739],\n",
      "        [-0.4685,  0.7591],\n",
      "        [ 0.1445, -0.5092],\n",
      "        [ 0.5216,  0.5417],\n",
      "        [ 0.3678,  0.6894],\n",
      "        [ 0.0709, -0.5098],\n",
      "        [ 0.3371,  0.0127],\n",
      "        [-0.1327, -0.8051],\n",
      "        [ 0.0610,  0.4828],\n",
      "        [ 0.2654,  0.7519],\n",
      "        [-0.5889, -0.4393],\n",
      "        [-0.1544, -0.4375],\n",
      "        [-0.6294,  0.1365],\n",
      "        [-0.5827,  0.2307],\n",
      "        [ 0.0527, -0.8383],\n",
      "        [-0.7937,  0.5037],\n",
      "        [-0.3180, -0.7224],\n",
      "        [-0.3382, -0.0170],\n",
      "        [ 0.6748,  0.1199],\n",
      "        [-0.6173, -0.3809],\n",
      "        [ 0.1012,  0.4665]]) tensor([0, 1, 1, 0, 1, 0, 0, 1, 1, 0, 1, 1, 0, 0, 0, 1, 0, 0, 0, 0, 0, 0, 1, 0,\n",
      "        0, 0, 0, 1, 0, 0, 1, 0, 0, 1, 1, 1, 1, 0, 0, 1, 0, 0, 0, 1, 1, 1, 1, 0,\n",
      "        1, 0, 1, 0, 1, 0, 0, 0, 0, 1, 0, 1, 0, 0, 1, 0, 1, 1, 1, 1, 0, 0, 0, 0,\n",
      "        0, 1, 1, 1, 1, 1, 1, 1, 1, 1, 0, 0, 1, 0, 0, 1, 1, 1, 1, 0, 1, 0, 1, 1,\n",
      "        1, 1, 0, 0, 1, 0, 1, 1, 0, 0, 1, 1, 1, 1, 1, 1, 1, 0, 0, 0, 1, 0, 1, 0,\n",
      "        0, 0, 1, 0, 1, 1, 0, 0])\n",
      "tensor([[-0.2752, -0.3243],\n",
      "        [-0.3718,  0.4382],\n",
      "        [ 0.8226, -0.4658],\n",
      "        [-0.0210,  0.8357],\n",
      "        [ 0.3438,  0.1618],\n",
      "        [-0.3108,  0.8147],\n",
      "        [ 0.5947, -0.2099],\n",
      "        [ 0.5889,  0.4393],\n",
      "        [ 0.6667, -0.0000],\n",
      "        [ 0.5652,  0.4797],\n",
      "        [-0.2654, -0.7519],\n",
      "        [-0.5225,  0.3135],\n",
      "        [ 0.9934, -0.0500],\n",
      "        [ 0.5750,  0.4637],\n",
      "        [-0.0956, -0.4690],\n",
      "        [ 0.3420,  0.1716],\n",
      "        [-0.9090,  0.3208],\n",
      "        [ 0.6706,  0.1812],\n",
      "        [ 0.0421, -0.8376],\n",
      "        [-0.6568,  0.0496],\n",
      "        [ 0.2318,  0.3756],\n",
      "        [-0.6458,  0.0898],\n",
      "        [-0.1276,  0.8397],\n",
      "        [-0.1644, -0.4310],\n",
      "        [-0.5388, -0.5189],\n",
      "        [ 0.6795, -0.6222],\n",
      "        [ 0.3515,  0.7008],\n",
      "        [-0.2531,  0.4891],\n",
      "        [-0.2987, -0.2876],\n",
      "        [ 0.0383, -0.5066],\n",
      "        [ 0.3758,  0.6835],\n",
      "        [-0.2720, -0.3288],\n",
      "        [ 0.6724,  0.1637],\n",
      "        [-0.3439, -0.0434],\n",
      "        [ 0.6609,  0.2426],\n",
      "        [ 0.3396, -0.4553],\n",
      "        [-0.2563, -0.7564],\n",
      "        [ 0.0634, -0.8389],\n",
      "        [ 0.3155,  0.2544],\n",
      "        [-0.2318, -0.3756],\n",
      "        [ 0.3321,  0.2108],\n",
      "        [-0.1228, -0.8081],\n",
      "        [-0.0847,  0.8397],\n",
      "        [ 0.6131, -0.1740],\n",
      "        [-0.6696, -0.1900],\n",
      "        [ 0.4572, -0.3782],\n",
      "        [-0.3487, -0.0895],\n",
      "        [ 0.0316, -0.8367],\n",
      "        [ 0.4063, -0.7851],\n",
      "        [ 0.3133, -0.4673],\n",
      "        [ 0.4909, -0.3473],\n",
      "        [-0.0209, -0.8304],\n",
      "        [ 0.6380, -0.1134],\n",
      "        [-0.1837, -0.4173],\n",
      "        [-0.0527,  0.8383],\n",
      "        [-0.9817,  0.1115],\n",
      "        [-0.5976, -0.4228],\n",
      "        [ 0.1693,  0.4277],\n",
      "        [ 0.2875,  0.3062],\n",
      "        [ 0.6622, -0.0250],\n",
      "        [-0.6684, -0.1988],\n",
      "        [-0.5423,  0.2893],\n",
      "        [-0.3265, -0.7172],\n",
      "        [-0.0513,  0.5081],\n",
      "        [ 0.9338, -0.2649],\n",
      "        [-0.0826, -0.8185],\n",
      "        [ 0.2666, -0.4849],\n",
      "        [ 0.3393,  0.0213],\n",
      "        [-0.5699,  0.2509],\n",
      "        [ 0.3376,  0.1912],\n",
      "        [-0.6433,  0.0977],\n",
      "        [ 0.6749,  0.1026],\n",
      "        [-0.9892,  0.0747],\n",
      "        [-0.4063,  0.7851],\n",
      "        [ 0.6679,  0.0084],\n",
      "        [-0.1442, -0.4438],\n",
      "        [ 0.0927,  0.8161],\n",
      "        [ 0.6252, -0.6658],\n",
      "        [-0.4337,  0.3971],\n",
      "        [-0.1716,  0.5064],\n",
      "        [-0.6252,  0.6658],\n",
      "        [-0.5332, -0.5265],\n",
      "        [ 0.3475,  0.0708],\n",
      "        [-0.4155,  0.4103],\n",
      "        [ 0.5683, -0.7048],\n",
      "        [ 0.5275,  0.5341],\n",
      "        [ 0.6428,  0.3124],\n",
      "        [ 0.3289,  0.2205],\n",
      "        [-0.3215,  0.8120],\n",
      "        [-0.5275, -0.5341],\n",
      "        [-0.4645, -0.6066],\n",
      "        [-0.6691, -0.0168],\n",
      "        [-0.9868,  0.0870],\n",
      "        [ 0.1327,  0.8051],\n",
      "        [-0.3039, -0.2782],\n",
      "        [-0.6208, -0.3725],\n",
      "        [-0.2358, -0.3715],\n",
      "        [ 0.6741,  0.1374],\n",
      "        [-0.9970,  0.0251],\n",
      "        [-0.8431,  0.4363],\n",
      "        [ 0.6716,  0.1724],\n",
      "        [-0.0313, -0.8287],\n",
      "        [ 0.8688, -0.3956],\n",
      "        [ 0.3359,  0.0084],\n",
      "        [ 0.1648, -0.5072],\n",
      "        [ 0.4144,  0.6529],\n",
      "        [ 0.6023, -0.1957],\n",
      "        [ 0.3013,  0.2829],\n",
      "        [ 0.5090, -0.7390],\n",
      "        [ 0.2687,  0.3332],\n",
      "        [ 0.3446,  0.1569],\n",
      "        [ 0.5933,  0.4310],\n",
      "        [ 0.6159, -0.6726],\n",
      "        [-0.0105,  0.8346],\n",
      "        [ 0.9291, -0.2763],\n",
      "        [-0.3438, -0.1618],\n",
      "        [ 0.4155, -0.4103],\n",
      "        [-0.3483, -0.1229],\n",
      "        [-0.3321, -0.2108],\n",
      "        [-0.3400, -0.1814],\n",
      "        [ 0.3008,  0.7327],\n",
      "        [ 0.4337, -0.3971],\n",
      "        [ 0.1884,  0.4138],\n",
      "        [ 0.8155, -0.4754],\n",
      "        [ 0.1491, -0.8388],\n",
      "        [ 0.3718, -0.4382],\n",
      "        [ 0.6734,  0.0594],\n",
      "        [-0.9953,  0.0375]]) tensor([1, 0, 0, 1, 0, 1, 1, 1, 1, 1, 0, 0, 0, 1, 1, 0, 1, 1, 0, 0, 0, 0, 1, 1,\n",
      "        0, 0, 1, 0, 1, 1, 1, 1, 1, 1, 1, 1, 0, 0, 0, 1, 0, 0, 1, 1, 0, 1, 1, 0,\n",
      "        0, 1, 1, 0, 1, 1, 1, 1, 0, 0, 0, 1, 0, 0, 0, 0, 0, 0, 1, 0, 0, 0, 0, 1,\n",
      "        1, 1, 1, 1, 1, 0, 0, 0, 1, 0, 0, 0, 0, 1, 1, 0, 1, 0, 0, 0, 1, 1, 1, 0,\n",
      "        1, 1, 1, 1, 1, 0, 0, 0, 1, 1, 1, 0, 0, 0, 0, 1, 0, 1, 0, 1, 1, 1, 1, 1,\n",
      "        1, 1, 0, 0, 0, 1, 1, 1])\n",
      "tensor([[ 0.6454,  0.3037],\n",
      "        [ 0.3388,  0.1863],\n",
      "        [ 0.3489,  0.1037],\n",
      "        [-0.9291,  0.2763],\n",
      "        [ 0.1976,  0.4065],\n",
      "        [ 0.5564, -0.2704],\n",
      "        [ 0.0974, -0.5108],\n",
      "        [ 0.3970, -0.4228],\n",
      "        [ 0.2547,  0.3506],\n",
      "        [-0.2472, -0.7608],\n",
      "        [ 0.1231,  0.4557],\n",
      "        [ 0.2065,  0.3991],\n",
      "        [ 0.2511,  0.3548],\n",
      "        [ 0.6065, -0.6793],\n",
      "        [-0.6263,  0.1441],\n",
      "        [ 0.1524,  0.7989],\n",
      "        [ 0.5070, -0.3308],\n",
      "        [-0.6199,  0.1592],\n",
      "        [ 0.1108, -0.5108],\n",
      "        [ 0.0956,  0.4690],\n",
      "        [-0.9626,  0.1836],\n",
      "        [ 0.0842,  0.4739],\n",
      "        [ 0.2832,  0.7425],\n",
      "        [-0.6622,  0.0250],\n",
      "        [-0.1930, -0.4102],\n",
      "        [ 0.6096, -0.1813],\n",
      "        [ 0.6696,  0.1900],\n",
      "        [ 0.8810, -0.3747],\n",
      "        [-0.3331,  0.4584],\n",
      "        [-0.2139,  0.8330],\n",
      "        [-0.1790, -0.4209],\n",
      "        [ 0.9970, -0.0251],\n",
      "        [ 0.1493,  0.4407],\n",
      "        [ 0.9759, -0.1358],\n",
      "        [-0.6667,  0.0000],\n",
      "        [-0.3515, -0.7008],\n",
      "        [ 0.0125,  0.4972],\n",
      "        [ 0.1622,  0.7956],\n",
      "        [ 0.6749,  0.1112],\n",
      "        [ 0.1310, -0.5101],\n",
      "        [ 0.6748,  0.0939],\n",
      "        [ 0.1707, -0.8374],\n",
      "        [-0.1128, -0.8109],\n",
      "        [-0.5471,  0.2831],\n",
      "        [ 0.0491,  0.4869],\n",
      "        [-0.1911, -0.7851],\n",
      "        [ 0.0740, -0.8394],\n",
      "        [ 0.3487,  0.0895],\n",
      "        [ 0.1852, -0.5044],\n",
      "        [ 0.7471, -0.5572],\n",
      "        [-0.1599,  0.8382],\n",
      "        [ 0.3265, -0.4615],\n",
      "        [ 0.3001, -0.4728],\n",
      "        [ 0.4436,  0.6269],\n",
      "        [ 0.1276, -0.8397],\n",
      "        [ 0.1920, -0.5033],\n",
      "        [ 0.3845, -0.4307],\n",
      "        [ 0.3526, -0.4487],\n",
      "        [-0.5785,  0.2375],\n",
      "        [-0.7708,  0.5310],\n",
      "        [-0.2152, -0.3914],\n",
      "        [ 0.1580, -0.5080],\n",
      "        [-0.1108,  0.5108],\n",
      "        [ 0.5798,  0.4556],\n",
      "        [-0.9914,  0.0624],\n",
      "        [ 0.6345, -0.6588],\n",
      "        [-0.6528, -0.2776],\n",
      "        [-0.0254,  0.5047],\n",
      "        [ 0.4216, -0.4060],\n",
      "        [ 0.4963, -0.3419],\n",
      "        [ 0.4844,  0.5856],\n",
      "        [-0.4582,  0.7638],\n",
      "        [-0.2570,  0.8263],\n",
      "        [-0.7785,  0.5220],\n",
      "        [ 0.4854, -0.3527],\n",
      "        [-0.0431, -0.4888],\n",
      "        [-0.4272,  0.7770],\n",
      "        [-0.5488,  0.7167],\n",
      "        [ 0.2152,  0.3914],\n",
      "        [ 0.7140, -0.5907],\n",
      "        [ 0.3094,  0.7276],\n",
      "        [-0.0421,  0.8376],\n",
      "        [-0.2960, -0.2923],\n",
      "        [-0.3305, -0.2156],\n",
      "        [ 0.0249,  0.4940],\n",
      "        [-0.6642, -0.2251],\n",
      "        [ 0.1068,  0.4639],\n",
      "        [ 0.6400,  0.3210],\n",
      "        [-0.5090,  0.7390],\n",
      "        [ 0.3133,  0.2592],\n",
      "        [-0.3476, -0.1326],\n",
      "        [ 0.0318, -0.5057],\n",
      "        [-0.3133, -0.2592],\n",
      "        [-0.1061,  0.8400],\n",
      "        [ 0.3423,  0.0345],\n",
      "        [-0.6748, -0.0939],\n",
      "        [ 0.4787, -0.7543],\n",
      "        [-0.4506, -0.6202],\n",
      "        [-0.4144, -0.6529],\n",
      "        [ 0.5388,  0.5189],\n",
      "        [ 0.4779,  0.5927],\n",
      "        [ 0.1177,  0.4585],\n",
      "        [-0.3111, -0.2640],\n",
      "        [ 0.4909,  0.5784],\n",
      "        [ 0.0724,  0.8208],\n",
      "        [-0.2397, -0.3674],\n",
      "        [-0.9934,  0.0500],\n",
      "        [ 0.5779, -0.6986],\n",
      "        [-0.1338, -0.4499],\n",
      "        [ 0.0826,  0.8185],\n",
      "        [ 0.0551,  0.4849],\n",
      "        [ 0.2583,  0.3463],\n",
      "        [-0.0841,  0.5104],\n",
      "        [ 0.3454,  0.1520],\n",
      "        [ 0.4277, -0.4016],\n",
      "        [-0.3423, -0.0345],\n",
      "        [ 0.5585, -0.7108],\n",
      "        [-0.3254, -0.2303],\n",
      "        [ 0.1815, -0.8365],\n",
      "        [ 0.9194, -0.2987],\n",
      "        [ 0.2139, -0.8330],\n",
      "        [ 0.3471,  0.1374],\n",
      "        [-0.0974,  0.5108],\n",
      "        [-0.3063, -0.2735],\n",
      "        [-0.2511, -0.3548],\n",
      "        [ 0.5602,  0.4876],\n",
      "        [-0.6060,  0.1885],\n",
      "        [-0.1426, -0.8021]]) tensor([1, 0, 0, 1, 0, 1, 1, 1, 0, 0, 0, 0, 0, 0, 0, 1, 1, 0, 1, 0, 1, 0, 1, 0,\n",
      "        1, 1, 1, 0, 0, 1, 1, 0, 0, 0, 0, 0, 0, 1, 1, 1, 1, 0, 0, 0, 0, 0, 0, 0,\n",
      "        1, 0, 1, 1, 1, 1, 0, 1, 1, 1, 0, 1, 1, 1, 0, 1, 1, 0, 0, 0, 1, 1, 1, 1,\n",
      "        1, 1, 1, 1, 1, 1, 0, 0, 1, 1, 1, 1, 0, 0, 0, 1, 1, 0, 1, 1, 1, 1, 0, 0,\n",
      "        0, 0, 0, 1, 1, 0, 1, 1, 1, 1, 1, 0, 1, 1, 0, 0, 0, 0, 1, 1, 0, 1, 0, 0,\n",
      "        0, 0, 0, 1, 1, 1, 0, 0])\n",
      "tensor([[-0.3087, -0.2688],\n",
      "        [ 0.9551, -0.2072],\n",
      "        [ 0.8750, -0.3852],\n",
      "        [-0.6749, -0.1026],\n",
      "        [ 0.2932,  0.2969],\n",
      "        [ 0.2473,  0.3591],\n",
      "        [-0.3404, -0.0257],\n",
      "        [-0.3013, -0.2829],\n",
      "        [-0.3236, -0.2351],\n",
      "        [ 0.9143, -0.3098],\n",
      "        [-0.8750,  0.3852],\n",
      "        [ 0.5326, -0.3015],\n",
      "        [ 0.2934, -0.4754],\n",
      "        [ 0.3108, -0.8147],\n",
      "        [-0.0519, -0.8250],\n",
      "        [ 0.3471,  0.0662],\n",
      "        [-0.2463,  0.8282],\n",
      "        [ 0.0190, -0.5036],\n",
      "        [-0.3480, -0.1277],\n",
      "        [ 0.1242, -0.5104],\n",
      "        [ 0.6550,  0.2689],\n",
      "        [ 0.3254,  0.2303],\n",
      "        [-0.6159,  0.6726],\n",
      "        [-0.8626,  0.4059],\n",
      "        [ 0.6590,  0.2514],\n",
      "        [-0.2021, -0.4028],\n",
      "        [ 0.4685, -0.7591],\n",
      "        [ 0.5827, -0.2307],\n",
      "        [-0.1177, -0.4585],\n",
      "        [-0.0371, -0.4906],\n",
      "        [ 0.5035,  0.5639],\n",
      "        [ 0.0310,  0.4924],\n",
      "        [-0.0491, -0.4869],\n",
      "        [ 0.2463, -0.8282],\n",
      "        [-0.4743,  0.3631],\n",
      "        [-0.6323,  0.1289],\n",
      "        [-0.6657, -0.2163],\n",
      "        [ 0.0000,  0.8333],\n",
      "        [ 0.1719,  0.7922],\n",
      "        [ 0.5488, -0.7167],\n",
      "        [ 0.3488,  0.0943],\n",
      "        [-0.5174,  0.3193],\n",
      "        [-0.2195, -0.7735],\n",
      "        [-0.5779,  0.6986],\n",
      "        [ 0.9090, -0.3208],\n",
      "        [-0.1580,  0.5080],\n",
      "        [ 0.5976,  0.4228],\n",
      "        [ 0.2021,  0.4028],\n",
      "        [-0.6724, -0.1637],\n",
      "        [-0.0669, -0.4807],\n",
      "        [ 0.2867, -0.4779],\n",
      "        [-0.6131,  0.1740],\n",
      "        [ 0.3331, -0.4584],\n",
      "        [-0.3008, -0.7327],\n",
      "        [ 0.4799, -0.3579],\n",
      "        [ 0.7055, -0.5987],\n",
      "        [-0.6609, -0.2426],\n",
      "        [ 0.9428, -0.2421],\n",
      "        [-0.4479,  0.7683],\n",
      "        [-0.1815,  0.8365],\n",
      "        [-0.5564,  0.2704],\n",
      "        [ 0.6691,  0.0168],\n",
      "        [ 0.4888, -0.7493],\n",
      "        [-0.5070,  0.3308],\n",
      "        [-0.6135, -0.3894],\n",
      "        [ 0.1285,  0.4528],\n",
      "        [-0.3346, -0.0042],\n",
      "        [ 0.2904,  0.3016],\n",
      "        [ 0.2960,  0.2923],\n",
      "        [ 0.3479,  0.0755],\n",
      "        [-0.3371, -0.0127],\n",
      "        [-0.2031,  0.8343],\n",
      "        [-0.3349, -0.7118],\n",
      "        [ 0.6135,  0.3894],\n",
      "        [-0.1884, -0.4138],\n",
      "        [-0.6653,  0.0084],\n",
      "        [ 0.1390,  0.4469],\n",
      "        [ 0.2463, -0.4910],\n",
      "        [-0.0908,  0.5107],\n",
      "        [ 0.2192, -0.4979],\n",
      "        [ 0.3350,  0.2010],\n",
      "        [ 0.6243,  0.3640],\n",
      "        [ 0.9953, -0.0375],\n",
      "        [ 0.6097,  0.3978],\n",
      "        [ 0.4455, -0.3878],\n",
      "        [ 0.8982, -0.3426],\n",
      "        [ 0.2598, -0.4870],\n",
      "        [ 0.2800, -0.4803],\n",
      "        [ 0.3439,  0.0434],\n",
      "        [-0.2101, -0.7775],\n",
      "        [-0.2786,  0.8221],\n",
      "        [ 0.3111,  0.2640],\n",
      "        [ 0.3466,  0.0616],\n",
      "        [ 0.4167, -0.7811],\n",
      "        [-0.0000, -0.5000],\n",
      "        [ 0.9986, -0.0125],\n",
      "        [-0.3466, -0.0616],\n",
      "        [-0.3970,  0.4228],\n",
      "        [ 0.6883, -0.6145],\n",
      "        [ 0.3476,  0.1326],\n",
      "        [ 0.1923, -0.8355],\n",
      "        [-0.4436, -0.6269],\n",
      "        [ 0.5971, -0.6859],\n",
      "        [ 0.8084, -0.4849],\n",
      "        [-0.9338,  0.2649],\n",
      "        [ 0.2380,  0.7652],\n",
      "        [ 0.7937, -0.5037],\n",
      "        [-0.6400, -0.3210],\n",
      "        [-0.6527,  0.6446],\n",
      "        [-0.3433, -0.7063],\n",
      "        [-0.3094, -0.7276],\n",
      "        [ 0.3782, -0.4344],\n",
      "        [-0.0954,  0.8399],\n",
      "        [-0.7140,  0.5907],\n",
      "        [-0.4888,  0.7493],\n",
      "        [ 0.3485,  0.0848],\n",
      "        [-0.3454, -0.1520],\n",
      "        [ 0.0519,  0.8250],\n",
      "        [ 0.4068,  0.6592],\n",
      "        [ 0.0847, -0.8397],\n",
      "        [-0.1513,  0.5087],\n",
      "        [-0.1920,  0.5033],\n",
      "        [ 0.0371,  0.4906],\n",
      "        [-0.6748, -0.1199],\n",
      "        [-0.3485, -0.1181],\n",
      "        [-0.4094,  0.4146],\n",
      "        [-0.2056,  0.5008],\n",
      "        [-0.9590,  0.1954]]) tensor([1, 0, 0, 0, 0, 0, 1, 1, 1, 0, 1, 1, 1, 0, 0, 0, 1, 1, 1, 1, 1, 0, 1, 1,\n",
      "        1, 1, 0, 1, 1, 1, 1, 0, 1, 0, 0, 0, 0, 1, 1, 0, 0, 0, 0, 1, 0, 0, 1, 0,\n",
      "        0, 1, 1, 0, 1, 0, 1, 0, 0, 0, 1, 1, 0, 1, 0, 0, 0, 0, 1, 0, 0, 0, 1, 1,\n",
      "        0, 1, 1, 0, 0, 1, 0, 1, 0, 1, 0, 1, 1, 0, 1, 1, 0, 0, 1, 0, 0, 0, 1, 0,\n",
      "        1, 0, 0, 0, 0, 0, 0, 0, 1, 1, 0, 0, 1, 0, 0, 1, 1, 1, 1, 0, 1, 1, 1, 0,\n",
      "        0, 0, 0, 0, 1, 0, 0, 1])\n",
      "tensor([[-0.3133,  0.4673],\n",
      "        [-0.3265,  0.4615],\n",
      "        [-0.5443, -0.5111],\n",
      "        [-0.5190,  0.7336],\n",
      "        [ 0.3364,  0.1961],\n",
      "        [-0.3177, -0.2496],\n",
      "        [ 0.4479, -0.7683],\n",
      "        [-0.9789,  0.1237],\n",
      "        [-0.2395,  0.4929],\n",
      "        [-0.0310, -0.4924],\n",
      "        [-0.5602, -0.4876],\n",
      "        [ 0.0063, -0.5013],\n",
      "        [ 0.2531, -0.4891],\n",
      "        [-0.3431, -0.0390],\n",
      "        [ 0.3488,  0.1085],\n",
      "        [-0.3678, -0.6894],\n",
      "        [-0.3376, -0.1912],\n",
      "        [ 0.3837,  0.6776],\n",
      "        [-0.0000, -0.8333],\n",
      "        [-0.9143,  0.3098],\n",
      "        [ 0.9696, -0.1598],\n",
      "        [ 0.3063,  0.2735],\n",
      "        [-0.2845, -0.3107],\n",
      "        [-0.6737, -0.1461],\n",
      "        [ 0.6587, -0.0414],\n",
      "        [-0.6883,  0.6145],\n",
      "        [-0.2666,  0.4849],\n",
      "        [-0.5986,  0.2028],\n",
      "        [ 0.5702,  0.4717],\n",
      "        [-0.2380, -0.7652],\n",
      "        [-0.5122,  0.3251],\n",
      "        [ 0.9243, -0.2875],\n",
      "        [-0.2653, -0.3376],\n",
      "        [-0.7055,  0.5987],\n",
      "        [-0.6745, -0.1287],\n",
      "        [ 0.5276, -0.3075],\n",
      "        [ 0.5497,  0.5033],\n",
      "        [-0.3471, -0.1374],\n",
      "        [-0.2815, -0.3153],\n",
      "        [ 0.6702,  0.0253],\n",
      "        [ 0.0313,  0.8287],\n",
      "        [ 0.6060, -0.1885],\n",
      "        [-0.0622, -0.8230],\n",
      "        [ 0.1930,  0.4102],\n",
      "        [-0.1852,  0.5044],\n",
      "        [-0.0578,  0.5087],\n",
      "        [-0.3852,  0.7927],\n",
      "        [-0.3155, -0.2544],\n",
      "        [-0.2678,  0.8242],\n",
      "        [-0.6504, -0.2863],\n",
      "        [-0.5389,  0.7225],\n",
      "        [-0.4218, -0.6466],\n",
      "        [ 0.2109,  0.3953],\n",
      "        [-0.2867,  0.4779],\n",
      "        [ 0.6570,  0.2601],\n",
      "        [-0.6023,  0.1957],\n",
      "        [-0.5216, -0.5417],\n",
      "        [-0.5947,  0.2099],\n",
      "        [-0.6380,  0.1134],\n",
      "        [ 0.4272, -0.7770]]) tensor([0, 0, 0, 1, 0, 1, 0, 1, 0, 1, 0, 1, 1, 1, 0, 0, 1, 1, 0, 1, 0, 0, 1, 0,\n",
      "        1, 1, 0, 0, 1, 0, 0, 0, 1, 1, 0, 1, 1, 1, 1, 1, 1, 1, 0, 0, 0, 0, 1, 1,\n",
      "        1, 0, 1, 0, 0, 0, 1, 0, 0, 0, 0, 0])\n"
     ]
    }
   ],
   "source": [
    "import torch\n",
    "from torch.utils.data import Dataset, DataLoader\n",
    "from torch.utils.data import Dataset, DataLoader, random_split\n",
    "\n",
    "# Define a custom dataset\n",
    "class MyDataset(Dataset):\n",
    "    def __init__(self, features, labels):\n",
    "        self.features = features\n",
    "        self.labels = labels\n",
    "\n",
    "    def __len__(self):\n",
    "        return len(self.features)\n",
    "\n",
    "    def __getitem__(self, idx):\n",
    "        return self.features[idx], self.labels[idx]\n",
    "\n",
    "# Sample data\n",
    "def make_dataloaders_from_df(df, train_val_split=[0.7, 0.2], **dataloader_kwargs):\n",
    "    # Load data into DataFrame\n",
    "    # df = pd.read_csv(StringIO(data))\n",
    "\n",
    "    # Convert DataFrame to PyTorch tensors\n",
    "    X = torch.tensor(df[['x1', 'x2']].values, dtype=torch.float32)\n",
    "    y = torch.tensor(df['y'].values, dtype=torch.int64)\n",
    "\n",
    "    # Create a dataset\n",
    "    full_dataset = MyDataset(X, y)\n",
    "\n",
    "    # Split the dataset\n",
    "    train_size, val_size = train_val_split\n",
    "    train_size = int(train_size * len(full_dataset))\n",
    "    val_size = int(val_size * len(full_dataset))\n",
    "    test_size = len(full_dataset) - (train_size + val_size)\n",
    "    train_dataset, val_dataset, test_dataset = random_split(\n",
    "        full_dataset,\n",
    "        [train_size, val_size, test_size]\n",
    "    )\n",
    "\n",
    "    # Create DataLoader for each set\n",
    "    assert \"shuffle\" not in dataloader_kwargs\n",
    "    train_loader = DataLoader(train_dataset, shuffle=True, **dataloader_kwargs)\n",
    "    val_loader = DataLoader(val_dataset, shuffle=False, **dataloader_kwargs)\n",
    "    test_loader = DataLoader(test_dataset, shuffle=False, **dataloader_kwargs)\n",
    "\n",
    "    return train_loader, val_loader, test_loader\n",
    "\n",
    "train_loader, val_loader, test_loader = make_dataloaders_from_df(df, batch_size=128)\n",
    "\n",
    "# Example of iterating over the DataLoader\n",
    "for features, labels in train_loader:\n",
    "    print(features, labels)"
   ]
  },
  {
   "cell_type": "code",
   "execution_count": 53,
   "metadata": {},
   "outputs": [],
   "source": [
    "# config = ??\n",
    "\n",
    "import yaml\n",
    "from dotmap import DotMap\n",
    "import torchvision\n",
    "\n",
    "def read_yaml(yaml_path):\n",
    "    with open(yaml_path, \"r\") as f:\n",
    "        config = yaml.safe_load(f)\n",
    "    return config\n",
    "\n",
    "def make_config(config_path):\n",
    "    config = read_yaml(config_path)\n",
    "    config = DotMap(config)\n",
    "    return config\n",
    "\n",
    "def training_experiment(model, model_id, config, train_dl, val_dl, test_dl):\n",
    "\n",
    "    # setup data and model\n",
    "    # train_dl, val_dl, test_dl = datasets_dict[config.dataset.name](**config.dataset.settings)\n",
    "    # model = setup_model(config)\n",
    "    apply_random_seed(config.params.random_seed)\n",
    "    optimizer = setup_optimizer(model, config)\n",
    "    scheduler = setup_scheduler(optimizer, config)\n",
    "    loss_fn = torch.nn.CrossEntropyLoss(label_smoothing=config.training.label_smoothing)\n",
    "    loss_fn_eval = torch.nn.CrossEntropyLoss()\n",
    "\n",
    "    if config.exp_type in [\"train_star\"]:\n",
    "        star_domain = StarDomain(model, config, train_dl)\n",
    "\n",
    "    step = 0\n",
    "\n",
    "    val_loss, val_accuracy = dataset_loss_and_accuracy(\n",
    "        model=model, dl=val_dl, loss_fn=loss_fn_eval\n",
    "    )\n",
    "    print(f\"before training, val loss: {val_loss}, val accuracy: {val_accuracy}\")\n",
    "\n",
    "    for epoch in tqdm(range(config.training.num_epochs)):\n",
    "\n",
    "        model.train()\n",
    "        if config.exp_type in [\"train_star\"] and config.model.permute_anchors:\n",
    "            star_domain.align_anchors_with_star()\n",
    "\n",
    "        train_loss = 0\n",
    "        train_accuracy = 0\n",
    "        # pb = tqdm(total=len(train_dl), desc='batch', position=0)\n",
    "        for i, batch in enumerate(train_dl):\n",
    "            # pb.update(1)\n",
    "\n",
    "            step += 1\n",
    "            # if config.dataset.name == \"imagenet1k\":\n",
    "            #     if i % 100 == 0:\n",
    "            #         print(f\"epoch {epoch} step {step}\")\n",
    "            optimizer.zero_grad(set_to_none=True)\n",
    "\n",
    "            y_backup = batch[1].clone().cuda() # for calculating training accuracy\n",
    "            # main training operations\n",
    "            x, y = batch\n",
    "            x = x.cuda()\n",
    "            y = y.cuda()\n",
    "            if config.exp_type in [\"train_star\"]:\n",
    "                loss, out = star_domain.populate_star_model_gradients(\n",
    "                    batch,\n",
    "                    loss_fn,\n",
    "                    config.training.mu_star\n",
    "                )\n",
    "            else:\n",
    "                out = model(x)\n",
    "                loss = loss_fn(out, y)\n",
    "                loss.backward()\n",
    "\n",
    "            if config.training.use_grad_clip:\n",
    "                torch.nn.utils.clip_grad_norm_(model.parameters(), config.training.grad_clip_norm)\n",
    "\n",
    "            optimizer.step()\n",
    "            loss.detach()\n",
    "            train_loss += loss.item()\n",
    "            accuracy_tmp = torch.sum(torch.argmax(out, axis=1) == y_backup) / len(y_backup)\n",
    "            train_accuracy += accuracy_tmp.item()\n",
    "\n",
    "            del x, y, out, batch\n",
    "\n",
    "        scheduler.step()\n",
    "\n",
    "        # if training a star model and using batch norm, recalculate batch stats\n",
    "        if config.exp_type in [\"train_star\"] and has_batch_norm(model):\n",
    "            star_domain.recalculate_batch_statistics(train_dl)\n",
    "\n",
    "        # log epoch results\n",
    "\n",
    "        epoch_results = {}\n",
    "        val_loss, val_accuracy = dataset_loss_and_accuracy(\n",
    "            model=model, dl=val_dl, loss_fn=loss_fn_eval\n",
    "        )\n",
    "\n",
    "        epoch_results[\"val_accuracy\"] = val_accuracy\n",
    "        epoch_results[\"val_loss\"] = val_loss\n",
    "        epoch_results[\"train_loss\"] = train_loss / len(train_dl)\n",
    "        epoch_results[\"train_accuracy\"] = train_accuracy / len(train_dl)\n",
    "        epoch_results[\"lr\"] = [param_group[\"lr\"] for param_group in optimizer.param_groups][0]\n",
    "\n",
    "        # for _ in range(10):\n",
    "        #     try:\n",
    "        #         wandb_run.log(epoch_results)\n",
    "        #         break\n",
    "        #     except:\n",
    "        #         print(\"wandb logging failed, trying again\")\n",
    "        #         time.sleep(5)\n",
    "\n",
    "    # save model weights\n",
    "    ckpt_file = f\"{model_id}_checkpoint{epoch}.pt\"\n",
    "\n",
    "    state_dict = model.state_dict()\n",
    "    if config.training.parallel:\n",
    "        state_dict = {k[7:]: v for k, v in state_dict.items()}\n",
    "    torch.save({\"state_dict\": state_dict}, ckpt_file)\n",
    "\n",
    "    # calculate test loss and accuracy\n",
    "    test_loss, test_accuracy = dataset_loss_and_accuracy(\n",
    "        model=model, dl=test_dl, loss_fn=loss_fn_eval\n",
    "    )\n",
    "\n",
    "    # log everything in csv\n",
    "    csv_results = []\n",
    "    csv_results.append([\"val_accuracy\", f\"{val_accuracy:.5f}\"])\n",
    "    csv_results.append([\"val_loss\", f\"{val_loss:.3f}\"])\n",
    "    csv_results.append([\"train_loss\", f\"{train_loss / len(train_dl):.3f}\"])\n",
    "    csv_results.append([\"train_accuracy\", f\"{train_accuracy / len(train_dl):.5f}\"])\n",
    "    csv_results.append([\"test_accuracy\", f\"{test_accuracy:.5f}\"])\n",
    "    csv_results.append([\"test_loss\", f\"{test_loss:.3f}\"])\n",
    "\n",
    "    # also interpolate against held-out models\n",
    "    loss_barriers, acc_barriers = None, None\n",
    "    if config.exp_type == \"train_star\" and not config.skip_computing_barriers:\n",
    "\n",
    "        # barriers with training anchors\n",
    "        loss_barriers = []\n",
    "        acc_barriers = []\n",
    "\n",
    "        # randomly choose 5 anchors, if the total number of anchors is > 5\n",
    "        # otherwise, use all anchors\n",
    "        # if config.dataset.name == \"imagenet1k\":\n",
    "        #     num_training_anchors = 2\n",
    "        # else:\n",
    "        num_training_anchors = 5\n",
    "        indices = torch.randperm(len(star_domain.anchor_models)).tolist()\n",
    "        if len(star_domain.anchor_models) > num_training_anchors:\n",
    "            indices = indices[:num_training_anchors]\n",
    "\n",
    "        for i in indices:\n",
    "            anchor_model = star_domain.anchor_models[i]\n",
    "            if config.model.permute_anchors:\n",
    "                anchor_model = match_weights(\n",
    "                    model1=model,\n",
    "                    model2=anchor_model,\n",
    "                    train_dl=train_dl,\n",
    "                    recalculate_batch_statistics=True\n",
    "                )\n",
    "            loss_barrier, acc_barrier = make_interpolation_plot(\n",
    "                model1=model,\n",
    "                model2=anchor_model,\n",
    "                dl=test_dl,\n",
    "                num_points=config.interpolation.num_points,\n",
    "                logger=None,\n",
    "                plot_title=f\"star-training-anchor-{i}\",\n",
    "                loss_fn=loss_fn_eval,\n",
    "                train_dl=train_dl\n",
    "            )\n",
    "            loss_barriers.append(loss_barrier)\n",
    "            acc_barriers.append(acc_barrier)\n",
    "\n",
    "    return csv_results, loss_barriers, acc_barriers\n",
    "\n",
    "    # # barriers with held-out anchors\n",
    "    # if (config.eval.held_out_anchors or config.eval.held_out_model_paths) and not config.skip_computing_barriers:\n",
    "    #     loss_barriers = []\n",
    "    #     acc_barriers = []\n",
    "    #     held_out_anchors = load_models(config, model, \"held_out\")\n",
    "\n",
    "    #     for i, anchor_model in enumerate(held_out_anchors):\n",
    "    #         if config.model.permute_anchors:\n",
    "    #             anchor_model = match_weights(\n",
    "    #                 model1=model,\n",
    "    #                 model2=anchor_model,\n",
    "    #                 train_dl=train_dl,\n",
    "    #                 recalculate_batch_statistics=True\n",
    "    #             )\n",
    "    #         loss_barrier, acc_barrier = make_interpolation_plot(\n",
    "    #             model1=model,\n",
    "    #             model2=anchor_model,\n",
    "    #             dl=test_dl,\n",
    "    #             num_points=config.interpolation.num_points,\n",
    "    #             logger=logger,\n",
    "    #             plot_title=f\"interp_with_held_out-{i}\",\n",
    "    #             loss_fn=loss_fn_eval,\n",
    "    #             train_dl=train_dl\n",
    "    #         )\n",
    "    #         loss_barriers.append(loss_barrier)\n",
    "    #         acc_barriers.append(acc_barrier)\n",
    "\n",
    "\n",
    "class MLP(torch.nn.Module):\n",
    "\n",
    "    def __init__(\n",
    "        self,\n",
    "        in_channels,\n",
    "        hidden_channels,\n",
    "        activation_layer\n",
    "    ):\n",
    "\n",
    "        assert len(hidden_channels) > 0\n",
    "        super().__init__()\n",
    "        self.mlp = torchvision.ops.MLP(\n",
    "            in_channels,\n",
    "            hidden_channels,\n",
    "            activation_layer=activation_layer\n",
    "        )\n",
    "        self.in_features = in_channels\n",
    "        self.out_features = hidden_channels[-1]\n",
    "        if self.out_features == 1:\n",
    "            self.sigmoid = torch.nn.Sigmoid()\n",
    "        else:\n",
    "            self.sigmoid = None\n",
    "\n",
    "    def forward(self, x):\n",
    "        logits = self.mlp(x.view(x.shape[0], -1))\n",
    "        if self.sigmoid is None:\n",
    "            probs = logits\n",
    "        else:\n",
    "            probs = self.sigmoid(logits)\n",
    "        return probs\n",
    "\n",
    "\n",
    "def make_mlp(\n",
    "    in_channels,\n",
    "    hidden_channels,\n",
    "    activation_layer=torch.nn.modules.activation.LeakyReLU\n",
    "):\n",
    "    return MLP(\n",
    "        in_channels,\n",
    "        hidden_channels,\n",
    "        activation_layer\n",
    "    )\n",
    "\n",
    "\n",
    "def patch_config(config, n_epochs, random_seed):\n",
    "    config.training.num_epochs = n_epochs\n",
    "    config.params.random_seed = random_seed\n",
    "\n",
    "\n",
    "def train_anchor(model_id, n_epochs=200, random_seed=42):\n",
    "    model = make_mlp(2, [128, 2])\n",
    "    train_loader, val_loader, test_loader = make_dataloaders_from_df(df, batch_size=128)\n",
    "    config = make_config(\"./anchor_config.yaml\")\n",
    "    # config.training.num_epochs = n_epochs\n",
    "    patch_config(config, n_epochs, random_seed)\n",
    "    csv_results, loss_barriers, acc_barriers = training_experiment(\n",
    "        model,\n",
    "        model_id,\n",
    "        config,\n",
    "        train_loader,\n",
    "        val_loader,\n",
    "        test_loader\n",
    "    )\n",
    "    print(csv_results)\n",
    "\n",
    "\n",
    "def train_star(model_id, anchor_model_paths, n_epochs=200, random_seed=42):\n",
    "    model = make_mlp(2, [128, 2])\n",
    "    train_loader, val_loader, test_loader = make_dataloaders_from_df(df, batch_size=128)\n",
    "    config = make_config(\"./star_config.yaml\")\n",
    "    # config.training.num_epochs = n_epochs\n",
    "    # config.params.random_seed = random_seed\n",
    "    patch_config(config, n_epochs, random_seed)\n",
    "    config.model.anchor_model_paths = anchor_model_paths\n",
    "    csv_results, loss_barriers, acc_barriers = training_experiment(\n",
    "        model,\n",
    "        model_id,\n",
    "        config,\n",
    "        train_loader,\n",
    "        val_loader,\n",
    "        test_loader\n",
    "    )\n",
    "    print(csv_results)\n",
    "    print(loss_barriers)\n",
    "    print(acc_barriers)"
   ]
  },
  {
   "cell_type": "markdown",
   "metadata": {},
   "source": [
    "## Train anchor"
   ]
  },
  {
   "cell_type": "code",
   "execution_count": 54,
   "metadata": {},
   "outputs": [
    {
     "name": "stdout",
     "output_type": "stream",
     "text": [
      "before training, val loss: 0.6916396164894104, val accuracy: 0.455\n"
     ]
    },
    {
     "name": "stderr",
     "output_type": "stream",
     "text": [
      "  0%|          | 0/200 [00:00<?, ?it/s]"
     ]
    },
    {
     "name": "stderr",
     "output_type": "stream",
     "text": [
      "100%|██████████| 200/200 [00:03<00:00, 60.32it/s]\n"
     ]
    },
    {
     "name": "stdout",
     "output_type": "stream",
     "text": [
      "[['val_accuracy', '1.00000'], ['val_loss', '0.044'], ['train_loss', '0.036'], ['train_accuracy', '0.99870'], ['test_accuracy', '1.00000'], ['test_loss', '0.037']]\n",
      "before training, val loss: 0.6916396164894104, val accuracy: 0.455\n"
     ]
    },
    {
     "name": "stderr",
     "output_type": "stream",
     "text": [
      "100%|██████████| 200/200 [00:03<00:00, 61.14it/s]\n"
     ]
    },
    {
     "name": "stdout",
     "output_type": "stream",
     "text": [
      "[['val_accuracy', '1.00000'], ['val_loss', '0.045'], ['train_loss', '0.036'], ['train_accuracy', '0.99870'], ['test_accuracy', '1.00000'], ['test_loss', '0.037']]\n",
      "before training, val loss: 0.7048112559318542, val accuracy: 0.49\n"
     ]
    },
    {
     "name": "stderr",
     "output_type": "stream",
     "text": [
      "100%|██████████| 200/200 [00:03<00:00, 59.11it/s]\n"
     ]
    },
    {
     "name": "stdout",
     "output_type": "stream",
     "text": [
      "[['val_accuracy', '1.00000'], ['val_loss', '0.041'], ['train_loss', '0.037'], ['train_accuracy', '1.00000'], ['test_accuracy', '1.00000'], ['test_loss', '0.040']]\n",
      "before training, val loss: 0.6885105919837952, val accuracy: 0.475\n"
     ]
    },
    {
     "name": "stderr",
     "output_type": "stream",
     "text": [
      "100%|██████████| 200/200 [00:03<00:00, 58.43it/s]\n"
     ]
    },
    {
     "name": "stdout",
     "output_type": "stream",
     "text": [
      "[['val_accuracy', '1.00000'], ['val_loss', '0.041'], ['train_loss', '0.038'], ['train_accuracy', '1.00000'], ['test_accuracy', '1.00000'], ['test_loss', '0.034']]\n",
      "before training, val loss: 0.6933280229568481, val accuracy: 0.5\n"
     ]
    },
    {
     "name": "stderr",
     "output_type": "stream",
     "text": [
      "100%|██████████| 200/200 [00:03<00:00, 59.10it/s]"
     ]
    },
    {
     "name": "stdout",
     "output_type": "stream",
     "text": [
      "[['val_accuracy', '1.00000'], ['val_loss', '0.034'], ['train_loss', '0.037'], ['train_accuracy', '1.00000'], ['test_accuracy', '1.00000'], ['test_loss', '0.035']]\n"
     ]
    },
    {
     "name": "stderr",
     "output_type": "stream",
     "text": [
      "\n"
     ]
    }
   ],
   "source": [
    "num_anchors = 5\n",
    "for i in range(num_anchors):\n",
    "    train_anchor(model_id=f\"anchor{i}\", n_epochs=200, random_seed=i)"
   ]
  },
  {
   "cell_type": "code",
   "execution_count": 55,
   "metadata": {},
   "outputs": [],
   "source": [
    "model = torch.load(\"/scratch_local/arubinstein17-163577/starlight/notebooks/anchor0_checkpoint199.pt\")"
   ]
  },
  {
   "cell_type": "markdown",
   "metadata": {},
   "source": [
    "## Train star"
   ]
  },
  {
   "cell_type": "code",
   "execution_count": 57,
   "metadata": {},
   "outputs": [
    {
     "name": "stdout",
     "output_type": "stream",
     "text": [
      "Loading anchor models from file paths... ./anchor_paths\n",
      "Loading model from file path: ./anchor0_checkpoint199.pt\n",
      "\n",
      "Loading model from file path: ./anchor1_checkpoint199.pt\n",
      "\n",
      "Loading model from file path: ./anchor2_checkpoint199.pt\n",
      "\n",
      "Loading model from file path: ./anchor3_checkpoint199.pt\n",
      "\n",
      "Loading model from file path: ./anchor4_checkpoint199.pt\n",
      "\n",
      "before training, val loss: 0.6958878087997437, val accuracy: 0.6\n"
     ]
    },
    {
     "name": "stderr",
     "output_type": "stream",
     "text": [
      "  2%|▎         | 5/200 [00:00<00:04, 44.15it/s]"
     ]
    },
    {
     "name": "stderr",
     "output_type": "stream",
     "text": [
      "100%|██████████| 200/200 [00:04<00:00, 49.25it/s]\n"
     ]
    },
    {
     "name": "stdout",
     "output_type": "stream",
     "text": [
      "[['val_accuracy', '0.97500'], ['val_loss', '0.136'], ['train_loss', '0.139'], ['train_accuracy', '0.98663'], ['test_accuracy', '1.00000'], ['test_loss', '0.146']]\n",
      "[0.18511883979564536, 0.16037311471469573, 0.07856052566787408, 0.13971885140302065, 0.07913214203491115]\n",
      "[-0.050000000000000044, -0.050000000000000044, 0.0, -0.040000000000000036, 0.0]\n"
     ]
    }
   ],
   "source": [
    "train_star(\n",
    "    model_id=\"star0\",\n",
    "    anchor_model_paths=\"./anchor_paths\",\n",
    "    n_epochs=200\n",
    ")"
   ]
  },
  {
   "cell_type": "markdown",
   "metadata": {},
   "source": [
    "# Prepare cifar100"
   ]
  },
  {
   "cell_type": "code",
   "execution_count": 177,
   "metadata": {},
   "outputs": [
    {
     "data": {
      "text/plain": [
       "'https://drive.google.com/uc?id=1zTH5_YBM9h4AYfeQWhkJyqXW_14xS38B'"
      ]
     },
     "execution_count": 177,
     "metadata": {},
     "output_type": "execute_result"
    }
   ],
   "source": [
    "get_link(\"https://drive.google.com/file/d/1zTH5_YBM9h4AYfeQWhkJyqXW_14xS38B/view?usp=drive_link\")"
   ]
  },
  {
   "cell_type": "code",
   "execution_count": 178,
   "metadata": {},
   "outputs": [
    {
     "name": "stdout",
     "output_type": "stream",
     "text": [
      "Downloading...\n",
      "From (original): https://drive.google.com/uc?id=1zTH5_YBM9h4AYfeQWhkJyqXW_14xS38B\n",
      "From (redirected): https://drive.google.com/uc?id=1zTH5_YBM9h4AYfeQWhkJyqXW_14xS38B&confirm=t&uuid=51724791-d6b0-4e41-9a83-bae8a9e60ecc\n",
      "To: /scratch_local/arubinstein17-163577/starlight/notebooks/cifar100_resnet18.zip\n",
      "100%|██████████████████████████████████████| 4.38G/4.38G [00:57<00:00, 76.1MB/s]\n"
     ]
    }
   ],
   "source": [
    "!gdown https://drive.google.com/uc?id=1zTH5_YBM9h4AYfeQWhkJyqXW_14xS38B"
   ]
  },
  {
   "cell_type": "code",
   "execution_count": 182,
   "metadata": {},
   "outputs": [
    {
     "name": "stdout",
     "output_type": "stream",
     "text": [
      "Archive:  cifar100_resnet18.zip\n",
      "   creating: ./cifar100_resnet18/\n",
      "   creating: ./cifar100_resnet18/anchors/\n",
      "  inflating: ./cifar100_resnet18/anchors/0eqk0gla.pt  \n",
      "  inflating: ./cifar100_resnet18/anchors/384qnuxm.pt  \n",
      "  inflating: ./cifar100_resnet18/anchors/3n8ftowe.pt  \n",
      "  inflating: ./cifar100_resnet18/anchors/4808726s.pt  \n",
      "  inflating: ./cifar100_resnet18/anchors/4rjdi4pa.pt  \n",
      "  inflating: ./cifar100_resnet18/anchors/5bfkmro6.pt  \n",
      "  inflating: ./cifar100_resnet18/anchors/65cr1zyr.pt  \n",
      "  inflating: ./cifar100_resnet18/anchors/6hapim4a.pt  \n",
      "  inflating: ./cifar100_resnet18/anchors/73s47o0m.pt  \n",
      "  inflating: ./cifar100_resnet18/anchors/75eeo9bw.pt  \n",
      "  inflating: ./cifar100_resnet18/anchors/7wgab2a1.pt  \n",
      "  inflating: ./cifar100_resnet18/anchors/82yrfx4p.pt  \n",
      "  inflating: ./cifar100_resnet18/anchors/85izljav.pt  \n",
      "  inflating: ./cifar100_resnet18/anchors/8pppxxoh.pt  \n",
      "  inflating: ./cifar100_resnet18/anchors/9ansq593.pt  \n",
      "  inflating: ./cifar100_resnet18/anchors/9lzove03.pt  \n",
      "  inflating: ./cifar100_resnet18/anchors/9re9ls52.pt  \n",
      "  inflating: ./cifar100_resnet18/anchors/b8edhde7.pt  \n",
      "  inflating: ./cifar100_resnet18/anchors/br07xk8k.pt  \n",
      "  inflating: ./cifar100_resnet18/anchors/dvwez9x0.pt  \n",
      "  inflating: ./cifar100_resnet18/anchors/eiy3zm52.pt  \n",
      "  inflating: ./cifar100_resnet18/anchors/erl5jo46.pt  \n",
      "  inflating: ./cifar100_resnet18/anchors/esyfmqwh.pt  \n",
      "  inflating: ./cifar100_resnet18/anchors/hy5ha0xa.pt  \n",
      "  inflating: ./cifar100_resnet18/anchors/i0elfh2k.pt  \n",
      "  inflating: ./cifar100_resnet18/anchors/k6mlympe.pt  \n",
      "  inflating: ./cifar100_resnet18/anchors/m8i4h50d.pt  \n",
      "  inflating: ./cifar100_resnet18/anchors/my5cprnt.pt  \n",
      "  inflating: ./cifar100_resnet18/anchors/n35vnizu.pt  \n",
      "  inflating: ./cifar100_resnet18/anchors/n7oxm1xb.pt  \n",
      "  inflating: ./cifar100_resnet18/anchors/nkg68phw.pt  \n",
      "  inflating: ./cifar100_resnet18/anchors/nuumgejz.pt  \n",
      "  inflating: ./cifar100_resnet18/anchors/o2oyi2nf.pt  \n",
      "  inflating: ./cifar100_resnet18/anchors/oox16zjn.pt  \n",
      "  inflating: ./cifar100_resnet18/anchors/ov6x1lqj.pt  \n",
      "  inflating: ./cifar100_resnet18/anchors/pe310882.pt  \n",
      "  inflating: ./cifar100_resnet18/anchors/q2gllnjv.pt  \n",
      "  inflating: ./cifar100_resnet18/anchors/r2o7x5i1.pt  \n",
      "  inflating: ./cifar100_resnet18/anchors/rh9yri3q.pt  \n",
      "  inflating: ./cifar100_resnet18/anchors/snvoiwk8.pt  \n",
      "  inflating: ./cifar100_resnet18/anchors/tkidvkts.pt  \n",
      "  inflating: ./cifar100_resnet18/anchors/ujlp84sv.pt  \n",
      "  inflating: ./cifar100_resnet18/anchors/uy9nifms.pt  \n",
      "  inflating: ./cifar100_resnet18/anchors/vkizt9fw.pt  \n",
      "  inflating: ./cifar100_resnet18/anchors/vxjpcom6.pt  \n",
      "  inflating: ./cifar100_resnet18/anchors/w5f9zlyz.pt  \n",
      "  inflating: ./cifar100_resnet18/anchors/xgiriafc.pt  \n",
      "  inflating: ./cifar100_resnet18/anchors/xin4qq61.pt  \n",
      "  inflating: ./cifar100_resnet18/anchors/yitudn1n.pt  \n",
      "  inflating: ./cifar100_resnet18/anchors/yym0yakn.pt  \n",
      "   creating: ./cifar100_resnet18/held_out/\n",
      "  inflating: ./cifar100_resnet18/held_out/5ybrap81.pt  \n",
      "  inflating: ./cifar100_resnet18/held_out/deeyhj64.pt  \n",
      "  inflating: ./cifar100_resnet18/held_out/iz5dbedn.pt  \n",
      "  inflating: ./cifar100_resnet18/held_out/lu136w7y.pt  \n",
      "  inflating: ./cifar100_resnet18/held_out/pfb5z421.pt  \n",
      "   creating: ./cifar100_resnet18/stars/\n",
      "  inflating: ./cifar100_resnet18/stars/01fj1cav.pt  \n",
      "  inflating: ./cifar100_resnet18/stars/212q5op8.pt  \n",
      "  inflating: ./cifar100_resnet18/stars/2umwboaq.pt  \n",
      "  inflating: ./cifar100_resnet18/stars/4g7iow4i.pt  \n",
      "  inflating: ./cifar100_resnet18/stars/4ka33yun.pt  \n",
      "  inflating: ./cifar100_resnet18/stars/4mpboz6f.pt  \n",
      "  inflating: ./cifar100_resnet18/stars/5dbhkw8n.pt  \n",
      "  inflating: ./cifar100_resnet18/stars/5fvuoo9o.pt  \n",
      "  inflating: ./cifar100_resnet18/stars/62vupcxw.pt  \n",
      "  inflating: ./cifar100_resnet18/stars/8ohvns2x.pt  \n",
      "  inflating: ./cifar100_resnet18/stars/9wbxgj27.pt  \n",
      "  inflating: ./cifar100_resnet18/stars/asjzt0xi.pt  \n",
      "  inflating: ./cifar100_resnet18/stars/c1inahy6.pt  \n",
      "  inflating: ./cifar100_resnet18/stars/co2azwwu.pt  \n",
      "  inflating: ./cifar100_resnet18/stars/dae3lsxe.pt  \n",
      "  inflating: ./cifar100_resnet18/stars/dlheymzg.pt  \n",
      "  inflating: ./cifar100_resnet18/stars/f0bx9406.pt  \n",
      "  inflating: ./cifar100_resnet18/stars/f7om0hjv.pt  \n",
      "  inflating: ./cifar100_resnet18/stars/flplzcv0.pt  \n",
      "  inflating: ./cifar100_resnet18/stars/fxo5dvzl.pt  \n",
      "  inflating: ./cifar100_resnet18/stars/g33gez6l.pt  \n",
      "  inflating: ./cifar100_resnet18/stars/gubc215d.pt  \n",
      "  inflating: ./cifar100_resnet18/stars/htkden3t.pt  \n",
      "  inflating: ./cifar100_resnet18/stars/ifdm9ivb.pt  \n",
      "  inflating: ./cifar100_resnet18/stars/igx4038c.pt  \n",
      "  inflating: ./cifar100_resnet18/stars/jb319hd6.pt  \n",
      "  inflating: ./cifar100_resnet18/stars/jb9n9mfr.pt  \n",
      "  inflating: ./cifar100_resnet18/stars/jq5wq4dp.pt  \n",
      "  inflating: ./cifar100_resnet18/stars/k18od5rh.pt  \n",
      "  inflating: ./cifar100_resnet18/stars/lgd1aief.pt  \n",
      "  inflating: ./cifar100_resnet18/stars/ly0u9r9m.pt  \n",
      "  inflating: ./cifar100_resnet18/stars/mgcabk97.pt  \n",
      "  inflating: ./cifar100_resnet18/stars/n1fhedyf.pt  \n",
      "  inflating: ./cifar100_resnet18/stars/odzwjvjg.pt  \n",
      "  inflating: ./cifar100_resnet18/stars/oj7wbagz.pt  \n",
      "  inflating: ./cifar100_resnet18/stars/pjdaet20.pt  \n",
      "  inflating: ./cifar100_resnet18/stars/pmckxm16.pt  \n",
      "  inflating: ./cifar100_resnet18/stars/qap7gxl1.pt  \n",
      "  inflating: ./cifar100_resnet18/stars/qohmwx0f.pt  \n",
      "  inflating: ./cifar100_resnet18/stars/rylbd95p.pt  \n",
      "  inflating: ./cifar100_resnet18/stars/s4kgdrmw.pt  \n",
      "  inflating: ./cifar100_resnet18/stars/sq6rjqfp.pt  \n",
      "  inflating: ./cifar100_resnet18/stars/swhl6q8t.pt  \n",
      "  inflating: ./cifar100_resnet18/stars/t200saru.pt  \n",
      "  inflating: ./cifar100_resnet18/stars/tautonsr.pt  \n",
      "  inflating: ./cifar100_resnet18/stars/wa8x6rt9.pt  \n",
      "  inflating: ./cifar100_resnet18/stars/wjius2n1.pt  \n",
      "  inflating: ./cifar100_resnet18/stars/xepnvp6t.pt  \n",
      "  inflating: ./cifar100_resnet18/stars/yvi97vmj.pt  \n",
      "  inflating: ./cifar100_resnet18/stars/zcgviume.pt  \n"
     ]
    }
   ],
   "source": [
    "!unzip cifar100_resnet18.zip -d ./"
   ]
  },
  {
   "cell_type": "code",
   "execution_count": 4,
   "metadata": {},
   "outputs": [],
   "source": [
    "last_10_stars_cifar100_resnet18_names = extract_list_from_huge_string(\n",
    "    \"\"\"212q5op8\n",
    "ly0u9r9m\n",
    "t200saru\n",
    "zcgviume\n",
    "mgcabk97\n",
    "2umwboaq\n",
    "wa8x6rt9\n",
    "yvi97vmj\n",
    "lgd1aief\n",
    "rylbd95p\"\"\"\n",
    ")"
   ]
  },
  {
   "cell_type": "code",
   "execution_count": 5,
   "metadata": {},
   "outputs": [
    {
     "name": "stdout",
     "output_type": "stream",
     "text": [
      "Files already downloaded and verified\n",
      "Files already downloaded and verified\n",
      "Files already downloaded and verified\n",
      "Using 45000 images for training\n",
      "Using 5000 images for validation\n",
      "Using train transform Compose(\n",
      "    IdentityTransform()\n",
      "    ToTensor()\n",
      "    Normalize(mean=[0.485 0.456 0.406], std=[0.229 0.224 0.225])\n",
      ")\n"
     ]
    }
   ],
   "source": [
    "anchors_cifar100_resnet18, stars_cifar100_resnet18 = get_paths(\"./cifar100_resnet18/\")\n",
    "\n",
    "cifar100_train_dataloader, _, _ = load_cifar100(\n",
    "    batch_size=256,\n",
    "    num_workers=8,\n",
    "    img_size=32,\n",
    "    normalize=True,\n",
    "    resize=False,\n",
    "    horizontal_flip=False,\n",
    "    vertical_flip=False,\n",
    "    random_crop_resize=False,\n",
    "    random_resize_crop=False,\n",
    "    color_jitter=False,\n",
    "    rotation_range=0,\n",
    "    pad_random_crop=False,\n",
    "    random_one_aug=False,\n",
    "    train_set_fraction=1.0,\n",
    "    return_ds=False,\n",
    ")"
   ]
  },
  {
   "cell_type": "markdown",
   "metadata": {},
   "source": [
    "# Prepare cifar10"
   ]
  },
  {
   "cell_type": "code",
   "execution_count": null,
   "metadata": {},
   "outputs": [],
   "source": [
    "get_link(\"https://drive.google.com/file/d/1g-TxEGbORtHmxVEefoJtk2yxSf_mHL28/view?usp=drive_link\")"
   ]
  },
  {
   "cell_type": "code",
   "execution_count": null,
   "metadata": {},
   "outputs": [],
   "source": [
    "!gdown https://drive.google.com/uc?id=1g-TxEGbORtHmxVEefoJtk2yxSf_mHL28"
   ]
  },
  {
   "cell_type": "code",
   "execution_count": null,
   "metadata": {},
   "outputs": [],
   "source": [
    "!unzip cifar10_resnet18.zip -d ./"
   ]
  },
  {
   "cell_type": "code",
   "execution_count": 4,
   "metadata": {},
   "outputs": [],
   "source": [
    "last_10_stars = extract_list_from_huge_string(\"\"\"8dirowph\n",
    "wrvljast\n",
    "nyolmhfc\n",
    "82pxe1i8\n",
    "n8vpmpbj\n",
    "h2qjwxrq\n",
    "n5sjdrla\n",
    "6gps5q6c\n",
    "bezgu0h7\n",
    "by2vpp9d\"\"\")"
   ]
  },
  {
   "cell_type": "code",
   "execution_count": 5,
   "metadata": {},
   "outputs": [
    {
     "name": "stdout",
     "output_type": "stream",
     "text": [
      "Files already downloaded and verified\n",
      "Files already downloaded and verified\n",
      "Files already downloaded and verified\n",
      "Using 45000 images for training\n",
      "Using 5000 images for validation\n",
      "Using train transform Compose(\n",
      "    IdentityTransform()\n",
      "    ToTensor()\n",
      "    Normalize(mean=[0.485 0.456 0.406], std=[0.229 0.224 0.225])\n",
      ")\n"
     ]
    }
   ],
   "source": [
    "anchors_resnet18, stars_resnet18 = get_paths(\"./cifar10_resnet18/\")\n",
    "\n",
    "# stars_resnet18 = [path for path in stars_resnet18 if get_model_id(path) in last_10_stars]\n",
    "\n",
    "cifar10_train_dataloader, _, _ = load_cifar10(\n",
    "    batch_size=256,\n",
    "    num_workers=8,\n",
    "    img_size=32,\n",
    "    normalize=True,\n",
    "    resize=False,\n",
    "    horizontal_flip=False,\n",
    "    vertical_flip=False,\n",
    "    random_crop_resize=False,\n",
    "    random_resize_crop=False,\n",
    "    color_jitter=False,\n",
    "    rotation_range=0,\n",
    "    pad_random_crop=False,\n",
    "    random_one_aug=False,\n",
    "    train_set_fraction=1.0,\n",
    "    return_ds=False,\n",
    ")"
   ]
  },
  {
   "cell_type": "markdown",
   "metadata": {},
   "source": [
    "# Compute margin"
   ]
  },
  {
   "cell_type": "markdown",
   "metadata": {},
   "source": [
    "## Resnet18 Cifar100"
   ]
  },
  {
   "cell_type": "markdown",
   "metadata": {},
   "source": [
    "### L2 + min to pred"
   ]
  },
  {
   "cell_type": "code",
   "execution_count": 6,
   "metadata": {},
   "outputs": [
    {
     "name": "stdout",
     "output_type": "stream",
     "text": [
      "Computing results for anchors_0eqk0gla_cifar100_p0.1\n"
     ]
    },
    {
     "name": "stderr",
     "output_type": "stream",
     "text": [
      "batch: 100%|██████████| 176/176 [01:29<00:00,  1.96it/s]\n"
     ]
    },
    {
     "name": "stdout",
     "output_type": "stream",
     "text": [
      "Computing results for anchors_384qnuxm_cifar100_p0.1\n"
     ]
    },
    {
     "name": "stderr",
     "output_type": "stream",
     "text": [
      "batch: 100%|██████████| 176/176 [01:30<00:00,  1.95it/s]\n"
     ]
    },
    {
     "name": "stdout",
     "output_type": "stream",
     "text": [
      "Computing results for anchors_3n8ftowe_cifar100_p0.1\n"
     ]
    },
    {
     "name": "stderr",
     "output_type": "stream",
     "text": [
      "batch: 100%|██████████| 176/176 [01:30<00:00,  1.95it/s]\n"
     ]
    },
    {
     "name": "stdout",
     "output_type": "stream",
     "text": [
      "Computing results for anchors_4808726s_cifar100_p0.1\n"
     ]
    },
    {
     "name": "stderr",
     "output_type": "stream",
     "text": [
      "batch: 100%|██████████| 176/176 [01:30<00:00,  1.95it/s]\n"
     ]
    },
    {
     "name": "stdout",
     "output_type": "stream",
     "text": [
      "Computing results for anchors_4rjdi4pa_cifar100_p0.1\n"
     ]
    },
    {
     "name": "stderr",
     "output_type": "stream",
     "text": [
      "batch: 100%|██████████| 176/176 [01:30<00:00,  1.95it/s]\n"
     ]
    },
    {
     "name": "stdout",
     "output_type": "stream",
     "text": [
      "Computing results for anchors_5bfkmro6_cifar100_p0.1\n"
     ]
    },
    {
     "name": "stderr",
     "output_type": "stream",
     "text": [
      "batch: 100%|██████████| 176/176 [01:30<00:00,  1.95it/s]\n"
     ]
    },
    {
     "name": "stdout",
     "output_type": "stream",
     "text": [
      "Computing results for anchors_65cr1zyr_cifar100_p0.1\n"
     ]
    },
    {
     "name": "stderr",
     "output_type": "stream",
     "text": [
      "batch: 100%|██████████| 176/176 [01:30<00:00,  1.95it/s]\n"
     ]
    },
    {
     "name": "stdout",
     "output_type": "stream",
     "text": [
      "Computing results for anchors_6hapim4a_cifar100_p0.1\n"
     ]
    },
    {
     "name": "stderr",
     "output_type": "stream",
     "text": [
      "batch: 100%|██████████| 176/176 [01:30<00:00,  1.95it/s]\n"
     ]
    },
    {
     "name": "stdout",
     "output_type": "stream",
     "text": [
      "Computing results for anchors_73s47o0m_cifar100_p0.1\n"
     ]
    },
    {
     "name": "stderr",
     "output_type": "stream",
     "text": [
      "batch: 100%|██████████| 176/176 [01:30<00:00,  1.95it/s]\n"
     ]
    },
    {
     "name": "stdout",
     "output_type": "stream",
     "text": [
      "Computing results for anchors_75eeo9bw_cifar100_p0.1\n"
     ]
    },
    {
     "name": "stderr",
     "output_type": "stream",
     "text": [
      "batch: 100%|██████████| 176/176 [01:30<00:00,  1.95it/s]\n"
     ]
    },
    {
     "name": "stdout",
     "output_type": "stream",
     "text": [
      "Computing results for stars_212q5op8_cifar100_p0.1\n"
     ]
    },
    {
     "name": "stderr",
     "output_type": "stream",
     "text": [
      "batch: 100%|██████████| 176/176 [01:36<00:00,  1.83it/s]\n"
     ]
    },
    {
     "name": "stdout",
     "output_type": "stream",
     "text": [
      "Computing results for stars_2umwboaq_cifar100_p0.1\n"
     ]
    },
    {
     "name": "stderr",
     "output_type": "stream",
     "text": [
      "batch: 100%|██████████| 176/176 [01:30<00:00,  1.95it/s]\n"
     ]
    },
    {
     "name": "stdout",
     "output_type": "stream",
     "text": [
      "Computing results for stars_lgd1aief_cifar100_p0.1\n"
     ]
    },
    {
     "name": "stderr",
     "output_type": "stream",
     "text": [
      "batch: 100%|██████████| 176/176 [01:30<00:00,  1.94it/s]\n"
     ]
    },
    {
     "name": "stdout",
     "output_type": "stream",
     "text": [
      "Computing results for stars_ly0u9r9m_cifar100_p0.1\n"
     ]
    },
    {
     "name": "stderr",
     "output_type": "stream",
     "text": [
      "batch: 100%|██████████| 176/176 [01:30<00:00,  1.95it/s]\n"
     ]
    },
    {
     "name": "stdout",
     "output_type": "stream",
     "text": [
      "Computing results for stars_mgcabk97_cifar100_p0.1\n"
     ]
    },
    {
     "name": "stderr",
     "output_type": "stream",
     "text": [
      "batch: 100%|██████████| 176/176 [01:30<00:00,  1.94it/s]\n"
     ]
    },
    {
     "name": "stdout",
     "output_type": "stream",
     "text": [
      "Computing results for stars_rylbd95p_cifar100_p0.1\n"
     ]
    },
    {
     "name": "stderr",
     "output_type": "stream",
     "text": [
      "batch: 100%|██████████| 176/176 [01:30<00:00,  1.95it/s]\n"
     ]
    },
    {
     "name": "stdout",
     "output_type": "stream",
     "text": [
      "Computing results for stars_t200saru_cifar100_p0.1\n"
     ]
    },
    {
     "name": "stderr",
     "output_type": "stream",
     "text": [
      "batch: 100%|██████████| 176/176 [01:30<00:00,  1.95it/s]\n"
     ]
    },
    {
     "name": "stdout",
     "output_type": "stream",
     "text": [
      "Computing results for stars_wa8x6rt9_cifar100_p0.1\n"
     ]
    },
    {
     "name": "stderr",
     "output_type": "stream",
     "text": [
      "batch: 100%|██████████| 176/176 [01:30<00:00,  1.95it/s]\n"
     ]
    },
    {
     "name": "stdout",
     "output_type": "stream",
     "text": [
      "Computing results for stars_yvi97vmj_cifar100_p0.1\n"
     ]
    },
    {
     "name": "stderr",
     "output_type": "stream",
     "text": [
      "batch: 100%|██████████| 176/176 [01:30<00:00,  1.95it/s]\n"
     ]
    },
    {
     "name": "stdout",
     "output_type": "stream",
     "text": [
      "Computing results for stars_zcgviume_cifar100_p0.1\n"
     ]
    },
    {
     "name": "stderr",
     "output_type": "stream",
     "text": [
      "batch: 100%|██████████| 176/176 [01:30<00:00,  1.95it/s]\n"
     ]
    }
   ],
   "source": [
    "cifar100_resnet18_res_path = \"./min2pred_l2_cifar100_resnet18_results.pt\"\n",
    "\n",
    "last_10_stars_cifar100_resnet18 = [\n",
    "    path for path in stars_cifar100_resnet18 if get_model_id(path) in last_10_stars_cifar100_resnet18_names\n",
    "]\n",
    "\n",
    "max_cifar100_resnet18_results = compute_results(\n",
    "    anchors_cifar100_resnet18[:10] + last_10_stars_cifar100_resnet18,\n",
    "    cifar100_train_dataloader,\n",
    "    cifar100_resnet18_res_path,\n",
    "    split_name=\"train\",\n",
    "    percent=0.1,\n",
    "    load_model=get_resnet18_cifar100,\n",
    "    # recompute_substring=\"p0\"\n",
    "    recompute_substring=None,\n",
    "    agg=\"min_to_pred\",\n",
    "    norm=\"l2\"\n",
    ")"
   ]
  },
  {
   "cell_type": "code",
   "execution_count": 8,
   "metadata": {},
   "outputs": [
    {
     "data": {
      "text/html": [
       "<div>\n",
       "<style scoped>\n",
       "    .dataframe tbody tr th:only-of-type {\n",
       "        vertical-align: middle;\n",
       "    }\n",
       "\n",
       "    .dataframe tbody tr th {\n",
       "        vertical-align: top;\n",
       "    }\n",
       "\n",
       "    .dataframe thead th {\n",
       "        text-align: right;\n",
       "    }\n",
       "</style>\n",
       "<table border=\"1\" class=\"dataframe\">\n",
       "  <thead>\n",
       "    <tr style=\"text-align: right;\">\n",
       "      <th></th>\n",
       "      <th>margin</th>\n",
       "      <th>model_type</th>\n",
       "      <th>dataset_name</th>\n",
       "      <th>percent</th>\n",
       "      <th>model_id</th>\n",
       "      <th>split_name</th>\n",
       "    </tr>\n",
       "  </thead>\n",
       "  <tbody>\n",
       "    <tr>\n",
       "      <th>anchors_0eqk0gla_cifar100_p0.1</th>\n",
       "      <td>0.104104</td>\n",
       "      <td>anchors</td>\n",
       "      <td>cifar100</td>\n",
       "      <td>0.1</td>\n",
       "      <td>0eqk0gla</td>\n",
       "      <td>train</td>\n",
       "    </tr>\n",
       "    <tr>\n",
       "      <th>anchors_384qnuxm_cifar100_p0.1</th>\n",
       "      <td>0.107184</td>\n",
       "      <td>anchors</td>\n",
       "      <td>cifar100</td>\n",
       "      <td>0.1</td>\n",
       "      <td>384qnuxm</td>\n",
       "      <td>train</td>\n",
       "    </tr>\n",
       "    <tr>\n",
       "      <th>anchors_3n8ftowe_cifar100_p0.1</th>\n",
       "      <td>0.100297</td>\n",
       "      <td>anchors</td>\n",
       "      <td>cifar100</td>\n",
       "      <td>0.1</td>\n",
       "      <td>3n8ftowe</td>\n",
       "      <td>train</td>\n",
       "    </tr>\n",
       "    <tr>\n",
       "      <th>anchors_4808726s_cifar100_p0.1</th>\n",
       "      <td>0.106649</td>\n",
       "      <td>anchors</td>\n",
       "      <td>cifar100</td>\n",
       "      <td>0.1</td>\n",
       "      <td>4808726s</td>\n",
       "      <td>train</td>\n",
       "    </tr>\n",
       "    <tr>\n",
       "      <th>anchors_4rjdi4pa_cifar100_p0.1</th>\n",
       "      <td>0.101742</td>\n",
       "      <td>anchors</td>\n",
       "      <td>cifar100</td>\n",
       "      <td>0.1</td>\n",
       "      <td>4rjdi4pa</td>\n",
       "      <td>train</td>\n",
       "    </tr>\n",
       "    <tr>\n",
       "      <th>anchors_5bfkmro6_cifar100_p0.1</th>\n",
       "      <td>0.101090</td>\n",
       "      <td>anchors</td>\n",
       "      <td>cifar100</td>\n",
       "      <td>0.1</td>\n",
       "      <td>5bfkmro6</td>\n",
       "      <td>train</td>\n",
       "    </tr>\n",
       "    <tr>\n",
       "      <th>anchors_65cr1zyr_cifar100_p0.1</th>\n",
       "      <td>0.099083</td>\n",
       "      <td>anchors</td>\n",
       "      <td>cifar100</td>\n",
       "      <td>0.1</td>\n",
       "      <td>65cr1zyr</td>\n",
       "      <td>train</td>\n",
       "    </tr>\n",
       "    <tr>\n",
       "      <th>anchors_6hapim4a_cifar100_p0.1</th>\n",
       "      <td>0.103731</td>\n",
       "      <td>anchors</td>\n",
       "      <td>cifar100</td>\n",
       "      <td>0.1</td>\n",
       "      <td>6hapim4a</td>\n",
       "      <td>train</td>\n",
       "    </tr>\n",
       "    <tr>\n",
       "      <th>anchors_73s47o0m_cifar100_p0.1</th>\n",
       "      <td>0.098944</td>\n",
       "      <td>anchors</td>\n",
       "      <td>cifar100</td>\n",
       "      <td>0.1</td>\n",
       "      <td>73s47o0m</td>\n",
       "      <td>train</td>\n",
       "    </tr>\n",
       "    <tr>\n",
       "      <th>anchors_75eeo9bw_cifar100_p0.1</th>\n",
       "      <td>0.102124</td>\n",
       "      <td>anchors</td>\n",
       "      <td>cifar100</td>\n",
       "      <td>0.1</td>\n",
       "      <td>75eeo9bw</td>\n",
       "      <td>train</td>\n",
       "    </tr>\n",
       "    <tr>\n",
       "      <th>stars_212q5op8_cifar100_p0.1</th>\n",
       "      <td>0.066593</td>\n",
       "      <td>stars</td>\n",
       "      <td>cifar100</td>\n",
       "      <td>0.1</td>\n",
       "      <td>212q5op8</td>\n",
       "      <td>train</td>\n",
       "    </tr>\n",
       "    <tr>\n",
       "      <th>stars_2umwboaq_cifar100_p0.1</th>\n",
       "      <td>0.067317</td>\n",
       "      <td>stars</td>\n",
       "      <td>cifar100</td>\n",
       "      <td>0.1</td>\n",
       "      <td>2umwboaq</td>\n",
       "      <td>train</td>\n",
       "    </tr>\n",
       "    <tr>\n",
       "      <th>stars_lgd1aief_cifar100_p0.1</th>\n",
       "      <td>0.067419</td>\n",
       "      <td>stars</td>\n",
       "      <td>cifar100</td>\n",
       "      <td>0.1</td>\n",
       "      <td>lgd1aief</td>\n",
       "      <td>train</td>\n",
       "    </tr>\n",
       "    <tr>\n",
       "      <th>stars_ly0u9r9m_cifar100_p0.1</th>\n",
       "      <td>0.066342</td>\n",
       "      <td>stars</td>\n",
       "      <td>cifar100</td>\n",
       "      <td>0.1</td>\n",
       "      <td>ly0u9r9m</td>\n",
       "      <td>train</td>\n",
       "    </tr>\n",
       "    <tr>\n",
       "      <th>stars_mgcabk97_cifar100_p0.1</th>\n",
       "      <td>0.067288</td>\n",
       "      <td>stars</td>\n",
       "      <td>cifar100</td>\n",
       "      <td>0.1</td>\n",
       "      <td>mgcabk97</td>\n",
       "      <td>train</td>\n",
       "    </tr>\n",
       "    <tr>\n",
       "      <th>stars_rylbd95p_cifar100_p0.1</th>\n",
       "      <td>0.066606</td>\n",
       "      <td>stars</td>\n",
       "      <td>cifar100</td>\n",
       "      <td>0.1</td>\n",
       "      <td>rylbd95p</td>\n",
       "      <td>train</td>\n",
       "    </tr>\n",
       "    <tr>\n",
       "      <th>stars_t200saru_cifar100_p0.1</th>\n",
       "      <td>0.066501</td>\n",
       "      <td>stars</td>\n",
       "      <td>cifar100</td>\n",
       "      <td>0.1</td>\n",
       "      <td>t200saru</td>\n",
       "      <td>train</td>\n",
       "    </tr>\n",
       "    <tr>\n",
       "      <th>stars_wa8x6rt9_cifar100_p0.1</th>\n",
       "      <td>0.065690</td>\n",
       "      <td>stars</td>\n",
       "      <td>cifar100</td>\n",
       "      <td>0.1</td>\n",
       "      <td>wa8x6rt9</td>\n",
       "      <td>train</td>\n",
       "    </tr>\n",
       "    <tr>\n",
       "      <th>stars_yvi97vmj_cifar100_p0.1</th>\n",
       "      <td>0.065679</td>\n",
       "      <td>stars</td>\n",
       "      <td>cifar100</td>\n",
       "      <td>0.1</td>\n",
       "      <td>yvi97vmj</td>\n",
       "      <td>train</td>\n",
       "    </tr>\n",
       "    <tr>\n",
       "      <th>stars_zcgviume_cifar100_p0.1</th>\n",
       "      <td>0.067168</td>\n",
       "      <td>stars</td>\n",
       "      <td>cifar100</td>\n",
       "      <td>0.1</td>\n",
       "      <td>zcgviume</td>\n",
       "      <td>train</td>\n",
       "    </tr>\n",
       "  </tbody>\n",
       "</table>\n",
       "</div>"
      ],
      "text/plain": [
       "                                  margin model_type dataset_name  percent  \\\n",
       "anchors_0eqk0gla_cifar100_p0.1  0.104104    anchors     cifar100      0.1   \n",
       "anchors_384qnuxm_cifar100_p0.1  0.107184    anchors     cifar100      0.1   \n",
       "anchors_3n8ftowe_cifar100_p0.1  0.100297    anchors     cifar100      0.1   \n",
       "anchors_4808726s_cifar100_p0.1  0.106649    anchors     cifar100      0.1   \n",
       "anchors_4rjdi4pa_cifar100_p0.1  0.101742    anchors     cifar100      0.1   \n",
       "anchors_5bfkmro6_cifar100_p0.1  0.101090    anchors     cifar100      0.1   \n",
       "anchors_65cr1zyr_cifar100_p0.1  0.099083    anchors     cifar100      0.1   \n",
       "anchors_6hapim4a_cifar100_p0.1  0.103731    anchors     cifar100      0.1   \n",
       "anchors_73s47o0m_cifar100_p0.1  0.098944    anchors     cifar100      0.1   \n",
       "anchors_75eeo9bw_cifar100_p0.1  0.102124    anchors     cifar100      0.1   \n",
       "stars_212q5op8_cifar100_p0.1    0.066593      stars     cifar100      0.1   \n",
       "stars_2umwboaq_cifar100_p0.1    0.067317      stars     cifar100      0.1   \n",
       "stars_lgd1aief_cifar100_p0.1    0.067419      stars     cifar100      0.1   \n",
       "stars_ly0u9r9m_cifar100_p0.1    0.066342      stars     cifar100      0.1   \n",
       "stars_mgcabk97_cifar100_p0.1    0.067288      stars     cifar100      0.1   \n",
       "stars_rylbd95p_cifar100_p0.1    0.066606      stars     cifar100      0.1   \n",
       "stars_t200saru_cifar100_p0.1    0.066501      stars     cifar100      0.1   \n",
       "stars_wa8x6rt9_cifar100_p0.1    0.065690      stars     cifar100      0.1   \n",
       "stars_yvi97vmj_cifar100_p0.1    0.065679      stars     cifar100      0.1   \n",
       "stars_zcgviume_cifar100_p0.1    0.067168      stars     cifar100      0.1   \n",
       "\n",
       "                                model_id split_name  \n",
       "anchors_0eqk0gla_cifar100_p0.1  0eqk0gla      train  \n",
       "anchors_384qnuxm_cifar100_p0.1  384qnuxm      train  \n",
       "anchors_3n8ftowe_cifar100_p0.1  3n8ftowe      train  \n",
       "anchors_4808726s_cifar100_p0.1  4808726s      train  \n",
       "anchors_4rjdi4pa_cifar100_p0.1  4rjdi4pa      train  \n",
       "anchors_5bfkmro6_cifar100_p0.1  5bfkmro6      train  \n",
       "anchors_65cr1zyr_cifar100_p0.1  65cr1zyr      train  \n",
       "anchors_6hapim4a_cifar100_p0.1  6hapim4a      train  \n",
       "anchors_73s47o0m_cifar100_p0.1  73s47o0m      train  \n",
       "anchors_75eeo9bw_cifar100_p0.1  75eeo9bw      train  \n",
       "stars_212q5op8_cifar100_p0.1    212q5op8      train  \n",
       "stars_2umwboaq_cifar100_p0.1    2umwboaq      train  \n",
       "stars_lgd1aief_cifar100_p0.1    lgd1aief      train  \n",
       "stars_ly0u9r9m_cifar100_p0.1    ly0u9r9m      train  \n",
       "stars_mgcabk97_cifar100_p0.1    mgcabk97      train  \n",
       "stars_rylbd95p_cifar100_p0.1    rylbd95p      train  \n",
       "stars_t200saru_cifar100_p0.1    t200saru      train  \n",
       "stars_wa8x6rt9_cifar100_p0.1    wa8x6rt9      train  \n",
       "stars_yvi97vmj_cifar100_p0.1    yvi97vmj      train  \n",
       "stars_zcgviume_cifar100_p0.1    zcgviume      train  "
      ]
     },
     "metadata": {},
     "output_type": "display_data"
    }
   ],
   "source": [
    "df = plot_dict(max_cifar100_resnet18_results, to_show=True)"
   ]
  },
  {
   "cell_type": "code",
   "execution_count": 9,
   "metadata": {},
   "outputs": [
    {
     "data": {
      "text/html": [
       "<div>\n",
       "<style scoped>\n",
       "    .dataframe tbody tr th:only-of-type {\n",
       "        vertical-align: middle;\n",
       "    }\n",
       "\n",
       "    .dataframe tbody tr th {\n",
       "        vertical-align: top;\n",
       "    }\n",
       "\n",
       "    .dataframe thead tr th {\n",
       "        text-align: left;\n",
       "    }\n",
       "\n",
       "    .dataframe thead tr:last-of-type th {\n",
       "        text-align: right;\n",
       "    }\n",
       "</style>\n",
       "<table border=\"1\" class=\"dataframe\">\n",
       "  <thead>\n",
       "    <tr>\n",
       "      <th></th>\n",
       "      <th colspan=\"2\" halign=\"left\">margin</th>\n",
       "      <th colspan=\"2\" halign=\"left\">percent</th>\n",
       "    </tr>\n",
       "    <tr>\n",
       "      <th></th>\n",
       "      <th>mean</th>\n",
       "      <th>std</th>\n",
       "      <th>mean</th>\n",
       "      <th>std</th>\n",
       "    </tr>\n",
       "    <tr>\n",
       "      <th>model_type</th>\n",
       "      <th></th>\n",
       "      <th></th>\n",
       "      <th></th>\n",
       "      <th></th>\n",
       "    </tr>\n",
       "  </thead>\n",
       "  <tbody>\n",
       "    <tr>\n",
       "      <th>anchors</th>\n",
       "      <td>0.102495</td>\n",
       "      <td>0.002889</td>\n",
       "      <td>0.1</td>\n",
       "      <td>0.0</td>\n",
       "    </tr>\n",
       "    <tr>\n",
       "      <th>stars</th>\n",
       "      <td>0.066660</td>\n",
       "      <td>0.000641</td>\n",
       "      <td>0.1</td>\n",
       "      <td>0.0</td>\n",
       "    </tr>\n",
       "  </tbody>\n",
       "</table>\n",
       "</div>"
      ],
      "text/plain": [
       "              margin           percent     \n",
       "                mean       std    mean  std\n",
       "model_type                                 \n",
       "anchors     0.102495  0.002889     0.1  0.0\n",
       "stars       0.066660  0.000641     0.1  0.0"
      ]
     },
     "metadata": {},
     "output_type": "display_data"
    }
   ],
   "source": [
    "df = plot_dict(max_cifar100_resnet18_results, to_show=True, filter_dict={}, drop_columns=[\"index\", \"dataset_name\", \"model_id\", \"split_name\"], group_aggregate_list=[\"model_type\"], query=\"percent == 0.10\")"
   ]
  },
  {
   "cell_type": "markdown",
   "metadata": {},
   "source": [
    "### Max"
   ]
  },
  {
   "cell_type": "code",
   "execution_count": 259,
   "metadata": {},
   "outputs": [
    {
     "name": "stdout",
     "output_type": "stream",
     "text": [
      "Computing results for anchors_0eqk0gla_cifar100_p0.1\n"
     ]
    },
    {
     "name": "stderr",
     "output_type": "stream",
     "text": [
      "batch: 100%|██████████| 176/176 [00:49<00:00,  3.55it/s]\n"
     ]
    },
    {
     "name": "stdout",
     "output_type": "stream",
     "text": [
      "Computing results for anchors_384qnuxm_cifar100_p0.1\n"
     ]
    },
    {
     "name": "stderr",
     "output_type": "stream",
     "text": [
      "batch: 100%|██████████| 176/176 [00:49<00:00,  3.55it/s]\n"
     ]
    },
    {
     "name": "stdout",
     "output_type": "stream",
     "text": [
      "Computing results for anchors_3n8ftowe_cifar100_p0.1\n"
     ]
    },
    {
     "name": "stderr",
     "output_type": "stream",
     "text": [
      "batch: 100%|██████████| 176/176 [00:49<00:00,  3.56it/s]\n"
     ]
    },
    {
     "name": "stdout",
     "output_type": "stream",
     "text": [
      "Computing results for anchors_4808726s_cifar100_p0.1\n"
     ]
    },
    {
     "name": "stderr",
     "output_type": "stream",
     "text": [
      "batch: 100%|██████████| 176/176 [00:49<00:00,  3.55it/s]\n"
     ]
    },
    {
     "name": "stdout",
     "output_type": "stream",
     "text": [
      "Computing results for anchors_4rjdi4pa_cifar100_p0.1\n"
     ]
    },
    {
     "name": "stderr",
     "output_type": "stream",
     "text": [
      "batch: 100%|██████████| 176/176 [00:49<00:00,  3.56it/s]\n"
     ]
    },
    {
     "name": "stdout",
     "output_type": "stream",
     "text": [
      "Computing results for anchors_5bfkmro6_cifar100_p0.1\n"
     ]
    },
    {
     "name": "stderr",
     "output_type": "stream",
     "text": [
      "batch: 100%|██████████| 176/176 [00:49<00:00,  3.55it/s]\n"
     ]
    },
    {
     "name": "stdout",
     "output_type": "stream",
     "text": [
      "Computing results for anchors_65cr1zyr_cifar100_p0.1\n"
     ]
    },
    {
     "name": "stderr",
     "output_type": "stream",
     "text": [
      "batch: 100%|██████████| 176/176 [00:49<00:00,  3.55it/s]\n"
     ]
    },
    {
     "name": "stdout",
     "output_type": "stream",
     "text": [
      "Computing results for anchors_6hapim4a_cifar100_p0.1\n"
     ]
    },
    {
     "name": "stderr",
     "output_type": "stream",
     "text": [
      "batch:  59%|█████▊    | 103/176 [26:28<18:45, 15.42s/it]\n",
      "batch: 100%|██████████| 176/176 [00:49<00:00,  3.53it/s]\n"
     ]
    },
    {
     "name": "stdout",
     "output_type": "stream",
     "text": [
      "Computing results for anchors_73s47o0m_cifar100_p0.1\n"
     ]
    },
    {
     "name": "stderr",
     "output_type": "stream",
     "text": [
      "batch: 100%|██████████| 176/176 [00:49<00:00,  3.55it/s]\n"
     ]
    },
    {
     "name": "stdout",
     "output_type": "stream",
     "text": [
      "Computing results for anchors_75eeo9bw_cifar100_p0.1\n"
     ]
    },
    {
     "name": "stderr",
     "output_type": "stream",
     "text": [
      "batch: 100%|██████████| 176/176 [00:49<00:00,  3.56it/s]\n"
     ]
    },
    {
     "name": "stdout",
     "output_type": "stream",
     "text": [
      "Computing results for stars_212q5op8_cifar100_p0.1\n"
     ]
    },
    {
     "name": "stderr",
     "output_type": "stream",
     "text": [
      "batch: 100%|██████████| 176/176 [00:49<00:00,  3.55it/s]\n"
     ]
    },
    {
     "name": "stdout",
     "output_type": "stream",
     "text": [
      "Computing results for stars_2umwboaq_cifar100_p0.1\n"
     ]
    },
    {
     "name": "stderr",
     "output_type": "stream",
     "text": [
      "batch: 100%|██████████| 176/176 [00:49<00:00,  3.55it/s]\n"
     ]
    },
    {
     "name": "stdout",
     "output_type": "stream",
     "text": [
      "Computing results for stars_lgd1aief_cifar100_p0.1\n"
     ]
    },
    {
     "name": "stderr",
     "output_type": "stream",
     "text": [
      "batch: 100%|██████████| 176/176 [00:49<00:00,  3.55it/s]\n"
     ]
    },
    {
     "name": "stdout",
     "output_type": "stream",
     "text": [
      "Computing results for stars_ly0u9r9m_cifar100_p0.1\n"
     ]
    },
    {
     "name": "stderr",
     "output_type": "stream",
     "text": [
      "batch: 100%|██████████| 176/176 [00:49<00:00,  3.55it/s]\n"
     ]
    },
    {
     "name": "stdout",
     "output_type": "stream",
     "text": [
      "Computing results for stars_mgcabk97_cifar100_p0.1\n"
     ]
    },
    {
     "name": "stderr",
     "output_type": "stream",
     "text": [
      "batch: 100%|██████████| 176/176 [00:49<00:00,  3.55it/s]\n"
     ]
    },
    {
     "name": "stdout",
     "output_type": "stream",
     "text": [
      "Computing results for stars_rylbd95p_cifar100_p0.1\n"
     ]
    },
    {
     "name": "stderr",
     "output_type": "stream",
     "text": [
      "batch: 100%|██████████| 176/176 [00:49<00:00,  3.53it/s]\n"
     ]
    },
    {
     "name": "stdout",
     "output_type": "stream",
     "text": [
      "Computing results for stars_t200saru_cifar100_p0.1\n"
     ]
    },
    {
     "name": "stderr",
     "output_type": "stream",
     "text": [
      "batch: 100%|██████████| 176/176 [00:49<00:00,  3.55it/s]\n"
     ]
    },
    {
     "name": "stdout",
     "output_type": "stream",
     "text": [
      "Computing results for stars_wa8x6rt9_cifar100_p0.1\n"
     ]
    },
    {
     "name": "stderr",
     "output_type": "stream",
     "text": [
      "batch: 100%|██████████| 176/176 [00:49<00:00,  3.54it/s]\n"
     ]
    },
    {
     "name": "stdout",
     "output_type": "stream",
     "text": [
      "Computing results for stars_yvi97vmj_cifar100_p0.1\n"
     ]
    },
    {
     "name": "stderr",
     "output_type": "stream",
     "text": [
      "batch: 100%|██████████| 176/176 [00:49<00:00,  3.54it/s]\n"
     ]
    },
    {
     "name": "stdout",
     "output_type": "stream",
     "text": [
      "Computing results for stars_zcgviume_cifar100_p0.1\n"
     ]
    },
    {
     "name": "stderr",
     "output_type": "stream",
     "text": [
      "batch: 100%|██████████| 176/176 [00:49<00:00,  3.54it/s]\n"
     ]
    }
   ],
   "source": [
    "cifar100_resnet18_res_path = \"./max_cifar100_resnet18_results.pt\"\n",
    "\n",
    "last_10_stars_cifar100_resnet18 = [\n",
    "    path for path in stars_cifar100_resnet18 if get_model_id(path) in last_10_stars_cifar100_resnet18_names\n",
    "]\n",
    "\n",
    "max_cifar100_resnet18_results = compute_results(\n",
    "    anchors_cifar100_resnet18[:10] + last_10_stars_cifar100_resnet18,\n",
    "    cifar100_train_dataloader,\n",
    "    cifar100_resnet18_res_path,\n",
    "    split_name=\"train\",\n",
    "    percent=0.1,\n",
    "    load_model=get_resnet18_cifar100,\n",
    "    # recompute_substring=\"p0\"\n",
    "    recompute_substring=None,\n",
    "    agg=\"max\"\n",
    ")"
   ]
  },
  {
   "cell_type": "code",
   "execution_count": 260,
   "metadata": {},
   "outputs": [
    {
     "data": {
      "text/html": [
       "<div>\n",
       "<style scoped>\n",
       "    .dataframe tbody tr th:only-of-type {\n",
       "        vertical-align: middle;\n",
       "    }\n",
       "\n",
       "    .dataframe tbody tr th {\n",
       "        vertical-align: top;\n",
       "    }\n",
       "\n",
       "    .dataframe thead tr th {\n",
       "        text-align: left;\n",
       "    }\n",
       "\n",
       "    .dataframe thead tr:last-of-type th {\n",
       "        text-align: right;\n",
       "    }\n",
       "</style>\n",
       "<table border=\"1\" class=\"dataframe\">\n",
       "  <thead>\n",
       "    <tr>\n",
       "      <th></th>\n",
       "      <th colspan=\"2\" halign=\"left\">margin</th>\n",
       "      <th colspan=\"2\" halign=\"left\">percent</th>\n",
       "    </tr>\n",
       "    <tr>\n",
       "      <th></th>\n",
       "      <th>mean</th>\n",
       "      <th>std</th>\n",
       "      <th>mean</th>\n",
       "      <th>std</th>\n",
       "    </tr>\n",
       "    <tr>\n",
       "      <th>model_type</th>\n",
       "      <th></th>\n",
       "      <th></th>\n",
       "      <th></th>\n",
       "      <th></th>\n",
       "    </tr>\n",
       "  </thead>\n",
       "  <tbody>\n",
       "    <tr>\n",
       "      <th>anchors</th>\n",
       "      <td>0.000046</td>\n",
       "      <td>9.583485e-07</td>\n",
       "      <td>0.1</td>\n",
       "      <td>0.0</td>\n",
       "    </tr>\n",
       "    <tr>\n",
       "      <th>stars</th>\n",
       "      <td>0.000043</td>\n",
       "      <td>6.390722e-07</td>\n",
       "      <td>0.1</td>\n",
       "      <td>0.0</td>\n",
       "    </tr>\n",
       "  </tbody>\n",
       "</table>\n",
       "</div>"
      ],
      "text/plain": [
       "              margin               percent     \n",
       "                mean           std    mean  std\n",
       "model_type                                     \n",
       "anchors     0.000046  9.583485e-07     0.1  0.0\n",
       "stars       0.000043  6.390722e-07     0.1  0.0"
      ]
     },
     "metadata": {},
     "output_type": "display_data"
    }
   ],
   "source": [
    "df = plot_dict(max_cifar100_resnet18_results, to_show=True, filter_dict={}, drop_columns=[\"index\", \"dataset_name\", \"model_id\", \"split_name\"], group_aggregate_list=[\"model_type\"], query=\"percent == 0.10\")"
   ]
  },
  {
   "cell_type": "markdown",
   "metadata": {},
   "source": [
    "### Mean"
   ]
  },
  {
   "cell_type": "code",
   "execution_count": 240,
   "metadata": {},
   "outputs": [
    {
     "name": "stdout",
     "output_type": "stream",
     "text": [
      "Loading existing results from ./cifar100_resnet18_results.pt\n",
      "Reusing results for anchors_0eqk0gla_cifar100_p0.1\n",
      "Reusing results for anchors_384qnuxm_cifar100_p0.1\n",
      "Reusing results for anchors_3n8ftowe_cifar100_p0.1\n",
      "Reusing results for anchors_4808726s_cifar100_p0.1\n",
      "Reusing results for anchors_4rjdi4pa_cifar100_p0.1\n",
      "Reusing results for anchors_5bfkmro6_cifar100_p0.1\n",
      "Reusing results for anchors_65cr1zyr_cifar100_p0.1\n",
      "Reusing results for anchors_6hapim4a_cifar100_p0.1\n",
      "Reusing results for anchors_73s47o0m_cifar100_p0.1\n",
      "Reusing results for anchors_75eeo9bw_cifar100_p0.1\n",
      "Computing results for stars_212q5op8_cifar100_p0.1\n"
     ]
    },
    {
     "name": "stderr",
     "output_type": "stream",
     "text": [
      "batch: 100%|██████████| 176/176 [00:49<00:00,  3.58it/s]\n"
     ]
    },
    {
     "name": "stdout",
     "output_type": "stream",
     "text": [
      "Computing results for stars_2umwboaq_cifar100_p0.1\n"
     ]
    },
    {
     "name": "stderr",
     "output_type": "stream",
     "text": [
      "batch: 100%|██████████| 176/176 [00:49<00:00,  3.56it/s]\n"
     ]
    },
    {
     "name": "stdout",
     "output_type": "stream",
     "text": [
      "Computing results for stars_lgd1aief_cifar100_p0.1\n"
     ]
    },
    {
     "name": "stderr",
     "output_type": "stream",
     "text": [
      "batch: 100%|██████████| 176/176 [00:49<00:00,  3.56it/s]\n"
     ]
    },
    {
     "name": "stdout",
     "output_type": "stream",
     "text": [
      "Computing results for stars_ly0u9r9m_cifar100_p0.1\n"
     ]
    },
    {
     "name": "stderr",
     "output_type": "stream",
     "text": [
      "batch: 100%|██████████| 176/176 [00:49<00:00,  3.53it/s]\n"
     ]
    },
    {
     "name": "stdout",
     "output_type": "stream",
     "text": [
      "Computing results for stars_mgcabk97_cifar100_p0.1\n"
     ]
    },
    {
     "name": "stderr",
     "output_type": "stream",
     "text": [
      "batch: 100%|██████████| 176/176 [00:49<00:00,  3.55it/s]\n"
     ]
    },
    {
     "name": "stdout",
     "output_type": "stream",
     "text": [
      "Computing results for stars_rylbd95p_cifar100_p0.1\n"
     ]
    },
    {
     "name": "stderr",
     "output_type": "stream",
     "text": [
      "batch: 100%|██████████| 176/176 [00:49<00:00,  3.55it/s]\n"
     ]
    },
    {
     "name": "stdout",
     "output_type": "stream",
     "text": [
      "Computing results for stars_t200saru_cifar100_p0.1\n"
     ]
    },
    {
     "name": "stderr",
     "output_type": "stream",
     "text": [
      "batch: 100%|██████████| 176/176 [00:49<00:00,  3.55it/s]\n"
     ]
    },
    {
     "name": "stdout",
     "output_type": "stream",
     "text": [
      "Computing results for stars_wa8x6rt9_cifar100_p0.1\n"
     ]
    },
    {
     "name": "stderr",
     "output_type": "stream",
     "text": [
      "batch: 100%|██████████| 176/176 [00:49<00:00,  3.55it/s]\n"
     ]
    },
    {
     "name": "stdout",
     "output_type": "stream",
     "text": [
      "Computing results for stars_yvi97vmj_cifar100_p0.1\n"
     ]
    },
    {
     "name": "stderr",
     "output_type": "stream",
     "text": [
      "batch: 100%|██████████| 176/176 [00:49<00:00,  3.55it/s]\n"
     ]
    },
    {
     "name": "stdout",
     "output_type": "stream",
     "text": [
      "Computing results for stars_zcgviume_cifar100_p0.1\n"
     ]
    },
    {
     "name": "stderr",
     "output_type": "stream",
     "text": [
      "batch: 100%|██████████| 176/176 [00:49<00:00,  3.56it/s]\n"
     ]
    }
   ],
   "source": [
    "cifar100_resnet18_res_path = \"./cifar100_resnet18_results.pt\"\n",
    "\n",
    "last_10_stars_cifar100_resnet18 = [\n",
    "    path for path in stars_cifar100_resnet18 if get_model_id(path) in last_10_stars_cifar100_resnet18_names\n",
    "]\n",
    "\n",
    "cifar100_resnet18_results = compute_results(\n",
    "    anchors_cifar100_resnet18[:10] + last_10_stars_cifar100_resnet18,\n",
    "    cifar100_train_dataloader,\n",
    "    cifar100_resnet18_res_path,\n",
    "    split_name=\"train\",\n",
    "    percent=0.1,\n",
    "    load_model=get_resnet18_cifar100,\n",
    "    # recompute_substring=\"p0\"\n",
    "    recompute_substring=None\n",
    ")"
   ]
  },
  {
   "cell_type": "code",
   "execution_count": 252,
   "metadata": {},
   "outputs": [
    {
     "data": {
      "text/html": [
       "<div>\n",
       "<style scoped>\n",
       "    .dataframe tbody tr th:only-of-type {\n",
       "        vertical-align: middle;\n",
       "    }\n",
       "\n",
       "    .dataframe tbody tr th {\n",
       "        vertical-align: top;\n",
       "    }\n",
       "\n",
       "    .dataframe thead th {\n",
       "        text-align: right;\n",
       "    }\n",
       "</style>\n",
       "<table border=\"1\" class=\"dataframe\">\n",
       "  <thead>\n",
       "    <tr style=\"text-align: right;\">\n",
       "      <th></th>\n",
       "      <th>margin</th>\n",
       "      <th>model_type</th>\n",
       "      <th>dataset_name</th>\n",
       "      <th>percent</th>\n",
       "      <th>model_id</th>\n",
       "      <th>split_name</th>\n",
       "    </tr>\n",
       "  </thead>\n",
       "  <tbody>\n",
       "    <tr>\n",
       "      <th>anchors_0eqk0gla_cifar100_p0.05</th>\n",
       "      <td>0.000035</td>\n",
       "      <td>anchors</td>\n",
       "      <td>cifar100</td>\n",
       "      <td>0.05</td>\n",
       "      <td>NaN</td>\n",
       "      <td>NaN</td>\n",
       "    </tr>\n",
       "    <tr>\n",
       "      <th>anchors_384qnuxm_cifar100_p0.05</th>\n",
       "      <td>0.000035</td>\n",
       "      <td>anchors</td>\n",
       "      <td>cifar100</td>\n",
       "      <td>0.05</td>\n",
       "      <td>NaN</td>\n",
       "      <td>NaN</td>\n",
       "    </tr>\n",
       "    <tr>\n",
       "      <th>stars_01fj1cav_cifar100_p0.05</th>\n",
       "      <td>0.000034</td>\n",
       "      <td>stars</td>\n",
       "      <td>cifar100</td>\n",
       "      <td>0.05</td>\n",
       "      <td>NaN</td>\n",
       "      <td>NaN</td>\n",
       "    </tr>\n",
       "    <tr>\n",
       "      <th>stars_212q5op8_cifar100_p0.05</th>\n",
       "      <td>0.000033</td>\n",
       "      <td>stars</td>\n",
       "      <td>cifar100</td>\n",
       "      <td>0.05</td>\n",
       "      <td>NaN</td>\n",
       "      <td>NaN</td>\n",
       "    </tr>\n",
       "    <tr>\n",
       "      <th>anchors_0eqk0gla_cifar100_p0.1</th>\n",
       "      <td>0.000034</td>\n",
       "      <td>anchors</td>\n",
       "      <td>cifar100</td>\n",
       "      <td>0.10</td>\n",
       "      <td>0eqk0gla</td>\n",
       "      <td>train</td>\n",
       "    </tr>\n",
       "    <tr>\n",
       "      <th>anchors_384qnuxm_cifar100_p0.1</th>\n",
       "      <td>0.000035</td>\n",
       "      <td>anchors</td>\n",
       "      <td>cifar100</td>\n",
       "      <td>0.10</td>\n",
       "      <td>384qnuxm</td>\n",
       "      <td>train</td>\n",
       "    </tr>\n",
       "    <tr>\n",
       "      <th>anchors_3n8ftowe_cifar100_p0.1</th>\n",
       "      <td>0.000033</td>\n",
       "      <td>anchors</td>\n",
       "      <td>cifar100</td>\n",
       "      <td>0.10</td>\n",
       "      <td>3n8ftowe</td>\n",
       "      <td>train</td>\n",
       "    </tr>\n",
       "    <tr>\n",
       "      <th>anchors_4808726s_cifar100_p0.1</th>\n",
       "      <td>0.000035</td>\n",
       "      <td>anchors</td>\n",
       "      <td>cifar100</td>\n",
       "      <td>0.10</td>\n",
       "      <td>4808726s</td>\n",
       "      <td>train</td>\n",
       "    </tr>\n",
       "    <tr>\n",
       "      <th>anchors_4rjdi4pa_cifar100_p0.1</th>\n",
       "      <td>0.000034</td>\n",
       "      <td>anchors</td>\n",
       "      <td>cifar100</td>\n",
       "      <td>0.10</td>\n",
       "      <td>4rjdi4pa</td>\n",
       "      <td>train</td>\n",
       "    </tr>\n",
       "    <tr>\n",
       "      <th>anchors_5bfkmro6_cifar100_p0.1</th>\n",
       "      <td>0.000034</td>\n",
       "      <td>anchors</td>\n",
       "      <td>cifar100</td>\n",
       "      <td>0.10</td>\n",
       "      <td>5bfkmro6</td>\n",
       "      <td>train</td>\n",
       "    </tr>\n",
       "    <tr>\n",
       "      <th>anchors_65cr1zyr_cifar100_p0.1</th>\n",
       "      <td>0.000033</td>\n",
       "      <td>anchors</td>\n",
       "      <td>cifar100</td>\n",
       "      <td>0.10</td>\n",
       "      <td>65cr1zyr</td>\n",
       "      <td>train</td>\n",
       "    </tr>\n",
       "    <tr>\n",
       "      <th>anchors_6hapim4a_cifar100_p0.1</th>\n",
       "      <td>0.000034</td>\n",
       "      <td>anchors</td>\n",
       "      <td>cifar100</td>\n",
       "      <td>0.10</td>\n",
       "      <td>6hapim4a</td>\n",
       "      <td>train</td>\n",
       "    </tr>\n",
       "    <tr>\n",
       "      <th>anchors_73s47o0m_cifar100_p0.1</th>\n",
       "      <td>0.000033</td>\n",
       "      <td>anchors</td>\n",
       "      <td>cifar100</td>\n",
       "      <td>0.10</td>\n",
       "      <td>73s47o0m</td>\n",
       "      <td>train</td>\n",
       "    </tr>\n",
       "    <tr>\n",
       "      <th>anchors_75eeo9bw_cifar100_p0.1</th>\n",
       "      <td>0.000033</td>\n",
       "      <td>anchors</td>\n",
       "      <td>cifar100</td>\n",
       "      <td>0.10</td>\n",
       "      <td>75eeo9bw</td>\n",
       "      <td>train</td>\n",
       "    </tr>\n",
       "    <tr>\n",
       "      <th>stars_212q5op8_cifar100_p0.1</th>\n",
       "      <td>0.000033</td>\n",
       "      <td>stars</td>\n",
       "      <td>cifar100</td>\n",
       "      <td>0.10</td>\n",
       "      <td>212q5op8</td>\n",
       "      <td>train</td>\n",
       "    </tr>\n",
       "    <tr>\n",
       "      <th>stars_2umwboaq_cifar100_p0.1</th>\n",
       "      <td>0.000034</td>\n",
       "      <td>stars</td>\n",
       "      <td>cifar100</td>\n",
       "      <td>0.10</td>\n",
       "      <td>2umwboaq</td>\n",
       "      <td>train</td>\n",
       "    </tr>\n",
       "    <tr>\n",
       "      <th>stars_lgd1aief_cifar100_p0.1</th>\n",
       "      <td>0.000033</td>\n",
       "      <td>stars</td>\n",
       "      <td>cifar100</td>\n",
       "      <td>0.10</td>\n",
       "      <td>lgd1aief</td>\n",
       "      <td>train</td>\n",
       "    </tr>\n",
       "    <tr>\n",
       "      <th>stars_ly0u9r9m_cifar100_p0.1</th>\n",
       "      <td>0.000033</td>\n",
       "      <td>stars</td>\n",
       "      <td>cifar100</td>\n",
       "      <td>0.10</td>\n",
       "      <td>ly0u9r9m</td>\n",
       "      <td>train</td>\n",
       "    </tr>\n",
       "    <tr>\n",
       "      <th>stars_mgcabk97_cifar100_p0.1</th>\n",
       "      <td>0.000033</td>\n",
       "      <td>stars</td>\n",
       "      <td>cifar100</td>\n",
       "      <td>0.10</td>\n",
       "      <td>mgcabk97</td>\n",
       "      <td>train</td>\n",
       "    </tr>\n",
       "    <tr>\n",
       "      <th>stars_rylbd95p_cifar100_p0.1</th>\n",
       "      <td>0.000033</td>\n",
       "      <td>stars</td>\n",
       "      <td>cifar100</td>\n",
       "      <td>0.10</td>\n",
       "      <td>rylbd95p</td>\n",
       "      <td>train</td>\n",
       "    </tr>\n",
       "    <tr>\n",
       "      <th>stars_t200saru_cifar100_p0.1</th>\n",
       "      <td>0.000033</td>\n",
       "      <td>stars</td>\n",
       "      <td>cifar100</td>\n",
       "      <td>0.10</td>\n",
       "      <td>t200saru</td>\n",
       "      <td>train</td>\n",
       "    </tr>\n",
       "    <tr>\n",
       "      <th>stars_wa8x6rt9_cifar100_p0.1</th>\n",
       "      <td>0.000033</td>\n",
       "      <td>stars</td>\n",
       "      <td>cifar100</td>\n",
       "      <td>0.10</td>\n",
       "      <td>wa8x6rt9</td>\n",
       "      <td>train</td>\n",
       "    </tr>\n",
       "    <tr>\n",
       "      <th>stars_yvi97vmj_cifar100_p0.1</th>\n",
       "      <td>0.000033</td>\n",
       "      <td>stars</td>\n",
       "      <td>cifar100</td>\n",
       "      <td>0.10</td>\n",
       "      <td>yvi97vmj</td>\n",
       "      <td>train</td>\n",
       "    </tr>\n",
       "    <tr>\n",
       "      <th>stars_zcgviume_cifar100_p0.1</th>\n",
       "      <td>0.000033</td>\n",
       "      <td>stars</td>\n",
       "      <td>cifar100</td>\n",
       "      <td>0.10</td>\n",
       "      <td>zcgviume</td>\n",
       "      <td>train</td>\n",
       "    </tr>\n",
       "  </tbody>\n",
       "</table>\n",
       "</div>"
      ],
      "text/plain": [
       "                                   margin model_type dataset_name  percent  \\\n",
       "anchors_0eqk0gla_cifar100_p0.05  0.000035    anchors     cifar100     0.05   \n",
       "anchors_384qnuxm_cifar100_p0.05  0.000035    anchors     cifar100     0.05   \n",
       "stars_01fj1cav_cifar100_p0.05    0.000034      stars     cifar100     0.05   \n",
       "stars_212q5op8_cifar100_p0.05    0.000033      stars     cifar100     0.05   \n",
       "anchors_0eqk0gla_cifar100_p0.1   0.000034    anchors     cifar100     0.10   \n",
       "anchors_384qnuxm_cifar100_p0.1   0.000035    anchors     cifar100     0.10   \n",
       "anchors_3n8ftowe_cifar100_p0.1   0.000033    anchors     cifar100     0.10   \n",
       "anchors_4808726s_cifar100_p0.1   0.000035    anchors     cifar100     0.10   \n",
       "anchors_4rjdi4pa_cifar100_p0.1   0.000034    anchors     cifar100     0.10   \n",
       "anchors_5bfkmro6_cifar100_p0.1   0.000034    anchors     cifar100     0.10   \n",
       "anchors_65cr1zyr_cifar100_p0.1   0.000033    anchors     cifar100     0.10   \n",
       "anchors_6hapim4a_cifar100_p0.1   0.000034    anchors     cifar100     0.10   \n",
       "anchors_73s47o0m_cifar100_p0.1   0.000033    anchors     cifar100     0.10   \n",
       "anchors_75eeo9bw_cifar100_p0.1   0.000033    anchors     cifar100     0.10   \n",
       "stars_212q5op8_cifar100_p0.1     0.000033      stars     cifar100     0.10   \n",
       "stars_2umwboaq_cifar100_p0.1     0.000034      stars     cifar100     0.10   \n",
       "stars_lgd1aief_cifar100_p0.1     0.000033      stars     cifar100     0.10   \n",
       "stars_ly0u9r9m_cifar100_p0.1     0.000033      stars     cifar100     0.10   \n",
       "stars_mgcabk97_cifar100_p0.1     0.000033      stars     cifar100     0.10   \n",
       "stars_rylbd95p_cifar100_p0.1     0.000033      stars     cifar100     0.10   \n",
       "stars_t200saru_cifar100_p0.1     0.000033      stars     cifar100     0.10   \n",
       "stars_wa8x6rt9_cifar100_p0.1     0.000033      stars     cifar100     0.10   \n",
       "stars_yvi97vmj_cifar100_p0.1     0.000033      stars     cifar100     0.10   \n",
       "stars_zcgviume_cifar100_p0.1     0.000033      stars     cifar100     0.10   \n",
       "\n",
       "                                 model_id split_name  \n",
       "anchors_0eqk0gla_cifar100_p0.05       NaN        NaN  \n",
       "anchors_384qnuxm_cifar100_p0.05       NaN        NaN  \n",
       "stars_01fj1cav_cifar100_p0.05         NaN        NaN  \n",
       "stars_212q5op8_cifar100_p0.05         NaN        NaN  \n",
       "anchors_0eqk0gla_cifar100_p0.1   0eqk0gla      train  \n",
       "anchors_384qnuxm_cifar100_p0.1   384qnuxm      train  \n",
       "anchors_3n8ftowe_cifar100_p0.1   3n8ftowe      train  \n",
       "anchors_4808726s_cifar100_p0.1   4808726s      train  \n",
       "anchors_4rjdi4pa_cifar100_p0.1   4rjdi4pa      train  \n",
       "anchors_5bfkmro6_cifar100_p0.1   5bfkmro6      train  \n",
       "anchors_65cr1zyr_cifar100_p0.1   65cr1zyr      train  \n",
       "anchors_6hapim4a_cifar100_p0.1   6hapim4a      train  \n",
       "anchors_73s47o0m_cifar100_p0.1   73s47o0m      train  \n",
       "anchors_75eeo9bw_cifar100_p0.1   75eeo9bw      train  \n",
       "stars_212q5op8_cifar100_p0.1     212q5op8      train  \n",
       "stars_2umwboaq_cifar100_p0.1     2umwboaq      train  \n",
       "stars_lgd1aief_cifar100_p0.1     lgd1aief      train  \n",
       "stars_ly0u9r9m_cifar100_p0.1     ly0u9r9m      train  \n",
       "stars_mgcabk97_cifar100_p0.1     mgcabk97      train  \n",
       "stars_rylbd95p_cifar100_p0.1     rylbd95p      train  \n",
       "stars_t200saru_cifar100_p0.1     t200saru      train  \n",
       "stars_wa8x6rt9_cifar100_p0.1     wa8x6rt9      train  \n",
       "stars_yvi97vmj_cifar100_p0.1     yvi97vmj      train  \n",
       "stars_zcgviume_cifar100_p0.1     zcgviume      train  "
      ]
     },
     "metadata": {},
     "output_type": "display_data"
    }
   ],
   "source": [
    "df = plot_dict(cifar100_resnet18_results, to_show=True)"
   ]
  },
  {
   "cell_type": "code",
   "execution_count": null,
   "metadata": {},
   "outputs": [],
   "source": [
    "df = plot_dict(cifar100_resnet18_results, to_show=True, filter_dict={}, drop_columns=[\"index\", \"dataset_name\"], group_aggregate_list=[\"model_type\"])"
   ]
  },
  {
   "cell_type": "code",
   "execution_count": 251,
   "metadata": {},
   "outputs": [
    {
     "data": {
      "text/html": [
       "<div>\n",
       "<style scoped>\n",
       "    .dataframe tbody tr th:only-of-type {\n",
       "        vertical-align: middle;\n",
       "    }\n",
       "\n",
       "    .dataframe tbody tr th {\n",
       "        vertical-align: top;\n",
       "    }\n",
       "\n",
       "    .dataframe thead tr th {\n",
       "        text-align: left;\n",
       "    }\n",
       "\n",
       "    .dataframe thead tr:last-of-type th {\n",
       "        text-align: right;\n",
       "    }\n",
       "</style>\n",
       "<table border=\"1\" class=\"dataframe\">\n",
       "  <thead>\n",
       "    <tr>\n",
       "      <th></th>\n",
       "      <th colspan=\"2\" halign=\"left\">margin</th>\n",
       "      <th colspan=\"2\" halign=\"left\">percent</th>\n",
       "    </tr>\n",
       "    <tr>\n",
       "      <th></th>\n",
       "      <th>mean</th>\n",
       "      <th>std</th>\n",
       "      <th>mean</th>\n",
       "      <th>std</th>\n",
       "    </tr>\n",
       "    <tr>\n",
       "      <th>model_type</th>\n",
       "      <th></th>\n",
       "      <th></th>\n",
       "      <th></th>\n",
       "      <th></th>\n",
       "    </tr>\n",
       "  </thead>\n",
       "  <tbody>\n",
       "    <tr>\n",
       "      <th>anchors</th>\n",
       "      <td>0.000034</td>\n",
       "      <td>7.466623e-07</td>\n",
       "      <td>0.1</td>\n",
       "      <td>0.0</td>\n",
       "    </tr>\n",
       "    <tr>\n",
       "      <th>stars</th>\n",
       "      <td>0.000033</td>\n",
       "      <td>2.407625e-07</td>\n",
       "      <td>0.1</td>\n",
       "      <td>0.0</td>\n",
       "    </tr>\n",
       "  </tbody>\n",
       "</table>\n",
       "</div>"
      ],
      "text/plain": [
       "              margin               percent     \n",
       "                mean           std    mean  std\n",
       "model_type                                     \n",
       "anchors     0.000034  7.466623e-07     0.1  0.0\n",
       "stars       0.000033  2.407625e-07     0.1  0.0"
      ]
     },
     "metadata": {},
     "output_type": "display_data"
    }
   ],
   "source": [
    "df = plot_dict(cifar100_resnet18_results, to_show=True, filter_dict={}, drop_columns=[\"index\", \"dataset_name\", \"model_id\", \"split_name\"], group_aggregate_list=[\"model_type\"], query=\"percent == 0.10\")"
   ]
  },
  {
   "cell_type": "markdown",
   "metadata": {},
   "source": [
    "## Resnet18 Cifar10"
   ]
  },
  {
   "cell_type": "markdown",
   "metadata": {},
   "source": [
    "### L2 + min margin to pred"
   ]
  },
  {
   "cell_type": "code",
   "execution_count": 92,
   "metadata": {},
   "outputs": [
    {
     "name": "stdout",
     "output_type": "stream",
     "text": [
      "Computing results for anchors_2oo0upw1_cifar10_p1\n"
     ]
    },
    {
     "name": "stderr",
     "output_type": "stream",
     "text": [
      "batch:   1%|          | 1/176 [00:00<00:41,  4.23it/s]/scratch_local/arubinstein17-163577/starlight/starlight_env/lib/python3.9/site-packages/torch/autograd/__init__.py:266: UserWarning: Deterministic behavior was enabled with either `torch.use_deterministic_algorithms(True)` or `at::Context::setDeterministicAlgorithms(true)`, but this operation is not deterministic because it uses CuBLAS and you have CUDA >= 10.2. To enable deterministic behavior in this case, you must set an environment variable before running your PyTorch application: CUBLAS_WORKSPACE_CONFIG=:4096:8 or CUBLAS_WORKSPACE_CONFIG=:16:8. For more information, go to https://docs.nvidia.com/cuda/cublas/index.html#cublasApi_reproducibility (Triggered internally at ../aten/src/ATen/Context.cpp:164.)\n",
      "  Variable._execution_engine.run_backward(  # Calls into the C++ engine to run the backward pass\n",
      "batch: 100%|██████████| 176/176 [01:31<00:00,  1.92it/s]\n"
     ]
    },
    {
     "name": "stdout",
     "output_type": "stream",
     "text": [
      "Computing results for anchors_3m2c3guk_cifar10_p1\n"
     ]
    },
    {
     "name": "stderr",
     "output_type": "stream",
     "text": [
      "batch: 100%|██████████| 176/176 [01:32<00:00,  1.90it/s]\n"
     ]
    },
    {
     "name": "stdout",
     "output_type": "stream",
     "text": [
      "Computing results for anchors_448kfne2_cifar10_p1\n"
     ]
    },
    {
     "name": "stderr",
     "output_type": "stream",
     "text": [
      "batch:   1%|          | 1/176 [58:41<171:12:21, 3521.95s/it]\n",
      "batch:   1%|          | 1/176 [21:55<63:55:30, 1315.03s/it]\n",
      "batch:   1%|          | 1/176 [21:00<61:15:58, 1260.33s/it]\n",
      "batch:   1%|          | 1/176 [19:37<57:13:11, 1177.10s/it]\n",
      "batch:   1%|          | 1/176 [18:25<53:44:01, 1105.38s/it]\n",
      "batch:   1%|          | 1/176 [17:34<51:14:57, 1054.27s/it]\n",
      "batch:   1%|          | 1/176 [17:05<49:51:13, 1025.56s/it]\n",
      "batch:   1%|          | 1/176 [16:29<48:05:28, 989.31s/it]\n",
      "batch:   1%|          | 1/176 [07:46<22:40:18, 466.39s/it]\n",
      "batch: 100%|██████████| 176/176 [01:33<00:00,  1.89it/s]\n"
     ]
    },
    {
     "name": "stdout",
     "output_type": "stream",
     "text": [
      "Computing results for anchors_52l22gc1_cifar10_p1\n"
     ]
    },
    {
     "name": "stderr",
     "output_type": "stream",
     "text": [
      "batch: 100%|██████████| 176/176 [01:32<00:00,  1.90it/s]\n"
     ]
    },
    {
     "name": "stdout",
     "output_type": "stream",
     "text": [
      "Computing results for anchors_5791j5is_cifar10_p1\n"
     ]
    },
    {
     "name": "stderr",
     "output_type": "stream",
     "text": [
      "batch: 100%|██████████| 176/176 [01:32<00:00,  1.90it/s]\n"
     ]
    },
    {
     "name": "stdout",
     "output_type": "stream",
     "text": [
      "Computing results for anchors_5hrwt8sd_cifar10_p1\n"
     ]
    },
    {
     "name": "stderr",
     "output_type": "stream",
     "text": [
      "batch: 100%|██████████| 176/176 [01:32<00:00,  1.90it/s]\n"
     ]
    },
    {
     "name": "stdout",
     "output_type": "stream",
     "text": [
      "Computing results for anchors_6ids7w54_cifar10_p1\n"
     ]
    },
    {
     "name": "stderr",
     "output_type": "stream",
     "text": [
      "batch: 100%|██████████| 176/176 [01:32<00:00,  1.90it/s]\n"
     ]
    },
    {
     "name": "stdout",
     "output_type": "stream",
     "text": [
      "Computing results for anchors_6kxd228s_cifar10_p1\n"
     ]
    },
    {
     "name": "stderr",
     "output_type": "stream",
     "text": [
      "batch: 100%|██████████| 176/176 [01:32<00:00,  1.90it/s]\n"
     ]
    },
    {
     "name": "stdout",
     "output_type": "stream",
     "text": [
      "Computing results for anchors_7sckybft_cifar10_p1\n"
     ]
    },
    {
     "name": "stderr",
     "output_type": "stream",
     "text": [
      "batch: 100%|██████████| 176/176 [01:32<00:00,  1.90it/s]\n"
     ]
    },
    {
     "name": "stdout",
     "output_type": "stream",
     "text": [
      "Computing results for anchors_7y4wdzel_cifar10_p1\n"
     ]
    },
    {
     "name": "stderr",
     "output_type": "stream",
     "text": [
      "batch: 100%|██████████| 176/176 [01:32<00:00,  1.90it/s]\n"
     ]
    },
    {
     "name": "stdout",
     "output_type": "stream",
     "text": [
      "Computing results for stars_6gps5q6c_cifar10_p1\n"
     ]
    },
    {
     "name": "stderr",
     "output_type": "stream",
     "text": [
      "batch: 100%|██████████| 176/176 [01:32<00:00,  1.90it/s]\n"
     ]
    },
    {
     "name": "stdout",
     "output_type": "stream",
     "text": [
      "Computing results for stars_82pxe1i8_cifar10_p1\n"
     ]
    },
    {
     "name": "stderr",
     "output_type": "stream",
     "text": [
      "batch: 100%|██████████| 176/176 [01:32<00:00,  1.90it/s]\n"
     ]
    },
    {
     "name": "stdout",
     "output_type": "stream",
     "text": [
      "Computing results for stars_8dirowph_cifar10_p1\n"
     ]
    },
    {
     "name": "stderr",
     "output_type": "stream",
     "text": [
      "batch: 100%|██████████| 176/176 [01:32<00:00,  1.90it/s]\n"
     ]
    },
    {
     "name": "stdout",
     "output_type": "stream",
     "text": [
      "Computing results for stars_bezgu0h7_cifar10_p1\n"
     ]
    },
    {
     "name": "stderr",
     "output_type": "stream",
     "text": [
      "batch: 100%|██████████| 176/176 [01:32<00:00,  1.89it/s]\n"
     ]
    },
    {
     "name": "stdout",
     "output_type": "stream",
     "text": [
      "Computing results for stars_by2vpp9d_cifar10_p1\n"
     ]
    },
    {
     "name": "stderr",
     "output_type": "stream",
     "text": [
      "batch: 100%|██████████| 176/176 [01:32<00:00,  1.90it/s]\n"
     ]
    },
    {
     "name": "stdout",
     "output_type": "stream",
     "text": [
      "Computing results for stars_h2qjwxrq_cifar10_p1\n"
     ]
    },
    {
     "name": "stderr",
     "output_type": "stream",
     "text": [
      "batch: 100%|██████████| 176/176 [01:32<00:00,  1.90it/s]\n"
     ]
    },
    {
     "name": "stdout",
     "output_type": "stream",
     "text": [
      "Computing results for stars_n5sjdrla_cifar10_p1\n"
     ]
    },
    {
     "name": "stderr",
     "output_type": "stream",
     "text": [
      "batch: 100%|██████████| 176/176 [01:32<00:00,  1.90it/s]\n"
     ]
    },
    {
     "name": "stdout",
     "output_type": "stream",
     "text": [
      "Computing results for stars_n8vpmpbj_cifar10_p1\n"
     ]
    },
    {
     "name": "stderr",
     "output_type": "stream",
     "text": [
      "batch: 100%|██████████| 176/176 [01:32<00:00,  1.90it/s]\n"
     ]
    },
    {
     "name": "stdout",
     "output_type": "stream",
     "text": [
      "Computing results for stars_nyolmhfc_cifar10_p1\n"
     ]
    },
    {
     "name": "stderr",
     "output_type": "stream",
     "text": [
      "batch: 100%|██████████| 176/176 [01:32<00:00,  1.90it/s]\n"
     ]
    },
    {
     "name": "stdout",
     "output_type": "stream",
     "text": [
      "Computing results for stars_wrvljast_cifar10_p1\n"
     ]
    },
    {
     "name": "stderr",
     "output_type": "stream",
     "text": [
      "batch: 100%|██████████| 176/176 [01:32<00:00,  1.90it/s]\n"
     ]
    }
   ],
   "source": [
    "cifar10_resnet18_res_path = \"./min2pred_l2_cifar10_resnet18_results.pt\"\n",
    "\n",
    "last_10_stars_cifar10_resnet18 = [path for path in stars_resnet18 if get_model_id(path) in last_10_stars]\n",
    "\n",
    "max_cifar10_resnet18_results = compute_results(\n",
    "    anchors_resnet18[:10] + last_10_stars_cifar10_resnet18,\n",
    "    # anchors_resnet18[:2] + last_10_stars_cifar10_resnet18[:2],\n",
    "    cifar10_train_dataloader,\n",
    "    cifar10_resnet18_res_path,\n",
    "    split_name=\"train\",\n",
    "    percent=1,\n",
    "    # percent=0.05,\n",
    "    load_model=get_resnet18_cifar,\n",
    "    # recompute_substring=\"p0\"\n",
    "    recompute_substring=None,\n",
    "    agg=\"min_to_pred\",\n",
    "    norm=\"l2\"\n",
    ")"
   ]
  },
  {
   "cell_type": "code",
   "execution_count": 95,
   "metadata": {},
   "outputs": [
    {
     "data": {
      "text/html": [
       "<div>\n",
       "<style scoped>\n",
       "    .dataframe tbody tr th:only-of-type {\n",
       "        vertical-align: middle;\n",
       "    }\n",
       "\n",
       "    .dataframe tbody tr th {\n",
       "        vertical-align: top;\n",
       "    }\n",
       "\n",
       "    .dataframe thead th {\n",
       "        text-align: right;\n",
       "    }\n",
       "</style>\n",
       "<table border=\"1\" class=\"dataframe\">\n",
       "  <thead>\n",
       "    <tr style=\"text-align: right;\">\n",
       "      <th></th>\n",
       "      <th>margin</th>\n",
       "      <th>model_type</th>\n",
       "      <th>dataset_name</th>\n",
       "      <th>percent</th>\n",
       "      <th>model_id</th>\n",
       "      <th>split_name</th>\n",
       "    </tr>\n",
       "  </thead>\n",
       "  <tbody>\n",
       "    <tr>\n",
       "      <th>anchors_2oo0upw1_cifar10_p1</th>\n",
       "      <td>0.118189</td>\n",
       "      <td>anchors</td>\n",
       "      <td>cifar10</td>\n",
       "      <td>1</td>\n",
       "      <td>2oo0upw1</td>\n",
       "      <td>train</td>\n",
       "    </tr>\n",
       "    <tr>\n",
       "      <th>anchors_3m2c3guk_cifar10_p1</th>\n",
       "      <td>0.118039</td>\n",
       "      <td>anchors</td>\n",
       "      <td>cifar10</td>\n",
       "      <td>1</td>\n",
       "      <td>3m2c3guk</td>\n",
       "      <td>train</td>\n",
       "    </tr>\n",
       "    <tr>\n",
       "      <th>anchors_448kfne2_cifar10_p1</th>\n",
       "      <td>0.112324</td>\n",
       "      <td>anchors</td>\n",
       "      <td>cifar10</td>\n",
       "      <td>1</td>\n",
       "      <td>448kfne2</td>\n",
       "      <td>train</td>\n",
       "    </tr>\n",
       "    <tr>\n",
       "      <th>anchors_52l22gc1_cifar10_p1</th>\n",
       "      <td>0.118346</td>\n",
       "      <td>anchors</td>\n",
       "      <td>cifar10</td>\n",
       "      <td>1</td>\n",
       "      <td>52l22gc1</td>\n",
       "      <td>train</td>\n",
       "    </tr>\n",
       "    <tr>\n",
       "      <th>anchors_5791j5is_cifar10_p1</th>\n",
       "      <td>0.116815</td>\n",
       "      <td>anchors</td>\n",
       "      <td>cifar10</td>\n",
       "      <td>1</td>\n",
       "      <td>5791j5is</td>\n",
       "      <td>train</td>\n",
       "    </tr>\n",
       "    <tr>\n",
       "      <th>anchors_5hrwt8sd_cifar10_p1</th>\n",
       "      <td>0.121371</td>\n",
       "      <td>anchors</td>\n",
       "      <td>cifar10</td>\n",
       "      <td>1</td>\n",
       "      <td>5hrwt8sd</td>\n",
       "      <td>train</td>\n",
       "    </tr>\n",
       "    <tr>\n",
       "      <th>anchors_6ids7w54_cifar10_p1</th>\n",
       "      <td>0.108609</td>\n",
       "      <td>anchors</td>\n",
       "      <td>cifar10</td>\n",
       "      <td>1</td>\n",
       "      <td>6ids7w54</td>\n",
       "      <td>train</td>\n",
       "    </tr>\n",
       "    <tr>\n",
       "      <th>anchors_6kxd228s_cifar10_p1</th>\n",
       "      <td>0.112535</td>\n",
       "      <td>anchors</td>\n",
       "      <td>cifar10</td>\n",
       "      <td>1</td>\n",
       "      <td>6kxd228s</td>\n",
       "      <td>train</td>\n",
       "    </tr>\n",
       "    <tr>\n",
       "      <th>anchors_7sckybft_cifar10_p1</th>\n",
       "      <td>0.120158</td>\n",
       "      <td>anchors</td>\n",
       "      <td>cifar10</td>\n",
       "      <td>1</td>\n",
       "      <td>7sckybft</td>\n",
       "      <td>train</td>\n",
       "    </tr>\n",
       "    <tr>\n",
       "      <th>anchors_7y4wdzel_cifar10_p1</th>\n",
       "      <td>0.122731</td>\n",
       "      <td>anchors</td>\n",
       "      <td>cifar10</td>\n",
       "      <td>1</td>\n",
       "      <td>7y4wdzel</td>\n",
       "      <td>train</td>\n",
       "    </tr>\n",
       "    <tr>\n",
       "      <th>stars_6gps5q6c_cifar10_p1</th>\n",
       "      <td>0.093374</td>\n",
       "      <td>stars</td>\n",
       "      <td>cifar10</td>\n",
       "      <td>1</td>\n",
       "      <td>6gps5q6c</td>\n",
       "      <td>train</td>\n",
       "    </tr>\n",
       "    <tr>\n",
       "      <th>stars_82pxe1i8_cifar10_p1</th>\n",
       "      <td>0.094880</td>\n",
       "      <td>stars</td>\n",
       "      <td>cifar10</td>\n",
       "      <td>1</td>\n",
       "      <td>82pxe1i8</td>\n",
       "      <td>train</td>\n",
       "    </tr>\n",
       "    <tr>\n",
       "      <th>stars_8dirowph_cifar10_p1</th>\n",
       "      <td>0.097538</td>\n",
       "      <td>stars</td>\n",
       "      <td>cifar10</td>\n",
       "      <td>1</td>\n",
       "      <td>8dirowph</td>\n",
       "      <td>train</td>\n",
       "    </tr>\n",
       "    <tr>\n",
       "      <th>stars_bezgu0h7_cifar10_p1</th>\n",
       "      <td>0.098299</td>\n",
       "      <td>stars</td>\n",
       "      <td>cifar10</td>\n",
       "      <td>1</td>\n",
       "      <td>bezgu0h7</td>\n",
       "      <td>train</td>\n",
       "    </tr>\n",
       "    <tr>\n",
       "      <th>stars_by2vpp9d_cifar10_p1</th>\n",
       "      <td>0.099257</td>\n",
       "      <td>stars</td>\n",
       "      <td>cifar10</td>\n",
       "      <td>1</td>\n",
       "      <td>by2vpp9d</td>\n",
       "      <td>train</td>\n",
       "    </tr>\n",
       "    <tr>\n",
       "      <th>stars_h2qjwxrq_cifar10_p1</th>\n",
       "      <td>0.095268</td>\n",
       "      <td>stars</td>\n",
       "      <td>cifar10</td>\n",
       "      <td>1</td>\n",
       "      <td>h2qjwxrq</td>\n",
       "      <td>train</td>\n",
       "    </tr>\n",
       "    <tr>\n",
       "      <th>stars_n5sjdrla_cifar10_p1</th>\n",
       "      <td>0.096734</td>\n",
       "      <td>stars</td>\n",
       "      <td>cifar10</td>\n",
       "      <td>1</td>\n",
       "      <td>n5sjdrla</td>\n",
       "      <td>train</td>\n",
       "    </tr>\n",
       "    <tr>\n",
       "      <th>stars_n8vpmpbj_cifar10_p1</th>\n",
       "      <td>0.096390</td>\n",
       "      <td>stars</td>\n",
       "      <td>cifar10</td>\n",
       "      <td>1</td>\n",
       "      <td>n8vpmpbj</td>\n",
       "      <td>train</td>\n",
       "    </tr>\n",
       "    <tr>\n",
       "      <th>stars_nyolmhfc_cifar10_p1</th>\n",
       "      <td>0.098114</td>\n",
       "      <td>stars</td>\n",
       "      <td>cifar10</td>\n",
       "      <td>1</td>\n",
       "      <td>nyolmhfc</td>\n",
       "      <td>train</td>\n",
       "    </tr>\n",
       "    <tr>\n",
       "      <th>stars_wrvljast_cifar10_p1</th>\n",
       "      <td>0.102421</td>\n",
       "      <td>stars</td>\n",
       "      <td>cifar10</td>\n",
       "      <td>1</td>\n",
       "      <td>wrvljast</td>\n",
       "      <td>train</td>\n",
       "    </tr>\n",
       "  </tbody>\n",
       "</table>\n",
       "</div>"
      ],
      "text/plain": [
       "                               margin model_type dataset_name  percent  \\\n",
       "anchors_2oo0upw1_cifar10_p1  0.118189    anchors      cifar10        1   \n",
       "anchors_3m2c3guk_cifar10_p1  0.118039    anchors      cifar10        1   \n",
       "anchors_448kfne2_cifar10_p1  0.112324    anchors      cifar10        1   \n",
       "anchors_52l22gc1_cifar10_p1  0.118346    anchors      cifar10        1   \n",
       "anchors_5791j5is_cifar10_p1  0.116815    anchors      cifar10        1   \n",
       "anchors_5hrwt8sd_cifar10_p1  0.121371    anchors      cifar10        1   \n",
       "anchors_6ids7w54_cifar10_p1  0.108609    anchors      cifar10        1   \n",
       "anchors_6kxd228s_cifar10_p1  0.112535    anchors      cifar10        1   \n",
       "anchors_7sckybft_cifar10_p1  0.120158    anchors      cifar10        1   \n",
       "anchors_7y4wdzel_cifar10_p1  0.122731    anchors      cifar10        1   \n",
       "stars_6gps5q6c_cifar10_p1    0.093374      stars      cifar10        1   \n",
       "stars_82pxe1i8_cifar10_p1    0.094880      stars      cifar10        1   \n",
       "stars_8dirowph_cifar10_p1    0.097538      stars      cifar10        1   \n",
       "stars_bezgu0h7_cifar10_p1    0.098299      stars      cifar10        1   \n",
       "stars_by2vpp9d_cifar10_p1    0.099257      stars      cifar10        1   \n",
       "stars_h2qjwxrq_cifar10_p1    0.095268      stars      cifar10        1   \n",
       "stars_n5sjdrla_cifar10_p1    0.096734      stars      cifar10        1   \n",
       "stars_n8vpmpbj_cifar10_p1    0.096390      stars      cifar10        1   \n",
       "stars_nyolmhfc_cifar10_p1    0.098114      stars      cifar10        1   \n",
       "stars_wrvljast_cifar10_p1    0.102421      stars      cifar10        1   \n",
       "\n",
       "                             model_id split_name  \n",
       "anchors_2oo0upw1_cifar10_p1  2oo0upw1      train  \n",
       "anchors_3m2c3guk_cifar10_p1  3m2c3guk      train  \n",
       "anchors_448kfne2_cifar10_p1  448kfne2      train  \n",
       "anchors_52l22gc1_cifar10_p1  52l22gc1      train  \n",
       "anchors_5791j5is_cifar10_p1  5791j5is      train  \n",
       "anchors_5hrwt8sd_cifar10_p1  5hrwt8sd      train  \n",
       "anchors_6ids7w54_cifar10_p1  6ids7w54      train  \n",
       "anchors_6kxd228s_cifar10_p1  6kxd228s      train  \n",
       "anchors_7sckybft_cifar10_p1  7sckybft      train  \n",
       "anchors_7y4wdzel_cifar10_p1  7y4wdzel      train  \n",
       "stars_6gps5q6c_cifar10_p1    6gps5q6c      train  \n",
       "stars_82pxe1i8_cifar10_p1    82pxe1i8      train  \n",
       "stars_8dirowph_cifar10_p1    8dirowph      train  \n",
       "stars_bezgu0h7_cifar10_p1    bezgu0h7      train  \n",
       "stars_by2vpp9d_cifar10_p1    by2vpp9d      train  \n",
       "stars_h2qjwxrq_cifar10_p1    h2qjwxrq      train  \n",
       "stars_n5sjdrla_cifar10_p1    n5sjdrla      train  \n",
       "stars_n8vpmpbj_cifar10_p1    n8vpmpbj      train  \n",
       "stars_nyolmhfc_cifar10_p1    nyolmhfc      train  \n",
       "stars_wrvljast_cifar10_p1    wrvljast      train  "
      ]
     },
     "metadata": {},
     "output_type": "display_data"
    }
   ],
   "source": [
    "df = plot_dict(max_cifar10_resnet18_results, to_show=True)"
   ]
  },
  {
   "cell_type": "code",
   "execution_count": 97,
   "metadata": {},
   "outputs": [
    {
     "data": {
      "text/html": [
       "<div>\n",
       "<style scoped>\n",
       "    .dataframe tbody tr th:only-of-type {\n",
       "        vertical-align: middle;\n",
       "    }\n",
       "\n",
       "    .dataframe tbody tr th {\n",
       "        vertical-align: top;\n",
       "    }\n",
       "\n",
       "    .dataframe thead tr th {\n",
       "        text-align: left;\n",
       "    }\n",
       "\n",
       "    .dataframe thead tr:last-of-type th {\n",
       "        text-align: right;\n",
       "    }\n",
       "</style>\n",
       "<table border=\"1\" class=\"dataframe\">\n",
       "  <thead>\n",
       "    <tr>\n",
       "      <th></th>\n",
       "      <th colspan=\"2\" halign=\"left\">margin</th>\n",
       "      <th colspan=\"2\" halign=\"left\">percent</th>\n",
       "    </tr>\n",
       "    <tr>\n",
       "      <th></th>\n",
       "      <th>mean</th>\n",
       "      <th>std</th>\n",
       "      <th>mean</th>\n",
       "      <th>std</th>\n",
       "    </tr>\n",
       "    <tr>\n",
       "      <th>model_type</th>\n",
       "      <th></th>\n",
       "      <th></th>\n",
       "      <th></th>\n",
       "      <th></th>\n",
       "    </tr>\n",
       "  </thead>\n",
       "  <tbody>\n",
       "    <tr>\n",
       "      <th>anchors</th>\n",
       "      <td>0.116912</td>\n",
       "      <td>0.004452</td>\n",
       "      <td>1.0</td>\n",
       "      <td>0.0</td>\n",
       "    </tr>\n",
       "    <tr>\n",
       "      <th>stars</th>\n",
       "      <td>0.097228</td>\n",
       "      <td>0.002544</td>\n",
       "      <td>1.0</td>\n",
       "      <td>0.0</td>\n",
       "    </tr>\n",
       "  </tbody>\n",
       "</table>\n",
       "</div>"
      ],
      "text/plain": [
       "              margin           percent     \n",
       "                mean       std    mean  std\n",
       "model_type                                 \n",
       "anchors     0.116912  0.004452     1.0  0.0\n",
       "stars       0.097228  0.002544     1.0  0.0"
      ]
     },
     "metadata": {},
     "output_type": "display_data"
    }
   ],
   "source": [
    "df = plot_dict(max_cifar10_resnet18_results, to_show=True, drop_columns=[\"index\", \"dataset_name\", \"model_id\", \"split_name\"], group_aggregate_list=[\"model_type\"], query=\"percent == 1.00\")"
   ]
  },
  {
   "cell_type": "markdown",
   "metadata": {},
   "source": [
    "### Max"
   ]
  },
  {
   "cell_type": "code",
   "execution_count": 258,
   "metadata": {},
   "outputs": [
    {
     "name": "stdout",
     "output_type": "stream",
     "text": [
      "Loading existing results from ./max_cifar10_resnet18_results.pt\n",
      "Computing results for anchors_2oo0upw1_cifar10_p1\n"
     ]
    },
    {
     "name": "stderr",
     "output_type": "stream",
     "text": [
      "batch: 100%|██████████| 176/176 [00:51<00:00,  3.41it/s]\n"
     ]
    },
    {
     "name": "stdout",
     "output_type": "stream",
     "text": [
      "Computing results for anchors_3m2c3guk_cifar10_p1\n"
     ]
    },
    {
     "name": "stderr",
     "output_type": "stream",
     "text": [
      "batch: 100%|██████████| 176/176 [00:51<00:00,  3.39it/s]\n"
     ]
    },
    {
     "name": "stdout",
     "output_type": "stream",
     "text": [
      "Computing results for anchors_448kfne2_cifar10_p1\n"
     ]
    },
    {
     "name": "stderr",
     "output_type": "stream",
     "text": [
      "batch: 100%|██████████| 176/176 [00:51<00:00,  3.39it/s]\n"
     ]
    },
    {
     "name": "stdout",
     "output_type": "stream",
     "text": [
      "Computing results for anchors_52l22gc1_cifar10_p1\n"
     ]
    },
    {
     "name": "stderr",
     "output_type": "stream",
     "text": [
      "batch: 100%|██████████| 176/176 [00:52<00:00,  3.38it/s]\n"
     ]
    },
    {
     "name": "stdout",
     "output_type": "stream",
     "text": [
      "Computing results for anchors_5791j5is_cifar10_p1\n"
     ]
    },
    {
     "name": "stderr",
     "output_type": "stream",
     "text": [
      "batch: 100%|██████████| 176/176 [00:52<00:00,  3.38it/s]\n"
     ]
    },
    {
     "name": "stdout",
     "output_type": "stream",
     "text": [
      "Computing results for anchors_5hrwt8sd_cifar10_p1\n"
     ]
    },
    {
     "name": "stderr",
     "output_type": "stream",
     "text": [
      "batch: 100%|██████████| 176/176 [00:51<00:00,  3.39it/s]\n"
     ]
    },
    {
     "name": "stdout",
     "output_type": "stream",
     "text": [
      "Computing results for anchors_6ids7w54_cifar10_p1\n"
     ]
    },
    {
     "name": "stderr",
     "output_type": "stream",
     "text": [
      "batch: 100%|██████████| 176/176 [00:51<00:00,  3.39it/s]\n"
     ]
    },
    {
     "name": "stdout",
     "output_type": "stream",
     "text": [
      "Computing results for anchors_6kxd228s_cifar10_p1\n"
     ]
    },
    {
     "name": "stderr",
     "output_type": "stream",
     "text": [
      "batch: 100%|██████████| 176/176 [00:51<00:00,  3.39it/s]\n"
     ]
    },
    {
     "name": "stdout",
     "output_type": "stream",
     "text": [
      "Computing results for anchors_7sckybft_cifar10_p1\n"
     ]
    },
    {
     "name": "stderr",
     "output_type": "stream",
     "text": [
      "batch: 100%|██████████| 176/176 [00:51<00:00,  3.39it/s]\n"
     ]
    },
    {
     "name": "stdout",
     "output_type": "stream",
     "text": [
      "Computing results for anchors_7y4wdzel_cifar10_p1\n"
     ]
    },
    {
     "name": "stderr",
     "output_type": "stream",
     "text": [
      "batch: 100%|██████████| 176/176 [00:51<00:00,  3.39it/s]\n"
     ]
    },
    {
     "name": "stdout",
     "output_type": "stream",
     "text": [
      "Computing results for stars_6gps5q6c_cifar10_p1\n"
     ]
    },
    {
     "name": "stderr",
     "output_type": "stream",
     "text": [
      "batch: 100%|██████████| 176/176 [00:51<00:00,  3.39it/s]\n"
     ]
    },
    {
     "name": "stdout",
     "output_type": "stream",
     "text": [
      "Computing results for stars_82pxe1i8_cifar10_p1\n"
     ]
    },
    {
     "name": "stderr",
     "output_type": "stream",
     "text": [
      "batch: 100%|██████████| 176/176 [00:51<00:00,  3.39it/s]\n"
     ]
    },
    {
     "name": "stdout",
     "output_type": "stream",
     "text": [
      "Computing results for stars_8dirowph_cifar10_p1\n"
     ]
    },
    {
     "name": "stderr",
     "output_type": "stream",
     "text": [
      "batch: 100%|██████████| 176/176 [00:51<00:00,  3.39it/s]\n"
     ]
    },
    {
     "name": "stdout",
     "output_type": "stream",
     "text": [
      "Computing results for stars_bezgu0h7_cifar10_p1\n"
     ]
    },
    {
     "name": "stderr",
     "output_type": "stream",
     "text": [
      "batch: 100%|██████████| 176/176 [00:51<00:00,  3.39it/s]\n"
     ]
    },
    {
     "name": "stdout",
     "output_type": "stream",
     "text": [
      "Computing results for stars_by2vpp9d_cifar10_p1\n"
     ]
    },
    {
     "name": "stderr",
     "output_type": "stream",
     "text": [
      "batch: 100%|██████████| 176/176 [00:51<00:00,  3.39it/s]\n"
     ]
    },
    {
     "name": "stdout",
     "output_type": "stream",
     "text": [
      "Computing results for stars_h2qjwxrq_cifar10_p1\n"
     ]
    },
    {
     "name": "stderr",
     "output_type": "stream",
     "text": [
      "batch: 100%|██████████| 176/176 [00:51<00:00,  3.39it/s]\n"
     ]
    },
    {
     "name": "stdout",
     "output_type": "stream",
     "text": [
      "Computing results for stars_n5sjdrla_cifar10_p1\n"
     ]
    },
    {
     "name": "stderr",
     "output_type": "stream",
     "text": [
      "batch: 100%|██████████| 176/176 [00:51<00:00,  3.39it/s]\n"
     ]
    },
    {
     "name": "stdout",
     "output_type": "stream",
     "text": [
      "Computing results for stars_n8vpmpbj_cifar10_p1\n"
     ]
    },
    {
     "name": "stderr",
     "output_type": "stream",
     "text": [
      "batch: 100%|██████████| 176/176 [00:51<00:00,  3.39it/s]\n"
     ]
    },
    {
     "name": "stdout",
     "output_type": "stream",
     "text": [
      "Computing results for stars_nyolmhfc_cifar10_p1\n"
     ]
    },
    {
     "name": "stderr",
     "output_type": "stream",
     "text": [
      "batch: 100%|██████████| 176/176 [00:51<00:00,  3.39it/s]\n"
     ]
    },
    {
     "name": "stdout",
     "output_type": "stream",
     "text": [
      "Computing results for stars_wrvljast_cifar10_p1\n"
     ]
    },
    {
     "name": "stderr",
     "output_type": "stream",
     "text": [
      "batch: 100%|██████████| 176/176 [00:51<00:00,  3.39it/s]\n"
     ]
    }
   ],
   "source": [
    "cifar10_resnet18_res_path = \"./max_cifar10_resnet18_results.pt\"\n",
    "\n",
    "last_10_stars_cifar10_resnet18 = [path for path in stars_resnet18 if get_model_id(path) in last_10_stars]\n",
    "\n",
    "max_cifar10_resnet18_results = compute_results(\n",
    "    anchors_resnet18[:10] + last_10_stars_cifar10_resnet18,\n",
    "    # anchors_resnet18[:2] + last_10_stars_cifar10_resnet18[:2],\n",
    "    cifar10_train_dataloader,\n",
    "    cifar10_resnet18_res_path,\n",
    "    split_name=\"train\",\n",
    "    percent=1,\n",
    "    # percent=0.05,\n",
    "    load_model=get_resnet18_cifar,\n",
    "    # recompute_substring=\"p0\"\n",
    "    recompute_substring=None,\n",
    "    agg=\"max\"\n",
    ")"
   ]
  },
  {
   "cell_type": "code",
   "execution_count": 23,
   "metadata": {},
   "outputs": [],
   "source": [
    "max_cifar10_resnet18_res_path = \"./max_cifar10_resnet18_results.pt\"\n",
    "max_cifar10_resnet18_results = torch.load(max_cifar10_resnet18_res_path)"
   ]
  },
  {
   "cell_type": "code",
   "execution_count": 24,
   "metadata": {},
   "outputs": [
    {
     "data": {
      "text/html": [
       "<div>\n",
       "<style scoped>\n",
       "    .dataframe tbody tr th:only-of-type {\n",
       "        vertical-align: middle;\n",
       "    }\n",
       "\n",
       "    .dataframe tbody tr th {\n",
       "        vertical-align: top;\n",
       "    }\n",
       "\n",
       "    .dataframe thead th {\n",
       "        text-align: right;\n",
       "    }\n",
       "</style>\n",
       "<table border=\"1\" class=\"dataframe\">\n",
       "  <thead>\n",
       "    <tr style=\"text-align: right;\">\n",
       "      <th></th>\n",
       "      <th>margin</th>\n",
       "      <th>model_type</th>\n",
       "      <th>dataset_name</th>\n",
       "      <th>percent</th>\n",
       "      <th>model_id</th>\n",
       "      <th>split_name</th>\n",
       "    </tr>\n",
       "  </thead>\n",
       "  <tbody>\n",
       "    <tr>\n",
       "      <th>anchors_2oo0upw1_cifar10_p0.05</th>\n",
       "      <td>0.000104</td>\n",
       "      <td>anchors</td>\n",
       "      <td>cifar10</td>\n",
       "      <td>0.05</td>\n",
       "      <td>2oo0upw1</td>\n",
       "      <td>train</td>\n",
       "    </tr>\n",
       "    <tr>\n",
       "      <th>anchors_3m2c3guk_cifar10_p0.05</th>\n",
       "      <td>0.000104</td>\n",
       "      <td>anchors</td>\n",
       "      <td>cifar10</td>\n",
       "      <td>0.05</td>\n",
       "      <td>3m2c3guk</td>\n",
       "      <td>train</td>\n",
       "    </tr>\n",
       "    <tr>\n",
       "      <th>stars_6gps5q6c_cifar10_p0.05</th>\n",
       "      <td>0.000090</td>\n",
       "      <td>stars</td>\n",
       "      <td>cifar10</td>\n",
       "      <td>0.05</td>\n",
       "      <td>6gps5q6c</td>\n",
       "      <td>train</td>\n",
       "    </tr>\n",
       "    <tr>\n",
       "      <th>stars_82pxe1i8_cifar10_p0.05</th>\n",
       "      <td>0.000089</td>\n",
       "      <td>stars</td>\n",
       "      <td>cifar10</td>\n",
       "      <td>0.05</td>\n",
       "      <td>82pxe1i8</td>\n",
       "      <td>train</td>\n",
       "    </tr>\n",
       "    <tr>\n",
       "      <th>anchors_2oo0upw1_cifar10_p1</th>\n",
       "      <td>0.000105</td>\n",
       "      <td>anchors</td>\n",
       "      <td>cifar10</td>\n",
       "      <td>1.00</td>\n",
       "      <td>2oo0upw1</td>\n",
       "      <td>train</td>\n",
       "    </tr>\n",
       "    <tr>\n",
       "      <th>anchors_3m2c3guk_cifar10_p1</th>\n",
       "      <td>0.000104</td>\n",
       "      <td>anchors</td>\n",
       "      <td>cifar10</td>\n",
       "      <td>1.00</td>\n",
       "      <td>3m2c3guk</td>\n",
       "      <td>train</td>\n",
       "    </tr>\n",
       "    <tr>\n",
       "      <th>anchors_448kfne2_cifar10_p1</th>\n",
       "      <td>0.000100</td>\n",
       "      <td>anchors</td>\n",
       "      <td>cifar10</td>\n",
       "      <td>1.00</td>\n",
       "      <td>448kfne2</td>\n",
       "      <td>train</td>\n",
       "    </tr>\n",
       "    <tr>\n",
       "      <th>anchors_52l22gc1_cifar10_p1</th>\n",
       "      <td>0.000102</td>\n",
       "      <td>anchors</td>\n",
       "      <td>cifar10</td>\n",
       "      <td>1.00</td>\n",
       "      <td>52l22gc1</td>\n",
       "      <td>train</td>\n",
       "    </tr>\n",
       "    <tr>\n",
       "      <th>anchors_5791j5is_cifar10_p1</th>\n",
       "      <td>0.000104</td>\n",
       "      <td>anchors</td>\n",
       "      <td>cifar10</td>\n",
       "      <td>1.00</td>\n",
       "      <td>5791j5is</td>\n",
       "      <td>train</td>\n",
       "    </tr>\n",
       "    <tr>\n",
       "      <th>anchors_5hrwt8sd_cifar10_p1</th>\n",
       "      <td>0.000104</td>\n",
       "      <td>anchors</td>\n",
       "      <td>cifar10</td>\n",
       "      <td>1.00</td>\n",
       "      <td>5hrwt8sd</td>\n",
       "      <td>train</td>\n",
       "    </tr>\n",
       "    <tr>\n",
       "      <th>anchors_6ids7w54_cifar10_p1</th>\n",
       "      <td>0.000096</td>\n",
       "      <td>anchors</td>\n",
       "      <td>cifar10</td>\n",
       "      <td>1.00</td>\n",
       "      <td>6ids7w54</td>\n",
       "      <td>train</td>\n",
       "    </tr>\n",
       "    <tr>\n",
       "      <th>anchors_6kxd228s_cifar10_p1</th>\n",
       "      <td>0.000100</td>\n",
       "      <td>anchors</td>\n",
       "      <td>cifar10</td>\n",
       "      <td>1.00</td>\n",
       "      <td>6kxd228s</td>\n",
       "      <td>train</td>\n",
       "    </tr>\n",
       "    <tr>\n",
       "      <th>anchors_7sckybft_cifar10_p1</th>\n",
       "      <td>0.000107</td>\n",
       "      <td>anchors</td>\n",
       "      <td>cifar10</td>\n",
       "      <td>1.00</td>\n",
       "      <td>7sckybft</td>\n",
       "      <td>train</td>\n",
       "    </tr>\n",
       "    <tr>\n",
       "      <th>anchors_7y4wdzel_cifar10_p1</th>\n",
       "      <td>0.000110</td>\n",
       "      <td>anchors</td>\n",
       "      <td>cifar10</td>\n",
       "      <td>1.00</td>\n",
       "      <td>7y4wdzel</td>\n",
       "      <td>train</td>\n",
       "    </tr>\n",
       "    <tr>\n",
       "      <th>stars_6gps5q6c_cifar10_p1</th>\n",
       "      <td>0.000087</td>\n",
       "      <td>stars</td>\n",
       "      <td>cifar10</td>\n",
       "      <td>1.00</td>\n",
       "      <td>6gps5q6c</td>\n",
       "      <td>train</td>\n",
       "    </tr>\n",
       "    <tr>\n",
       "      <th>stars_82pxe1i8_cifar10_p1</th>\n",
       "      <td>0.000088</td>\n",
       "      <td>stars</td>\n",
       "      <td>cifar10</td>\n",
       "      <td>1.00</td>\n",
       "      <td>82pxe1i8</td>\n",
       "      <td>train</td>\n",
       "    </tr>\n",
       "    <tr>\n",
       "      <th>stars_8dirowph_cifar10_p1</th>\n",
       "      <td>0.000091</td>\n",
       "      <td>stars</td>\n",
       "      <td>cifar10</td>\n",
       "      <td>1.00</td>\n",
       "      <td>8dirowph</td>\n",
       "      <td>train</td>\n",
       "    </tr>\n",
       "    <tr>\n",
       "      <th>stars_bezgu0h7_cifar10_p1</th>\n",
       "      <td>0.000089</td>\n",
       "      <td>stars</td>\n",
       "      <td>cifar10</td>\n",
       "      <td>1.00</td>\n",
       "      <td>bezgu0h7</td>\n",
       "      <td>train</td>\n",
       "    </tr>\n",
       "    <tr>\n",
       "      <th>stars_by2vpp9d_cifar10_p1</th>\n",
       "      <td>0.000091</td>\n",
       "      <td>stars</td>\n",
       "      <td>cifar10</td>\n",
       "      <td>1.00</td>\n",
       "      <td>by2vpp9d</td>\n",
       "      <td>train</td>\n",
       "    </tr>\n",
       "    <tr>\n",
       "      <th>stars_h2qjwxrq_cifar10_p1</th>\n",
       "      <td>0.000090</td>\n",
       "      <td>stars</td>\n",
       "      <td>cifar10</td>\n",
       "      <td>1.00</td>\n",
       "      <td>h2qjwxrq</td>\n",
       "      <td>train</td>\n",
       "    </tr>\n",
       "    <tr>\n",
       "      <th>stars_n5sjdrla_cifar10_p1</th>\n",
       "      <td>0.000088</td>\n",
       "      <td>stars</td>\n",
       "      <td>cifar10</td>\n",
       "      <td>1.00</td>\n",
       "      <td>n5sjdrla</td>\n",
       "      <td>train</td>\n",
       "    </tr>\n",
       "    <tr>\n",
       "      <th>stars_n8vpmpbj_cifar10_p1</th>\n",
       "      <td>0.000087</td>\n",
       "      <td>stars</td>\n",
       "      <td>cifar10</td>\n",
       "      <td>1.00</td>\n",
       "      <td>n8vpmpbj</td>\n",
       "      <td>train</td>\n",
       "    </tr>\n",
       "    <tr>\n",
       "      <th>stars_nyolmhfc_cifar10_p1</th>\n",
       "      <td>0.000088</td>\n",
       "      <td>stars</td>\n",
       "      <td>cifar10</td>\n",
       "      <td>1.00</td>\n",
       "      <td>nyolmhfc</td>\n",
       "      <td>train</td>\n",
       "    </tr>\n",
       "    <tr>\n",
       "      <th>stars_wrvljast_cifar10_p1</th>\n",
       "      <td>0.000094</td>\n",
       "      <td>stars</td>\n",
       "      <td>cifar10</td>\n",
       "      <td>1.00</td>\n",
       "      <td>wrvljast</td>\n",
       "      <td>train</td>\n",
       "    </tr>\n",
       "  </tbody>\n",
       "</table>\n",
       "</div>"
      ],
      "text/plain": [
       "                                  margin model_type dataset_name  percent  \\\n",
       "anchors_2oo0upw1_cifar10_p0.05  0.000104    anchors      cifar10     0.05   \n",
       "anchors_3m2c3guk_cifar10_p0.05  0.000104    anchors      cifar10     0.05   \n",
       "stars_6gps5q6c_cifar10_p0.05    0.000090      stars      cifar10     0.05   \n",
       "stars_82pxe1i8_cifar10_p0.05    0.000089      stars      cifar10     0.05   \n",
       "anchors_2oo0upw1_cifar10_p1     0.000105    anchors      cifar10     1.00   \n",
       "anchors_3m2c3guk_cifar10_p1     0.000104    anchors      cifar10     1.00   \n",
       "anchors_448kfne2_cifar10_p1     0.000100    anchors      cifar10     1.00   \n",
       "anchors_52l22gc1_cifar10_p1     0.000102    anchors      cifar10     1.00   \n",
       "anchors_5791j5is_cifar10_p1     0.000104    anchors      cifar10     1.00   \n",
       "anchors_5hrwt8sd_cifar10_p1     0.000104    anchors      cifar10     1.00   \n",
       "anchors_6ids7w54_cifar10_p1     0.000096    anchors      cifar10     1.00   \n",
       "anchors_6kxd228s_cifar10_p1     0.000100    anchors      cifar10     1.00   \n",
       "anchors_7sckybft_cifar10_p1     0.000107    anchors      cifar10     1.00   \n",
       "anchors_7y4wdzel_cifar10_p1     0.000110    anchors      cifar10     1.00   \n",
       "stars_6gps5q6c_cifar10_p1       0.000087      stars      cifar10     1.00   \n",
       "stars_82pxe1i8_cifar10_p1       0.000088      stars      cifar10     1.00   \n",
       "stars_8dirowph_cifar10_p1       0.000091      stars      cifar10     1.00   \n",
       "stars_bezgu0h7_cifar10_p1       0.000089      stars      cifar10     1.00   \n",
       "stars_by2vpp9d_cifar10_p1       0.000091      stars      cifar10     1.00   \n",
       "stars_h2qjwxrq_cifar10_p1       0.000090      stars      cifar10     1.00   \n",
       "stars_n5sjdrla_cifar10_p1       0.000088      stars      cifar10     1.00   \n",
       "stars_n8vpmpbj_cifar10_p1       0.000087      stars      cifar10     1.00   \n",
       "stars_nyolmhfc_cifar10_p1       0.000088      stars      cifar10     1.00   \n",
       "stars_wrvljast_cifar10_p1       0.000094      stars      cifar10     1.00   \n",
       "\n",
       "                                model_id split_name  \n",
       "anchors_2oo0upw1_cifar10_p0.05  2oo0upw1      train  \n",
       "anchors_3m2c3guk_cifar10_p0.05  3m2c3guk      train  \n",
       "stars_6gps5q6c_cifar10_p0.05    6gps5q6c      train  \n",
       "stars_82pxe1i8_cifar10_p0.05    82pxe1i8      train  \n",
       "anchors_2oo0upw1_cifar10_p1     2oo0upw1      train  \n",
       "anchors_3m2c3guk_cifar10_p1     3m2c3guk      train  \n",
       "anchors_448kfne2_cifar10_p1     448kfne2      train  \n",
       "anchors_52l22gc1_cifar10_p1     52l22gc1      train  \n",
       "anchors_5791j5is_cifar10_p1     5791j5is      train  \n",
       "anchors_5hrwt8sd_cifar10_p1     5hrwt8sd      train  \n",
       "anchors_6ids7w54_cifar10_p1     6ids7w54      train  \n",
       "anchors_6kxd228s_cifar10_p1     6kxd228s      train  \n",
       "anchors_7sckybft_cifar10_p1     7sckybft      train  \n",
       "anchors_7y4wdzel_cifar10_p1     7y4wdzel      train  \n",
       "stars_6gps5q6c_cifar10_p1       6gps5q6c      train  \n",
       "stars_82pxe1i8_cifar10_p1       82pxe1i8      train  \n",
       "stars_8dirowph_cifar10_p1       8dirowph      train  \n",
       "stars_bezgu0h7_cifar10_p1       bezgu0h7      train  \n",
       "stars_by2vpp9d_cifar10_p1       by2vpp9d      train  \n",
       "stars_h2qjwxrq_cifar10_p1       h2qjwxrq      train  \n",
       "stars_n5sjdrla_cifar10_p1       n5sjdrla      train  \n",
       "stars_n8vpmpbj_cifar10_p1       n8vpmpbj      train  \n",
       "stars_nyolmhfc_cifar10_p1       nyolmhfc      train  \n",
       "stars_wrvljast_cifar10_p1       wrvljast      train  "
      ]
     },
     "metadata": {},
     "output_type": "display_data"
    }
   ],
   "source": [
    "df = plot_dict(max_cifar10_resnet18_results, to_show=True)"
   ]
  },
  {
   "cell_type": "code",
   "execution_count": 257,
   "metadata": {},
   "outputs": [
    {
     "data": {
      "text/html": [
       "<div>\n",
       "<style scoped>\n",
       "    .dataframe tbody tr th:only-of-type {\n",
       "        vertical-align: middle;\n",
       "    }\n",
       "\n",
       "    .dataframe tbody tr th {\n",
       "        vertical-align: top;\n",
       "    }\n",
       "\n",
       "    .dataframe thead tr th {\n",
       "        text-align: left;\n",
       "    }\n",
       "\n",
       "    .dataframe thead tr:last-of-type th {\n",
       "        text-align: right;\n",
       "    }\n",
       "</style>\n",
       "<table border=\"1\" class=\"dataframe\">\n",
       "  <thead>\n",
       "    <tr>\n",
       "      <th></th>\n",
       "      <th colspan=\"2\" halign=\"left\">margin</th>\n",
       "      <th colspan=\"2\" halign=\"left\">percent</th>\n",
       "    </tr>\n",
       "    <tr>\n",
       "      <th></th>\n",
       "      <th>mean</th>\n",
       "      <th>std</th>\n",
       "      <th>mean</th>\n",
       "      <th>std</th>\n",
       "    </tr>\n",
       "    <tr>\n",
       "      <th>model_type</th>\n",
       "      <th></th>\n",
       "      <th></th>\n",
       "      <th></th>\n",
       "      <th></th>\n",
       "    </tr>\n",
       "  </thead>\n",
       "  <tbody>\n",
       "    <tr>\n",
       "      <th>anchors</th>\n",
       "      <td>0.000104</td>\n",
       "      <td>7.450299e-08</td>\n",
       "      <td>0.05</td>\n",
       "      <td>0.0</td>\n",
       "    </tr>\n",
       "    <tr>\n",
       "      <th>stars</th>\n",
       "      <td>0.000090</td>\n",
       "      <td>4.076185e-07</td>\n",
       "      <td>0.05</td>\n",
       "      <td>0.0</td>\n",
       "    </tr>\n",
       "  </tbody>\n",
       "</table>\n",
       "</div>"
      ],
      "text/plain": [
       "              margin               percent     \n",
       "                mean           std    mean  std\n",
       "model_type                                     \n",
       "anchors     0.000104  7.450299e-08    0.05  0.0\n",
       "stars       0.000090  4.076185e-07    0.05  0.0"
      ]
     },
     "metadata": {},
     "output_type": "display_data"
    }
   ],
   "source": [
    "df = plot_dict(max_cifar10_resnet18_results, to_show=True, drop_columns=[\"index\", \"dataset_name\", \"model_id\", \"split_name\"], group_aggregate_list=[\"model_type\"], query=\"percent == 1.00\")\n",
    "# df = plot_dict(max_cifar10_resnet18_results, to_show=True, drop_columns=[\"index\", \"dataset_name\", \"model_id\", \"split_name\"], group_aggregate_list=[\"model_type\"], query=\"percent == 0.05\")"
   ]
  },
  {
   "cell_type": "markdown",
   "metadata": {},
   "source": [
    "### Mean"
   ]
  },
  {
   "cell_type": "code",
   "execution_count": null,
   "metadata": {},
   "outputs": [],
   "source": [
    "margin_on_dataloader(get_resnet18_cifar(anchors_resnet18[0]), get_resnet18_cifar(anchors_resnet18[1]), cifar10_train_dataloader, percent=0.10, device=\"cuda:0\")"
   ]
  },
  {
   "cell_type": "code",
   "execution_count": 236,
   "metadata": {},
   "outputs": [
    {
     "name": "stdout",
     "output_type": "stream",
     "text": [
      "Loading existing results from ./cifar10_resnet18_results.pt\n",
      "Computing results for anchors_2oo0upw1_cifar10_p1\n"
     ]
    },
    {
     "name": "stderr",
     "output_type": "stream",
     "text": [
      "batch: 100%|██████████| 176/176 [00:51<00:00,  3.41it/s]\n"
     ]
    },
    {
     "name": "stdout",
     "output_type": "stream",
     "text": [
      "Computing results for anchors_3m2c3guk_cifar10_p1\n"
     ]
    },
    {
     "name": "stderr",
     "output_type": "stream",
     "text": [
      "batch: 100%|██████████| 176/176 [00:51<00:00,  3.40it/s]\n"
     ]
    },
    {
     "name": "stdout",
     "output_type": "stream",
     "text": [
      "Computing results for anchors_448kfne2_cifar10_p1\n"
     ]
    },
    {
     "name": "stderr",
     "output_type": "stream",
     "text": [
      "batch: 100%|██████████| 176/176 [00:51<00:00,  3.39it/s]\n"
     ]
    },
    {
     "name": "stdout",
     "output_type": "stream",
     "text": [
      "Computing results for anchors_52l22gc1_cifar10_p1\n"
     ]
    },
    {
     "name": "stderr",
     "output_type": "stream",
     "text": [
      "batch: 100%|██████████| 176/176 [00:51<00:00,  3.39it/s]\n"
     ]
    },
    {
     "name": "stdout",
     "output_type": "stream",
     "text": [
      "Computing results for anchors_5791j5is_cifar10_p1\n"
     ]
    },
    {
     "name": "stderr",
     "output_type": "stream",
     "text": [
      "batch: 100%|██████████| 176/176 [00:51<00:00,  3.39it/s]\n"
     ]
    },
    {
     "name": "stdout",
     "output_type": "stream",
     "text": [
      "Computing results for anchors_5hrwt8sd_cifar10_p1\n"
     ]
    },
    {
     "name": "stderr",
     "output_type": "stream",
     "text": [
      "batch: 100%|██████████| 176/176 [00:51<00:00,  3.39it/s]\n"
     ]
    },
    {
     "name": "stdout",
     "output_type": "stream",
     "text": [
      "Computing results for anchors_6ids7w54_cifar10_p1\n"
     ]
    },
    {
     "name": "stderr",
     "output_type": "stream",
     "text": [
      "batch: 100%|██████████| 176/176 [00:51<00:00,  3.39it/s]\n"
     ]
    },
    {
     "name": "stdout",
     "output_type": "stream",
     "text": [
      "Computing results for anchors_6kxd228s_cifar10_p1\n"
     ]
    },
    {
     "name": "stderr",
     "output_type": "stream",
     "text": [
      "batch: 100%|██████████| 176/176 [00:51<00:00,  3.40it/s]\n"
     ]
    },
    {
     "name": "stdout",
     "output_type": "stream",
     "text": [
      "Computing results for anchors_7sckybft_cifar10_p1\n"
     ]
    },
    {
     "name": "stderr",
     "output_type": "stream",
     "text": [
      "batch: 100%|██████████| 176/176 [00:51<00:00,  3.39it/s]\n"
     ]
    },
    {
     "name": "stdout",
     "output_type": "stream",
     "text": [
      "Computing results for anchors_7y4wdzel_cifar10_p1\n"
     ]
    },
    {
     "name": "stderr",
     "output_type": "stream",
     "text": [
      "batch: 100%|██████████| 176/176 [00:51<00:00,  3.40it/s]\n"
     ]
    },
    {
     "name": "stdout",
     "output_type": "stream",
     "text": [
      "Computing results for stars_6gps5q6c_cifar10_p1\n"
     ]
    },
    {
     "name": "stderr",
     "output_type": "stream",
     "text": [
      "batch: 100%|██████████| 176/176 [00:51<00:00,  3.39it/s]\n"
     ]
    },
    {
     "name": "stdout",
     "output_type": "stream",
     "text": [
      "Computing results for stars_82pxe1i8_cifar10_p1\n"
     ]
    },
    {
     "name": "stderr",
     "output_type": "stream",
     "text": [
      "batch: 100%|██████████| 176/176 [00:51<00:00,  3.39it/s]\n"
     ]
    },
    {
     "name": "stdout",
     "output_type": "stream",
     "text": [
      "Computing results for stars_8dirowph_cifar10_p1\n"
     ]
    },
    {
     "name": "stderr",
     "output_type": "stream",
     "text": [
      "batch: 100%|██████████| 176/176 [00:51<00:00,  3.39it/s]\n"
     ]
    },
    {
     "name": "stdout",
     "output_type": "stream",
     "text": [
      "Computing results for stars_bezgu0h7_cifar10_p1\n"
     ]
    },
    {
     "name": "stderr",
     "output_type": "stream",
     "text": [
      "batch: 100%|██████████| 176/176 [00:51<00:00,  3.39it/s]\n"
     ]
    },
    {
     "name": "stdout",
     "output_type": "stream",
     "text": [
      "Computing results for stars_by2vpp9d_cifar10_p1\n"
     ]
    },
    {
     "name": "stderr",
     "output_type": "stream",
     "text": [
      "batch: 100%|██████████| 176/176 [00:51<00:00,  3.39it/s]\n"
     ]
    },
    {
     "name": "stdout",
     "output_type": "stream",
     "text": [
      "Computing results for stars_h2qjwxrq_cifar10_p1\n"
     ]
    },
    {
     "name": "stderr",
     "output_type": "stream",
     "text": [
      "batch: 100%|██████████| 176/176 [00:51<00:00,  3.39it/s]\n"
     ]
    },
    {
     "name": "stdout",
     "output_type": "stream",
     "text": [
      "Computing results for stars_n5sjdrla_cifar10_p1\n"
     ]
    },
    {
     "name": "stderr",
     "output_type": "stream",
     "text": [
      "batch: 100%|██████████| 176/176 [00:51<00:00,  3.39it/s]\n"
     ]
    },
    {
     "name": "stdout",
     "output_type": "stream",
     "text": [
      "Computing results for stars_n8vpmpbj_cifar10_p1\n"
     ]
    },
    {
     "name": "stderr",
     "output_type": "stream",
     "text": [
      "batch: 100%|██████████| 176/176 [00:51<00:00,  3.39it/s]\n"
     ]
    },
    {
     "name": "stdout",
     "output_type": "stream",
     "text": [
      "Computing results for stars_nyolmhfc_cifar10_p1\n"
     ]
    },
    {
     "name": "stderr",
     "output_type": "stream",
     "text": [
      "batch: 100%|██████████| 176/176 [00:51<00:00,  3.39it/s]\n"
     ]
    },
    {
     "name": "stdout",
     "output_type": "stream",
     "text": [
      "Computing results for stars_wrvljast_cifar10_p1\n"
     ]
    },
    {
     "name": "stderr",
     "output_type": "stream",
     "text": [
      "batch: 100%|██████████| 176/176 [00:51<00:00,  3.39it/s]\n"
     ]
    }
   ],
   "source": [
    "cifar10_resnet18_res_path = \"./cifar10_resnet18_results.pt\"\n",
    "\n",
    "last_10_stars_cifar10_resnet18 = [path for path in stars_resnet18 if get_model_id(path) in last_10_stars]\n",
    "\n",
    "cifar10_resnet18_results = compute_results(\n",
    "    anchors_resnet18[:10] + last_10_stars_cifar10_resnet18,\n",
    "    cifar10_train_dataloader,\n",
    "    cifar10_resnet18_res_path,\n",
    "    split_name=\"train\",\n",
    "    percent=1,\n",
    "    load_model=get_resnet18_cifar,\n",
    "    # recompute_substring=\"p0\"\n",
    "    recompute_substring=None\n",
    ")"
   ]
  },
  {
   "cell_type": "code",
   "execution_count": 241,
   "metadata": {},
   "outputs": [
    {
     "data": {
      "text/html": [
       "<div>\n",
       "<style scoped>\n",
       "    .dataframe tbody tr th:only-of-type {\n",
       "        vertical-align: middle;\n",
       "    }\n",
       "\n",
       "    .dataframe tbody tr th {\n",
       "        vertical-align: top;\n",
       "    }\n",
       "\n",
       "    .dataframe thead th {\n",
       "        text-align: right;\n",
       "    }\n",
       "</style>\n",
       "<table border=\"1\" class=\"dataframe\">\n",
       "  <thead>\n",
       "    <tr style=\"text-align: right;\">\n",
       "      <th></th>\n",
       "      <th>margin</th>\n",
       "      <th>model_type</th>\n",
       "      <th>dataset_name</th>\n",
       "      <th>percent</th>\n",
       "      <th>model_id</th>\n",
       "      <th>split_name</th>\n",
       "    </tr>\n",
       "  </thead>\n",
       "  <tbody>\n",
       "    <tr>\n",
       "      <th>anchors_2oo0upw1_cifar10_p0.05</th>\n",
       "      <td>0.000081</td>\n",
       "      <td>anchors</td>\n",
       "      <td>cifar10</td>\n",
       "      <td>0.05</td>\n",
       "      <td>2oo0upw1</td>\n",
       "      <td>NaN</td>\n",
       "    </tr>\n",
       "    <tr>\n",
       "      <th>anchors_3m2c3guk_cifar10_p0.05</th>\n",
       "      <td>0.000080</td>\n",
       "      <td>anchors</td>\n",
       "      <td>cifar10</td>\n",
       "      <td>0.05</td>\n",
       "      <td>3m2c3guk</td>\n",
       "      <td>NaN</td>\n",
       "    </tr>\n",
       "    <tr>\n",
       "      <th>stars_0eiwx0xx_cifar10_p0.05</th>\n",
       "      <td>0.000071</td>\n",
       "      <td>stars</td>\n",
       "      <td>cifar10</td>\n",
       "      <td>0.05</td>\n",
       "      <td>0eiwx0xx</td>\n",
       "      <td>NaN</td>\n",
       "    </tr>\n",
       "    <tr>\n",
       "      <th>stars_4s24tjof_cifar10_p0.05</th>\n",
       "      <td>0.000070</td>\n",
       "      <td>stars</td>\n",
       "      <td>cifar10</td>\n",
       "      <td>0.05</td>\n",
       "      <td>4s24tjof</td>\n",
       "      <td>NaN</td>\n",
       "    </tr>\n",
       "    <tr>\n",
       "      <th>anchors_2oo0upw1_cifar10_p1</th>\n",
       "      <td>0.000082</td>\n",
       "      <td>anchors</td>\n",
       "      <td>cifar10</td>\n",
       "      <td>1.00</td>\n",
       "      <td>2oo0upw1</td>\n",
       "      <td>train</td>\n",
       "    </tr>\n",
       "    <tr>\n",
       "      <th>anchors_3m2c3guk_cifar10_p1</th>\n",
       "      <td>0.000081</td>\n",
       "      <td>anchors</td>\n",
       "      <td>cifar10</td>\n",
       "      <td>1.00</td>\n",
       "      <td>3m2c3guk</td>\n",
       "      <td>train</td>\n",
       "    </tr>\n",
       "    <tr>\n",
       "      <th>anchors_448kfne2_cifar10_p1</th>\n",
       "      <td>0.000077</td>\n",
       "      <td>anchors</td>\n",
       "      <td>cifar10</td>\n",
       "      <td>1.00</td>\n",
       "      <td>448kfne2</td>\n",
       "      <td>train</td>\n",
       "    </tr>\n",
       "    <tr>\n",
       "      <th>anchors_52l22gc1_cifar10_p1</th>\n",
       "      <td>0.000080</td>\n",
       "      <td>anchors</td>\n",
       "      <td>cifar10</td>\n",
       "      <td>1.00</td>\n",
       "      <td>52l22gc1</td>\n",
       "      <td>train</td>\n",
       "    </tr>\n",
       "    <tr>\n",
       "      <th>anchors_5791j5is_cifar10_p1</th>\n",
       "      <td>0.000081</td>\n",
       "      <td>anchors</td>\n",
       "      <td>cifar10</td>\n",
       "      <td>1.00</td>\n",
       "      <td>5791j5is</td>\n",
       "      <td>train</td>\n",
       "    </tr>\n",
       "    <tr>\n",
       "      <th>anchors_5hrwt8sd_cifar10_p1</th>\n",
       "      <td>0.000083</td>\n",
       "      <td>anchors</td>\n",
       "      <td>cifar10</td>\n",
       "      <td>1.00</td>\n",
       "      <td>5hrwt8sd</td>\n",
       "      <td>train</td>\n",
       "    </tr>\n",
       "    <tr>\n",
       "      <th>anchors_6ids7w54_cifar10_p1</th>\n",
       "      <td>0.000075</td>\n",
       "      <td>anchors</td>\n",
       "      <td>cifar10</td>\n",
       "      <td>1.00</td>\n",
       "      <td>6ids7w54</td>\n",
       "      <td>train</td>\n",
       "    </tr>\n",
       "    <tr>\n",
       "      <th>anchors_6kxd228s_cifar10_p1</th>\n",
       "      <td>0.000078</td>\n",
       "      <td>anchors</td>\n",
       "      <td>cifar10</td>\n",
       "      <td>1.00</td>\n",
       "      <td>6kxd228s</td>\n",
       "      <td>train</td>\n",
       "    </tr>\n",
       "    <tr>\n",
       "      <th>anchors_7sckybft_cifar10_p1</th>\n",
       "      <td>0.000084</td>\n",
       "      <td>anchors</td>\n",
       "      <td>cifar10</td>\n",
       "      <td>1.00</td>\n",
       "      <td>7sckybft</td>\n",
       "      <td>train</td>\n",
       "    </tr>\n",
       "    <tr>\n",
       "      <th>anchors_7y4wdzel_cifar10_p1</th>\n",
       "      <td>0.000085</td>\n",
       "      <td>anchors</td>\n",
       "      <td>cifar10</td>\n",
       "      <td>1.00</td>\n",
       "      <td>7y4wdzel</td>\n",
       "      <td>train</td>\n",
       "    </tr>\n",
       "    <tr>\n",
       "      <th>stars_6gps5q6c_cifar10_p1</th>\n",
       "      <td>0.000067</td>\n",
       "      <td>stars</td>\n",
       "      <td>cifar10</td>\n",
       "      <td>1.00</td>\n",
       "      <td>6gps5q6c</td>\n",
       "      <td>train</td>\n",
       "    </tr>\n",
       "    <tr>\n",
       "      <th>stars_82pxe1i8_cifar10_p1</th>\n",
       "      <td>0.000068</td>\n",
       "      <td>stars</td>\n",
       "      <td>cifar10</td>\n",
       "      <td>1.00</td>\n",
       "      <td>82pxe1i8</td>\n",
       "      <td>train</td>\n",
       "    </tr>\n",
       "    <tr>\n",
       "      <th>stars_8dirowph_cifar10_p1</th>\n",
       "      <td>0.000071</td>\n",
       "      <td>stars</td>\n",
       "      <td>cifar10</td>\n",
       "      <td>1.00</td>\n",
       "      <td>8dirowph</td>\n",
       "      <td>train</td>\n",
       "    </tr>\n",
       "    <tr>\n",
       "      <th>stars_bezgu0h7_cifar10_p1</th>\n",
       "      <td>0.000070</td>\n",
       "      <td>stars</td>\n",
       "      <td>cifar10</td>\n",
       "      <td>1.00</td>\n",
       "      <td>bezgu0h7</td>\n",
       "      <td>train</td>\n",
       "    </tr>\n",
       "    <tr>\n",
       "      <th>stars_by2vpp9d_cifar10_p1</th>\n",
       "      <td>0.000071</td>\n",
       "      <td>stars</td>\n",
       "      <td>cifar10</td>\n",
       "      <td>1.00</td>\n",
       "      <td>by2vpp9d</td>\n",
       "      <td>train</td>\n",
       "    </tr>\n",
       "    <tr>\n",
       "      <th>stars_h2qjwxrq_cifar10_p1</th>\n",
       "      <td>0.000070</td>\n",
       "      <td>stars</td>\n",
       "      <td>cifar10</td>\n",
       "      <td>1.00</td>\n",
       "      <td>h2qjwxrq</td>\n",
       "      <td>train</td>\n",
       "    </tr>\n",
       "    <tr>\n",
       "      <th>stars_n5sjdrla_cifar10_p1</th>\n",
       "      <td>0.000069</td>\n",
       "      <td>stars</td>\n",
       "      <td>cifar10</td>\n",
       "      <td>1.00</td>\n",
       "      <td>n5sjdrla</td>\n",
       "      <td>train</td>\n",
       "    </tr>\n",
       "    <tr>\n",
       "      <th>stars_n8vpmpbj_cifar10_p1</th>\n",
       "      <td>0.000068</td>\n",
       "      <td>stars</td>\n",
       "      <td>cifar10</td>\n",
       "      <td>1.00</td>\n",
       "      <td>n8vpmpbj</td>\n",
       "      <td>train</td>\n",
       "    </tr>\n",
       "    <tr>\n",
       "      <th>stars_nyolmhfc_cifar10_p1</th>\n",
       "      <td>0.000070</td>\n",
       "      <td>stars</td>\n",
       "      <td>cifar10</td>\n",
       "      <td>1.00</td>\n",
       "      <td>nyolmhfc</td>\n",
       "      <td>train</td>\n",
       "    </tr>\n",
       "    <tr>\n",
       "      <th>stars_wrvljast_cifar10_p1</th>\n",
       "      <td>0.000073</td>\n",
       "      <td>stars</td>\n",
       "      <td>cifar10</td>\n",
       "      <td>1.00</td>\n",
       "      <td>wrvljast</td>\n",
       "      <td>train</td>\n",
       "    </tr>\n",
       "  </tbody>\n",
       "</table>\n",
       "</div>"
      ],
      "text/plain": [
       "                                  margin model_type dataset_name  percent  \\\n",
       "anchors_2oo0upw1_cifar10_p0.05  0.000081    anchors      cifar10     0.05   \n",
       "anchors_3m2c3guk_cifar10_p0.05  0.000080    anchors      cifar10     0.05   \n",
       "stars_0eiwx0xx_cifar10_p0.05    0.000071      stars      cifar10     0.05   \n",
       "stars_4s24tjof_cifar10_p0.05    0.000070      stars      cifar10     0.05   \n",
       "anchors_2oo0upw1_cifar10_p1     0.000082    anchors      cifar10     1.00   \n",
       "anchors_3m2c3guk_cifar10_p1     0.000081    anchors      cifar10     1.00   \n",
       "anchors_448kfne2_cifar10_p1     0.000077    anchors      cifar10     1.00   \n",
       "anchors_52l22gc1_cifar10_p1     0.000080    anchors      cifar10     1.00   \n",
       "anchors_5791j5is_cifar10_p1     0.000081    anchors      cifar10     1.00   \n",
       "anchors_5hrwt8sd_cifar10_p1     0.000083    anchors      cifar10     1.00   \n",
       "anchors_6ids7w54_cifar10_p1     0.000075    anchors      cifar10     1.00   \n",
       "anchors_6kxd228s_cifar10_p1     0.000078    anchors      cifar10     1.00   \n",
       "anchors_7sckybft_cifar10_p1     0.000084    anchors      cifar10     1.00   \n",
       "anchors_7y4wdzel_cifar10_p1     0.000085    anchors      cifar10     1.00   \n",
       "stars_6gps5q6c_cifar10_p1       0.000067      stars      cifar10     1.00   \n",
       "stars_82pxe1i8_cifar10_p1       0.000068      stars      cifar10     1.00   \n",
       "stars_8dirowph_cifar10_p1       0.000071      stars      cifar10     1.00   \n",
       "stars_bezgu0h7_cifar10_p1       0.000070      stars      cifar10     1.00   \n",
       "stars_by2vpp9d_cifar10_p1       0.000071      stars      cifar10     1.00   \n",
       "stars_h2qjwxrq_cifar10_p1       0.000070      stars      cifar10     1.00   \n",
       "stars_n5sjdrla_cifar10_p1       0.000069      stars      cifar10     1.00   \n",
       "stars_n8vpmpbj_cifar10_p1       0.000068      stars      cifar10     1.00   \n",
       "stars_nyolmhfc_cifar10_p1       0.000070      stars      cifar10     1.00   \n",
       "stars_wrvljast_cifar10_p1       0.000073      stars      cifar10     1.00   \n",
       "\n",
       "                                model_id split_name  \n",
       "anchors_2oo0upw1_cifar10_p0.05  2oo0upw1        NaN  \n",
       "anchors_3m2c3guk_cifar10_p0.05  3m2c3guk        NaN  \n",
       "stars_0eiwx0xx_cifar10_p0.05    0eiwx0xx        NaN  \n",
       "stars_4s24tjof_cifar10_p0.05    4s24tjof        NaN  \n",
       "anchors_2oo0upw1_cifar10_p1     2oo0upw1      train  \n",
       "anchors_3m2c3guk_cifar10_p1     3m2c3guk      train  \n",
       "anchors_448kfne2_cifar10_p1     448kfne2      train  \n",
       "anchors_52l22gc1_cifar10_p1     52l22gc1      train  \n",
       "anchors_5791j5is_cifar10_p1     5791j5is      train  \n",
       "anchors_5hrwt8sd_cifar10_p1     5hrwt8sd      train  \n",
       "anchors_6ids7w54_cifar10_p1     6ids7w54      train  \n",
       "anchors_6kxd228s_cifar10_p1     6kxd228s      train  \n",
       "anchors_7sckybft_cifar10_p1     7sckybft      train  \n",
       "anchors_7y4wdzel_cifar10_p1     7y4wdzel      train  \n",
       "stars_6gps5q6c_cifar10_p1       6gps5q6c      train  \n",
       "stars_82pxe1i8_cifar10_p1       82pxe1i8      train  \n",
       "stars_8dirowph_cifar10_p1       8dirowph      train  \n",
       "stars_bezgu0h7_cifar10_p1       bezgu0h7      train  \n",
       "stars_by2vpp9d_cifar10_p1       by2vpp9d      train  \n",
       "stars_h2qjwxrq_cifar10_p1       h2qjwxrq      train  \n",
       "stars_n5sjdrla_cifar10_p1       n5sjdrla      train  \n",
       "stars_n8vpmpbj_cifar10_p1       n8vpmpbj      train  \n",
       "stars_nyolmhfc_cifar10_p1       nyolmhfc      train  \n",
       "stars_wrvljast_cifar10_p1       wrvljast      train  "
      ]
     },
     "metadata": {},
     "output_type": "display_data"
    }
   ],
   "source": [
    "df = plot_dict(cifar10_resnet18_results, to_show=True)"
   ]
  },
  {
   "cell_type": "code",
   "execution_count": 246,
   "metadata": {},
   "outputs": [
    {
     "data": {
      "text/html": [
       "<div>\n",
       "<style scoped>\n",
       "    .dataframe tbody tr th:only-of-type {\n",
       "        vertical-align: middle;\n",
       "    }\n",
       "\n",
       "    .dataframe tbody tr th {\n",
       "        vertical-align: top;\n",
       "    }\n",
       "\n",
       "    .dataframe thead tr th {\n",
       "        text-align: left;\n",
       "    }\n",
       "\n",
       "    .dataframe thead tr:last-of-type th {\n",
       "        text-align: right;\n",
       "    }\n",
       "</style>\n",
       "<table border=\"1\" class=\"dataframe\">\n",
       "  <thead>\n",
       "    <tr>\n",
       "      <th></th>\n",
       "      <th colspan=\"2\" halign=\"left\">margin</th>\n",
       "      <th colspan=\"2\" halign=\"left\">percent</th>\n",
       "    </tr>\n",
       "    <tr>\n",
       "      <th></th>\n",
       "      <th>mean</th>\n",
       "      <th>std</th>\n",
       "      <th>mean</th>\n",
       "      <th>std</th>\n",
       "    </tr>\n",
       "    <tr>\n",
       "      <th>model_type</th>\n",
       "      <th></th>\n",
       "      <th></th>\n",
       "      <th></th>\n",
       "      <th></th>\n",
       "    </tr>\n",
       "  </thead>\n",
       "  <tbody>\n",
       "    <tr>\n",
       "      <th>anchors</th>\n",
       "      <td>0.000081</td>\n",
       "      <td>0.000003</td>\n",
       "      <td>1.0</td>\n",
       "      <td>0.0</td>\n",
       "    </tr>\n",
       "    <tr>\n",
       "      <th>stars</th>\n",
       "      <td>0.000070</td>\n",
       "      <td>0.000002</td>\n",
       "      <td>1.0</td>\n",
       "      <td>0.0</td>\n",
       "    </tr>\n",
       "  </tbody>\n",
       "</table>\n",
       "</div>"
      ],
      "text/plain": [
       "              margin           percent     \n",
       "                mean       std    mean  std\n",
       "model_type                                 \n",
       "anchors     0.000081  0.000003     1.0  0.0\n",
       "stars       0.000070  0.000002     1.0  0.0"
      ]
     },
     "metadata": {},
     "output_type": "display_data"
    }
   ],
   "source": [
    "df = plot_dict(cifar10_resnet18_results, to_show=True, drop_columns=[\"index\", \"dataset_name\", \"model_id\", \"split_name\"], group_aggregate_list=[\"model_type\"], query=\"percent == 1.00\")"
   ]
  },
  {
   "cell_type": "markdown",
   "metadata": {},
   "source": [
    "### For battle test"
   ]
  },
  {
   "cell_type": "code",
   "execution_count": 89,
   "metadata": {},
   "outputs": [
    {
     "name": "stdout",
     "output_type": "stream",
     "text": [
      "Loading existing results from ./battle_test_cifar10_resnet18_results.pt\n",
      "Computing results for anchors_2oo0upw1_cifar10_p0.05\n"
     ]
    },
    {
     "name": "stderr",
     "output_type": "stream",
     "text": [
      "batch:   1%|          | 1/176 [00:00<00:39,  4.43it/s]/scratch_local/arubinstein17-163577/starlight/starlight_env/lib/python3.9/site-packages/torch/autograd/__init__.py:266: UserWarning: Deterministic behavior was enabled with either `torch.use_deterministic_algorithms(True)` or `at::Context::setDeterministicAlgorithms(true)`, but this operation is not deterministic because it uses CuBLAS and you have CUDA >= 10.2. To enable deterministic behavior in this case, you must set an environment variable before running your PyTorch application: CUBLAS_WORKSPACE_CONFIG=:4096:8 or CUBLAS_WORKSPACE_CONFIG=:16:8. For more information, go to https://docs.nvidia.com/cuda/cublas/index.html#cublasApi_reproducibility (Triggered internally at ../aten/src/ATen/Context.cpp:164.)\n",
      "  Variable._execution_engine.run_backward(  # Calls into the C++ engine to run the backward pass\n",
      "batch: 100%|██████████| 176/176 [00:04<00:00, 36.41it/s]\n"
     ]
    },
    {
     "name": "stdout",
     "output_type": "stream",
     "text": [
      "Computing results for anchors_3m2c3guk_cifar10_p0.05\n"
     ]
    },
    {
     "name": "stderr",
     "output_type": "stream",
     "text": [
      "batch: 100%|██████████| 176/176 [00:04<00:00, 36.85it/s]\n"
     ]
    },
    {
     "name": "stdout",
     "output_type": "stream",
     "text": [
      "Computing results for stars_0eiwx0xx_cifar10_p0.05\n"
     ]
    },
    {
     "name": "stderr",
     "output_type": "stream",
     "text": [
      "batch: 100%|██████████| 176/176 [00:05<00:00, 34.84it/s]\n"
     ]
    },
    {
     "name": "stdout",
     "output_type": "stream",
     "text": [
      "Computing results for stars_4s24tjof_cifar10_p0.05\n"
     ]
    },
    {
     "name": "stderr",
     "output_type": "stream",
     "text": [
      "batch: 100%|██████████| 176/176 [00:04<00:00, 36.62it/s]\n"
     ]
    }
   ],
   "source": [
    "cifar10_resnet18_res_path = \"./battle_test_cifar10_resnet18_results.pt\"\n",
    "\n",
    "last_10_stars_cifar10_resnet18 = [path for path in stars_resnet18 if get_model_id(path) in last_10_stars]\n",
    "\n",
    "cifar10_resnet18_results = compute_results(\n",
    "    anchors_resnet18[:2] + stars_resnet18[:2],\n",
    "    cifar10_train_dataloader,\n",
    "    cifar10_resnet18_res_path,\n",
    "    split_name=\"train\",\n",
    "    percent=0.05,\n",
    "    load_model=get_resnet18_cifar,\n",
    "    recompute_substring=\"p0\",\n",
    "    # recompute_substring=None,\n",
    "    # agg=\"max\"\n",
    "    # agg=\"min_to_pred\"\n",
    "    agg=\"max_first\"\n",
    ")"
   ]
  },
  {
   "cell_type": "code",
   "execution_count": 90,
   "metadata": {},
   "outputs": [
    {
     "data": {
      "text/html": [
       "<div>\n",
       "<style scoped>\n",
       "    .dataframe tbody tr th:only-of-type {\n",
       "        vertical-align: middle;\n",
       "    }\n",
       "\n",
       "    .dataframe tbody tr th {\n",
       "        vertical-align: top;\n",
       "    }\n",
       "\n",
       "    .dataframe thead th {\n",
       "        text-align: right;\n",
       "    }\n",
       "</style>\n",
       "<table border=\"1\" class=\"dataframe\">\n",
       "  <thead>\n",
       "    <tr style=\"text-align: right;\">\n",
       "      <th></th>\n",
       "      <th>margin</th>\n",
       "      <th>model_type</th>\n",
       "      <th>dataset_name</th>\n",
       "      <th>percent</th>\n",
       "      <th>model_id</th>\n",
       "      <th>split_name</th>\n",
       "    </tr>\n",
       "  </thead>\n",
       "  <tbody>\n",
       "    <tr>\n",
       "      <th>anchors_2oo0upw1_cifar10_p0.05</th>\n",
       "      <td>0.000357</td>\n",
       "      <td>anchors</td>\n",
       "      <td>cifar10</td>\n",
       "      <td>0.05</td>\n",
       "      <td>2oo0upw1</td>\n",
       "      <td>train</td>\n",
       "    </tr>\n",
       "    <tr>\n",
       "      <th>anchors_3m2c3guk_cifar10_p0.05</th>\n",
       "      <td>0.000352</td>\n",
       "      <td>anchors</td>\n",
       "      <td>cifar10</td>\n",
       "      <td>0.05</td>\n",
       "      <td>3m2c3guk</td>\n",
       "      <td>train</td>\n",
       "    </tr>\n",
       "    <tr>\n",
       "      <th>stars_0eiwx0xx_cifar10_p0.05</th>\n",
       "      <td>0.000305</td>\n",
       "      <td>stars</td>\n",
       "      <td>cifar10</td>\n",
       "      <td>0.05</td>\n",
       "      <td>0eiwx0xx</td>\n",
       "      <td>train</td>\n",
       "    </tr>\n",
       "    <tr>\n",
       "      <th>stars_4s24tjof_cifar10_p0.05</th>\n",
       "      <td>0.000296</td>\n",
       "      <td>stars</td>\n",
       "      <td>cifar10</td>\n",
       "      <td>0.05</td>\n",
       "      <td>4s24tjof</td>\n",
       "      <td>train</td>\n",
       "    </tr>\n",
       "  </tbody>\n",
       "</table>\n",
       "</div>"
      ],
      "text/plain": [
       "                                  margin model_type dataset_name  percent  \\\n",
       "anchors_2oo0upw1_cifar10_p0.05  0.000357    anchors      cifar10     0.05   \n",
       "anchors_3m2c3guk_cifar10_p0.05  0.000352    anchors      cifar10     0.05   \n",
       "stars_0eiwx0xx_cifar10_p0.05    0.000305      stars      cifar10     0.05   \n",
       "stars_4s24tjof_cifar10_p0.05    0.000296      stars      cifar10     0.05   \n",
       "\n",
       "                                model_id split_name  \n",
       "anchors_2oo0upw1_cifar10_p0.05  2oo0upw1      train  \n",
       "anchors_3m2c3guk_cifar10_p0.05  3m2c3guk      train  \n",
       "stars_0eiwx0xx_cifar10_p0.05    0eiwx0xx      train  \n",
       "stars_4s24tjof_cifar10_p0.05    4s24tjof      train  "
      ]
     },
     "metadata": {},
     "output_type": "display_data"
    }
   ],
   "source": [
    "df = plot_dict(cifar10_resnet18_results, to_show=True)"
   ]
  },
  {
   "cell_type": "code",
   "execution_count": 8,
   "metadata": {},
   "outputs": [
    {
     "ename": "KeyError",
     "evalue": "\"['train'] not found in axis\"",
     "output_type": "error",
     "traceback": [
      "\u001b[0;31m---------------------------------------------------------------------------\u001b[0m",
      "\u001b[0;31mKeyError\u001b[0m                                  Traceback (most recent call last)",
      "Cell \u001b[0;32mIn[8], line 1\u001b[0m\n\u001b[0;32m----> 1\u001b[0m df \u001b[38;5;241m=\u001b[39m \u001b[43mplot_dict\u001b[49m\u001b[43m(\u001b[49m\u001b[43mcifar10_resnet18_results\u001b[49m\u001b[43m,\u001b[49m\u001b[43m \u001b[49m\u001b[43mto_show\u001b[49m\u001b[38;5;241;43m=\u001b[39;49m\u001b[38;5;28;43;01mTrue\u001b[39;49;00m\u001b[43m,\u001b[49m\u001b[43m \u001b[49m\u001b[43mdrop_columns\u001b[49m\u001b[38;5;241;43m=\u001b[39;49m\u001b[43m[\u001b[49m\u001b[38;5;124;43m\"\u001b[39;49m\u001b[38;5;124;43mindex\u001b[39;49m\u001b[38;5;124;43m\"\u001b[39;49m\u001b[43m,\u001b[49m\u001b[43m \u001b[49m\u001b[38;5;124;43m\"\u001b[39;49m\u001b[38;5;124;43mdataset_name\u001b[39;49m\u001b[38;5;124;43m\"\u001b[39;49m\u001b[43m,\u001b[49m\u001b[43m \u001b[49m\u001b[38;5;124;43m\"\u001b[39;49m\u001b[38;5;124;43mmodel_id\u001b[39;49m\u001b[38;5;124;43m\"\u001b[39;49m\u001b[43m,\u001b[49m\u001b[43m \u001b[49m\u001b[38;5;124;43m\"\u001b[39;49m\u001b[38;5;124;43mtrain\u001b[39;49m\u001b[38;5;124;43m\"\u001b[39;49m\u001b[43m]\u001b[49m\u001b[43m,\u001b[49m\u001b[43m \u001b[49m\u001b[43mgroup_aggregate_list\u001b[49m\u001b[38;5;241;43m=\u001b[39;49m\u001b[43m[\u001b[49m\u001b[38;5;124;43m\"\u001b[39;49m\u001b[38;5;124;43mmodel_type\u001b[39;49m\u001b[38;5;124;43m\"\u001b[39;49m\u001b[43m]\u001b[49m\u001b[43m,\u001b[49m\u001b[43m \u001b[49m\u001b[43mquery\u001b[49m\u001b[38;5;241;43m=\u001b[39;49m\u001b[38;5;124;43m\"\u001b[39;49m\u001b[38;5;124;43mmodel_type == \u001b[39;49m\u001b[38;5;124;43m'\u001b[39;49m\u001b[38;5;124;43manchors\u001b[39;49m\u001b[38;5;124;43m'\u001b[39;49m\u001b[38;5;124;43m | model_id in [\u001b[39;49m\u001b[38;5;124;43m'\u001b[39;49m\u001b[38;5;124;43m0eiwx0xx\u001b[39;49m\u001b[38;5;124;43m'\u001b[39;49m\u001b[38;5;124;43m]\u001b[39;49m\u001b[38;5;124;43m\"\u001b[39;49m\u001b[43m)\u001b[49m\n",
      "Cell \u001b[0;32mIn[3], line 264\u001b[0m, in \u001b[0;36mplot_dict\u001b[0;34m(res, to_show, filter_dict, drop_columns, group_aggregate_list, query)\u001b[0m\n\u001b[1;32m    262\u001b[0m         df\u001b[38;5;241m.\u001b[39mreset_index(drop\u001b[38;5;241m=\u001b[39m\u001b[38;5;28;01mTrue\u001b[39;00m, inplace\u001b[38;5;241m=\u001b[39m\u001b[38;5;28;01mTrue\u001b[39;00m)\n\u001b[1;32m    263\u001b[0m     \u001b[38;5;28;01melse\u001b[39;00m:\n\u001b[0;32m--> 264\u001b[0m         df \u001b[38;5;241m=\u001b[39m \u001b[43mdf\u001b[49m\u001b[38;5;241;43m.\u001b[39;49m\u001b[43mdrop\u001b[49m\u001b[43m(\u001b[49m\u001b[43mcolumn_name\u001b[49m\u001b[43m,\u001b[49m\u001b[43m \u001b[49m\u001b[43maxis\u001b[49m\u001b[38;5;241;43m=\u001b[39;49m\u001b[38;5;241;43m1\u001b[39;49m\u001b[43m)\u001b[49m\n\u001b[1;32m    266\u001b[0m \u001b[38;5;28;01mfor\u001b[39;00m new_index \u001b[38;5;129;01min\u001b[39;00m group_aggregate_list:\n\u001b[1;32m    267\u001b[0m     df \u001b[38;5;241m=\u001b[39m df\u001b[38;5;241m.\u001b[39mgroupby(new_index)\u001b[38;5;241m.\u001b[39magg([(\u001b[38;5;124mf\u001b[39m\u001b[38;5;124m'\u001b[39m\u001b[38;5;124mmean\u001b[39m\u001b[38;5;124m'\u001b[39m, \u001b[38;5;124m'\u001b[39m\u001b[38;5;124mmean\u001b[39m\u001b[38;5;124m'\u001b[39m), (\u001b[38;5;124mf\u001b[39m\u001b[38;5;124m'\u001b[39m\u001b[38;5;124mstd\u001b[39m\u001b[38;5;124m'\u001b[39m, \u001b[38;5;124m'\u001b[39m\u001b[38;5;124mstd\u001b[39m\u001b[38;5;124m'\u001b[39m)])\n",
      "File \u001b[0;32m/scratch_local/arubinstein17-163577/starlight/starlight_env/lib/python3.9/site-packages/pandas/core/frame.py:5568\u001b[0m, in \u001b[0;36mDataFrame.drop\u001b[0;34m(self, labels, axis, index, columns, level, inplace, errors)\u001b[0m\n\u001b[1;32m   5420\u001b[0m \u001b[38;5;28;01mdef\u001b[39;00m \u001b[38;5;21mdrop\u001b[39m(\n\u001b[1;32m   5421\u001b[0m     \u001b[38;5;28mself\u001b[39m,\n\u001b[1;32m   5422\u001b[0m     labels: IndexLabel \u001b[38;5;241m|\u001b[39m \u001b[38;5;28;01mNone\u001b[39;00m \u001b[38;5;241m=\u001b[39m \u001b[38;5;28;01mNone\u001b[39;00m,\n\u001b[0;32m   (...)\u001b[0m\n\u001b[1;32m   5429\u001b[0m     errors: IgnoreRaise \u001b[38;5;241m=\u001b[39m \u001b[38;5;124m\"\u001b[39m\u001b[38;5;124mraise\u001b[39m\u001b[38;5;124m\"\u001b[39m,\n\u001b[1;32m   5430\u001b[0m ) \u001b[38;5;241m-\u001b[39m\u001b[38;5;241m>\u001b[39m DataFrame \u001b[38;5;241m|\u001b[39m \u001b[38;5;28;01mNone\u001b[39;00m:\n\u001b[1;32m   5431\u001b[0m \u001b[38;5;250m    \u001b[39m\u001b[38;5;124;03m\"\"\"\u001b[39;00m\n\u001b[1;32m   5432\u001b[0m \u001b[38;5;124;03m    Drop specified labels from rows or columns.\u001b[39;00m\n\u001b[1;32m   5433\u001b[0m \n\u001b[0;32m   (...)\u001b[0m\n\u001b[1;32m   5566\u001b[0m \u001b[38;5;124;03m            weight  1.0     0.8\u001b[39;00m\n\u001b[1;32m   5567\u001b[0m \u001b[38;5;124;03m    \"\"\"\u001b[39;00m\n\u001b[0;32m-> 5568\u001b[0m     \u001b[38;5;28;01mreturn\u001b[39;00m \u001b[38;5;28;43msuper\u001b[39;49m\u001b[43m(\u001b[49m\u001b[43m)\u001b[49m\u001b[38;5;241;43m.\u001b[39;49m\u001b[43mdrop\u001b[49m\u001b[43m(\u001b[49m\n\u001b[1;32m   5569\u001b[0m \u001b[43m        \u001b[49m\u001b[43mlabels\u001b[49m\u001b[38;5;241;43m=\u001b[39;49m\u001b[43mlabels\u001b[49m\u001b[43m,\u001b[49m\n\u001b[1;32m   5570\u001b[0m \u001b[43m        \u001b[49m\u001b[43maxis\u001b[49m\u001b[38;5;241;43m=\u001b[39;49m\u001b[43maxis\u001b[49m\u001b[43m,\u001b[49m\n\u001b[1;32m   5571\u001b[0m \u001b[43m        \u001b[49m\u001b[43mindex\u001b[49m\u001b[38;5;241;43m=\u001b[39;49m\u001b[43mindex\u001b[49m\u001b[43m,\u001b[49m\n\u001b[1;32m   5572\u001b[0m \u001b[43m        \u001b[49m\u001b[43mcolumns\u001b[49m\u001b[38;5;241;43m=\u001b[39;49m\u001b[43mcolumns\u001b[49m\u001b[43m,\u001b[49m\n\u001b[1;32m   5573\u001b[0m \u001b[43m        \u001b[49m\u001b[43mlevel\u001b[49m\u001b[38;5;241;43m=\u001b[39;49m\u001b[43mlevel\u001b[49m\u001b[43m,\u001b[49m\n\u001b[1;32m   5574\u001b[0m \u001b[43m        \u001b[49m\u001b[43minplace\u001b[49m\u001b[38;5;241;43m=\u001b[39;49m\u001b[43minplace\u001b[49m\u001b[43m,\u001b[49m\n\u001b[1;32m   5575\u001b[0m \u001b[43m        \u001b[49m\u001b[43merrors\u001b[49m\u001b[38;5;241;43m=\u001b[39;49m\u001b[43merrors\u001b[49m\u001b[43m,\u001b[49m\n\u001b[1;32m   5576\u001b[0m \u001b[43m    \u001b[49m\u001b[43m)\u001b[49m\n",
      "File \u001b[0;32m/scratch_local/arubinstein17-163577/starlight/starlight_env/lib/python3.9/site-packages/pandas/core/generic.py:4785\u001b[0m, in \u001b[0;36mNDFrame.drop\u001b[0;34m(self, labels, axis, index, columns, level, inplace, errors)\u001b[0m\n\u001b[1;32m   4783\u001b[0m \u001b[38;5;28;01mfor\u001b[39;00m axis, labels \u001b[38;5;129;01min\u001b[39;00m axes\u001b[38;5;241m.\u001b[39mitems():\n\u001b[1;32m   4784\u001b[0m     \u001b[38;5;28;01mif\u001b[39;00m labels \u001b[38;5;129;01mis\u001b[39;00m \u001b[38;5;129;01mnot\u001b[39;00m \u001b[38;5;28;01mNone\u001b[39;00m:\n\u001b[0;32m-> 4785\u001b[0m         obj \u001b[38;5;241m=\u001b[39m \u001b[43mobj\u001b[49m\u001b[38;5;241;43m.\u001b[39;49m\u001b[43m_drop_axis\u001b[49m\u001b[43m(\u001b[49m\u001b[43mlabels\u001b[49m\u001b[43m,\u001b[49m\u001b[43m \u001b[49m\u001b[43maxis\u001b[49m\u001b[43m,\u001b[49m\u001b[43m \u001b[49m\u001b[43mlevel\u001b[49m\u001b[38;5;241;43m=\u001b[39;49m\u001b[43mlevel\u001b[49m\u001b[43m,\u001b[49m\u001b[43m \u001b[49m\u001b[43merrors\u001b[49m\u001b[38;5;241;43m=\u001b[39;49m\u001b[43merrors\u001b[49m\u001b[43m)\u001b[49m\n\u001b[1;32m   4787\u001b[0m \u001b[38;5;28;01mif\u001b[39;00m inplace:\n\u001b[1;32m   4788\u001b[0m     \u001b[38;5;28mself\u001b[39m\u001b[38;5;241m.\u001b[39m_update_inplace(obj)\n",
      "File \u001b[0;32m/scratch_local/arubinstein17-163577/starlight/starlight_env/lib/python3.9/site-packages/pandas/core/generic.py:4827\u001b[0m, in \u001b[0;36mNDFrame._drop_axis\u001b[0;34m(self, labels, axis, level, errors, only_slice)\u001b[0m\n\u001b[1;32m   4825\u001b[0m         new_axis \u001b[38;5;241m=\u001b[39m axis\u001b[38;5;241m.\u001b[39mdrop(labels, level\u001b[38;5;241m=\u001b[39mlevel, errors\u001b[38;5;241m=\u001b[39merrors)\n\u001b[1;32m   4826\u001b[0m     \u001b[38;5;28;01melse\u001b[39;00m:\n\u001b[0;32m-> 4827\u001b[0m         new_axis \u001b[38;5;241m=\u001b[39m \u001b[43maxis\u001b[49m\u001b[38;5;241;43m.\u001b[39;49m\u001b[43mdrop\u001b[49m\u001b[43m(\u001b[49m\u001b[43mlabels\u001b[49m\u001b[43m,\u001b[49m\u001b[43m \u001b[49m\u001b[43merrors\u001b[49m\u001b[38;5;241;43m=\u001b[39;49m\u001b[43merrors\u001b[49m\u001b[43m)\u001b[49m\n\u001b[1;32m   4828\u001b[0m     indexer \u001b[38;5;241m=\u001b[39m axis\u001b[38;5;241m.\u001b[39mget_indexer(new_axis)\n\u001b[1;32m   4830\u001b[0m \u001b[38;5;66;03m# Case for non-unique axis\u001b[39;00m\n\u001b[1;32m   4831\u001b[0m \u001b[38;5;28;01melse\u001b[39;00m:\n",
      "File \u001b[0;32m/scratch_local/arubinstein17-163577/starlight/starlight_env/lib/python3.9/site-packages/pandas/core/indexes/base.py:7070\u001b[0m, in \u001b[0;36mIndex.drop\u001b[0;34m(self, labels, errors)\u001b[0m\n\u001b[1;32m   7068\u001b[0m \u001b[38;5;28;01mif\u001b[39;00m mask\u001b[38;5;241m.\u001b[39many():\n\u001b[1;32m   7069\u001b[0m     \u001b[38;5;28;01mif\u001b[39;00m errors \u001b[38;5;241m!=\u001b[39m \u001b[38;5;124m\"\u001b[39m\u001b[38;5;124mignore\u001b[39m\u001b[38;5;124m\"\u001b[39m:\n\u001b[0;32m-> 7070\u001b[0m         \u001b[38;5;28;01mraise\u001b[39;00m \u001b[38;5;167;01mKeyError\u001b[39;00m(\u001b[38;5;124mf\u001b[39m\u001b[38;5;124m\"\u001b[39m\u001b[38;5;132;01m{\u001b[39;00mlabels[mask]\u001b[38;5;241m.\u001b[39mtolist()\u001b[38;5;132;01m}\u001b[39;00m\u001b[38;5;124m not found in axis\u001b[39m\u001b[38;5;124m\"\u001b[39m)\n\u001b[1;32m   7071\u001b[0m     indexer \u001b[38;5;241m=\u001b[39m indexer[\u001b[38;5;241m~\u001b[39mmask]\n\u001b[1;32m   7072\u001b[0m \u001b[38;5;28;01mreturn\u001b[39;00m \u001b[38;5;28mself\u001b[39m\u001b[38;5;241m.\u001b[39mdelete(indexer)\n",
      "\u001b[0;31mKeyError\u001b[0m: \"['train'] not found in axis\""
     ]
    }
   ],
   "source": [
    "df = plot_dict(cifar10_resnet18_results, to_show=True, drop_columns=[\"index\", \"dataset_name\", \"model_id\", \"train\"], group_aggregate_list=[\"model_type\"], query=\"model_type == 'anchors' | model_id in ['0eiwx0xx']\")"
   ]
  },
  {
   "cell_type": "code",
   "execution_count": 209,
   "metadata": {},
   "outputs": [
    {
     "data": {
      "text/html": [
       "<div>\n",
       "<style scoped>\n",
       "    .dataframe tbody tr th:only-of-type {\n",
       "        vertical-align: middle;\n",
       "    }\n",
       "\n",
       "    .dataframe tbody tr th {\n",
       "        vertical-align: top;\n",
       "    }\n",
       "\n",
       "    .dataframe thead tr th {\n",
       "        text-align: left;\n",
       "    }\n",
       "\n",
       "    .dataframe thead tr:last-of-type th {\n",
       "        text-align: right;\n",
       "    }\n",
       "</style>\n",
       "<table border=\"1\" class=\"dataframe\">\n",
       "  <thead>\n",
       "    <tr>\n",
       "      <th></th>\n",
       "      <th colspan=\"2\" halign=\"left\">margin</th>\n",
       "      <th colspan=\"2\" halign=\"left\">percent</th>\n",
       "    </tr>\n",
       "    <tr>\n",
       "      <th></th>\n",
       "      <th>mean</th>\n",
       "      <th>std</th>\n",
       "      <th>mean</th>\n",
       "      <th>std</th>\n",
       "    </tr>\n",
       "    <tr>\n",
       "      <th>model_type</th>\n",
       "      <th></th>\n",
       "      <th></th>\n",
       "      <th></th>\n",
       "      <th></th>\n",
       "    </tr>\n",
       "  </thead>\n",
       "  <tbody>\n",
       "    <tr>\n",
       "      <th>anchors</th>\n",
       "      <td>0.000081</td>\n",
       "      <td>7.595591e-07</td>\n",
       "      <td>0.05</td>\n",
       "      <td>0.0</td>\n",
       "    </tr>\n",
       "    <tr>\n",
       "      <th>stars</th>\n",
       "      <td>0.000071</td>\n",
       "      <td>NaN</td>\n",
       "      <td>0.05</td>\n",
       "      <td>NaN</td>\n",
       "    </tr>\n",
       "  </tbody>\n",
       "</table>\n",
       "</div>"
      ],
      "text/plain": [
       "              margin               percent     \n",
       "                mean           std    mean  std\n",
       "model_type                                     \n",
       "anchors     0.000081  7.595591e-07    0.05  0.0\n",
       "stars       0.000071           NaN    0.05  NaN"
      ]
     },
     "metadata": {},
     "output_type": "display_data"
    }
   ],
   "source": [
    "# df = plot_dict(cifar10_resnet18_results, to_show=True, drop_columns=[\"index\", \"dataset_name\", \"model_id\"], group_aggregate_list=[\"model_type\"], query=\"model_type == 'anchors' | model_id in ['0eiwx0xx']\")"
   ]
  },
  {
   "cell_type": "markdown",
   "metadata": {},
   "source": [
    "# Save df"
   ]
  },
  {
   "cell_type": "code",
   "execution_count": 10,
   "metadata": {},
   "outputs": [],
   "source": [
    "df.to_csv(\"tmp.csv\")"
   ]
  }
 ],
 "metadata": {
  "kernelspec": {
   "display_name": "Python 3",
   "language": "python",
   "name": "python3"
  },
  "language_info": {
   "codemirror_mode": {
    "name": "ipython",
    "version": 3
   },
   "file_extension": ".py",
   "mimetype": "text/x-python",
   "name": "python",
   "nbconvert_exporter": "python",
   "pygments_lexer": "ipython3",
   "version": "3.9.0"
  }
 },
 "nbformat": 4,
 "nbformat_minor": 2
}
