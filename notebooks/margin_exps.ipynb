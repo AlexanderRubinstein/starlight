{
 "cells": [
  {
   "cell_type": "markdown",
   "metadata": {},
   "source": [
    "# Imports"
   ]
  },
  {
   "cell_type": "code",
   "execution_count": 99,
   "metadata": {},
   "outputs": [],
   "source": [
    "%reload_ext autoreload\n",
    "%autoreload 2\n",
    "%matplotlib inline\n",
    "\n",
    "\n",
    "import os\n",
    "import sys\n",
    "import torch\n",
    "from tqdm import tqdm\n",
    "import pandas as pd\n",
    "import random\n",
    "import torch\n",
    "from torch.utils.data import Dataset, DataLoader\n",
    "from torch.utils.data import Dataset, DataLoader, random_split\n",
    "import yaml\n",
    "from dotmap import DotMap\n",
    "import torchvision\n",
    "# import copy\n",
    "# import h5py\n",
    "# import numpy as np\n",
    "# import pandas as pd\n",
    "from IPython.display import display\n",
    "# import random\n",
    "# import matplotlib.ticker as ticker\n",
    "# import matplotlib.pyplot as plt\n",
    "import numpy as np\n",
    "# import itertools\n",
    "# import sklearn\n",
    "\n",
    "\n",
    "# local imports\n",
    "sys.path.insert(\n",
    "    0,\n",
    "    os.path.join(\n",
    "        os.path.dirname(os.path.abspath(''))\n",
    "    )\n",
    ")\n",
    "from dataloaders.cifar10 import (\n",
    "    load_cifar10\n",
    ")\n",
    "from dataloaders.cifar100 import (\n",
    "    load_cifar100\n",
    ")\n",
    "from models import models_dict as MODELS_DICT\n",
    "# models_dict = {\n",
    "#     \"resnet18_cifar\": resnet18_cifar,\n",
    "#     \"resnet18_torch\": torchvision.models.resnet18,\n",
    "#     \"resnet50_torch\": torchvision.models.resnet50,\n",
    "#     \"densenet_cifar\": densenet_cifar\n",
    "# }\n",
    "from utils import (\n",
    "    compute_calibration_error,\n",
    "    check_config_for_training_experiment,\n",
    "    dataset_loss_and_accuracy,\n",
    "    has_batch_norm,\n",
    "    make_exps_deterministic,\n",
    "    make_interpolation_plot,\n",
    "    load_models,\n",
    "    match_weights,\n",
    "    setup_model,\n",
    "    setup_optimizer,\n",
    "    setup_scheduler,\n",
    "    StarDomain\n",
    ")\n",
    "sys.path.pop(0)\n",
    "\n",
    "\n",
    "SPIRALS_PATH = \"./spirals.csv\""
   ]
  },
  {
   "cell_type": "markdown",
   "metadata": {},
   "source": [
    "# Functions"
   ]
  },
  {
   "cell_type": "code",
   "execution_count": 115,
   "metadata": {},
   "outputs": [],
   "source": [
    "\n",
    "def apply_random_seed(random_seed):\n",
    "    random.seed(random_seed)\n",
    "    np.random.seed(random_seed)\n",
    "    torch.manual_seed(random_seed)\n",
    "    torch.cuda.manual_seed(random_seed)\n",
    "    torch.cuda.manual_seed_all(random_seed)\n",
    "    torch.backends.cudnn.benchmark = False\n",
    "    torch.backends.cudnn.deterministic = True\n",
    "    os.environ[\"CUBLAS_WORKSPACE_CONFIG\"] = \":4096:8\"  # to suppress warning\n",
    "    torch.use_deterministic_algorithms(True, warn_only=True)\n",
    "\n",
    "\n",
    "def extract_list_from_huge_string(huge_string):\n",
    "    assert isinstance(huge_string, str)\n",
    "    split = huge_string.split('\\n')\n",
    "    res = []\n",
    "    for el in split:\n",
    "        el = el.strip()\n",
    "        if el != '':\n",
    "            res.append(el)\n",
    "    return res\n",
    "\n",
    "\n",
    "def get_model_id(model_path):\n",
    "    return model_path.split(os.sep)[-1].split(\".\")[0]\n",
    "\n",
    "\n",
    "def get_link(raw_link):\n",
    "    id = raw_link.split(\"/d/\")[-1].split(\"/\")[0]\n",
    "    return f\"https://drive.google.com/uc?id={id}\"\n",
    "\n",
    "\n",
    "def get_model(chkpt_path, model_name, model_settings={}):\n",
    "    model = MODELS_DICT[model_name](**model_settings)\n",
    "    model.load_state_dict(torch.load(chkpt_path)[\"state_dict\"])\n",
    "    return model\n",
    "\n",
    "\n",
    "def get_resnet18_cifar(chkpt_path, num_classes=10):\n",
    "    return get_model(\n",
    "        chkpt_path,\n",
    "        \"resnet18_cifar\",\n",
    "        model_settings={\"num_classes\": num_classes}\n",
    ")\n",
    "\n",
    "\n",
    "def get_resnet18_cifar100(chkpt_path):\n",
    "    return get_resnet18_cifar(chkpt_path, num_classes=100)\n",
    "\n",
    "\n",
    "def get_paths(root_path):\n",
    "    stars_path = os.path.join(root_path, \"stars\")\n",
    "    anchors_path = os.path.join(root_path, \"anchors\")\n",
    "\n",
    "    anchors = [\n",
    "        os.path.join(anchors_path, name) for name in os.listdir(anchors_path)\n",
    "    ]\n",
    "    stars = [\n",
    "        os.path.join(stars_path, name) for name in os.listdir(stars_path)\n",
    "    ]\n",
    "    return anchors, stars\n",
    "\n",
    "\n",
    "@torch.no_grad\n",
    "def compute_margin_for_batch(model, x, device=\"cuda:0\", agg=\"mean\", norm=\"l1\"):\n",
    "\n",
    "    x.requires_grad = True\n",
    "\n",
    "    with torch.enable_grad():\n",
    "        output = model(x)\n",
    "\n",
    "    output = output.to(device)\n",
    "\n",
    "    num_classes = output.shape[-1]\n",
    "    batch_size = output.shape[0]\n",
    "    used_classes = range(num_classes)\n",
    "\n",
    "    model_grads = {}\n",
    "\n",
    "    with torch.enable_grad():\n",
    "        for i, class_i in enumerate(used_classes):\n",
    "            model_grads[class_i] = get_grad(\n",
    "                output[..., class_i],\n",
    "                x,\n",
    "                retain_graph=(i != len(used_classes) - 1)\n",
    "            )\n",
    "\n",
    "        if agg == \"min_to_pred\":\n",
    "            margins_for_all_class_pairs = torch.ones(\n",
    "                batch_size,\n",
    "                num_classes,\n",
    "                num_classes\n",
    "            ).to(output.device) * torch.inf\n",
    "        else:\n",
    "            margins_for_all_class_pairs = torch.zeros(\n",
    "                batch_size,\n",
    "                num_classes,\n",
    "                num_classes\n",
    "            ).to(output.device)\n",
    "\n",
    "        for i in range(len(used_classes)):\n",
    "            for j in range(i + 1, len(used_classes)):\n",
    "\n",
    "                class_i = used_classes[i]\n",
    "                class_j = used_classes[j]\n",
    "\n",
    "                output_i = output[..., class_i]\n",
    "                output_j = output[..., class_j]\n",
    "\n",
    "                grad_i = model_grads[class_i]\n",
    "                grad_j = model_grads[class_j]\n",
    "                batch_margins_for_class_pair = compute_margin(\n",
    "                    output_i,\n",
    "                    output_j,\n",
    "                    grad_i,\n",
    "                    grad_j,\n",
    "                    norm=norm\n",
    "                )\n",
    "\n",
    "                # [batch_size, num_classes, num_classes],\n",
    "                # (s, i, j) - margin between classes i and j for sample s\n",
    "                margins_for_all_class_pairs[:, class_i, class_j] \\\n",
    "                    = batch_margins_for_class_pair\n",
    "                margins_for_all_class_pairs[:, class_j, class_i] \\\n",
    "                    = batch_margins_for_class_pair\n",
    "\n",
    "        if agg == \"min_to_pred\":\n",
    "            pred = output.argmax(dim=-1)\n",
    "\n",
    "            min_distances_for_all_classes = margins_for_all_class_pairs.min(dim=-1).values\n",
    "\n",
    "            min_distances_to_pred = min_distances_for_all_classes[\n",
    "                torch.arange(batch_size).to(pred.device),\n",
    "                pred\n",
    "            ]\n",
    "            return min_distances_to_pred.mean()\n",
    "        elif agg == \"max_first\":\n",
    "            # sanity check that it is higher than min_to_pred\n",
    "            res = margins_for_all_class_pairs.max(dim=-1).values.max(-1).values.mean()\n",
    "            return res\n",
    "        else:\n",
    "            res = margins_for_all_class_pairs.mean(dim=0)\n",
    "            if agg == \"mean\":\n",
    "                # diagonal for class_i == class_j has only zeros,\n",
    "                # so we don't need to use them in mean computation\n",
    "                return res.mean() * (num_classes / (num_classes - 1))\n",
    "            else:\n",
    "                assert agg == \"max\"\n",
    "                return res.max()\n",
    "\n",
    "\n",
    "def get_grad(output_i, x, retain_graph):\n",
    "    assert x.requires_grad == True\n",
    "    differentiable_value = output_i.sum()\n",
    "    differentiable_value.backward(inputs=x, retain_graph=retain_graph)\n",
    "    grad = x.grad\n",
    "    x.grad = None\n",
    "    return grad\n",
    "\n",
    "\n",
    "def compute_margin(output_i, output_j, grad_i, grad_j, norm=\"l1\"):\n",
    "    # eq. 7 here: https://proceedings.neurips.cc/paper_files/paper/2018/file/42998cf32d552343bc8e460416382dca-Paper.pdf\n",
    "    # d = |f_i(x) - f_j(x)| / |grad_x f_i(x) - grad_x f_j (x)|_q\n",
    "    outputs_diff = (output_i - output_j).abs()\n",
    "    grads_diff = (grad_i - grad_j)\n",
    "    if norm == \"l1\":\n",
    "        return (\n",
    "                outputs_diff\n",
    "            /\n",
    "                grads_diff.abs().sum()\n",
    "        )\n",
    "    elif norm == \"l2\":\n",
    "        return (\n",
    "                outputs_diff\n",
    "            /\n",
    "                # grads_diff.abs().pow(2).sum().sqrt()\n",
    "                torch.linalg.vector_norm(grads_diff, ord=2)\n",
    "        )\n",
    "    else:\n",
    "        raise NotImplementedError(\"Only L1 norm is supported\")\n",
    "\n",
    "\n",
    "def margin_on_dataloader(\n",
    "    model,\n",
    "    dataloader,\n",
    "    percent=0.01,\n",
    "    device=\"cuda:0\",\n",
    "    agg=\"mean\",\n",
    "    norm=\"l1\",\n",
    "    random_seed=42\n",
    "):\n",
    "\n",
    "    model.eval()\n",
    "    model.to(device)\n",
    "\n",
    "    dataloader_len = len(dataloader)\n",
    "    if percent == 1:\n",
    "        active_batches = list(range(dataloader_len))\n",
    "    else:\n",
    "        total_batches = int(percent * dataloader_len)\n",
    "        active_batches = np.linspace(0, dataloader_len, total_batches)\n",
    "        active_batches = active_batches.astype(int)\n",
    "\n",
    "    res = []\n",
    "    pb = tqdm(total=dataloader_len, desc='batch', position=0)\n",
    "    apply_random_seed(random_seed)\n",
    "    for i, batch in (enumerate(dataloader)):\n",
    "        pb.update(1)\n",
    "        if i not in active_batches:\n",
    "            continue\n",
    "        x, y = batch\n",
    "        x = x.to(device)\n",
    "        batch_margin = compute_margin_for_batch(\n",
    "            model,\n",
    "            x,\n",
    "            device=device,\n",
    "            agg=agg,\n",
    "            norm=norm\n",
    "        )\n",
    "        res.append(batch_margin)\n",
    "    return torch.Tensor(res).mean().item()\n",
    "\n",
    "\n",
    "def compute_results(\n",
    "    model_paths,\n",
    "    dataloader,\n",
    "    cache_path,\n",
    "    split_name,\n",
    "    percent=1,\n",
    "    load_model=get_resnet18_cifar,\n",
    "    recompute_substring=None,\n",
    "    agg=\"mean\",\n",
    "    norm=\"l1\"\n",
    "):\n",
    "    res = {}\n",
    "    if os.path.exists(cache_path):\n",
    "        print(f\"Loading existing results from {cache_path}\")\n",
    "        res = torch.load(cache_path)\n",
    "    else:\n",
    "        res = {}\n",
    "\n",
    "    dataset_root = dataloader.dataset.dataset.__dict__[\"root\"]\n",
    "    dataset_name = dataset_root.split(os.sep)[-1]\n",
    "    for model_path in model_paths:\n",
    "\n",
    "        path_split = model_path.split(os.sep)[-2:]\n",
    "        assert len(path_split) == 2\n",
    "        model_type = path_split[0]\n",
    "        if model_type == '.':\n",
    "            model_type = path_split[1].split(\"_\")[0]\n",
    "            if \"anchor\" in model_type:\n",
    "                model_type = \"anchor\"\n",
    "            else:\n",
    "                assert \"star\" in model_type\n",
    "                model_type = \"star\"\n",
    "        model_id = path_split[1].split(\".\")[0]\n",
    "        df_id = f\"{model_type}_{model_id}_{dataset_name}_p{percent}\"\n",
    "        to_recompute = (not df_id in res)\n",
    "        if not to_recompute and recompute_substring is not None:\n",
    "            to_recompute = recompute_substring in df_id\n",
    "\n",
    "        if to_recompute:\n",
    "            print(f\"Computing results for {df_id}\")\n",
    "            res[df_id] = {}\n",
    "            res[df_id][\"margin\"] = margin_on_dataloader(\n",
    "                load_model(model_path),\n",
    "                dataloader,\n",
    "                percent=percent,\n",
    "                device=\"cuda:0\",\n",
    "                agg=agg,\n",
    "                norm=norm\n",
    "            )\n",
    "            res[df_id][\"model_type\"] = model_type\n",
    "            res[df_id][\"dataset_name\"] = dataset_name\n",
    "            res[df_id][\"percent\"] = percent\n",
    "            res[df_id][\"model_id\"] = model_id\n",
    "            res[df_id][\"split_name\"] = split_name\n",
    "        else:\n",
    "            print(f\"Reusing results for {df_id}\")\n",
    "    torch.save(res, cache_path)\n",
    "    return res\n",
    "\n",
    "\n",
    "def plot_dict(\n",
    "    res,\n",
    "    to_show=True,\n",
    "    filter_dict={},\n",
    "    drop_columns=[],\n",
    "    group_aggregate_list=[],\n",
    "    query=None\n",
    "):\n",
    "\n",
    "    df = pd.DataFrame.from_dict(res, orient='index')\n",
    "\n",
    "    for column_name, allowed_values in filter_dict.items():\n",
    "        df = df[df[column_name] in allowed_values]\n",
    "\n",
    "    if query is not None:\n",
    "        df = df.query(query)\n",
    "\n",
    "    for column_name in drop_columns:\n",
    "        if column_name == \"index\":\n",
    "            df.reset_index(drop=True, inplace=True)\n",
    "        else:\n",
    "            df = df.drop(column_name, axis=1)\n",
    "\n",
    "    for new_index in group_aggregate_list:\n",
    "        df = df.groupby(new_index).agg([(f'mean', 'mean'), (f'std', 'std')])\n",
    "\n",
    "    if to_show:\n",
    "        display(df)\n",
    "    return df\n",
    "\n",
    "\n",
    "def read_yaml(yaml_path):\n",
    "    with open(yaml_path, \"r\") as f:\n",
    "        config = yaml.safe_load(f)\n",
    "    return config\n",
    "\n",
    "\n",
    "def make_config(config_path):\n",
    "    config = read_yaml(config_path)\n",
    "    config = DotMap(config)\n",
    "    return config\n",
    "\n",
    "\n",
    "def training_experiment(model, model_id, config, train_dl, val_dl, test_dl):\n",
    "\n",
    "    # setup data and model\n",
    "    # train_dl, val_dl, test_dl = datasets_dict[config.dataset.name](**config.dataset.settings)\n",
    "    # model = setup_model(config)\n",
    "    apply_random_seed(config.params.random_seed)\n",
    "    optimizer = setup_optimizer(model, config)\n",
    "    scheduler = setup_scheduler(optimizer, config)\n",
    "    loss_fn = torch.nn.CrossEntropyLoss(label_smoothing=config.training.label_smoothing)\n",
    "    loss_fn_eval = torch.nn.CrossEntropyLoss()\n",
    "\n",
    "    if config.exp_type in [\"train_star\"]:\n",
    "        star_domain = StarDomain(model, config, train_dl)\n",
    "\n",
    "    step = 0\n",
    "\n",
    "    val_loss, val_accuracy = dataset_loss_and_accuracy(\n",
    "        model=model, dl=val_dl, loss_fn=loss_fn_eval\n",
    "    )\n",
    "    print(f\"before training, val loss: {val_loss}, val accuracy: {val_accuracy}\")\n",
    "\n",
    "    for epoch in tqdm(range(config.training.num_epochs)):\n",
    "\n",
    "        model.train()\n",
    "        if config.exp_type in [\"train_star\"] and config.model.permute_anchors:\n",
    "            star_domain.align_anchors_with_star()\n",
    "\n",
    "        train_loss = 0\n",
    "        train_accuracy = 0\n",
    "        # pb = tqdm(total=len(train_dl), desc='batch', position=0)\n",
    "        for i, batch in enumerate(train_dl):\n",
    "            # pb.update(1)\n",
    "\n",
    "            step += 1\n",
    "            # if config.dataset.name == \"imagenet1k\":\n",
    "            #     if i % 100 == 0:\n",
    "            #         print(f\"epoch {epoch} step {step}\")\n",
    "            optimizer.zero_grad(set_to_none=True)\n",
    "\n",
    "            y_backup = batch[1].clone().cuda() # for calculating training accuracy\n",
    "            # main training operations\n",
    "            x, y = batch\n",
    "            x = x.cuda()\n",
    "            y = y.cuda()\n",
    "            if config.exp_type in [\"train_star\"]:\n",
    "                loss, out = star_domain.populate_star_model_gradients(\n",
    "                    batch,\n",
    "                    loss_fn,\n",
    "                    config.training.mu_star\n",
    "                )\n",
    "            else:\n",
    "                out = model(x)\n",
    "                loss = loss_fn(out, y)\n",
    "                loss.backward()\n",
    "\n",
    "            if config.training.use_grad_clip:\n",
    "                torch.nn.utils.clip_grad_norm_(model.parameters(), config.training.grad_clip_norm)\n",
    "\n",
    "            optimizer.step()\n",
    "            loss.detach()\n",
    "            train_loss += loss.item()\n",
    "            accuracy_tmp = torch.sum(torch.argmax(out, axis=1) == y_backup) / len(y_backup)\n",
    "            train_accuracy += accuracy_tmp.item()\n",
    "\n",
    "            del x, y, out, batch\n",
    "\n",
    "        scheduler.step()\n",
    "\n",
    "        # if training a star model and using batch norm, recalculate batch stats\n",
    "        if config.exp_type in [\"train_star\"] and has_batch_norm(model):\n",
    "            star_domain.recalculate_batch_statistics(train_dl)\n",
    "\n",
    "        # log epoch results\n",
    "\n",
    "        epoch_results = {}\n",
    "        val_loss, val_accuracy = dataset_loss_and_accuracy(\n",
    "            model=model, dl=val_dl, loss_fn=loss_fn_eval\n",
    "        )\n",
    "\n",
    "        epoch_results[\"val_accuracy\"] = val_accuracy\n",
    "        epoch_results[\"val_loss\"] = val_loss\n",
    "        epoch_results[\"train_loss\"] = train_loss / len(train_dl)\n",
    "        epoch_results[\"train_accuracy\"] = train_accuracy / len(train_dl)\n",
    "        epoch_results[\"lr\"] = [param_group[\"lr\"] for param_group in optimizer.param_groups][0]\n",
    "\n",
    "        # for _ in range(10):\n",
    "        #     try:\n",
    "        #         wandb_run.log(epoch_results)\n",
    "        #         break\n",
    "        #     except:\n",
    "        #         print(\"wandb logging failed, trying again\")\n",
    "        #         time.sleep(5)\n",
    "\n",
    "    # save model weights\n",
    "    ckpt_file = f\"{model_id}_checkpoint{epoch}.pt\"\n",
    "\n",
    "    state_dict = model.state_dict()\n",
    "    if config.training.parallel:\n",
    "        state_dict = {k[7:]: v for k, v in state_dict.items()}\n",
    "    torch.save({\"state_dict\": state_dict}, ckpt_file)\n",
    "\n",
    "    # calculate test loss and accuracy\n",
    "    test_loss, test_accuracy = dataset_loss_and_accuracy(\n",
    "        model=model, dl=test_dl, loss_fn=loss_fn_eval\n",
    "    )\n",
    "\n",
    "    # log everything in csv\n",
    "    csv_results = []\n",
    "    csv_results.append([\"val_accuracy\", f\"{val_accuracy:.5f}\"])\n",
    "    csv_results.append([\"val_loss\", f\"{val_loss:.3f}\"])\n",
    "    csv_results.append([\"train_loss\", f\"{train_loss / len(train_dl):.3f}\"])\n",
    "    csv_results.append([\"train_accuracy\", f\"{train_accuracy / len(train_dl):.5f}\"])\n",
    "    csv_results.append([\"test_accuracy\", f\"{test_accuracy:.5f}\"])\n",
    "    csv_results.append([\"test_loss\", f\"{test_loss:.3f}\"])\n",
    "\n",
    "    # also interpolate against held-out models\n",
    "    loss_barriers, acc_barriers = None, None\n",
    "    if config.exp_type == \"train_star\" and not config.skip_computing_barriers:\n",
    "\n",
    "        # barriers with training anchors\n",
    "        loss_barriers = []\n",
    "        acc_barriers = []\n",
    "\n",
    "        # randomly choose 5 anchors, if the total number of anchors is > 5\n",
    "        # otherwise, use all anchors\n",
    "        # if config.dataset.name == \"imagenet1k\":\n",
    "        #     num_training_anchors = 2\n",
    "        # else:\n",
    "        num_training_anchors = 5\n",
    "        indices = torch.randperm(len(star_domain.anchor_models)).tolist()\n",
    "        if len(star_domain.anchor_models) > num_training_anchors:\n",
    "            indices = indices[:num_training_anchors]\n",
    "\n",
    "        for i in indices:\n",
    "            anchor_model = star_domain.anchor_models[i]\n",
    "            if config.model.permute_anchors:\n",
    "                anchor_model = match_weights(\n",
    "                    model1=model,\n",
    "                    model2=anchor_model,\n",
    "                    train_dl=train_dl,\n",
    "                    recalculate_batch_statistics=True\n",
    "                )\n",
    "            loss_barrier, acc_barrier = make_interpolation_plot(\n",
    "                model1=model,\n",
    "                model2=anchor_model,\n",
    "                dl=test_dl,\n",
    "                num_points=config.interpolation.num_points,\n",
    "                logger=None,\n",
    "                plot_title=f\"star-training-anchor-{i}\",\n",
    "                loss_fn=loss_fn_eval,\n",
    "                train_dl=train_dl\n",
    "            )\n",
    "            loss_barriers.append(loss_barrier)\n",
    "            acc_barriers.append(acc_barrier)\n",
    "\n",
    "    return csv_results, loss_barriers, acc_barriers\n",
    "\n",
    "    # # barriers with held-out anchors\n",
    "    # if (config.eval.held_out_anchors or config.eval.held_out_model_paths) and not config.skip_computing_barriers:\n",
    "    #     loss_barriers = []\n",
    "    #     acc_barriers = []\n",
    "    #     held_out_anchors = load_models(config, model, \"held_out\")\n",
    "\n",
    "    #     for i, anchor_model in enumerate(held_out_anchors):\n",
    "    #         if config.model.permute_anchors:\n",
    "    #             anchor_model = match_weights(\n",
    "    #                 model1=model,\n",
    "    #                 model2=anchor_model,\n",
    "    #                 train_dl=train_dl,\n",
    "    #                 recalculate_batch_statistics=True\n",
    "    #             )\n",
    "    #         loss_barrier, acc_barrier = make_interpolation_plot(\n",
    "    #             model1=model,\n",
    "    #             model2=anchor_model,\n",
    "    #             dl=test_dl,\n",
    "    #             num_points=config.interpolation.num_points,\n",
    "    #             logger=logger,\n",
    "    #             plot_title=f\"interp_with_held_out-{i}\",\n",
    "    #             loss_fn=loss_fn_eval,\n",
    "    #             train_dl=train_dl\n",
    "    #         )\n",
    "    #         loss_barriers.append(loss_barrier)\n",
    "    #         acc_barriers.append(acc_barrier)\n",
    "\n",
    "\n",
    "class MLP(torch.nn.Module):\n",
    "\n",
    "    def __init__(\n",
    "        self,\n",
    "        in_channels,\n",
    "        hidden_channels,\n",
    "        activation_layer\n",
    "    ):\n",
    "\n",
    "        assert len(hidden_channels) > 0\n",
    "        super().__init__()\n",
    "        self.mlp = torchvision.ops.MLP(\n",
    "            in_channels,\n",
    "            hidden_channels,\n",
    "            activation_layer=activation_layer\n",
    "        )\n",
    "        self.in_features = in_channels\n",
    "        self.out_features = hidden_channels[-1]\n",
    "        if self.out_features == 1:\n",
    "            self.sigmoid = torch.nn.Sigmoid()\n",
    "        else:\n",
    "            self.sigmoid = None\n",
    "\n",
    "    def forward(self, x):\n",
    "        logits = self.mlp(x.view(x.shape[0], -1))\n",
    "        if self.sigmoid is None:\n",
    "            probs = logits\n",
    "        else:\n",
    "            probs = self.sigmoid(logits)\n",
    "        return probs\n",
    "\n",
    "\n",
    "def make_mlp(\n",
    "    in_channels,\n",
    "    hidden_channels,\n",
    "    activation_layer=torch.nn.modules.activation.LeakyReLU\n",
    "):\n",
    "    return MLP(\n",
    "        in_channels,\n",
    "        hidden_channels,\n",
    "        activation_layer\n",
    "    )\n",
    "\n",
    "\n",
    "def patch_config(config, n_epochs, random_seed):\n",
    "    config.training.num_epochs = n_epochs\n",
    "    config.params.random_seed = random_seed\n",
    "\n",
    "\n",
    "def train_anchor(\n",
    "    train_loader,\n",
    "    val_loader,\n",
    "    test_loader,\n",
    "    model_id,\n",
    "    n_epochs=200,\n",
    "    random_seed=42\n",
    "):\n",
    "    model = make_mlp(2, [128, 2])\n",
    "    config = make_config(\"./anchor_config.yaml\")\n",
    "    # config.training.num_epochs = n_epochs\n",
    "    patch_config(config, n_epochs, random_seed)\n",
    "    csv_results, loss_barriers, acc_barriers = training_experiment(\n",
    "        model,\n",
    "        model_id,\n",
    "        config,\n",
    "        train_loader,\n",
    "        val_loader,\n",
    "        test_loader\n",
    "    )\n",
    "    print(csv_results)\n",
    "\n",
    "\n",
    "def train_star(\n",
    "    train_loader,\n",
    "    val_loader,\n",
    "    test_loader,\n",
    "    model_id,\n",
    "    anchor_model_paths,\n",
    "    n_epochs=200,\n",
    "    random_seed=42\n",
    "):\n",
    "    model = make_mlp(2, [128, 2])\n",
    "    config = make_config(\"./star_config.yaml\")\n",
    "    # config.training.num_epochs = n_epochs\n",
    "    # config.params.random_seed = random_seed\n",
    "    patch_config(config, n_epochs, random_seed)\n",
    "    config.model.anchor_model_paths = anchor_model_paths\n",
    "    csv_results, loss_barriers, acc_barriers = training_experiment(\n",
    "        model,\n",
    "        model_id,\n",
    "        config,\n",
    "        train_loader,\n",
    "        val_loader,\n",
    "        test_loader\n",
    "    )\n",
    "    print(csv_results)\n",
    "    print(loss_barriers)\n",
    "    print(acc_barriers)\n",
    "\n",
    "\n",
    "def load_mlp(path):\n",
    "    base_model = make_mlp(2, [128, 2])\n",
    "    state_dict = torch.load(path)[\"state_dict\"]\n",
    "    base_model.load_state_dict(state_dict)\n",
    "    return base_model\n",
    "\n",
    "\n",
    "# Define a custom dataset\n",
    "class MyDataset(Dataset):\n",
    "    def __init__(self, features, labels):\n",
    "        self.features = features\n",
    "        self.labels = labels\n",
    "        self.root = \"spirals\"\n",
    "\n",
    "    def __len__(self):\n",
    "        return len(self.features)\n",
    "\n",
    "    def __getitem__(self, idx):\n",
    "        return self.features[idx], self.labels[idx]\n",
    "\n",
    "# Sample data\n",
    "def make_dataloaders_from_df(csv_path, train_val_split=[0.7, 0.2], **dataloader_kwargs):\n",
    "    df = pd.read_csv(csv_path)\n",
    "    # Load data into DataFrame\n",
    "    # df = pd.read_csv(StringIO(data))\n",
    "\n",
    "    # Convert DataFrame to PyTorch tensors\n",
    "    X = torch.tensor(df[['x1', 'x2']].values, dtype=torch.float32)\n",
    "    y = torch.tensor(df['y'].values, dtype=torch.int64)\n",
    "\n",
    "    # Create a dataset\n",
    "    full_dataset = MyDataset(X, y)\n",
    "\n",
    "    # Split the dataset\n",
    "    train_size, val_size = train_val_split\n",
    "    train_size = int(train_size * len(full_dataset))\n",
    "    val_size = int(val_size * len(full_dataset))\n",
    "    test_size = len(full_dataset) - (train_size + val_size)\n",
    "    train_dataset, val_dataset, test_dataset = random_split(\n",
    "        full_dataset,\n",
    "        [train_size, val_size, test_size]\n",
    "    )\n",
    "\n",
    "    # Create DataLoader for each set\n",
    "    assert \"shuffle\" not in dataloader_kwargs\n",
    "    train_loader = DataLoader(train_dataset, shuffle=True, **dataloader_kwargs)\n",
    "    val_loader = DataLoader(val_dataset, shuffle=False, **dataloader_kwargs)\n",
    "    test_loader = DataLoader(test_dataset, shuffle=False, **dataloader_kwargs)\n",
    "\n",
    "    return train_loader, val_loader, test_loader"
   ]
  },
  {
   "cell_type": "markdown",
   "metadata": {},
   "source": [
    "# Prepare synthetic"
   ]
  },
  {
   "cell_type": "code",
   "execution_count": 13,
   "metadata": {},
   "outputs": [],
   "source": [
    "csv_path = \"./spirals.csv\""
   ]
  },
  {
   "cell_type": "code",
   "execution_count": 106,
   "metadata": {},
   "outputs": [
    {
     "data": {
      "image/png": "[encoded data removed]",
      "text/plain": [
       "<Figure size 1000x600 with 2 Axes>"
      ]
     },
     "metadata": {},
     "output_type": "display_data"
    }
   ],
   "source": [
    "import matplotlib.pyplot as plt\n",
    "\n",
    "# from io import StringIO\n",
    "df = pd.read_csv(SPIRALS_PATH)\n",
    "\n",
    "# Plotting\n",
    "plt.figure(figsize=(10, 6))\n",
    "scatter = plt.scatter(df['x1'], df['x2'], c=df['y'], cmap='viridis')\n",
    "plt.title('2D Dataset Visualization')\n",
    "plt.xlabel('x1')\n",
    "plt.ylabel('x2')\n",
    "plt.colorbar(scatter, label='y')\n",
    "plt.show()"
   ]
  },
  {
   "cell_type": "markdown",
   "metadata": {},
   "source": [
    "### Decision boundary"
   ]
  },
  {
   "cell_type": "code",
   "execution_count": 147,
   "metadata": {},
   "outputs": [],
   "source": [
    "import numpy as np\n",
    "import matplotlib.pyplot as plt\n",
    "from sklearn.linear_model import LogisticRegression\n",
    "import pandas as pd\n",
    "\n",
    "# Assuming df is your DataFrame with 'x1', 'x2', and 'y' columns\n",
    "# ... Load or prepare your data ...\n",
    "\n",
    "def decision_boundary(model, df, model_name):\n",
    "    # Training a simple logistic regression model\n",
    "    # model = LogisticRegression()\n",
    "\n",
    "    # model.fit(df[['x1', 'x2']], df['y'])\n",
    "\n",
    "    # Creating a mesh grid\n",
    "    x_min, x_max = df['x1'].min() - 1, df['x1'].max() + 1\n",
    "    y_min, y_max = df['x2'].min() - 1, df['x2'].max() + 1\n",
    "    xx, yy = np.meshgrid(np.arange(x_min, x_max, 0.01), np.arange(y_min, y_max, 0.01))\n",
    "\n",
    "    # Predicting values for each point on the grid\n",
    "    mesh_batch = np.c_[xx.ravel(), yy.ravel()]\n",
    "    # Z = model.predict(mesh_batch)\n",
    "    Z = model(torch.tensor(mesh_batch, dtype=torch.float32)).argmax(-1).detach().numpy()\n",
    "    Z = Z.reshape(xx.shape)\n",
    "\n",
    "    # Plotting the decision boundary\n",
    "    plt.contourf(xx, yy, Z, alpha=0.8, cmap='inferno')\n",
    "    # plt.scatter(df['x1'], df['x2'], c=df['y'], edgecolors='k', s=20)\n",
    "    scatter = plt.scatter(df['x1'], df['x2'], c=df['y'], cmap='coolwarm')\n",
    "    plt.title(f'Decision Boundary for {model_name} with Dataset Overlay')\n",
    "    plt.xlabel('x1')\n",
    "    plt.ylabel('x2')\n",
    "    plt.show()"
   ]
  },
  {
   "cell_type": "code",
   "execution_count": 148,
   "metadata": {},
   "outputs": [
    {
     "data": {
      "image/png": "[encoded data removed]",
      "text/plain": [
       "<Figure size 640x480 with 1 Axes>"
      ]
     },
     "metadata": {},
     "output_type": "display_data"
    },
    {
     "data": {
      "image/png": "[encoded data removed]",
      "text/plain": [
       "<Figure size 640x480 with 1 Axes>"
      ]
     },
     "metadata": {},
     "output_type": "display_data"
    }
   ],
   "source": [
    "df = pd.read_csv(SPIRALS_PATH)\n",
    "anchor_0 = load_mlp(f\"anchor0_checkpoint199.pt\")\n",
    "decision_boundary(anchor_0, df, \"anchor0\")\n",
    "star_0 = load_mlp(f\"star0_checkpoint199.pt\")\n",
    "decision_boundary(star_0, df, \"star0\")"
   ]
  },
  {
   "cell_type": "code",
   "execution_count": 134,
   "metadata": {},
   "outputs": [
    {
     "name": "stdout",
     "output_type": "stream",
     "text": [
      "(147200, 2)\n"
     ]
    }
   ],
   "source": [
    "print(np.c_[xx.ravel(), yy.ravel()].shape)"
   ]
  },
  {
   "cell_type": "code",
   "execution_count": 132,
   "metadata": {},
   "outputs": [
    {
     "name": "stdout",
     "output_type": "stream",
     "text": [
      "(368, 400)\n"
     ]
    }
   ],
   "source": [
    "print(Z.shape)"
   ]
  },
  {
   "cell_type": "code",
   "execution_count": 107,
   "metadata": {},
   "outputs": [],
   "source": [
    "spiral_train_loader, spiral_val_loader, spiral_test_loader = make_dataloaders_from_df(SPIRALS_PATH, batch_size=128)"
   ]
  },
  {
   "cell_type": "markdown",
   "metadata": {},
   "source": [
    "## Train anchor"
   ]
  },
  {
   "cell_type": "code",
   "execution_count": 109,
   "metadata": {},
   "outputs": [
    {
     "name": "stdout",
     "output_type": "stream",
     "text": [
      "before training, val loss: 0.6892554993629456, val accuracy: 0.537\n"
     ]
    },
    {
     "name": "stderr",
     "output_type": "stream",
     "text": [
      "100%|██████████| 200/200 [00:29<00:00,  6.67it/s]\n"
     ]
    },
    {
     "name": "stdout",
     "output_type": "stream",
     "text": [
      "[['val_accuracy', '1.00000'], ['val_loss', '0.025'], ['train_loss', '0.024'], ['train_accuracy', '1.00000'], ['test_accuracy', '1.00000'], ['test_loss', '0.025']]\n",
      "before training, val loss: 0.6974906930923462, val accuracy: 0.416\n"
     ]
    },
    {
     "name": "stderr",
     "output_type": "stream",
     "text": [
      "100%|██████████| 200/200 [00:29<00:00,  6.67it/s]\n"
     ]
    },
    {
     "name": "stdout",
     "output_type": "stream",
     "text": [
      "[['val_accuracy', '1.00000'], ['val_loss', '0.025'], ['train_loss', '0.024'], ['train_accuracy', '1.00000'], ['test_accuracy', '1.00000'], ['test_loss', '0.025']]\n",
      "before training, val loss: 0.7016787433624267, val accuracy: 0.4985\n"
     ]
    },
    {
     "name": "stderr",
     "output_type": "stream",
     "text": [
      "100%|██████████| 200/200 [00:30<00:00,  6.66it/s]\n"
     ]
    },
    {
     "name": "stdout",
     "output_type": "stream",
     "text": [
      "[['val_accuracy', '1.00000'], ['val_loss', '0.025'], ['train_loss', '0.024'], ['train_accuracy', '1.00000'], ['test_accuracy', '1.00000'], ['test_loss', '0.025']]\n",
      "before training, val loss: 0.6933593950271606, val accuracy: 0.4385\n"
     ]
    },
    {
     "name": "stderr",
     "output_type": "stream",
     "text": [
      "100%|██████████| 200/200 [00:30<00:00,  6.62it/s]\n"
     ]
    },
    {
     "name": "stdout",
     "output_type": "stream",
     "text": [
      "[['val_accuracy', '1.00000'], ['val_loss', '0.025'], ['train_loss', '0.024'], ['train_accuracy', '1.00000'], ['test_accuracy', '1.00000'], ['test_loss', '0.025']]\n",
      "before training, val loss: 0.6925903005599976, val accuracy: 0.501\n"
     ]
    },
    {
     "name": "stderr",
     "output_type": "stream",
     "text": [
      "100%|██████████| 200/200 [00:29<00:00,  6.68it/s]\n"
     ]
    },
    {
     "name": "stdout",
     "output_type": "stream",
     "text": [
      "[['val_accuracy', '1.00000'], ['val_loss', '0.026'], ['train_loss', '0.024'], ['train_accuracy', '1.00000'], ['test_accuracy', '1.00000'], ['test_loss', '0.025']]\n",
      "before training, val loss: 0.7018554406166077, val accuracy: 0.58\n"
     ]
    },
    {
     "name": "stderr",
     "output_type": "stream",
     "text": [
      "100%|██████████| 200/200 [00:30<00:00,  6.56it/s]\n"
     ]
    },
    {
     "name": "stdout",
     "output_type": "stream",
     "text": [
      "[['val_accuracy', '1.00000'], ['val_loss', '0.025'], ['train_loss', '0.024'], ['train_accuracy', '1.00000'], ['test_accuracy', '1.00000'], ['test_loss', '0.025']]\n",
      "before training, val loss: 0.711228563785553, val accuracy: 0.4985\n"
     ]
    },
    {
     "name": "stderr",
     "output_type": "stream",
     "text": [
      "100%|██████████| 200/200 [00:30<00:00,  6.65it/s]\n"
     ]
    },
    {
     "name": "stdout",
     "output_type": "stream",
     "text": [
      "[['val_accuracy', '1.00000'], ['val_loss', '0.025'], ['train_loss', '0.024'], ['train_accuracy', '1.00000'], ['test_accuracy', '1.00000'], ['test_loss', '0.025']]\n",
      "before training, val loss: 0.7260764827728271, val accuracy: 0.4985\n"
     ]
    },
    {
     "name": "stderr",
     "output_type": "stream",
     "text": [
      "100%|██████████| 200/200 [00:30<00:00,  6.53it/s]\n"
     ]
    },
    {
     "name": "stdout",
     "output_type": "stream",
     "text": [
      "[['val_accuracy', '1.00000'], ['val_loss', '0.025'], ['train_loss', '0.024'], ['train_accuracy', '1.00000'], ['test_accuracy', '1.00000'], ['test_loss', '0.025']]\n",
      "before training, val loss: 0.6915454759597778, val accuracy: 0.542\n"
     ]
    },
    {
     "name": "stderr",
     "output_type": "stream",
     "text": [
      "100%|██████████| 200/200 [00:30<00:00,  6.63it/s]\n"
     ]
    },
    {
     "name": "stdout",
     "output_type": "stream",
     "text": [
      "[['val_accuracy', '1.00000'], ['val_loss', '0.025'], ['train_loss', '0.024'], ['train_accuracy', '1.00000'], ['test_accuracy', '1.00000'], ['test_loss', '0.025']]\n",
      "before training, val loss: 0.718302101135254, val accuracy: 0.5015\n"
     ]
    },
    {
     "name": "stderr",
     "output_type": "stream",
     "text": [
      "100%|██████████| 200/200 [00:30<00:00,  6.56it/s]\n"
     ]
    },
    {
     "name": "stdout",
     "output_type": "stream",
     "text": [
      "[['val_accuracy', '1.00000'], ['val_loss', '0.025'], ['train_loss', '0.024'], ['train_accuracy', '1.00000'], ['test_accuracy', '1.00000'], ['test_loss', '0.025']]\n",
      "before training, val loss: 0.706251811504364, val accuracy: 0.4985\n"
     ]
    },
    {
     "name": "stderr",
     "output_type": "stream",
     "text": [
      "100%|██████████| 200/200 [00:30<00:00,  6.65it/s]\n"
     ]
    },
    {
     "name": "stdout",
     "output_type": "stream",
     "text": [
      "[['val_accuracy', '1.00000'], ['val_loss', '0.025'], ['train_loss', '0.024'], ['train_accuracy', '1.00000'], ['test_accuracy', '1.00000'], ['test_loss', '0.025']]\n",
      "before training, val loss: 0.7077323770523072, val accuracy: 0.4985\n"
     ]
    },
    {
     "name": "stderr",
     "output_type": "stream",
     "text": [
      "100%|██████████| 200/200 [00:30<00:00,  6.55it/s]\n"
     ]
    },
    {
     "name": "stdout",
     "output_type": "stream",
     "text": [
      "[['val_accuracy', '1.00000'], ['val_loss', '0.026'], ['train_loss', '0.024'], ['train_accuracy', '1.00000'], ['test_accuracy', '1.00000'], ['test_loss', '0.025']]\n",
      "before training, val loss: 0.6954874997138977, val accuracy: 0.575\n"
     ]
    },
    {
     "name": "stderr",
     "output_type": "stream",
     "text": [
      "100%|██████████| 200/200 [00:30<00:00,  6.62it/s]\n"
     ]
    },
    {
     "name": "stdout",
     "output_type": "stream",
     "text": [
      "[['val_accuracy', '1.00000'], ['val_loss', '0.025'], ['train_loss', '0.024'], ['train_accuracy', '1.00000'], ['test_accuracy', '1.00000'], ['test_loss', '0.025']]\n",
      "before training, val loss: 0.6960453243255615, val accuracy: 0.5015\n"
     ]
    },
    {
     "name": "stderr",
     "output_type": "stream",
     "text": [
      "100%|██████████| 200/200 [00:30<00:00,  6.50it/s]\n"
     ]
    },
    {
     "name": "stdout",
     "output_type": "stream",
     "text": [
      "[['val_accuracy', '1.00000'], ['val_loss', '0.025'], ['train_loss', '0.024'], ['train_accuracy', '1.00000'], ['test_accuracy', '1.00000'], ['test_loss', '0.025']]\n",
      "before training, val loss: 0.6932215046882629, val accuracy: 0.5015\n"
     ]
    },
    {
     "name": "stderr",
     "output_type": "stream",
     "text": [
      "100%|██████████| 200/200 [00:30<00:00,  6.63it/s]"
     ]
    },
    {
     "name": "stdout",
     "output_type": "stream",
     "text": [
      "[['val_accuracy', '1.00000'], ['val_loss', '0.025'], ['train_loss', '0.024'], ['train_accuracy', '1.00000'], ['test_accuracy', '1.00000'], ['test_loss', '0.025']]\n"
     ]
    },
    {
     "name": "stderr",
     "output_type": "stream",
     "text": [
      "\n"
     ]
    }
   ],
   "source": [
    "num_anchors = 15\n",
    "for i in range(num_anchors):\n",
    "    train_anchor(\n",
    "        spiral_train_loader,\n",
    "        spiral_val_loader,\n",
    "        spiral_test_loader,\n",
    "        model_id=f\"anchor{i}\",\n",
    "        n_epochs=200,\n",
    "        random_seed=i\n",
    "    )"
   ]
  },
  {
   "cell_type": "markdown",
   "metadata": {},
   "source": [
    "## Barriers between anchors"
   ]
  },
  {
   "cell_type": "code",
   "execution_count": 123,
   "metadata": {},
   "outputs": [
    {
     "name": "stderr",
     "output_type": "stream",
     "text": [
      "  0%|          | 0/15 [00:00<?, ?it/s]"
     ]
    },
    {
     "name": "stderr",
     "output_type": "stream",
     "text": [
      "100%|██████████| 15/15 [00:59<00:00,  3.98s/it]\n"
     ]
    }
   ],
   "source": [
    "num_anchors = 15\n",
    "\n",
    "loss_barriers = {}\n",
    "acc_barriers = {}\n",
    "\n",
    "for i in tqdm(range(num_anchors)):\n",
    "    for j in range(num_anchors):\n",
    "        loss_barrier, acc_barrier = make_interpolation_plot(\n",
    "            model1=load_mlp(f\"anchor{j}_checkpoint199.pt\"),\n",
    "            model2=load_mlp(f\"anchor{i}_checkpoint199.pt\"),\n",
    "            dl=spiral_test_loader,\n",
    "            num_points=21,\n",
    "            logger=None,\n",
    "            plot_title=f\"star-training-anchor-{i}\",\n",
    "            loss_fn=torch.nn.CrossEntropyLoss(),\n",
    "            train_dl=spiral_train_loader\n",
    "        )\n",
    "        loss_barriers[f\"{i}->{j}\"] = loss_barrier\n",
    "        acc_barriers[f\"{i}->{j}\"] = acc_barrier\n"
   ]
  },
  {
   "cell_type": "code",
   "execution_count": 125,
   "metadata": {},
   "outputs": [
    {
     "name": "stdout",
     "output_type": "stream",
     "text": [
      "{'0->0': 3.4868717184444176e-09, '0->1': 0.4099312331920808, '0->2': 0.3120058842375874, '0->3': 0.28455002541392177, '0->4': 0.38993182227015494, '0->5': 0.4842320231933698, '0->6': 0.22095285189151764, '0->7': 0.3757899135574699, '0->8': 0.3079405860975385, '0->9': 0.533106282018125, '0->10': 0.30042626629449587, '0->11': 0.4667473162249529, '0->12': 0.39309149270465205, '0->13': 1.0910870441666112, '0->14': 0.3430723179800518, '1->0': 0.4099312346228497, '1->1': 5.3048133871747005e-09, '1->2': 0.2816034970257747, '1->3': 0.4696290697157383, '1->4': 0.33927679958194495, '1->5': 0.3378772236704826, '1->6': 0.24770898163854294, '1->7': 0.6427723792344332, '1->8': 0.39800839537382127, '1->9': 0.37568239506993695, '1->10': 0.37397311083227397, '1->11': 0.5919486709162594, '1->12': 0.34990671885207886, '1->13': 0.37157639899104833, '1->14': 0.2792761719822884, '2->0': 0.3120058842375874, '2->1': 0.28160353373659536, '2->2': 6.407499312383047e-09, '2->3': 0.3572405496537685, '2->4': 0.327937858034533, '2->5': 0.4009813107252121, '2->6': 0.3572793345376849, '2->7': 0.2603163547091971, '2->8': 0.44137536489963536, '2->9': 0.3196539825350046, '2->10': 0.5854700630562142, '2->11': 0.6211661677286029, '2->12': 0.20882487519448212, '2->13': 0.25963381727784873, '2->14': 0.22280910217761993, '3->0': 0.28455004305878084, '3->1': 0.4696290697157383, '3->2': 0.3572405496537685, '3->3': 4.380941390907944e-09, '3->4': 0.4853006691858172, '3->5': 0.4043718777275669, '3->6': 0.38951309814304114, '3->7': 0.2074198601692915, '3->8': 0.2712022388739599, '3->9': 0.3415669587105512, '3->10': 0.1707347947433591, '3->11': 0.37411134685477476, '3->12': 0.1873308415194764, '3->13': 0.17621448063105344, '3->14': 0.23737138310074807, '4->0': 0.38993182227015494, '4->1': 0.33927679958194495, '4->2': 0.3279378725770534, '4->3': 0.4853006691858172, '4->4': 7.063150408298524e-09, '4->5': 0.2302389321550727, '4->6': 0.33786918319761755, '4->7': 0.3688330465024108, '4->8': 0.2871590228311527, '4->9': 0.8029513552010036, '4->10': 0.15328631818294525, '4->11': 0.21733461321890354, '4->12': 0.48909483246209906, '4->13': 0.32394507699943453, '4->14': 0.26737990774959325, '5->0': 0.484232022240489, '5->1': 0.3378772236704826, '5->2': 0.4009813107252121, '5->3': 0.40437184482471233, '5->4': 0.2302389321550727, '5->5': 5.3048133837052536e-09, '5->6': 0.27818378251045944, '5->7': 0.6244708785563707, '5->8': 0.734683213938597, '5->9': 0.3157183867245913, '5->10': 0.5671662214869203, '5->11': 0.39367004411667583, '5->12': 0.38086953759938474, '5->13': 0.30088994147628545, '5->14': 0.38197343510389326, '6->0': 0.22095285189151764, '6->1': 0.24770896482731428, '6->2': 0.3572793345376849, '6->3': 0.38951309814304114, '6->4': 0.33786918319761755, '6->5': 0.27818378251045944, '6->6': 4.589557647122211e-09, '6->7': 0.5090562117770314, '6->8': 0.44551564949005845, '6->9': 0.4621521410987595, '6->10': 0.3385505388918375, '6->11': 0.43607029814241194, '6->12': 0.6823013476133347, '6->13': 0.39248701609671116, '6->14': 0.34876471024006606, '7->0': 0.3757899135574699, '7->1': 0.6427723792344332, '7->2': 0.2603163623439833, '7->3': 0.2074198601692915, '7->4': 0.36883303195247297, '7->5': 0.6244708785563707, '7->6': 0.5090562117770314, '7->7': 4.634261131092332e-09, '7->8': 0.28023293957150774, '7->9': 0.3044741513431072, '7->10': 0.41259007542580367, '7->11': 0.39060733015090227, '7->12': 0.3863080958351493, '7->13': 0.41513371961101064, '7->14': 0.4208385787299909, '8->0': 0.3079405860975385, '8->1': 0.39800839537382127, '8->2': 0.44137536489963536, '8->3': 0.27120225412946747, '8->4': 0.287159034995499, '8->5': 0.7346832382551013, '8->6': 0.44551564949005845, '8->7': 0.28023293337403044, '8->8': 5.066394807157204e-09, '8->9': 0.5465933271199465, '8->10': 0.19788110043104887, '8->11': 0.30093758450054686, '8->12': 0.3821165285184979, '8->13': 0.3661181695978626, '8->14': 0.3469847387671471, '9->0': 0.533106282018125, '9->1': 0.3756823843400412, '9->2': 0.3196539825350046, '9->3': 0.3415669587105512, '9->4': 0.8029513018008357, '9->5': 0.3157183867245913, '9->6': 0.46215203023577944, '9->7': 0.3044741513431072, '9->8': 0.5465933271199465, '9->9': 4.20212745502746e-09, '9->10': 0.292964800262382, '9->11': 0.49386809153109795, '9->12': 0.30888952758163213, '9->13': 0.5375978277102113, '9->14': 0.24036025233566763, '10->0': 0.3004262548509589, '10->1': 0.37397311083227397, '10->2': 0.5854701593832582, '10->3': 0.1707347947433591, '10->4': 0.15328631818294525, '10->5': 0.5671662596336543, '10->6': 0.3385505541536428, '10->7': 0.41259007542580367, '10->8': 0.19788112069858016, '10->9': 0.29296480264792485, '10->10': 4.291534422967702e-09, '10->11': 0.3102161153852939, '10->12': 0.4582595632155622, '10->13': 0.35566755621841994, '10->14': 0.5728938748016953, '11->0': 0.466747312410056, '11->1': 0.5919486709162594, '11->2': 0.6211661677286029, '11->3': 0.37411133302441335, '11->4': 0.21733461321890354, '11->5': 0.39367004411667583, '11->6': 0.43607033390746053, '11->7': 0.39060733015090227, '11->8': 0.3009375737729083, '11->9': 0.49386809153109795, '11->10': 0.3102161153852939, '11->11': 4.85777854747349e-09, '11->12': 0.8646537591218949, '11->13': 0.461613542214036, '11->14': 0.5853366918863058, '12->0': 0.39309147744312545, '12->1': 0.3499066997755976, '12->2': 0.20882486566038458, '12->3': 0.18733080336788202, '12->4': 0.48909483771096635, '12->5': 0.38086953759938474, '12->6': 0.6823013476133347, '12->7': 0.3863080958351493, '12->8': 0.3821165285184979, '12->9': 0.30888952758163213, '12->10': 0.4582595555828753, '12->11': 0.8646537591218949, '12->12': 6.929039949449267e-09, '12->13': 0.42228070685267444, '12->14': 0.47280896223336455, '13->0': 1.0910871328523843, '13->1': 0.37157639899104833, '13->2': 0.25963381727784873, '13->3': 0.17621448063105344, '13->4': 0.32394509154251, '13->5': 0.30088994147628545, '13->6': 0.39248701609671116, '13->7': 0.4151337005315776, '13->8': 0.3661182246680134, '13->9': 0.5375978277102113, '13->10': 0.3556675523972296, '13->11': 0.461613542214036, '13->12': 0.42228070685267444, '13->13': 7.927417753489374e-09, '13->14': 0.55005740775913, '14->0': 0.3430723103490172, '14->1': 0.2792761719822884, '14->2': 0.22280910217761993, '14->3': 0.23737138310074807, '14->4': 0.26737990774959325, '14->5': 0.38197343510389326, '14->6': 0.34876471024006606, '14->7': 0.42083859327187567, '14->8': 0.3469847387671471, '14->9': 0.24036025233566763, '14->10': 0.5728938748016953, '14->11': 0.5853367300318381, '14->12': 0.47280896223336455, '14->13': 0.55005740775913, '14->14': 3.680586814491793e-09}\n",
      "{'0->0': 0.0, '0->1': -0.29300000000000004, '0->2': -0.14600000000000002, '0->3': -0.127, '0->4': -0.21199999999999997, '0->5': -0.346, '0->6': -0.013000000000000012, '0->7': -0.278, '0->8': -0.16600000000000004, '0->9': -0.32699999999999996, '0->10': -0.20899999999999996, '0->11': -0.22899999999999998, '0->12': -0.235, '0->13': -0.32199999999999995, '0->14': -0.249, '1->0': -0.29300000000000004, '1->1': 0.0, '1->2': -0.118, '1->3': -0.346, '1->4': -0.17600000000000005, '1->5': -0.18899999999999995, '1->6': -0.129, '1->7': -0.31299999999999994, '1->8': -0.18300000000000005, '1->9': -0.18400000000000005, '1->10': -0.131, '1->11': -0.30200000000000005, '1->12': -0.244, '1->13': -0.28800000000000003, '1->14': -0.16600000000000004, '2->0': -0.14600000000000002, '2->1': -0.118, '2->2': 0.0, '2->3': -0.248, '2->4': -0.21199999999999997, '2->5': -0.22799999999999998, '2->6': -0.14500000000000002, '2->7': -0.11199999999999999, '2->8': -0.356, '2->9': -0.20199999999999996, '2->10': -0.40700000000000003, '2->11': -0.371, '2->12': -0.050000000000000044, '2->13': -0.10199999999999998, '2->14': -0.07699999999999996, '3->0': -0.127, '3->1': -0.346, '3->2': -0.248, '3->3': 0.0, '3->4': -0.347, '3->5': -0.32899999999999996, '3->6': -0.31599999999999995, '3->7': -0.02400000000000002, '3->8': -0.08099999999999996, '3->9': -0.16100000000000003, '3->10': -0.029000000000000026, '3->11': -0.19899999999999995, '3->12': -0.05400000000000005, '3->13': -0.0020000000000000018, '3->14': -0.09499999999999997, '4->0': -0.21199999999999997, '4->1': -0.17600000000000005, '4->2': -0.21199999999999997, '4->3': -0.347, '4->4': 0.0, '4->5': -0.08499999999999996, '4->6': -0.19999999999999996, '4->7': -0.119, '4->8': -0.11299999999999999, '4->9': -0.272, '4->10': -0.006000000000000005, '4->11': -0.02200000000000002, '4->12': -0.31799999999999995, '4->13': -0.22199999999999998, '4->14': -0.08099999999999996, '5->0': -0.346, '5->1': -0.18899999999999995, '5->2': -0.22799999999999998, '5->3': -0.32899999999999996, '5->4': -0.08499999999999996, '5->5': 0.0, '5->6': -0.18200000000000005, '5->7': -0.349, '5->8': -0.387, '5->9': -0.18400000000000005, '5->10': -0.32699999999999996, '5->11': -0.16900000000000004, '5->12': -0.30000000000000004, '5->13': -0.14300000000000002, '5->14': -0.19499999999999995, '6->0': -0.013000000000000012, '6->1': -0.129, '6->2': -0.14500000000000002, '6->3': -0.31599999999999995, '6->4': -0.19999999999999996, '6->5': -0.18200000000000005, '6->6': 0.0, '6->7': -0.369, '6->8': -0.273, '6->9': -0.21899999999999997, '6->10': -0.258, '6->11': -0.391, '6->12': -0.31899999999999995, '6->13': -0.17600000000000005, '6->14': -0.118, '7->0': -0.278, '7->1': -0.31299999999999994, '7->2': -0.11199999999999999, '7->3': -0.02400000000000002, '7->4': -0.119, '7->5': -0.349, '7->6': -0.369, '7->7': 0.0, '7->8': -0.132, '7->9': -0.16800000000000004, '7->10': -0.33099999999999996, '7->11': -0.269, '7->12': -0.25, '7->13': -0.28800000000000003, '7->14': -0.33299999999999996, '8->0': -0.16600000000000004, '8->1': -0.18300000000000005, '8->2': -0.356, '8->3': -0.08099999999999996, '8->4': -0.11299999999999999, '8->5': -0.387, '8->6': -0.273, '8->7': -0.132, '8->8': 0.0, '8->9': -0.268, '8->10': -0.04500000000000004, '8->11': -0.18400000000000005, '8->12': -0.29000000000000004, '8->13': -0.19799999999999995, '8->14': -0.20299999999999996, '9->0': -0.32699999999999996, '9->1': -0.18400000000000005, '9->2': -0.20199999999999996, '9->3': -0.16100000000000003, '9->4': -0.272, '9->5': -0.18400000000000005, '9->6': -0.21899999999999997, '9->7': -0.16800000000000004, '9->8': -0.268, '9->9': 0.0, '9->10': -0.123, '9->11': -0.279, '9->12': -0.17200000000000004, '9->13': -0.358, '9->14': -0.03700000000000003, '10->0': -0.20899999999999996, '10->1': -0.131, '10->2': -0.40700000000000003, '10->3': -0.029000000000000026, '10->4': -0.006000000000000005, '10->5': -0.32699999999999996, '10->6': -0.258, '10->7': -0.33099999999999996, '10->8': -0.04500000000000004, '10->9': -0.123, '10->10': 0.0, '10->11': -0.20899999999999996, '10->12': -0.266, '10->13': -0.249, '10->14': -0.29800000000000004, '11->0': -0.22899999999999998, '11->1': -0.30200000000000005, '11->2': -0.371, '11->3': -0.19899999999999995, '11->4': -0.02200000000000002, '11->5': -0.16900000000000004, '11->6': -0.391, '11->7': -0.269, '11->8': -0.18400000000000005, '11->9': -0.279, '11->10': -0.20899999999999996, '11->11': 0.0, '11->12': -0.29100000000000004, '11->13': -0.235, '11->14': -0.38, '12->0': -0.235, '12->1': -0.244, '12->2': -0.050000000000000044, '12->3': -0.05400000000000005, '12->4': -0.31799999999999995, '12->5': -0.30000000000000004, '12->6': -0.31899999999999995, '12->7': -0.25, '12->8': -0.29000000000000004, '12->9': -0.17200000000000004, '12->10': -0.266, '12->11': -0.29100000000000004, '12->12': 0.0, '12->13': -0.32399999999999995, '12->14': -0.261, '13->0': -0.32199999999999995, '13->1': -0.28800000000000003, '13->2': -0.10199999999999998, '13->3': -0.0020000000000000018, '13->4': -0.22199999999999998, '13->5': -0.14300000000000002, '13->6': -0.17600000000000005, '13->7': -0.28800000000000003, '13->8': -0.19799999999999995, '13->9': -0.358, '13->10': -0.249, '13->11': -0.235, '13->12': -0.32399999999999995, '13->13': 0.0, '13->14': -0.357, '14->0': -0.249, '14->1': -0.16600000000000004, '14->2': -0.07699999999999996, '14->3': -0.09499999999999997, '14->4': -0.08099999999999996, '14->5': -0.19499999999999995, '14->6': -0.118, '14->7': -0.33299999999999996, '14->8': -0.20299999999999996, '14->9': -0.03700000000000003, '14->10': -0.29800000000000004, '14->11': -0.38, '14->12': -0.261, '14->13': -0.357, '14->14': 0.0}\n",
      "0.3673673953537254\n",
      "-0.2014488888888889\n"
     ]
    }
   ],
   "source": [
    "print(loss_barriers)\n",
    "print(acc_barriers)\n",
    "\n",
    "print(np.mean(np.array(list(loss_barriers.values()))))\n",
    "print(np.mean(np.array(list(acc_barriers.values()))))"
   ]
  },
  {
   "cell_type": "markdown",
   "metadata": {},
   "source": [
    "## Train star"
   ]
  },
  {
   "cell_type": "code",
   "execution_count": 111,
   "metadata": {},
   "outputs": [
    {
     "name": "stdout",
     "output_type": "stream",
     "text": [
      "Loading anchor models from file paths... ./anchor_paths\n",
      "Loading model from file path: ./anchor0_checkpoint199.pt\n",
      "\n",
      "Loading model from file path: ./anchor1_checkpoint199.pt\n",
      "\n",
      "Loading model from file path: ./anchor2_checkpoint199.pt\n",
      "\n",
      "Loading model from file path: ./anchor3_checkpoint199.pt\n",
      "\n",
      "Loading model from file path: ./anchor4_checkpoint199.pt\n",
      "\n",
      "before training, val loss: 0.7019916357994079, val accuracy: 0.485\n"
     ]
    },
    {
     "name": "stderr",
     "output_type": "stream",
     "text": [
      "  0%|          | 0/200 [00:00<?, ?it/s]"
     ]
    },
    {
     "name": "stderr",
     "output_type": "stream",
     "text": [
      "100%|██████████| 200/200 [00:34<00:00,  5.72it/s]\n"
     ]
    },
    {
     "name": "stdout",
     "output_type": "stream",
     "text": [
      "[['val_accuracy', '1.00000'], ['val_loss', '0.038'], ['train_loss', '0.067'], ['train_accuracy', '1.00000'], ['test_accuracy', '1.00000'], ['test_loss', '0.038']]\n",
      "[0.07802985127270223, 0.07334502390772105, 0.07220073034614324, 0.07288520359660312, 0.06299206291139126]\n",
      "[-0.006000000000000005, -0.0030000000000000027, -0.0040000000000000036, -0.007000000000000006, 0.0]\n",
      "Loading anchor models from file paths... ./anchor_paths1\n",
      "Loading model from file path: ./anchor5_checkpoint199.pt\n",
      "\n",
      "Loading model from file path: ./anchor6_checkpoint199.pt\n",
      "\n",
      "Loading model from file path: ./anchor7_checkpoint199.pt\n",
      "\n",
      "Loading model from file path: ./anchor8_checkpoint199.pt\n",
      "\n",
      "Loading model from file path: ./anchor9_checkpoint199.pt\n",
      "\n",
      "before training, val loss: 0.695944797039032, val accuracy: 0.5015\n"
     ]
    },
    {
     "name": "stderr",
     "output_type": "stream",
     "text": [
      "100%|██████████| 200/200 [00:36<00:00,  5.46it/s]\n"
     ]
    },
    {
     "name": "stdout",
     "output_type": "stream",
     "text": [
      "[['val_accuracy', '1.00000'], ['val_loss', '0.039'], ['train_loss', '0.068'], ['train_accuracy', '0.99957'], ['test_accuracy', '1.00000'], ['test_loss', '0.039']]\n",
      "[0.07072013159841299, 0.08609194019436836, 0.066719667121768, 0.06359599839150906, 0.06231738564372063]\n",
      "[-0.0050000000000000044, -0.0030000000000000027, -0.0030000000000000027, -0.0040000000000000036, -0.0030000000000000027]\n",
      "Loading anchor models from file paths... ./anchor_paths2\n",
      "Loading model from file path: ./anchor10_checkpoint199.pt\n",
      "\n",
      "Loading model from file path: ./anchor11_checkpoint199.pt\n",
      "\n",
      "Loading model from file path: ./anchor12_checkpoint199.pt\n",
      "\n",
      "Loading model from file path: ./anchor13_checkpoint199.pt\n",
      "\n",
      "Loading model from file path: ./anchor14_checkpoint199.pt\n",
      "\n",
      "before training, val loss: 0.7227356996536255, val accuracy: 0.4985\n"
     ]
    },
    {
     "name": "stderr",
     "output_type": "stream",
     "text": [
      "100%|██████████| 200/200 [00:35<00:00,  5.61it/s]\n"
     ]
    },
    {
     "name": "stdout",
     "output_type": "stream",
     "text": [
      "[['val_accuracy', '1.00000'], ['val_loss', '0.039'], ['train_loss', '0.070'], ['train_accuracy', '0.99957'], ['test_accuracy', '1.00000'], ['test_loss', '0.039']]\n",
      "[0.07832759683502453, 0.05844041902571917, 0.07408886510133743, 0.06742444214969873, 0.07472733630954556]\n",
      "[-0.008000000000000007, -0.0020000000000000018, -0.0020000000000000018, -0.0010000000000000009, -0.0040000000000000036]\n"
     ]
    }
   ],
   "source": [
    "for i, anchor_paths in enumerate(\n",
    "    [\n",
    "        \"./anchor_paths\",\n",
    "        \"./anchor_paths1\",\n",
    "        \"./anchor_paths2\"\n",
    "    ]\n",
    "):\n",
    "    train_star(\n",
    "        spiral_train_loader,\n",
    "        spiral_val_loader,\n",
    "        spiral_test_loader,\n",
    "        model_id=f\"star{i}\",\n",
    "        anchor_model_paths=anchor_paths,\n",
    "        n_epochs=200,\n",
    "        random_seed=i\n",
    "    )"
   ]
  },
  {
   "cell_type": "code",
   "execution_count": 126,
   "metadata": {},
   "outputs": [],
   "source": [
    "star_barriers = [0.07072013159841299, 0.08609194019436836, 0.066719667121768, 0.06359599839150906, 0.06231738564372063] + [0.07072013159841299, 0.08609194019436836, 0.066719667121768, 0.06359599839150906, 0.06231738564372063] + [0.07832759683502453, 0.05844041902571917, 0.07408886510133743, 0.06742444214969873, 0.07472733630954556]"
   ]
  },
  {
   "cell_type": "code",
   "execution_count": 127,
   "metadata": {},
   "outputs": [
    {
     "name": "stdout",
     "output_type": "stream",
     "text": [
      "0.07012659368805889\n"
     ]
    }
   ],
   "source": [
    "print(np.mean(np.array(star_barriers)))"
   ]
  },
  {
   "cell_type": "code",
   "execution_count": 61,
   "metadata": {},
   "outputs": [],
   "source": [
    "train_loader, val_loader, test_loader = make_dataloaders_from_df(SPIRALS_PATH, batch_size=128)\n",
    "\n",
    "loss_barrier, acc_barrier = make_interpolation_plot(\n",
    "    model1=load_mlp(\"anchor0_checkpoint199.pt\"),\n",
    "    model2=load_mlp(\"anchor1_checkpoint199.pt\"),\n",
    "    dl=test_loader,\n",
    "    num_points=21,\n",
    "    logger=None,\n",
    "    plot_title=f\"star-training-anchor-{i}\",\n",
    "    loss_fn=torch.nn.CrossEntropyLoss(),\n",
    "    train_dl=train_loader\n",
    ")\n",
    "\n",
    "print(loss_barrier)\n",
    "print(acc_barrier)"
   ]
  },
  {
   "cell_type": "code",
   "execution_count": 62,
   "metadata": {},
   "outputs": [
    {
     "name": "stdout",
     "output_type": "stream",
     "text": [
      "1.0156645817716026e-05\n",
      "0.0\n"
     ]
    }
   ],
   "source": [
    "print(loss_barrier)\n",
    "print(acc_barrier)"
   ]
  },
  {
   "cell_type": "code",
   "execution_count": 69,
   "metadata": {},
   "outputs": [
    {
     "name": "stdout",
     "output_type": "stream",
     "text": [
      "0.5033825747668743\n",
      "-0.24550000011920936\n"
     ]
    }
   ],
   "source": [
    "train_loader, val_loader, test_loader = make_dataloaders_from_df(SPIRALS_PATH, batch_size=128)\n",
    "\n",
    "loss_barrier, acc_barrier = make_interpolation_plot(\n",
    "    model1=load_mlp(\"anchor0_checkpoint199.pt\"),\n",
    "    model2=load_mlp(\"anchor4_checkpoint199.pt\"),\n",
    "    dl=test_loader,\n",
    "    num_points=21,\n",
    "    logger=None,\n",
    "    plot_title=f\"star-training-anchor-{i}\",\n",
    "    loss_fn=torch.nn.CrossEntropyLoss(),\n",
    "    train_dl=train_loader\n",
    ")\n",
    "\n",
    "print(loss_barrier)\n",
    "print(acc_barrier)"
   ]
  },
  {
   "cell_type": "markdown",
   "metadata": {},
   "source": [
    "# Prepare cifar100"
   ]
  },
  {
   "cell_type": "code",
   "execution_count": 177,
   "metadata": {},
   "outputs": [
    {
     "data": {
      "text/plain": [
       "'https://drive.google.com/uc?id=1zTH5_YBM9h4AYfeQWhkJyqXW_14xS38B'"
      ]
     },
     "execution_count": 177,
     "metadata": {},
     "output_type": "execute_result"
    }
   ],
   "source": [
    "get_link(\"https://drive.google.com/file/d/1zTH5_YBM9h4AYfeQWhkJyqXW_14xS38B/view?usp=drive_link\")"
   ]
  },
  {
   "cell_type": "code",
   "execution_count": 178,
   "metadata": {},
   "outputs": [
    {
     "name": "stdout",
     "output_type": "stream",
     "text": [
      "Downloading...\n",
      "From (original): https://drive.google.com/uc?id=1zTH5_YBM9h4AYfeQWhkJyqXW_14xS38B\n",
      "From (redirected): https://drive.google.com/uc?id=1zTH5_YBM9h4AYfeQWhkJyqXW_14xS38B&confirm=t&uuid=51724791-d6b0-4e41-9a83-bae8a9e60ecc\n",
      "To: /scratch_local/arubinstein17-163577/starlight/notebooks/cifar100_resnet18.zip\n",
      "100%|██████████████████████████████████████| 4.38G/4.38G [00:57<00:00, 76.1MB/s]\n"
     ]
    }
   ],
   "source": [
    "!gdown https://drive.google.com/uc?id=1zTH5_YBM9h4AYfeQWhkJyqXW_14xS38B"
   ]
  },
  {
   "cell_type": "code",
   "execution_count": 182,
   "metadata": {},
   "outputs": [
    {
     "name": "stdout",
     "output_type": "stream",
     "text": [
      "Archive:  cifar100_resnet18.zip\n",
      "   creating: ./cifar100_resnet18/\n",
      "   creating: ./cifar100_resnet18/anchors/\n",
      "  inflating: ./cifar100_resnet18/anchors/0eqk0gla.pt  \n",
      "  inflating: ./cifar100_resnet18/anchors/384qnuxm.pt  \n",
      "  inflating: ./cifar100_resnet18/anchors/3n8ftowe.pt  \n",
      "  inflating: ./cifar100_resnet18/anchors/4808726s.pt  \n",
      "  inflating: ./cifar100_resnet18/anchors/4rjdi4pa.pt  \n",
      "  inflating: ./cifar100_resnet18/anchors/5bfkmro6.pt  \n",
      "  inflating: ./cifar100_resnet18/anchors/65cr1zyr.pt  \n",
      "  inflating: ./cifar100_resnet18/anchors/6hapim4a.pt  \n",
      "  inflating: ./cifar100_resnet18/anchors/73s47o0m.pt  \n",
      "  inflating: ./cifar100_resnet18/anchors/75eeo9bw.pt  \n",
      "  inflating: ./cifar100_resnet18/anchors/7wgab2a1.pt  \n",
      "  inflating: ./cifar100_resnet18/anchors/82yrfx4p.pt  \n",
      "  inflating: ./cifar100_resnet18/anchors/85izljav.pt  \n",
      "  inflating: ./cifar100_resnet18/anchors/8pppxxoh.pt  \n",
      "  inflating: ./cifar100_resnet18/anchors/9ansq593.pt  \n",
      "  inflating: ./cifar100_resnet18/anchors/9lzove03.pt  \n",
      "  inflating: ./cifar100_resnet18/anchors/9re9ls52.pt  \n",
      "  inflating: ./cifar100_resnet18/anchors/b8edhde7.pt  \n",
      "  inflating: ./cifar100_resnet18/anchors/br07xk8k.pt  \n",
      "  inflating: ./cifar100_resnet18/anchors/dvwez9x0.pt  \n",
      "  inflating: ./cifar100_resnet18/anchors/eiy3zm52.pt  \n",
      "  inflating: ./cifar100_resnet18/anchors/erl5jo46.pt  \n",
      "  inflating: ./cifar100_resnet18/anchors/esyfmqwh.pt  \n",
      "  inflating: ./cifar100_resnet18/anchors/hy5ha0xa.pt  \n",
      "  inflating: ./cifar100_resnet18/anchors/i0elfh2k.pt  \n",
      "  inflating: ./cifar100_resnet18/anchors/k6mlympe.pt  \n",
      "  inflating: ./cifar100_resnet18/anchors/m8i4h50d.pt  \n",
      "  inflating: ./cifar100_resnet18/anchors/my5cprnt.pt  \n",
      "  inflating: ./cifar100_resnet18/anchors/n35vnizu.pt  \n",
      "  inflating: ./cifar100_resnet18/anchors/n7oxm1xb.pt  \n",
      "  inflating: ./cifar100_resnet18/anchors/nkg68phw.pt  \n",
      "  inflating: ./cifar100_resnet18/anchors/nuumgejz.pt  \n",
      "  inflating: ./cifar100_resnet18/anchors/o2oyi2nf.pt  \n",
      "  inflating: ./cifar100_resnet18/anchors/oox16zjn.pt  \n",
      "  inflating: ./cifar100_resnet18/anchors/ov6x1lqj.pt  \n",
      "  inflating: ./cifar100_resnet18/anchors/pe310882.pt  \n",
      "  inflating: ./cifar100_resnet18/anchors/q2gllnjv.pt  \n",
      "  inflating: ./cifar100_resnet18/anchors/r2o7x5i1.pt  \n",
      "  inflating: ./cifar100_resnet18/anchors/rh9yri3q.pt  \n",
      "  inflating: ./cifar100_resnet18/anchors/snvoiwk8.pt  \n",
      "  inflating: ./cifar100_resnet18/anchors/tkidvkts.pt  \n",
      "  inflating: ./cifar100_resnet18/anchors/ujlp84sv.pt  \n",
      "  inflating: ./cifar100_resnet18/anchors/uy9nifms.pt  \n",
      "  inflating: ./cifar100_resnet18/anchors/vkizt9fw.pt  \n",
      "  inflating: ./cifar100_resnet18/anchors/vxjpcom6.pt  \n",
      "  inflating: ./cifar100_resnet18/anchors/w5f9zlyz.pt  \n",
      "  inflating: ./cifar100_resnet18/anchors/xgiriafc.pt  \n",
      "  inflating: ./cifar100_resnet18/anchors/xin4qq61.pt  \n",
      "  inflating: ./cifar100_resnet18/anchors/yitudn1n.pt  \n",
      "  inflating: ./cifar100_resnet18/anchors/yym0yakn.pt  \n",
      "   creating: ./cifar100_resnet18/held_out/\n",
      "  inflating: ./cifar100_resnet18/held_out/5ybrap81.pt  \n",
      "  inflating: ./cifar100_resnet18/held_out/deeyhj64.pt  \n",
      "  inflating: ./cifar100_resnet18/held_out/iz5dbedn.pt  \n",
      "  inflating: ./cifar100_resnet18/held_out/lu136w7y.pt  \n",
      "  inflating: ./cifar100_resnet18/held_out/pfb5z421.pt  \n",
      "   creating: ./cifar100_resnet18/stars/\n",
      "  inflating: ./cifar100_resnet18/stars/01fj1cav.pt  \n",
      "  inflating: ./cifar100_resnet18/stars/212q5op8.pt  \n",
      "  inflating: ./cifar100_resnet18/stars/2umwboaq.pt  \n",
      "  inflating: ./cifar100_resnet18/stars/4g7iow4i.pt  \n",
      "  inflating: ./cifar100_resnet18/stars/4ka33yun.pt  \n",
      "  inflating: ./cifar100_resnet18/stars/4mpboz6f.pt  \n",
      "  inflating: ./cifar100_resnet18/stars/5dbhkw8n.pt  \n",
      "  inflating: ./cifar100_resnet18/stars/5fvuoo9o.pt  \n",
      "  inflating: ./cifar100_resnet18/stars/62vupcxw.pt  \n",
      "  inflating: ./cifar100_resnet18/stars/8ohvns2x.pt  \n",
      "  inflating: ./cifar100_resnet18/stars/9wbxgj27.pt  \n",
      "  inflating: ./cifar100_resnet18/stars/asjzt0xi.pt  \n",
      "  inflating: ./cifar100_resnet18/stars/c1inahy6.pt  \n",
      "  inflating: ./cifar100_resnet18/stars/co2azwwu.pt  \n",
      "  inflating: ./cifar100_resnet18/stars/dae3lsxe.pt  \n",
      "  inflating: ./cifar100_resnet18/stars/dlheymzg.pt  \n",
      "  inflating: ./cifar100_resnet18/stars/f0bx9406.pt  \n",
      "  inflating: ./cifar100_resnet18/stars/f7om0hjv.pt  \n",
      "  inflating: ./cifar100_resnet18/stars/flplzcv0.pt  \n",
      "  inflating: ./cifar100_resnet18/stars/fxo5dvzl.pt  \n",
      "  inflating: ./cifar100_resnet18/stars/g33gez6l.pt  \n",
      "  inflating: ./cifar100_resnet18/stars/gubc215d.pt  \n",
      "  inflating: ./cifar100_resnet18/stars/htkden3t.pt  \n",
      "  inflating: ./cifar100_resnet18/stars/ifdm9ivb.pt  \n",
      "  inflating: ./cifar100_resnet18/stars/igx4038c.pt  \n",
      "  inflating: ./cifar100_resnet18/stars/jb319hd6.pt  \n",
      "  inflating: ./cifar100_resnet18/stars/jb9n9mfr.pt  \n",
      "  inflating: ./cifar100_resnet18/stars/jq5wq4dp.pt  \n",
      "  inflating: ./cifar100_resnet18/stars/k18od5rh.pt  \n",
      "  inflating: ./cifar100_resnet18/stars/lgd1aief.pt  \n",
      "  inflating: ./cifar100_resnet18/stars/ly0u9r9m.pt  \n",
      "  inflating: ./cifar100_resnet18/stars/mgcabk97.pt  \n",
      "  inflating: ./cifar100_resnet18/stars/n1fhedyf.pt  \n",
      "  inflating: ./cifar100_resnet18/stars/odzwjvjg.pt  \n",
      "  inflating: ./cifar100_resnet18/stars/oj7wbagz.pt  \n",
      "  inflating: ./cifar100_resnet18/stars/pjdaet20.pt  \n",
      "  inflating: ./cifar100_resnet18/stars/pmckxm16.pt  \n",
      "  inflating: ./cifar100_resnet18/stars/qap7gxl1.pt  \n",
      "  inflating: ./cifar100_resnet18/stars/qohmwx0f.pt  \n",
      "  inflating: ./cifar100_resnet18/stars/rylbd95p.pt  \n",
      "  inflating: ./cifar100_resnet18/stars/s4kgdrmw.pt  \n",
      "  inflating: ./cifar100_resnet18/stars/sq6rjqfp.pt  \n",
      "  inflating: ./cifar100_resnet18/stars/swhl6q8t.pt  \n",
      "  inflating: ./cifar100_resnet18/stars/t200saru.pt  \n",
      "  inflating: ./cifar100_resnet18/stars/tautonsr.pt  \n",
      "  inflating: ./cifar100_resnet18/stars/wa8x6rt9.pt  \n",
      "  inflating: ./cifar100_resnet18/stars/wjius2n1.pt  \n",
      "  inflating: ./cifar100_resnet18/stars/xepnvp6t.pt  \n",
      "  inflating: ./cifar100_resnet18/stars/yvi97vmj.pt  \n",
      "  inflating: ./cifar100_resnet18/stars/zcgviume.pt  \n"
     ]
    }
   ],
   "source": [
    "!unzip cifar100_resnet18.zip -d ./"
   ]
  },
  {
   "cell_type": "code",
   "execution_count": 4,
   "metadata": {},
   "outputs": [],
   "source": [
    "last_10_stars_cifar100_resnet18_names = extract_list_from_huge_string(\n",
    "    \"\"\"212q5op8\n",
    "ly0u9r9m\n",
    "t200saru\n",
    "zcgviume\n",
    "mgcabk97\n",
    "2umwboaq\n",
    "wa8x6rt9\n",
    "yvi97vmj\n",
    "lgd1aief\n",
    "rylbd95p\"\"\"\n",
    ")"
   ]
  },
  {
   "cell_type": "code",
   "execution_count": 5,
   "metadata": {},
   "outputs": [
    {
     "name": "stdout",
     "output_type": "stream",
     "text": [
      "Files already downloaded and verified\n",
      "Files already downloaded and verified\n",
      "Files already downloaded and verified\n",
      "Using 45000 images for training\n",
      "Using 5000 images for validation\n",
      "Using train transform Compose(\n",
      "    IdentityTransform()\n",
      "    ToTensor()\n",
      "    Normalize(mean=[0.485 0.456 0.406], std=[0.229 0.224 0.225])\n",
      ")\n"
     ]
    }
   ],
   "source": [
    "anchors_cifar100_resnet18, stars_cifar100_resnet18 = get_paths(\"./cifar100_resnet18/\")\n",
    "\n",
    "cifar100_train_dataloader, _, _ = load_cifar100(\n",
    "    batch_size=256,\n",
    "    num_workers=8,\n",
    "    img_size=32,\n",
    "    normalize=True,\n",
    "    resize=False,\n",
    "    horizontal_flip=False,\n",
    "    vertical_flip=False,\n",
    "    random_crop_resize=False,\n",
    "    random_resize_crop=False,\n",
    "    color_jitter=False,\n",
    "    rotation_range=0,\n",
    "    pad_random_crop=False,\n",
    "    random_one_aug=False,\n",
    "    train_set_fraction=1.0,\n",
    "    return_ds=False,\n",
    ")"
   ]
  },
  {
   "cell_type": "markdown",
   "metadata": {},
   "source": [
    "# Prepare cifar10"
   ]
  },
  {
   "cell_type": "code",
   "execution_count": null,
   "metadata": {},
   "outputs": [],
   "source": [
    "get_link(\"https://drive.google.com/file/d/1g-TxEGbORtHmxVEefoJtk2yxSf_mHL28/view?usp=drive_link\")"
   ]
  },
  {
   "cell_type": "code",
   "execution_count": null,
   "metadata": {},
   "outputs": [],
   "source": [
    "!gdown https://drive.google.com/uc?id=1g-TxEGbORtHmxVEefoJtk2yxSf_mHL28"
   ]
  },
  {
   "cell_type": "code",
   "execution_count": null,
   "metadata": {},
   "outputs": [],
   "source": [
    "!unzip cifar10_resnet18.zip -d ./"
   ]
  },
  {
   "cell_type": "code",
   "execution_count": 4,
   "metadata": {},
   "outputs": [],
   "source": [
    "last_10_stars = extract_list_from_huge_string(\"\"\"8dirowph\n",
    "wrvljast\n",
    "nyolmhfc\n",
    "82pxe1i8\n",
    "n8vpmpbj\n",
    "h2qjwxrq\n",
    "n5sjdrla\n",
    "6gps5q6c\n",
    "bezgu0h7\n",
    "by2vpp9d\"\"\")"
   ]
  },
  {
   "cell_type": "code",
   "execution_count": 5,
   "metadata": {},
   "outputs": [
    {
     "name": "stdout",
     "output_type": "stream",
     "text": [
      "Files already downloaded and verified\n",
      "Files already downloaded and verified\n",
      "Files already downloaded and verified\n",
      "Using 45000 images for training\n",
      "Using 5000 images for validation\n",
      "Using train transform Compose(\n",
      "    IdentityTransform()\n",
      "    ToTensor()\n",
      "    Normalize(mean=[0.485 0.456 0.406], std=[0.229 0.224 0.225])\n",
      ")\n"
     ]
    }
   ],
   "source": [
    "anchors_resnet18, stars_resnet18 = get_paths(\"./cifar10_resnet18/\")\n",
    "\n",
    "# stars_resnet18 = [path for path in stars_resnet18 if get_model_id(path) in last_10_stars]\n",
    "\n",
    "cifar10_train_dataloader, _, _ = load_cifar10(\n",
    "    batch_size=256,\n",
    "    num_workers=8,\n",
    "    img_size=32,\n",
    "    normalize=True,\n",
    "    resize=False,\n",
    "    horizontal_flip=False,\n",
    "    vertical_flip=False,\n",
    "    random_crop_resize=False,\n",
    "    random_resize_crop=False,\n",
    "    color_jitter=False,\n",
    "    rotation_range=0,\n",
    "    pad_random_crop=False,\n",
    "    random_one_aug=False,\n",
    "    train_set_fraction=1.0,\n",
    "    return_ds=False,\n",
    ")"
   ]
  },
  {
   "cell_type": "markdown",
   "metadata": {},
   "source": [
    "# Compute margin"
   ]
  },
  {
   "cell_type": "markdown",
   "metadata": {},
   "source": [
    "## MLP spirals"
   ]
  },
  {
   "cell_type": "code",
   "execution_count": 118,
   "metadata": {},
   "outputs": [
    {
     "name": "stdout",
     "output_type": "stream",
     "text": [
      "Computing results for anchor_anchor0_checkpoint199_spirals_p1.0\n"
     ]
    },
    {
     "name": "stderr",
     "output_type": "stream",
     "text": [
      "batch:   0%|          | 0/55 [00:00<?, ?it/s]"
     ]
    },
    {
     "name": "stderr",
     "output_type": "stream",
     "text": [
      "batch: 100%|██████████| 55/55 [00:00<00:00, 378.26it/s]\n"
     ]
    },
    {
     "name": "stdout",
     "output_type": "stream",
     "text": [
      "Computing results for anchor_anchor1_checkpoint199_spirals_p1.0\n"
     ]
    },
    {
     "name": "stderr",
     "output_type": "stream",
     "text": [
      "batch: 100%|██████████| 55/55 [00:00<00:00, 382.56it/s]\n"
     ]
    },
    {
     "name": "stdout",
     "output_type": "stream",
     "text": [
      "Computing results for anchor_anchor2_checkpoint199_spirals_p1.0\n"
     ]
    },
    {
     "name": "stderr",
     "output_type": "stream",
     "text": [
      "batch: 100%|██████████| 55/55 [00:00<00:00, 383.37it/s]\n"
     ]
    },
    {
     "name": "stdout",
     "output_type": "stream",
     "text": [
      "Computing results for anchor_anchor3_checkpoint199_spirals_p1.0\n"
     ]
    },
    {
     "name": "stderr",
     "output_type": "stream",
     "text": [
      "batch: 100%|██████████| 55/55 [00:00<00:00, 385.52it/s]\n"
     ]
    },
    {
     "name": "stdout",
     "output_type": "stream",
     "text": [
      "Computing results for anchor_anchor4_checkpoint199_spirals_p1.0\n"
     ]
    },
    {
     "name": "stderr",
     "output_type": "stream",
     "text": [
      "batch: 100%|██████████| 55/55 [00:00<00:00, 381.39it/s]\n"
     ]
    },
    {
     "name": "stdout",
     "output_type": "stream",
     "text": [
      "Computing results for anchor_anchor5_checkpoint199_spirals_p1.0\n"
     ]
    },
    {
     "name": "stderr",
     "output_type": "stream",
     "text": [
      "batch: 100%|██████████| 55/55 [00:00<00:00, 382.32it/s]\n"
     ]
    },
    {
     "name": "stdout",
     "output_type": "stream",
     "text": [
      "Computing results for anchor_anchor6_checkpoint199_spirals_p1.0\n"
     ]
    },
    {
     "name": "stderr",
     "output_type": "stream",
     "text": [
      "batch: 100%|██████████| 55/55 [00:00<00:00, 387.59it/s]\n"
     ]
    },
    {
     "name": "stdout",
     "output_type": "stream",
     "text": [
      "Computing results for anchor_anchor7_checkpoint199_spirals_p1.0\n"
     ]
    },
    {
     "name": "stderr",
     "output_type": "stream",
     "text": [
      "batch: 100%|██████████| 55/55 [00:00<00:00, 384.77it/s]\n"
     ]
    },
    {
     "name": "stdout",
     "output_type": "stream",
     "text": [
      "Computing results for anchor_anchor8_checkpoint199_spirals_p1.0\n"
     ]
    },
    {
     "name": "stderr",
     "output_type": "stream",
     "text": [
      "batch: 100%|██████████| 55/55 [00:00<00:00, 387.25it/s]\n"
     ]
    },
    {
     "name": "stdout",
     "output_type": "stream",
     "text": [
      "Computing results for anchor_anchor9_checkpoint199_spirals_p1.0\n"
     ]
    },
    {
     "name": "stderr",
     "output_type": "stream",
     "text": [
      "batch: 100%|██████████| 55/55 [00:00<00:00, 385.95it/s]\n"
     ]
    },
    {
     "name": "stdout",
     "output_type": "stream",
     "text": [
      "Computing results for anchor_anchor10_checkpoint199_spirals_p1.0\n"
     ]
    },
    {
     "name": "stderr",
     "output_type": "stream",
     "text": [
      "batch: 100%|██████████| 55/55 [00:00<00:00, 385.29it/s]\n"
     ]
    },
    {
     "name": "stdout",
     "output_type": "stream",
     "text": [
      "Computing results for anchor_anchor11_checkpoint199_spirals_p1.0\n"
     ]
    },
    {
     "name": "stderr",
     "output_type": "stream",
     "text": [
      "batch: 100%|██████████| 55/55 [00:00<00:00, 379.39it/s]\n"
     ]
    },
    {
     "name": "stdout",
     "output_type": "stream",
     "text": [
      "Computing results for anchor_anchor12_checkpoint199_spirals_p1.0\n"
     ]
    },
    {
     "name": "stderr",
     "output_type": "stream",
     "text": [
      "batch: 100%|██████████| 55/55 [00:00<00:00, 373.92it/s]\n"
     ]
    },
    {
     "name": "stdout",
     "output_type": "stream",
     "text": [
      "Computing results for anchor_anchor13_checkpoint199_spirals_p1.0\n"
     ]
    },
    {
     "name": "stderr",
     "output_type": "stream",
     "text": [
      "batch: 100%|██████████| 55/55 [00:00<00:00, 341.86it/s]\n"
     ]
    },
    {
     "name": "stdout",
     "output_type": "stream",
     "text": [
      "Computing results for anchor_anchor14_checkpoint199_spirals_p1.0\n"
     ]
    },
    {
     "name": "stderr",
     "output_type": "stream",
     "text": [
      "batch: 100%|██████████| 55/55 [00:00<00:00, 384.98it/s]\n"
     ]
    },
    {
     "name": "stdout",
     "output_type": "stream",
     "text": [
      "Computing results for star_star0_checkpoint199_spirals_p1.0\n"
     ]
    },
    {
     "name": "stderr",
     "output_type": "stream",
     "text": [
      "batch: 100%|██████████| 55/55 [00:00<00:00, 371.60it/s]\n"
     ]
    },
    {
     "name": "stdout",
     "output_type": "stream",
     "text": [
      "Computing results for star_star1_checkpoint199_spirals_p1.0\n"
     ]
    },
    {
     "name": "stderr",
     "output_type": "stream",
     "text": [
      "batch: 100%|██████████| 55/55 [00:00<00:00, 380.76it/s]\n"
     ]
    },
    {
     "name": "stdout",
     "output_type": "stream",
     "text": [
      "Computing results for star_star2_checkpoint199_spirals_p1.0\n"
     ]
    },
    {
     "name": "stderr",
     "output_type": "stream",
     "text": [
      "batch: 100%|██████████| 55/55 [00:00<00:00, 381.16it/s]\n"
     ]
    }
   ],
   "source": [
    "spirals_mlp_res_path = \"./min2pred_l2_spirals_mlp_res_path.pt\"\n",
    "\n",
    "anchors_spiral = [\n",
    "    \"./anchor0_checkpoint199.pt\",\n",
    "    \"./anchor1_checkpoint199.pt\",\n",
    "    \"./anchor2_checkpoint199.pt\",\n",
    "    \"./anchor3_checkpoint199.pt\",\n",
    "    \"./anchor4_checkpoint199.pt\",\n",
    "    \"./anchor5_checkpoint199.pt\",\n",
    "    \"./anchor6_checkpoint199.pt\",\n",
    "    \"./anchor7_checkpoint199.pt\",\n",
    "    \"./anchor8_checkpoint199.pt\",\n",
    "    \"./anchor9_checkpoint199.pt\",\n",
    "    \"./anchor10_checkpoint199.pt\",\n",
    "    \"./anchor11_checkpoint199.pt\",\n",
    "    \"./anchor12_checkpoint199.pt\",\n",
    "    \"./anchor13_checkpoint199.pt\",\n",
    "    \"./anchor14_checkpoint199.pt\"\n",
    "]\n",
    "\n",
    "stars_spiral = [\n",
    "    \"./star0_checkpoint199.pt\",\n",
    "    \"./star1_checkpoint199.pt\",\n",
    "    \"./star2_checkpoint199.pt\"\n",
    "]\n",
    "\n",
    "spirals_train_loader, spirals_val_loader, spirals_test_loader \\\n",
    "    = make_dataloaders_from_df(SPIRALS_PATH, batch_size=128)\n",
    "\n",
    "max_cifar100_resnet18_results = compute_results(\n",
    "    anchors_spiral + stars_spiral,\n",
    "    spirals_train_loader,\n",
    "    spirals_mlp_res_path,\n",
    "    split_name=\"train\",\n",
    "    percent=1.0,\n",
    "    load_model=load_mlp,\n",
    "    # recompute_substring=\"p0\"\n",
    "    recompute_substring=None,\n",
    "    agg=\"min_to_pred\",\n",
    "    norm=\"l2\"\n",
    ")"
   ]
  },
  {
   "cell_type": "code",
   "execution_count": 119,
   "metadata": {},
   "outputs": [
    {
     "data": {
      "text/html": [
       "<div>\n",
       "<style scoped>\n",
       "    .dataframe tbody tr th:only-of-type {\n",
       "        vertical-align: middle;\n",
       "    }\n",
       "\n",
       "    .dataframe tbody tr th {\n",
       "        vertical-align: top;\n",
       "    }\n",
       "\n",
       "    .dataframe thead th {\n",
       "        text-align: right;\n",
       "    }\n",
       "</style>\n",
       "<table border=\"1\" class=\"dataframe\">\n",
       "  <thead>\n",
       "    <tr style=\"text-align: right;\">\n",
       "      <th></th>\n",
       "      <th>margin</th>\n",
       "      <th>model_type</th>\n",
       "      <th>dataset_name</th>\n",
       "      <th>percent</th>\n",
       "      <th>model_id</th>\n",
       "      <th>split_name</th>\n",
       "    </tr>\n",
       "  </thead>\n",
       "  <tbody>\n",
       "    <tr>\n",
       "      <th>anchor_anchor0_checkpoint199_spirals_p1.0</th>\n",
       "      <td>0.014164</td>\n",
       "      <td>anchor</td>\n",
       "      <td>spirals</td>\n",
       "      <td>1.0</td>\n",
       "      <td>anchor0_checkpoint199</td>\n",
       "      <td>train</td>\n",
       "    </tr>\n",
       "    <tr>\n",
       "      <th>anchor_anchor1_checkpoint199_spirals_p1.0</th>\n",
       "      <td>0.014178</td>\n",
       "      <td>anchor</td>\n",
       "      <td>spirals</td>\n",
       "      <td>1.0</td>\n",
       "      <td>anchor1_checkpoint199</td>\n",
       "      <td>train</td>\n",
       "    </tr>\n",
       "    <tr>\n",
       "      <th>anchor_anchor2_checkpoint199_spirals_p1.0</th>\n",
       "      <td>0.014183</td>\n",
       "      <td>anchor</td>\n",
       "      <td>spirals</td>\n",
       "      <td>1.0</td>\n",
       "      <td>anchor2_checkpoint199</td>\n",
       "      <td>train</td>\n",
       "    </tr>\n",
       "    <tr>\n",
       "      <th>anchor_anchor3_checkpoint199_spirals_p1.0</th>\n",
       "      <td>0.014204</td>\n",
       "      <td>anchor</td>\n",
       "      <td>spirals</td>\n",
       "      <td>1.0</td>\n",
       "      <td>anchor3_checkpoint199</td>\n",
       "      <td>train</td>\n",
       "    </tr>\n",
       "    <tr>\n",
       "      <th>anchor_anchor4_checkpoint199_spirals_p1.0</th>\n",
       "      <td>0.014131</td>\n",
       "      <td>anchor</td>\n",
       "      <td>spirals</td>\n",
       "      <td>1.0</td>\n",
       "      <td>anchor4_checkpoint199</td>\n",
       "      <td>train</td>\n",
       "    </tr>\n",
       "    <tr>\n",
       "      <th>anchor_anchor5_checkpoint199_spirals_p1.0</th>\n",
       "      <td>0.014180</td>\n",
       "      <td>anchor</td>\n",
       "      <td>spirals</td>\n",
       "      <td>1.0</td>\n",
       "      <td>anchor5_checkpoint199</td>\n",
       "      <td>train</td>\n",
       "    </tr>\n",
       "    <tr>\n",
       "      <th>anchor_anchor6_checkpoint199_spirals_p1.0</th>\n",
       "      <td>0.014183</td>\n",
       "      <td>anchor</td>\n",
       "      <td>spirals</td>\n",
       "      <td>1.0</td>\n",
       "      <td>anchor6_checkpoint199</td>\n",
       "      <td>train</td>\n",
       "    </tr>\n",
       "    <tr>\n",
       "      <th>anchor_anchor7_checkpoint199_spirals_p1.0</th>\n",
       "      <td>0.014148</td>\n",
       "      <td>anchor</td>\n",
       "      <td>spirals</td>\n",
       "      <td>1.0</td>\n",
       "      <td>anchor7_checkpoint199</td>\n",
       "      <td>train</td>\n",
       "    </tr>\n",
       "    <tr>\n",
       "      <th>anchor_anchor8_checkpoint199_spirals_p1.0</th>\n",
       "      <td>0.014168</td>\n",
       "      <td>anchor</td>\n",
       "      <td>spirals</td>\n",
       "      <td>1.0</td>\n",
       "      <td>anchor8_checkpoint199</td>\n",
       "      <td>train</td>\n",
       "    </tr>\n",
       "    <tr>\n",
       "      <th>anchor_anchor9_checkpoint199_spirals_p1.0</th>\n",
       "      <td>0.014152</td>\n",
       "      <td>anchor</td>\n",
       "      <td>spirals</td>\n",
       "      <td>1.0</td>\n",
       "      <td>anchor9_checkpoint199</td>\n",
       "      <td>train</td>\n",
       "    </tr>\n",
       "    <tr>\n",
       "      <th>anchor_anchor10_checkpoint199_spirals_p1.0</th>\n",
       "      <td>0.014154</td>\n",
       "      <td>anchor</td>\n",
       "      <td>spirals</td>\n",
       "      <td>1.0</td>\n",
       "      <td>anchor10_checkpoint199</td>\n",
       "      <td>train</td>\n",
       "    </tr>\n",
       "    <tr>\n",
       "      <th>anchor_anchor11_checkpoint199_spirals_p1.0</th>\n",
       "      <td>0.014177</td>\n",
       "      <td>anchor</td>\n",
       "      <td>spirals</td>\n",
       "      <td>1.0</td>\n",
       "      <td>anchor11_checkpoint199</td>\n",
       "      <td>train</td>\n",
       "    </tr>\n",
       "    <tr>\n",
       "      <th>anchor_anchor12_checkpoint199_spirals_p1.0</th>\n",
       "      <td>0.014144</td>\n",
       "      <td>anchor</td>\n",
       "      <td>spirals</td>\n",
       "      <td>1.0</td>\n",
       "      <td>anchor12_checkpoint199</td>\n",
       "      <td>train</td>\n",
       "    </tr>\n",
       "    <tr>\n",
       "      <th>anchor_anchor13_checkpoint199_spirals_p1.0</th>\n",
       "      <td>0.014137</td>\n",
       "      <td>anchor</td>\n",
       "      <td>spirals</td>\n",
       "      <td>1.0</td>\n",
       "      <td>anchor13_checkpoint199</td>\n",
       "      <td>train</td>\n",
       "    </tr>\n",
       "    <tr>\n",
       "      <th>anchor_anchor14_checkpoint199_spirals_p1.0</th>\n",
       "      <td>0.014131</td>\n",
       "      <td>anchor</td>\n",
       "      <td>spirals</td>\n",
       "      <td>1.0</td>\n",
       "      <td>anchor14_checkpoint199</td>\n",
       "      <td>train</td>\n",
       "    </tr>\n",
       "    <tr>\n",
       "      <th>star_star0_checkpoint199_spirals_p1.0</th>\n",
       "      <td>0.013787</td>\n",
       "      <td>star</td>\n",
       "      <td>spirals</td>\n",
       "      <td>1.0</td>\n",
       "      <td>star0_checkpoint199</td>\n",
       "      <td>train</td>\n",
       "    </tr>\n",
       "    <tr>\n",
       "      <th>star_star1_checkpoint199_spirals_p1.0</th>\n",
       "      <td>0.013785</td>\n",
       "      <td>star</td>\n",
       "      <td>spirals</td>\n",
       "      <td>1.0</td>\n",
       "      <td>star1_checkpoint199</td>\n",
       "      <td>train</td>\n",
       "    </tr>\n",
       "    <tr>\n",
       "      <th>star_star2_checkpoint199_spirals_p1.0</th>\n",
       "      <td>0.013743</td>\n",
       "      <td>star</td>\n",
       "      <td>spirals</td>\n",
       "      <td>1.0</td>\n",
       "      <td>star2_checkpoint199</td>\n",
       "      <td>train</td>\n",
       "    </tr>\n",
       "  </tbody>\n",
       "</table>\n",
       "</div>"
      ],
      "text/plain": [
       "                                              margin model_type dataset_name  \\\n",
       "anchor_anchor0_checkpoint199_spirals_p1.0   0.014164     anchor      spirals   \n",
       "anchor_anchor1_checkpoint199_spirals_p1.0   0.014178     anchor      spirals   \n",
       "anchor_anchor2_checkpoint199_spirals_p1.0   0.014183     anchor      spirals   \n",
       "anchor_anchor3_checkpoint199_spirals_p1.0   0.014204     anchor      spirals   \n",
       "anchor_anchor4_checkpoint199_spirals_p1.0   0.014131     anchor      spirals   \n",
       "anchor_anchor5_checkpoint199_spirals_p1.0   0.014180     anchor      spirals   \n",
       "anchor_anchor6_checkpoint199_spirals_p1.0   0.014183     anchor      spirals   \n",
       "anchor_anchor7_checkpoint199_spirals_p1.0   0.014148     anchor      spirals   \n",
       "anchor_anchor8_checkpoint199_spirals_p1.0   0.014168     anchor      spirals   \n",
       "anchor_anchor9_checkpoint199_spirals_p1.0   0.014152     anchor      spirals   \n",
       "anchor_anchor10_checkpoint199_spirals_p1.0  0.014154     anchor      spirals   \n",
       "anchor_anchor11_checkpoint199_spirals_p1.0  0.014177     anchor      spirals   \n",
       "anchor_anchor12_checkpoint199_spirals_p1.0  0.014144     anchor      spirals   \n",
       "anchor_anchor13_checkpoint199_spirals_p1.0  0.014137     anchor      spirals   \n",
       "anchor_anchor14_checkpoint199_spirals_p1.0  0.014131     anchor      spirals   \n",
       "star_star0_checkpoint199_spirals_p1.0       0.013787       star      spirals   \n",
       "star_star1_checkpoint199_spirals_p1.0       0.013785       star      spirals   \n",
       "star_star2_checkpoint199_spirals_p1.0       0.013743       star      spirals   \n",
       "\n",
       "                                            percent                model_id  \\\n",
       "anchor_anchor0_checkpoint199_spirals_p1.0       1.0   anchor0_checkpoint199   \n",
       "anchor_anchor1_checkpoint199_spirals_p1.0       1.0   anchor1_checkpoint199   \n",
       "anchor_anchor2_checkpoint199_spirals_p1.0       1.0   anchor2_checkpoint199   \n",
       "anchor_anchor3_checkpoint199_spirals_p1.0       1.0   anchor3_checkpoint199   \n",
       "anchor_anchor4_checkpoint199_spirals_p1.0       1.0   anchor4_checkpoint199   \n",
       "anchor_anchor5_checkpoint199_spirals_p1.0       1.0   anchor5_checkpoint199   \n",
       "anchor_anchor6_checkpoint199_spirals_p1.0       1.0   anchor6_checkpoint199   \n",
       "anchor_anchor7_checkpoint199_spirals_p1.0       1.0   anchor7_checkpoint199   \n",
       "anchor_anchor8_checkpoint199_spirals_p1.0       1.0   anchor8_checkpoint199   \n",
       "anchor_anchor9_checkpoint199_spirals_p1.0       1.0   anchor9_checkpoint199   \n",
       "anchor_anchor10_checkpoint199_spirals_p1.0      1.0  anchor10_checkpoint199   \n",
       "anchor_anchor11_checkpoint199_spirals_p1.0      1.0  anchor11_checkpoint199   \n",
       "anchor_anchor12_checkpoint199_spirals_p1.0      1.0  anchor12_checkpoint199   \n",
       "anchor_anchor13_checkpoint199_spirals_p1.0      1.0  anchor13_checkpoint199   \n",
       "anchor_anchor14_checkpoint199_spirals_p1.0      1.0  anchor14_checkpoint199   \n",
       "star_star0_checkpoint199_spirals_p1.0           1.0     star0_checkpoint199   \n",
       "star_star1_checkpoint199_spirals_p1.0           1.0     star1_checkpoint199   \n",
       "star_star2_checkpoint199_spirals_p1.0           1.0     star2_checkpoint199   \n",
       "\n",
       "                                           split_name  \n",
       "anchor_anchor0_checkpoint199_spirals_p1.0       train  \n",
       "anchor_anchor1_checkpoint199_spirals_p1.0       train  \n",
       "anchor_anchor2_checkpoint199_spirals_p1.0       train  \n",
       "anchor_anchor3_checkpoint199_spirals_p1.0       train  \n",
       "anchor_anchor4_checkpoint199_spirals_p1.0       train  \n",
       "anchor_anchor5_checkpoint199_spirals_p1.0       train  \n",
       "anchor_anchor6_checkpoint199_spirals_p1.0       train  \n",
       "anchor_anchor7_checkpoint199_spirals_p1.0       train  \n",
       "anchor_anchor8_checkpoint199_spirals_p1.0       train  \n",
       "anchor_anchor9_checkpoint199_spirals_p1.0       train  \n",
       "anchor_anchor10_checkpoint199_spirals_p1.0      train  \n",
       "anchor_anchor11_checkpoint199_spirals_p1.0      train  \n",
       "anchor_anchor12_checkpoint199_spirals_p1.0      train  \n",
       "anchor_anchor13_checkpoint199_spirals_p1.0      train  \n",
       "anchor_anchor14_checkpoint199_spirals_p1.0      train  \n",
       "star_star0_checkpoint199_spirals_p1.0           train  \n",
       "star_star1_checkpoint199_spirals_p1.0           train  \n",
       "star_star2_checkpoint199_spirals_p1.0           train  "
      ]
     },
     "metadata": {},
     "output_type": "display_data"
    }
   ],
   "source": [
    "df = plot_dict(max_cifar100_resnet18_results, to_show=True)"
   ]
  },
  {
   "cell_type": "code",
   "execution_count": 120,
   "metadata": {},
   "outputs": [
    {
     "data": {
      "text/html": [
       "<div>\n",
       "<style scoped>\n",
       "    .dataframe tbody tr th:only-of-type {\n",
       "        vertical-align: middle;\n",
       "    }\n",
       "\n",
       "    .dataframe tbody tr th {\n",
       "        vertical-align: top;\n",
       "    }\n",
       "\n",
       "    .dataframe thead tr th {\n",
       "        text-align: left;\n",
       "    }\n",
       "\n",
       "    .dataframe thead tr:last-of-type th {\n",
       "        text-align: right;\n",
       "    }\n",
       "</style>\n",
       "<table border=\"1\" class=\"dataframe\">\n",
       "  <thead>\n",
       "    <tr>\n",
       "      <th></th>\n",
       "      <th colspan=\"2\" halign=\"left\">margin</th>\n",
       "      <th colspan=\"2\" halign=\"left\">percent</th>\n",
       "    </tr>\n",
       "    <tr>\n",
       "      <th></th>\n",
       "      <th>mean</th>\n",
       "      <th>std</th>\n",
       "      <th>mean</th>\n",
       "      <th>std</th>\n",
       "    </tr>\n",
       "    <tr>\n",
       "      <th>model_type</th>\n",
       "      <th></th>\n",
       "      <th></th>\n",
       "      <th></th>\n",
       "      <th></th>\n",
       "    </tr>\n",
       "  </thead>\n",
       "  <tbody>\n",
       "    <tr>\n",
       "      <th>anchor</th>\n",
       "      <td>0.014162</td>\n",
       "      <td>0.000022</td>\n",
       "      <td>1.0</td>\n",
       "      <td>0.0</td>\n",
       "    </tr>\n",
       "    <tr>\n",
       "      <th>star</th>\n",
       "      <td>0.013772</td>\n",
       "      <td>0.000024</td>\n",
       "      <td>1.0</td>\n",
       "      <td>0.0</td>\n",
       "    </tr>\n",
       "  </tbody>\n",
       "</table>\n",
       "</div>"
      ],
      "text/plain": [
       "              margin           percent     \n",
       "                mean       std    mean  std\n",
       "model_type                                 \n",
       "anchor      0.014162  0.000022     1.0  0.0\n",
       "star        0.013772  0.000024     1.0  0.0"
      ]
     },
     "metadata": {},
     "output_type": "display_data"
    }
   ],
   "source": [
    "df = plot_dict(max_cifar100_resnet18_results, to_show=True, filter_dict={}, drop_columns=[\"index\", \"dataset_name\", \"model_id\", \"split_name\"], group_aggregate_list=[\"model_type\"], query=\"percent == 1.0\")"
   ]
  },
  {
   "cell_type": "markdown",
   "metadata": {},
   "source": [
    "## Resnet18 Cifar100"
   ]
  },
  {
   "cell_type": "markdown",
   "metadata": {},
   "source": [
    "### L2 + min to pred"
   ]
  },
  {
   "cell_type": "code",
   "execution_count": 6,
   "metadata": {},
   "outputs": [
    {
     "name": "stdout",
     "output_type": "stream",
     "text": [
      "Computing results for anchors_0eqk0gla_cifar100_p0.1\n"
     ]
    },
    {
     "name": "stderr",
     "output_type": "stream",
     "text": [
      "batch: 100%|██████████| 176/176 [01:29<00:00,  1.96it/s]\n"
     ]
    },
    {
     "name": "stdout",
     "output_type": "stream",
     "text": [
      "Computing results for anchors_384qnuxm_cifar100_p0.1\n"
     ]
    },
    {
     "name": "stderr",
     "output_type": "stream",
     "text": [
      "batch: 100%|██████████| 176/176 [01:30<00:00,  1.95it/s]\n"
     ]
    },
    {
     "name": "stdout",
     "output_type": "stream",
     "text": [
      "Computing results for anchors_3n8ftowe_cifar100_p0.1\n"
     ]
    },
    {
     "name": "stderr",
     "output_type": "stream",
     "text": [
      "batch: 100%|██████████| 176/176 [01:30<00:00,  1.95it/s]\n"
     ]
    },
    {
     "name": "stdout",
     "output_type": "stream",
     "text": [
      "Computing results for anchors_4808726s_cifar100_p0.1\n"
     ]
    },
    {
     "name": "stderr",
     "output_type": "stream",
     "text": [
      "batch: 100%|██████████| 176/176 [01:30<00:00,  1.95it/s]\n"
     ]
    },
    {
     "name": "stdout",
     "output_type": "stream",
     "text": [
      "Computing results for anchors_4rjdi4pa_cifar100_p0.1\n"
     ]
    },
    {
     "name": "stderr",
     "output_type": "stream",
     "text": [
      "batch: 100%|██████████| 176/176 [01:30<00:00,  1.95it/s]\n"
     ]
    },
    {
     "name": "stdout",
     "output_type": "stream",
     "text": [
      "Computing results for anchors_5bfkmro6_cifar100_p0.1\n"
     ]
    },
    {
     "name": "stderr",
     "output_type": "stream",
     "text": [
      "batch: 100%|██████████| 176/176 [01:30<00:00,  1.95it/s]\n"
     ]
    },
    {
     "name": "stdout",
     "output_type": "stream",
     "text": [
      "Computing results for anchors_65cr1zyr_cifar100_p0.1\n"
     ]
    },
    {
     "name": "stderr",
     "output_type": "stream",
     "text": [
      "batch: 100%|██████████| 176/176 [01:30<00:00,  1.95it/s]\n"
     ]
    },
    {
     "name": "stdout",
     "output_type": "stream",
     "text": [
      "Computing results for anchors_6hapim4a_cifar100_p0.1\n"
     ]
    },
    {
     "name": "stderr",
     "output_type": "stream",
     "text": [
      "batch: 100%|██████████| 176/176 [01:30<00:00,  1.95it/s]\n"
     ]
    },
    {
     "name": "stdout",
     "output_type": "stream",
     "text": [
      "Computing results for anchors_73s47o0m_cifar100_p0.1\n"
     ]
    },
    {
     "name": "stderr",
     "output_type": "stream",
     "text": [
      "batch: 100%|██████████| 176/176 [01:30<00:00,  1.95it/s]\n"
     ]
    },
    {
     "name": "stdout",
     "output_type": "stream",
     "text": [
      "Computing results for anchors_75eeo9bw_cifar100_p0.1\n"
     ]
    },
    {
     "name": "stderr",
     "output_type": "stream",
     "text": [
      "batch: 100%|██████████| 176/176 [01:30<00:00,  1.95it/s]\n"
     ]
    },
    {
     "name": "stdout",
     "output_type": "stream",
     "text": [
      "Computing results for stars_212q5op8_cifar100_p0.1\n"
     ]
    },
    {
     "name": "stderr",
     "output_type": "stream",
     "text": [
      "batch: 100%|██████████| 176/176 [01:36<00:00,  1.83it/s]\n"
     ]
    },
    {
     "name": "stdout",
     "output_type": "stream",
     "text": [
      "Computing results for stars_2umwboaq_cifar100_p0.1\n"
     ]
    },
    {
     "name": "stderr",
     "output_type": "stream",
     "text": [
      "batch: 100%|██████████| 176/176 [01:30<00:00,  1.95it/s]\n"
     ]
    },
    {
     "name": "stdout",
     "output_type": "stream",
     "text": [
      "Computing results for stars_lgd1aief_cifar100_p0.1\n"
     ]
    },
    {
     "name": "stderr",
     "output_type": "stream",
     "text": [
      "batch: 100%|██████████| 176/176 [01:30<00:00,  1.94it/s]\n"
     ]
    },
    {
     "name": "stdout",
     "output_type": "stream",
     "text": [
      "Computing results for stars_ly0u9r9m_cifar100_p0.1\n"
     ]
    },
    {
     "name": "stderr",
     "output_type": "stream",
     "text": [
      "batch: 100%|██████████| 176/176 [01:30<00:00,  1.95it/s]\n"
     ]
    },
    {
     "name": "stdout",
     "output_type": "stream",
     "text": [
      "Computing results for stars_mgcabk97_cifar100_p0.1\n"
     ]
    },
    {
     "name": "stderr",
     "output_type": "stream",
     "text": [
      "batch: 100%|██████████| 176/176 [01:30<00:00,  1.94it/s]\n"
     ]
    },
    {
     "name": "stdout",
     "output_type": "stream",
     "text": [
      "Computing results for stars_rylbd95p_cifar100_p0.1\n"
     ]
    },
    {
     "name": "stderr",
     "output_type": "stream",
     "text": [
      "batch: 100%|██████████| 176/176 [01:30<00:00,  1.95it/s]\n"
     ]
    },
    {
     "name": "stdout",
     "output_type": "stream",
     "text": [
      "Computing results for stars_t200saru_cifar100_p0.1\n"
     ]
    },
    {
     "name": "stderr",
     "output_type": "stream",
     "text": [
      "batch: 100%|██████████| 176/176 [01:30<00:00,  1.95it/s]\n"
     ]
    },
    {
     "name": "stdout",
     "output_type": "stream",
     "text": [
      "Computing results for stars_wa8x6rt9_cifar100_p0.1\n"
     ]
    },
    {
     "name": "stderr",
     "output_type": "stream",
     "text": [
      "batch: 100%|██████████| 176/176 [01:30<00:00,  1.95it/s]\n"
     ]
    },
    {
     "name": "stdout",
     "output_type": "stream",
     "text": [
      "Computing results for stars_yvi97vmj_cifar100_p0.1\n"
     ]
    },
    {
     "name": "stderr",
     "output_type": "stream",
     "text": [
      "batch: 100%|██████████| 176/176 [01:30<00:00,  1.95it/s]\n"
     ]
    },
    {
     "name": "stdout",
     "output_type": "stream",
     "text": [
      "Computing results for stars_zcgviume_cifar100_p0.1\n"
     ]
    },
    {
     "name": "stderr",
     "output_type": "stream",
     "text": [
      "batch: 100%|██████████| 176/176 [01:30<00:00,  1.95it/s]\n"
     ]
    }
   ],
   "source": [
    "cifar100_resnet18_res_path = \"./min2pred_l2_cifar100_resnet18_results.pt\"\n",
    "\n",
    "last_10_stars_cifar100_resnet18 = [\n",
    "    path for path in stars_cifar100_resnet18 if get_model_id(path) in last_10_stars_cifar100_resnet18_names\n",
    "]\n",
    "\n",
    "max_cifar100_resnet18_results = compute_results(\n",
    "    anchors_cifar100_resnet18[:10] + last_10_stars_cifar100_resnet18,\n",
    "    cifar100_train_dataloader,\n",
    "    cifar100_resnet18_res_path,\n",
    "    split_name=\"train\",\n",
    "    percent=0.1,\n",
    "    load_model=get_resnet18_cifar100,\n",
    "    # recompute_substring=\"p0\"\n",
    "    recompute_substring=None,\n",
    "    agg=\"min_to_pred\",\n",
    "    norm=\"l2\"\n",
    ")"
   ]
  },
  {
   "cell_type": "code",
   "execution_count": 8,
   "metadata": {},
   "outputs": [
    {
     "data": {
      "text/html": [
       "<div>\n",
       "<style scoped>\n",
       "    .dataframe tbody tr th:only-of-type {\n",
       "        vertical-align: middle;\n",
       "    }\n",
       "\n",
       "    .dataframe tbody tr th {\n",
       "        vertical-align: top;\n",
       "    }\n",
       "\n",
       "    .dataframe thead th {\n",
       "        text-align: right;\n",
       "    }\n",
       "</style>\n",
       "<table border=\"1\" class=\"dataframe\">\n",
       "  <thead>\n",
       "    <tr style=\"text-align: right;\">\n",
       "      <th></th>\n",
       "      <th>margin</th>\n",
       "      <th>model_type</th>\n",
       "      <th>dataset_name</th>\n",
       "      <th>percent</th>\n",
       "      <th>model_id</th>\n",
       "      <th>split_name</th>\n",
       "    </tr>\n",
       "  </thead>\n",
       "  <tbody>\n",
       "    <tr>\n",
       "      <th>anchors_0eqk0gla_cifar100_p0.1</th>\n",
       "      <td>0.104104</td>\n",
       "      <td>anchors</td>\n",
       "      <td>cifar100</td>\n",
       "      <td>0.1</td>\n",
       "      <td>0eqk0gla</td>\n",
       "      <td>train</td>\n",
       "    </tr>\n",
       "    <tr>\n",
       "      <th>anchors_384qnuxm_cifar100_p0.1</th>\n",
       "      <td>0.107184</td>\n",
       "      <td>anchors</td>\n",
       "      <td>cifar100</td>\n",
       "      <td>0.1</td>\n",
       "      <td>384qnuxm</td>\n",
       "      <td>train</td>\n",
       "    </tr>\n",
       "    <tr>\n",
       "      <th>anchors_3n8ftowe_cifar100_p0.1</th>\n",
       "      <td>0.100297</td>\n",
       "      <td>anchors</td>\n",
       "      <td>cifar100</td>\n",
       "      <td>0.1</td>\n",
       "      <td>3n8ftowe</td>\n",
       "      <td>train</td>\n",
       "    </tr>\n",
       "    <tr>\n",
       "      <th>anchors_4808726s_cifar100_p0.1</th>\n",
       "      <td>0.106649</td>\n",
       "      <td>anchors</td>\n",
       "      <td>cifar100</td>\n",
       "      <td>0.1</td>\n",
       "      <td>4808726s</td>\n",
       "      <td>train</td>\n",
       "    </tr>\n",
       "    <tr>\n",
       "      <th>anchors_4rjdi4pa_cifar100_p0.1</th>\n",
       "      <td>0.101742</td>\n",
       "      <td>anchors</td>\n",
       "      <td>cifar100</td>\n",
       "      <td>0.1</td>\n",
       "      <td>4rjdi4pa</td>\n",
       "      <td>train</td>\n",
       "    </tr>\n",
       "    <tr>\n",
       "      <th>anchors_5bfkmro6_cifar100_p0.1</th>\n",
       "      <td>0.101090</td>\n",
       "      <td>anchors</td>\n",
       "      <td>cifar100</td>\n",
       "      <td>0.1</td>\n",
       "      <td>5bfkmro6</td>\n",
       "      <td>train</td>\n",
       "    </tr>\n",
       "    <tr>\n",
       "      <th>anchors_65cr1zyr_cifar100_p0.1</th>\n",
       "      <td>0.099083</td>\n",
       "      <td>anchors</td>\n",
       "      <td>cifar100</td>\n",
       "      <td>0.1</td>\n",
       "      <td>65cr1zyr</td>\n",
       "      <td>train</td>\n",
       "    </tr>\n",
       "    <tr>\n",
       "      <th>anchors_6hapim4a_cifar100_p0.1</th>\n",
       "      <td>0.103731</td>\n",
       "      <td>anchors</td>\n",
       "      <td>cifar100</td>\n",
       "      <td>0.1</td>\n",
       "      <td>6hapim4a</td>\n",
       "      <td>train</td>\n",
       "    </tr>\n",
       "    <tr>\n",
       "      <th>anchors_73s47o0m_cifar100_p0.1</th>\n",
       "      <td>0.098944</td>\n",
       "      <td>anchors</td>\n",
       "      <td>cifar100</td>\n",
       "      <td>0.1</td>\n",
       "      <td>73s47o0m</td>\n",
       "      <td>train</td>\n",
       "    </tr>\n",
       "    <tr>\n",
       "      <th>anchors_75eeo9bw_cifar100_p0.1</th>\n",
       "      <td>0.102124</td>\n",
       "      <td>anchors</td>\n",
       "      <td>cifar100</td>\n",
       "      <td>0.1</td>\n",
       "      <td>75eeo9bw</td>\n",
       "      <td>train</td>\n",
       "    </tr>\n",
       "    <tr>\n",
       "      <th>stars_212q5op8_cifar100_p0.1</th>\n",
       "      <td>0.066593</td>\n",
       "      <td>stars</td>\n",
       "      <td>cifar100</td>\n",
       "      <td>0.1</td>\n",
       "      <td>212q5op8</td>\n",
       "      <td>train</td>\n",
       "    </tr>\n",
       "    <tr>\n",
       "      <th>stars_2umwboaq_cifar100_p0.1</th>\n",
       "      <td>0.067317</td>\n",
       "      <td>stars</td>\n",
       "      <td>cifar100</td>\n",
       "      <td>0.1</td>\n",
       "      <td>2umwboaq</td>\n",
       "      <td>train</td>\n",
       "    </tr>\n",
       "    <tr>\n",
       "      <th>stars_lgd1aief_cifar100_p0.1</th>\n",
       "      <td>0.067419</td>\n",
       "      <td>stars</td>\n",
       "      <td>cifar100</td>\n",
       "      <td>0.1</td>\n",
       "      <td>lgd1aief</td>\n",
       "      <td>train</td>\n",
       "    </tr>\n",
       "    <tr>\n",
       "      <th>stars_ly0u9r9m_cifar100_p0.1</th>\n",
       "      <td>0.066342</td>\n",
       "      <td>stars</td>\n",
       "      <td>cifar100</td>\n",
       "      <td>0.1</td>\n",
       "      <td>ly0u9r9m</td>\n",
       "      <td>train</td>\n",
       "    </tr>\n",
       "    <tr>\n",
       "      <th>stars_mgcabk97_cifar100_p0.1</th>\n",
       "      <td>0.067288</td>\n",
       "      <td>stars</td>\n",
       "      <td>cifar100</td>\n",
       "      <td>0.1</td>\n",
       "      <td>mgcabk97</td>\n",
       "      <td>train</td>\n",
       "    </tr>\n",
       "    <tr>\n",
       "      <th>stars_rylbd95p_cifar100_p0.1</th>\n",
       "      <td>0.066606</td>\n",
       "      <td>stars</td>\n",
       "      <td>cifar100</td>\n",
       "      <td>0.1</td>\n",
       "      <td>rylbd95p</td>\n",
       "      <td>train</td>\n",
       "    </tr>\n",
       "    <tr>\n",
       "      <th>stars_t200saru_cifar100_p0.1</th>\n",
       "      <td>0.066501</td>\n",
       "      <td>stars</td>\n",
       "      <td>cifar100</td>\n",
       "      <td>0.1</td>\n",
       "      <td>t200saru</td>\n",
       "      <td>train</td>\n",
       "    </tr>\n",
       "    <tr>\n",
       "      <th>stars_wa8x6rt9_cifar100_p0.1</th>\n",
       "      <td>0.065690</td>\n",
       "      <td>stars</td>\n",
       "      <td>cifar100</td>\n",
       "      <td>0.1</td>\n",
       "      <td>wa8x6rt9</td>\n",
       "      <td>train</td>\n",
       "    </tr>\n",
       "    <tr>\n",
       "      <th>stars_yvi97vmj_cifar100_p0.1</th>\n",
       "      <td>0.065679</td>\n",
       "      <td>stars</td>\n",
       "      <td>cifar100</td>\n",
       "      <td>0.1</td>\n",
       "      <td>yvi97vmj</td>\n",
       "      <td>train</td>\n",
       "    </tr>\n",
       "    <tr>\n",
       "      <th>stars_zcgviume_cifar100_p0.1</th>\n",
       "      <td>0.067168</td>\n",
       "      <td>stars</td>\n",
       "      <td>cifar100</td>\n",
       "      <td>0.1</td>\n",
       "      <td>zcgviume</td>\n",
       "      <td>train</td>\n",
       "    </tr>\n",
       "  </tbody>\n",
       "</table>\n",
       "</div>"
      ],
      "text/plain": [
       "                                  margin model_type dataset_name  percent  \\\n",
       "anchors_0eqk0gla_cifar100_p0.1  0.104104    anchors     cifar100      0.1   \n",
       "anchors_384qnuxm_cifar100_p0.1  0.107184    anchors     cifar100      0.1   \n",
       "anchors_3n8ftowe_cifar100_p0.1  0.100297    anchors     cifar100      0.1   \n",
       "anchors_4808726s_cifar100_p0.1  0.106649    anchors     cifar100      0.1   \n",
       "anchors_4rjdi4pa_cifar100_p0.1  0.101742    anchors     cifar100      0.1   \n",
       "anchors_5bfkmro6_cifar100_p0.1  0.101090    anchors     cifar100      0.1   \n",
       "anchors_65cr1zyr_cifar100_p0.1  0.099083    anchors     cifar100      0.1   \n",
       "anchors_6hapim4a_cifar100_p0.1  0.103731    anchors     cifar100      0.1   \n",
       "anchors_73s47o0m_cifar100_p0.1  0.098944    anchors     cifar100      0.1   \n",
       "anchors_75eeo9bw_cifar100_p0.1  0.102124    anchors     cifar100      0.1   \n",
       "stars_212q5op8_cifar100_p0.1    0.066593      stars     cifar100      0.1   \n",
       "stars_2umwboaq_cifar100_p0.1    0.067317      stars     cifar100      0.1   \n",
       "stars_lgd1aief_cifar100_p0.1    0.067419      stars     cifar100      0.1   \n",
       "stars_ly0u9r9m_cifar100_p0.1    0.066342      stars     cifar100      0.1   \n",
       "stars_mgcabk97_cifar100_p0.1    0.067288      stars     cifar100      0.1   \n",
       "stars_rylbd95p_cifar100_p0.1    0.066606      stars     cifar100      0.1   \n",
       "stars_t200saru_cifar100_p0.1    0.066501      stars     cifar100      0.1   \n",
       "stars_wa8x6rt9_cifar100_p0.1    0.065690      stars     cifar100      0.1   \n",
       "stars_yvi97vmj_cifar100_p0.1    0.065679      stars     cifar100      0.1   \n",
       "stars_zcgviume_cifar100_p0.1    0.067168      stars     cifar100      0.1   \n",
       "\n",
       "                                model_id split_name  \n",
       "anchors_0eqk0gla_cifar100_p0.1  0eqk0gla      train  \n",
       "anchors_384qnuxm_cifar100_p0.1  384qnuxm      train  \n",
       "anchors_3n8ftowe_cifar100_p0.1  3n8ftowe      train  \n",
       "anchors_4808726s_cifar100_p0.1  4808726s      train  \n",
       "anchors_4rjdi4pa_cifar100_p0.1  4rjdi4pa      train  \n",
       "anchors_5bfkmro6_cifar100_p0.1  5bfkmro6      train  \n",
       "anchors_65cr1zyr_cifar100_p0.1  65cr1zyr      train  \n",
       "anchors_6hapim4a_cifar100_p0.1  6hapim4a      train  \n",
       "anchors_73s47o0m_cifar100_p0.1  73s47o0m      train  \n",
       "anchors_75eeo9bw_cifar100_p0.1  75eeo9bw      train  \n",
       "stars_212q5op8_cifar100_p0.1    212q5op8      train  \n",
       "stars_2umwboaq_cifar100_p0.1    2umwboaq      train  \n",
       "stars_lgd1aief_cifar100_p0.1    lgd1aief      train  \n",
       "stars_ly0u9r9m_cifar100_p0.1    ly0u9r9m      train  \n",
       "stars_mgcabk97_cifar100_p0.1    mgcabk97      train  \n",
       "stars_rylbd95p_cifar100_p0.1    rylbd95p      train  \n",
       "stars_t200saru_cifar100_p0.1    t200saru      train  \n",
       "stars_wa8x6rt9_cifar100_p0.1    wa8x6rt9      train  \n",
       "stars_yvi97vmj_cifar100_p0.1    yvi97vmj      train  \n",
       "stars_zcgviume_cifar100_p0.1    zcgviume      train  "
      ]
     },
     "metadata": {},
     "output_type": "display_data"
    }
   ],
   "source": [
    "df = plot_dict(max_cifar100_resnet18_results, to_show=True)"
   ]
  },
  {
   "cell_type": "code",
   "execution_count": 9,
   "metadata": {},
   "outputs": [
    {
     "data": {
      "text/html": [
       "<div>\n",
       "<style scoped>\n",
       "    .dataframe tbody tr th:only-of-type {\n",
       "        vertical-align: middle;\n",
       "    }\n",
       "\n",
       "    .dataframe tbody tr th {\n",
       "        vertical-align: top;\n",
       "    }\n",
       "\n",
       "    .dataframe thead tr th {\n",
       "        text-align: left;\n",
       "    }\n",
       "\n",
       "    .dataframe thead tr:last-of-type th {\n",
       "        text-align: right;\n",
       "    }\n",
       "</style>\n",
       "<table border=\"1\" class=\"dataframe\">\n",
       "  <thead>\n",
       "    <tr>\n",
       "      <th></th>\n",
       "      <th colspan=\"2\" halign=\"left\">margin</th>\n",
       "      <th colspan=\"2\" halign=\"left\">percent</th>\n",
       "    </tr>\n",
       "    <tr>\n",
       "      <th></th>\n",
       "      <th>mean</th>\n",
       "      <th>std</th>\n",
       "      <th>mean</th>\n",
       "      <th>std</th>\n",
       "    </tr>\n",
       "    <tr>\n",
       "      <th>model_type</th>\n",
       "      <th></th>\n",
       "      <th></th>\n",
       "      <th></th>\n",
       "      <th></th>\n",
       "    </tr>\n",
       "  </thead>\n",
       "  <tbody>\n",
       "    <tr>\n",
       "      <th>anchors</th>\n",
       "      <td>0.102495</td>\n",
       "      <td>0.002889</td>\n",
       "      <td>0.1</td>\n",
       "      <td>0.0</td>\n",
       "    </tr>\n",
       "    <tr>\n",
       "      <th>stars</th>\n",
       "      <td>0.066660</td>\n",
       "      <td>0.000641</td>\n",
       "      <td>0.1</td>\n",
       "      <td>0.0</td>\n",
       "    </tr>\n",
       "  </tbody>\n",
       "</table>\n",
       "</div>"
      ],
      "text/plain": [
       "              margin           percent     \n",
       "                mean       std    mean  std\n",
       "model_type                                 \n",
       "anchors     0.102495  0.002889     0.1  0.0\n",
       "stars       0.066660  0.000641     0.1  0.0"
      ]
     },
     "metadata": {},
     "output_type": "display_data"
    }
   ],
   "source": [
    "df = plot_dict(max_cifar100_resnet18_results, to_show=True, filter_dict={}, drop_columns=[\"index\", \"dataset_name\", \"model_id\", \"split_name\"], group_aggregate_list=[\"model_type\"], query=\"percent == 0.10\")"
   ]
  },
  {
   "cell_type": "markdown",
   "metadata": {},
   "source": [
    "### Max"
   ]
  },
  {
   "cell_type": "code",
   "execution_count": 259,
   "metadata": {},
   "outputs": [
    {
     "name": "stdout",
     "output_type": "stream",
     "text": [
      "Computing results for anchors_0eqk0gla_cifar100_p0.1\n"
     ]
    },
    {
     "name": "stderr",
     "output_type": "stream",
     "text": [
      "batch: 100%|██████████| 176/176 [00:49<00:00,  3.55it/s]\n"
     ]
    },
    {
     "name": "stdout",
     "output_type": "stream",
     "text": [
      "Computing results for anchors_384qnuxm_cifar100_p0.1\n"
     ]
    },
    {
     "name": "stderr",
     "output_type": "stream",
     "text": [
      "batch: 100%|██████████| 176/176 [00:49<00:00,  3.55it/s]\n"
     ]
    },
    {
     "name": "stdout",
     "output_type": "stream",
     "text": [
      "Computing results for anchors_3n8ftowe_cifar100_p0.1\n"
     ]
    },
    {
     "name": "stderr",
     "output_type": "stream",
     "text": [
      "batch: 100%|██████████| 176/176 [00:49<00:00,  3.56it/s]\n"
     ]
    },
    {
     "name": "stdout",
     "output_type": "stream",
     "text": [
      "Computing results for anchors_4808726s_cifar100_p0.1\n"
     ]
    },
    {
     "name": "stderr",
     "output_type": "stream",
     "text": [
      "batch: 100%|██████████| 176/176 [00:49<00:00,  3.55it/s]\n"
     ]
    },
    {
     "name": "stdout",
     "output_type": "stream",
     "text": [
      "Computing results for anchors_4rjdi4pa_cifar100_p0.1\n"
     ]
    },
    {
     "name": "stderr",
     "output_type": "stream",
     "text": [
      "batch: 100%|██████████| 176/176 [00:49<00:00,  3.56it/s]\n"
     ]
    },
    {
     "name": "stdout",
     "output_type": "stream",
     "text": [
      "Computing results for anchors_5bfkmro6_cifar100_p0.1\n"
     ]
    },
    {
     "name": "stderr",
     "output_type": "stream",
     "text": [
      "batch: 100%|██████████| 176/176 [00:49<00:00,  3.55it/s]\n"
     ]
    },
    {
     "name": "stdout",
     "output_type": "stream",
     "text": [
      "Computing results for anchors_65cr1zyr_cifar100_p0.1\n"
     ]
    },
    {
     "name": "stderr",
     "output_type": "stream",
     "text": [
      "batch: 100%|██████████| 176/176 [00:49<00:00,  3.55it/s]\n"
     ]
    },
    {
     "name": "stdout",
     "output_type": "stream",
     "text": [
      "Computing results for anchors_6hapim4a_cifar100_p0.1\n"
     ]
    },
    {
     "name": "stderr",
     "output_type": "stream",
     "text": [
      "batch:  59%|█████▊    | 103/176 [26:28<18:45, 15.42s/it]\n",
      "batch: 100%|██████████| 176/176 [00:49<00:00,  3.53it/s]\n"
     ]
    },
    {
     "name": "stdout",
     "output_type": "stream",
     "text": [
      "Computing results for anchors_73s47o0m_cifar100_p0.1\n"
     ]
    },
    {
     "name": "stderr",
     "output_type": "stream",
     "text": [
      "batch: 100%|██████████| 176/176 [00:49<00:00,  3.55it/s]\n"
     ]
    },
    {
     "name": "stdout",
     "output_type": "stream",
     "text": [
      "Computing results for anchors_75eeo9bw_cifar100_p0.1\n"
     ]
    },
    {
     "name": "stderr",
     "output_type": "stream",
     "text": [
      "batch: 100%|██████████| 176/176 [00:49<00:00,  3.56it/s]\n"
     ]
    },
    {
     "name": "stdout",
     "output_type": "stream",
     "text": [
      "Computing results for stars_212q5op8_cifar100_p0.1\n"
     ]
    },
    {
     "name": "stderr",
     "output_type": "stream",
     "text": [
      "batch: 100%|██████████| 176/176 [00:49<00:00,  3.55it/s]\n"
     ]
    },
    {
     "name": "stdout",
     "output_type": "stream",
     "text": [
      "Computing results for stars_2umwboaq_cifar100_p0.1\n"
     ]
    },
    {
     "name": "stderr",
     "output_type": "stream",
     "text": [
      "batch: 100%|██████████| 176/176 [00:49<00:00,  3.55it/s]\n"
     ]
    },
    {
     "name": "stdout",
     "output_type": "stream",
     "text": [
      "Computing results for stars_lgd1aief_cifar100_p0.1\n"
     ]
    },
    {
     "name": "stderr",
     "output_type": "stream",
     "text": [
      "batch: 100%|██████████| 176/176 [00:49<00:00,  3.55it/s]\n"
     ]
    },
    {
     "name": "stdout",
     "output_type": "stream",
     "text": [
      "Computing results for stars_ly0u9r9m_cifar100_p0.1\n"
     ]
    },
    {
     "name": "stderr",
     "output_type": "stream",
     "text": [
      "batch: 100%|██████████| 176/176 [00:49<00:00,  3.55it/s]\n"
     ]
    },
    {
     "name": "stdout",
     "output_type": "stream",
     "text": [
      "Computing results for stars_mgcabk97_cifar100_p0.1\n"
     ]
    },
    {
     "name": "stderr",
     "output_type": "stream",
     "text": [
      "batch: 100%|██████████| 176/176 [00:49<00:00,  3.55it/s]\n"
     ]
    },
    {
     "name": "stdout",
     "output_type": "stream",
     "text": [
      "Computing results for stars_rylbd95p_cifar100_p0.1\n"
     ]
    },
    {
     "name": "stderr",
     "output_type": "stream",
     "text": [
      "batch: 100%|██████████| 176/176 [00:49<00:00,  3.53it/s]\n"
     ]
    },
    {
     "name": "stdout",
     "output_type": "stream",
     "text": [
      "Computing results for stars_t200saru_cifar100_p0.1\n"
     ]
    },
    {
     "name": "stderr",
     "output_type": "stream",
     "text": [
      "batch: 100%|██████████| 176/176 [00:49<00:00,  3.55it/s]\n"
     ]
    },
    {
     "name": "stdout",
     "output_type": "stream",
     "text": [
      "Computing results for stars_wa8x6rt9_cifar100_p0.1\n"
     ]
    },
    {
     "name": "stderr",
     "output_type": "stream",
     "text": [
      "batch: 100%|██████████| 176/176 [00:49<00:00,  3.54it/s]\n"
     ]
    },
    {
     "name": "stdout",
     "output_type": "stream",
     "text": [
      "Computing results for stars_yvi97vmj_cifar100_p0.1\n"
     ]
    },
    {
     "name": "stderr",
     "output_type": "stream",
     "text": [
      "batch: 100%|██████████| 176/176 [00:49<00:00,  3.54it/s]\n"
     ]
    },
    {
     "name": "stdout",
     "output_type": "stream",
     "text": [
      "Computing results for stars_zcgviume_cifar100_p0.1\n"
     ]
    },
    {
     "name": "stderr",
     "output_type": "stream",
     "text": [
      "batch: 100%|██████████| 176/176 [00:49<00:00,  3.54it/s]\n"
     ]
    }
   ],
   "source": [
    "cifar100_resnet18_res_path = \"./max_cifar100_resnet18_results.pt\"\n",
    "\n",
    "last_10_stars_cifar100_resnet18 = [\n",
    "    path for path in stars_cifar100_resnet18 if get_model_id(path) in last_10_stars_cifar100_resnet18_names\n",
    "]\n",
    "\n",
    "max_cifar100_resnet18_results = compute_results(\n",
    "    anchors_cifar100_resnet18[:10] + last_10_stars_cifar100_resnet18,\n",
    "    cifar100_train_dataloader,\n",
    "    cifar100_resnet18_res_path,\n",
    "    split_name=\"train\",\n",
    "    percent=0.1,\n",
    "    load_model=get_resnet18_cifar100,\n",
    "    # recompute_substring=\"p0\"\n",
    "    recompute_substring=None,\n",
    "    agg=\"max\"\n",
    ")"
   ]
  },
  {
   "cell_type": "code",
   "execution_count": 260,
   "metadata": {},
   "outputs": [
    {
     "data": {
      "text/html": [
       "<div>\n",
       "<style scoped>\n",
       "    .dataframe tbody tr th:only-of-type {\n",
       "        vertical-align: middle;\n",
       "    }\n",
       "\n",
       "    .dataframe tbody tr th {\n",
       "        vertical-align: top;\n",
       "    }\n",
       "\n",
       "    .dataframe thead tr th {\n",
       "        text-align: left;\n",
       "    }\n",
       "\n",
       "    .dataframe thead tr:last-of-type th {\n",
       "        text-align: right;\n",
       "    }\n",
       "</style>\n",
       "<table border=\"1\" class=\"dataframe\">\n",
       "  <thead>\n",
       "    <tr>\n",
       "      <th></th>\n",
       "      <th colspan=\"2\" halign=\"left\">margin</th>\n",
       "      <th colspan=\"2\" halign=\"left\">percent</th>\n",
       "    </tr>\n",
       "    <tr>\n",
       "      <th></th>\n",
       "      <th>mean</th>\n",
       "      <th>std</th>\n",
       "      <th>mean</th>\n",
       "      <th>std</th>\n",
       "    </tr>\n",
       "    <tr>\n",
       "      <th>model_type</th>\n",
       "      <th></th>\n",
       "      <th></th>\n",
       "      <th></th>\n",
       "      <th></th>\n",
       "    </tr>\n",
       "  </thead>\n",
       "  <tbody>\n",
       "    <tr>\n",
       "      <th>anchors</th>\n",
       "      <td>0.000046</td>\n",
       "      <td>9.583485e-07</td>\n",
       "      <td>0.1</td>\n",
       "      <td>0.0</td>\n",
       "    </tr>\n",
       "    <tr>\n",
       "      <th>stars</th>\n",
       "      <td>0.000043</td>\n",
       "      <td>6.390722e-07</td>\n",
       "      <td>0.1</td>\n",
       "      <td>0.0</td>\n",
       "    </tr>\n",
       "  </tbody>\n",
       "</table>\n",
       "</div>"
      ],
      "text/plain": [
       "              margin               percent     \n",
       "                mean           std    mean  std\n",
       "model_type                                     \n",
       "anchors     0.000046  9.583485e-07     0.1  0.0\n",
       "stars       0.000043  6.390722e-07     0.1  0.0"
      ]
     },
     "metadata": {},
     "output_type": "display_data"
    }
   ],
   "source": [
    "df = plot_dict(max_cifar100_resnet18_results, to_show=True, filter_dict={}, drop_columns=[\"index\", \"dataset_name\", \"model_id\", \"split_name\"], group_aggregate_list=[\"model_type\"], query=\"percent == 0.10\")"
   ]
  },
  {
   "cell_type": "markdown",
   "metadata": {},
   "source": [
    "### Mean"
   ]
  },
  {
   "cell_type": "code",
   "execution_count": 240,
   "metadata": {},
   "outputs": [
    {
     "name": "stdout",
     "output_type": "stream",
     "text": [
      "Loading existing results from ./cifar100_resnet18_results.pt\n",
      "Reusing results for anchors_0eqk0gla_cifar100_p0.1\n",
      "Reusing results for anchors_384qnuxm_cifar100_p0.1\n",
      "Reusing results for anchors_3n8ftowe_cifar100_p0.1\n",
      "Reusing results for anchors_4808726s_cifar100_p0.1\n",
      "Reusing results for anchors_4rjdi4pa_cifar100_p0.1\n",
      "Reusing results for anchors_5bfkmro6_cifar100_p0.1\n",
      "Reusing results for anchors_65cr1zyr_cifar100_p0.1\n",
      "Reusing results for anchors_6hapim4a_cifar100_p0.1\n",
      "Reusing results for anchors_73s47o0m_cifar100_p0.1\n",
      "Reusing results for anchors_75eeo9bw_cifar100_p0.1\n",
      "Computing results for stars_212q5op8_cifar100_p0.1\n"
     ]
    },
    {
     "name": "stderr",
     "output_type": "stream",
     "text": [
      "batch: 100%|██████████| 176/176 [00:49<00:00,  3.58it/s]\n"
     ]
    },
    {
     "name": "stdout",
     "output_type": "stream",
     "text": [
      "Computing results for stars_2umwboaq_cifar100_p0.1\n"
     ]
    },
    {
     "name": "stderr",
     "output_type": "stream",
     "text": [
      "batch: 100%|██████████| 176/176 [00:49<00:00,  3.56it/s]\n"
     ]
    },
    {
     "name": "stdout",
     "output_type": "stream",
     "text": [
      "Computing results for stars_lgd1aief_cifar100_p0.1\n"
     ]
    },
    {
     "name": "stderr",
     "output_type": "stream",
     "text": [
      "batch: 100%|██████████| 176/176 [00:49<00:00,  3.56it/s]\n"
     ]
    },
    {
     "name": "stdout",
     "output_type": "stream",
     "text": [
      "Computing results for stars_ly0u9r9m_cifar100_p0.1\n"
     ]
    },
    {
     "name": "stderr",
     "output_type": "stream",
     "text": [
      "batch: 100%|██████████| 176/176 [00:49<00:00,  3.53it/s]\n"
     ]
    },
    {
     "name": "stdout",
     "output_type": "stream",
     "text": [
      "Computing results for stars_mgcabk97_cifar100_p0.1\n"
     ]
    },
    {
     "name": "stderr",
     "output_type": "stream",
     "text": [
      "batch: 100%|██████████| 176/176 [00:49<00:00,  3.55it/s]\n"
     ]
    },
    {
     "name": "stdout",
     "output_type": "stream",
     "text": [
      "Computing results for stars_rylbd95p_cifar100_p0.1\n"
     ]
    },
    {
     "name": "stderr",
     "output_type": "stream",
     "text": [
      "batch: 100%|██████████| 176/176 [00:49<00:00,  3.55it/s]\n"
     ]
    },
    {
     "name": "stdout",
     "output_type": "stream",
     "text": [
      "Computing results for stars_t200saru_cifar100_p0.1\n"
     ]
    },
    {
     "name": "stderr",
     "output_type": "stream",
     "text": [
      "batch: 100%|██████████| 176/176 [00:49<00:00,  3.55it/s]\n"
     ]
    },
    {
     "name": "stdout",
     "output_type": "stream",
     "text": [
      "Computing results for stars_wa8x6rt9_cifar100_p0.1\n"
     ]
    },
    {
     "name": "stderr",
     "output_type": "stream",
     "text": [
      "batch: 100%|██████████| 176/176 [00:49<00:00,  3.55it/s]\n"
     ]
    },
    {
     "name": "stdout",
     "output_type": "stream",
     "text": [
      "Computing results for stars_yvi97vmj_cifar100_p0.1\n"
     ]
    },
    {
     "name": "stderr",
     "output_type": "stream",
     "text": [
      "batch: 100%|██████████| 176/176 [00:49<00:00,  3.55it/s]\n"
     ]
    },
    {
     "name": "stdout",
     "output_type": "stream",
     "text": [
      "Computing results for stars_zcgviume_cifar100_p0.1\n"
     ]
    },
    {
     "name": "stderr",
     "output_type": "stream",
     "text": [
      "batch: 100%|██████████| 176/176 [00:49<00:00,  3.56it/s]\n"
     ]
    }
   ],
   "source": [
    "cifar100_resnet18_res_path = \"./cifar100_resnet18_results.pt\"\n",
    "\n",
    "last_10_stars_cifar100_resnet18 = [\n",
    "    path for path in stars_cifar100_resnet18 if get_model_id(path) in last_10_stars_cifar100_resnet18_names\n",
    "]\n",
    "\n",
    "cifar100_resnet18_results = compute_results(\n",
    "    anchors_cifar100_resnet18[:10] + last_10_stars_cifar100_resnet18,\n",
    "    cifar100_train_dataloader,\n",
    "    cifar100_resnet18_res_path,\n",
    "    split_name=\"train\",\n",
    "    percent=0.1,\n",
    "    load_model=get_resnet18_cifar100,\n",
    "    # recompute_substring=\"p0\"\n",
    "    recompute_substring=None\n",
    ")"
   ]
  },
  {
   "cell_type": "code",
   "execution_count": 252,
   "metadata": {},
   "outputs": [
    {
     "data": {
      "text/html": [
       "<div>\n",
       "<style scoped>\n",
       "    .dataframe tbody tr th:only-of-type {\n",
       "        vertical-align: middle;\n",
       "    }\n",
       "\n",
       "    .dataframe tbody tr th {\n",
       "        vertical-align: top;\n",
       "    }\n",
       "\n",
       "    .dataframe thead th {\n",
       "        text-align: right;\n",
       "    }\n",
       "</style>\n",
       "<table border=\"1\" class=\"dataframe\">\n",
       "  <thead>\n",
       "    <tr style=\"text-align: right;\">\n",
       "      <th></th>\n",
       "      <th>margin</th>\n",
       "      <th>model_type</th>\n",
       "      <th>dataset_name</th>\n",
       "      <th>percent</th>\n",
       "      <th>model_id</th>\n",
       "      <th>split_name</th>\n",
       "    </tr>\n",
       "  </thead>\n",
       "  <tbody>\n",
       "    <tr>\n",
       "      <th>anchors_0eqk0gla_cifar100_p0.05</th>\n",
       "      <td>0.000035</td>\n",
       "      <td>anchors</td>\n",
       "      <td>cifar100</td>\n",
       "      <td>0.05</td>\n",
       "      <td>NaN</td>\n",
       "      <td>NaN</td>\n",
       "    </tr>\n",
       "    <tr>\n",
       "      <th>anchors_384qnuxm_cifar100_p0.05</th>\n",
       "      <td>0.000035</td>\n",
       "      <td>anchors</td>\n",
       "      <td>cifar100</td>\n",
       "      <td>0.05</td>\n",
       "      <td>NaN</td>\n",
       "      <td>NaN</td>\n",
       "    </tr>\n",
       "    <tr>\n",
       "      <th>stars_01fj1cav_cifar100_p0.05</th>\n",
       "      <td>0.000034</td>\n",
       "      <td>stars</td>\n",
       "      <td>cifar100</td>\n",
       "      <td>0.05</td>\n",
       "      <td>NaN</td>\n",
       "      <td>NaN</td>\n",
       "    </tr>\n",
       "    <tr>\n",
       "      <th>stars_212q5op8_cifar100_p0.05</th>\n",
       "      <td>0.000033</td>\n",
       "      <td>stars</td>\n",
       "      <td>cifar100</td>\n",
       "      <td>0.05</td>\n",
       "      <td>NaN</td>\n",
       "      <td>NaN</td>\n",
       "    </tr>\n",
       "    <tr>\n",
       "      <th>anchors_0eqk0gla_cifar100_p0.1</th>\n",
       "      <td>0.000034</td>\n",
       "      <td>anchors</td>\n",
       "      <td>cifar100</td>\n",
       "      <td>0.10</td>\n",
       "      <td>0eqk0gla</td>\n",
       "      <td>train</td>\n",
       "    </tr>\n",
       "    <tr>\n",
       "      <th>anchors_384qnuxm_cifar100_p0.1</th>\n",
       "      <td>0.000035</td>\n",
       "      <td>anchors</td>\n",
       "      <td>cifar100</td>\n",
       "      <td>0.10</td>\n",
       "      <td>384qnuxm</td>\n",
       "      <td>train</td>\n",
       "    </tr>\n",
       "    <tr>\n",
       "      <th>anchors_3n8ftowe_cifar100_p0.1</th>\n",
       "      <td>0.000033</td>\n",
       "      <td>anchors</td>\n",
       "      <td>cifar100</td>\n",
       "      <td>0.10</td>\n",
       "      <td>3n8ftowe</td>\n",
       "      <td>train</td>\n",
       "    </tr>\n",
       "    <tr>\n",
       "      <th>anchors_4808726s_cifar100_p0.1</th>\n",
       "      <td>0.000035</td>\n",
       "      <td>anchors</td>\n",
       "      <td>cifar100</td>\n",
       "      <td>0.10</td>\n",
       "      <td>4808726s</td>\n",
       "      <td>train</td>\n",
       "    </tr>\n",
       "    <tr>\n",
       "      <th>anchors_4rjdi4pa_cifar100_p0.1</th>\n",
       "      <td>0.000034</td>\n",
       "      <td>anchors</td>\n",
       "      <td>cifar100</td>\n",
       "      <td>0.10</td>\n",
       "      <td>4rjdi4pa</td>\n",
       "      <td>train</td>\n",
       "    </tr>\n",
       "    <tr>\n",
       "      <th>anchors_5bfkmro6_cifar100_p0.1</th>\n",
       "      <td>0.000034</td>\n",
       "      <td>anchors</td>\n",
       "      <td>cifar100</td>\n",
       "      <td>0.10</td>\n",
       "      <td>5bfkmro6</td>\n",
       "      <td>train</td>\n",
       "    </tr>\n",
       "    <tr>\n",
       "      <th>anchors_65cr1zyr_cifar100_p0.1</th>\n",
       "      <td>0.000033</td>\n",
       "      <td>anchors</td>\n",
       "      <td>cifar100</td>\n",
       "      <td>0.10</td>\n",
       "      <td>65cr1zyr</td>\n",
       "      <td>train</td>\n",
       "    </tr>\n",
       "    <tr>\n",
       "      <th>anchors_6hapim4a_cifar100_p0.1</th>\n",
       "      <td>0.000034</td>\n",
       "      <td>anchors</td>\n",
       "      <td>cifar100</td>\n",
       "      <td>0.10</td>\n",
       "      <td>6hapim4a</td>\n",
       "      <td>train</td>\n",
       "    </tr>\n",
       "    <tr>\n",
       "      <th>anchors_73s47o0m_cifar100_p0.1</th>\n",
       "      <td>0.000033</td>\n",
       "      <td>anchors</td>\n",
       "      <td>cifar100</td>\n",
       "      <td>0.10</td>\n",
       "      <td>73s47o0m</td>\n",
       "      <td>train</td>\n",
       "    </tr>\n",
       "    <tr>\n",
       "      <th>anchors_75eeo9bw_cifar100_p0.1</th>\n",
       "      <td>0.000033</td>\n",
       "      <td>anchors</td>\n",
       "      <td>cifar100</td>\n",
       "      <td>0.10</td>\n",
       "      <td>75eeo9bw</td>\n",
       "      <td>train</td>\n",
       "    </tr>\n",
       "    <tr>\n",
       "      <th>stars_212q5op8_cifar100_p0.1</th>\n",
       "      <td>0.000033</td>\n",
       "      <td>stars</td>\n",
       "      <td>cifar100</td>\n",
       "      <td>0.10</td>\n",
       "      <td>212q5op8</td>\n",
       "      <td>train</td>\n",
       "    </tr>\n",
       "    <tr>\n",
       "      <th>stars_2umwboaq_cifar100_p0.1</th>\n",
       "      <td>0.000034</td>\n",
       "      <td>stars</td>\n",
       "      <td>cifar100</td>\n",
       "      <td>0.10</td>\n",
       "      <td>2umwboaq</td>\n",
       "      <td>train</td>\n",
       "    </tr>\n",
       "    <tr>\n",
       "      <th>stars_lgd1aief_cifar100_p0.1</th>\n",
       "      <td>0.000033</td>\n",
       "      <td>stars</td>\n",
       "      <td>cifar100</td>\n",
       "      <td>0.10</td>\n",
       "      <td>lgd1aief</td>\n",
       "      <td>train</td>\n",
       "    </tr>\n",
       "    <tr>\n",
       "      <th>stars_ly0u9r9m_cifar100_p0.1</th>\n",
       "      <td>0.000033</td>\n",
       "      <td>stars</td>\n",
       "      <td>cifar100</td>\n",
       "      <td>0.10</td>\n",
       "      <td>ly0u9r9m</td>\n",
       "      <td>train</td>\n",
       "    </tr>\n",
       "    <tr>\n",
       "      <th>stars_mgcabk97_cifar100_p0.1</th>\n",
       "      <td>0.000033</td>\n",
       "      <td>stars</td>\n",
       "      <td>cifar100</td>\n",
       "      <td>0.10</td>\n",
       "      <td>mgcabk97</td>\n",
       "      <td>train</td>\n",
       "    </tr>\n",
       "    <tr>\n",
       "      <th>stars_rylbd95p_cifar100_p0.1</th>\n",
       "      <td>0.000033</td>\n",
       "      <td>stars</td>\n",
       "      <td>cifar100</td>\n",
       "      <td>0.10</td>\n",
       "      <td>rylbd95p</td>\n",
       "      <td>train</td>\n",
       "    </tr>\n",
       "    <tr>\n",
       "      <th>stars_t200saru_cifar100_p0.1</th>\n",
       "      <td>0.000033</td>\n",
       "      <td>stars</td>\n",
       "      <td>cifar100</td>\n",
       "      <td>0.10</td>\n",
       "      <td>t200saru</td>\n",
       "      <td>train</td>\n",
       "    </tr>\n",
       "    <tr>\n",
       "      <th>stars_wa8x6rt9_cifar100_p0.1</th>\n",
       "      <td>0.000033</td>\n",
       "      <td>stars</td>\n",
       "      <td>cifar100</td>\n",
       "      <td>0.10</td>\n",
       "      <td>wa8x6rt9</td>\n",
       "      <td>train</td>\n",
       "    </tr>\n",
       "    <tr>\n",
       "      <th>stars_yvi97vmj_cifar100_p0.1</th>\n",
       "      <td>0.000033</td>\n",
       "      <td>stars</td>\n",
       "      <td>cifar100</td>\n",
       "      <td>0.10</td>\n",
       "      <td>yvi97vmj</td>\n",
       "      <td>train</td>\n",
       "    </tr>\n",
       "    <tr>\n",
       "      <th>stars_zcgviume_cifar100_p0.1</th>\n",
       "      <td>0.000033</td>\n",
       "      <td>stars</td>\n",
       "      <td>cifar100</td>\n",
       "      <td>0.10</td>\n",
       "      <td>zcgviume</td>\n",
       "      <td>train</td>\n",
       "    </tr>\n",
       "  </tbody>\n",
       "</table>\n",
       "</div>"
      ],
      "text/plain": [
       "                                   margin model_type dataset_name  percent  \\\n",
       "anchors_0eqk0gla_cifar100_p0.05  0.000035    anchors     cifar100     0.05   \n",
       "anchors_384qnuxm_cifar100_p0.05  0.000035    anchors     cifar100     0.05   \n",
       "stars_01fj1cav_cifar100_p0.05    0.000034      stars     cifar100     0.05   \n",
       "stars_212q5op8_cifar100_p0.05    0.000033      stars     cifar100     0.05   \n",
       "anchors_0eqk0gla_cifar100_p0.1   0.000034    anchors     cifar100     0.10   \n",
       "anchors_384qnuxm_cifar100_p0.1   0.000035    anchors     cifar100     0.10   \n",
       "anchors_3n8ftowe_cifar100_p0.1   0.000033    anchors     cifar100     0.10   \n",
       "anchors_4808726s_cifar100_p0.1   0.000035    anchors     cifar100     0.10   \n",
       "anchors_4rjdi4pa_cifar100_p0.1   0.000034    anchors     cifar100     0.10   \n",
       "anchors_5bfkmro6_cifar100_p0.1   0.000034    anchors     cifar100     0.10   \n",
       "anchors_65cr1zyr_cifar100_p0.1   0.000033    anchors     cifar100     0.10   \n",
       "anchors_6hapim4a_cifar100_p0.1   0.000034    anchors     cifar100     0.10   \n",
       "anchors_73s47o0m_cifar100_p0.1   0.000033    anchors     cifar100     0.10   \n",
       "anchors_75eeo9bw_cifar100_p0.1   0.000033    anchors     cifar100     0.10   \n",
       "stars_212q5op8_cifar100_p0.1     0.000033      stars     cifar100     0.10   \n",
       "stars_2umwboaq_cifar100_p0.1     0.000034      stars     cifar100     0.10   \n",
       "stars_lgd1aief_cifar100_p0.1     0.000033      stars     cifar100     0.10   \n",
       "stars_ly0u9r9m_cifar100_p0.1     0.000033      stars     cifar100     0.10   \n",
       "stars_mgcabk97_cifar100_p0.1     0.000033      stars     cifar100     0.10   \n",
       "stars_rylbd95p_cifar100_p0.1     0.000033      stars     cifar100     0.10   \n",
       "stars_t200saru_cifar100_p0.1     0.000033      stars     cifar100     0.10   \n",
       "stars_wa8x6rt9_cifar100_p0.1     0.000033      stars     cifar100     0.10   \n",
       "stars_yvi97vmj_cifar100_p0.1     0.000033      stars     cifar100     0.10   \n",
       "stars_zcgviume_cifar100_p0.1     0.000033      stars     cifar100     0.10   \n",
       "\n",
       "                                 model_id split_name  \n",
       "anchors_0eqk0gla_cifar100_p0.05       NaN        NaN  \n",
       "anchors_384qnuxm_cifar100_p0.05       NaN        NaN  \n",
       "stars_01fj1cav_cifar100_p0.05         NaN        NaN  \n",
       "stars_212q5op8_cifar100_p0.05         NaN        NaN  \n",
       "anchors_0eqk0gla_cifar100_p0.1   0eqk0gla      train  \n",
       "anchors_384qnuxm_cifar100_p0.1   384qnuxm      train  \n",
       "anchors_3n8ftowe_cifar100_p0.1   3n8ftowe      train  \n",
       "anchors_4808726s_cifar100_p0.1   4808726s      train  \n",
       "anchors_4rjdi4pa_cifar100_p0.1   4rjdi4pa      train  \n",
       "anchors_5bfkmro6_cifar100_p0.1   5bfkmro6      train  \n",
       "anchors_65cr1zyr_cifar100_p0.1   65cr1zyr      train  \n",
       "anchors_6hapim4a_cifar100_p0.1   6hapim4a      train  \n",
       "anchors_73s47o0m_cifar100_p0.1   73s47o0m      train  \n",
       "anchors_75eeo9bw_cifar100_p0.1   75eeo9bw      train  \n",
       "stars_212q5op8_cifar100_p0.1     212q5op8      train  \n",
       "stars_2umwboaq_cifar100_p0.1     2umwboaq      train  \n",
       "stars_lgd1aief_cifar100_p0.1     lgd1aief      train  \n",
       "stars_ly0u9r9m_cifar100_p0.1     ly0u9r9m      train  \n",
       "stars_mgcabk97_cifar100_p0.1     mgcabk97      train  \n",
       "stars_rylbd95p_cifar100_p0.1     rylbd95p      train  \n",
       "stars_t200saru_cifar100_p0.1     t200saru      train  \n",
       "stars_wa8x6rt9_cifar100_p0.1     wa8x6rt9      train  \n",
       "stars_yvi97vmj_cifar100_p0.1     yvi97vmj      train  \n",
       "stars_zcgviume_cifar100_p0.1     zcgviume      train  "
      ]
     },
     "metadata": {},
     "output_type": "display_data"
    }
   ],
   "source": [
    "df = plot_dict(cifar100_resnet18_results, to_show=True)"
   ]
  },
  {
   "cell_type": "code",
   "execution_count": null,
   "metadata": {},
   "outputs": [],
   "source": [
    "df = plot_dict(cifar100_resnet18_results, to_show=True, filter_dict={}, drop_columns=[\"index\", \"dataset_name\"], group_aggregate_list=[\"model_type\"])"
   ]
  },
  {
   "cell_type": "code",
   "execution_count": 251,
   "metadata": {},
   "outputs": [
    {
     "data": {
      "text/html": [
       "<div>\n",
       "<style scoped>\n",
       "    .dataframe tbody tr th:only-of-type {\n",
       "        vertical-align: middle;\n",
       "    }\n",
       "\n",
       "    .dataframe tbody tr th {\n",
       "        vertical-align: top;\n",
       "    }\n",
       "\n",
       "    .dataframe thead tr th {\n",
       "        text-align: left;\n",
       "    }\n",
       "\n",
       "    .dataframe thead tr:last-of-type th {\n",
       "        text-align: right;\n",
       "    }\n",
       "</style>\n",
       "<table border=\"1\" class=\"dataframe\">\n",
       "  <thead>\n",
       "    <tr>\n",
       "      <th></th>\n",
       "      <th colspan=\"2\" halign=\"left\">margin</th>\n",
       "      <th colspan=\"2\" halign=\"left\">percent</th>\n",
       "    </tr>\n",
       "    <tr>\n",
       "      <th></th>\n",
       "      <th>mean</th>\n",
       "      <th>std</th>\n",
       "      <th>mean</th>\n",
       "      <th>std</th>\n",
       "    </tr>\n",
       "    <tr>\n",
       "      <th>model_type</th>\n",
       "      <th></th>\n",
       "      <th></th>\n",
       "      <th></th>\n",
       "      <th></th>\n",
       "    </tr>\n",
       "  </thead>\n",
       "  <tbody>\n",
       "    <tr>\n",
       "      <th>anchors</th>\n",
       "      <td>0.000034</td>\n",
       "      <td>7.466623e-07</td>\n",
       "      <td>0.1</td>\n",
       "      <td>0.0</td>\n",
       "    </tr>\n",
       "    <tr>\n",
       "      <th>stars</th>\n",
       "      <td>0.000033</td>\n",
       "      <td>2.407625e-07</td>\n",
       "      <td>0.1</td>\n",
       "      <td>0.0</td>\n",
       "    </tr>\n",
       "  </tbody>\n",
       "</table>\n",
       "</div>"
      ],
      "text/plain": [
       "              margin               percent     \n",
       "                mean           std    mean  std\n",
       "model_type                                     \n",
       "anchors     0.000034  7.466623e-07     0.1  0.0\n",
       "stars       0.000033  2.407625e-07     0.1  0.0"
      ]
     },
     "metadata": {},
     "output_type": "display_data"
    }
   ],
   "source": [
    "df = plot_dict(cifar100_resnet18_results, to_show=True, filter_dict={}, drop_columns=[\"index\", \"dataset_name\", \"model_id\", \"split_name\"], group_aggregate_list=[\"model_type\"], query=\"percent == 0.10\")"
   ]
  },
  {
   "cell_type": "markdown",
   "metadata": {},
   "source": [
    "## Resnet18 Cifar10"
   ]
  },
  {
   "cell_type": "markdown",
   "metadata": {},
   "source": [
    "### L2 + min margin to pred"
   ]
  },
  {
   "cell_type": "code",
   "execution_count": 92,
   "metadata": {},
   "outputs": [
    {
     "name": "stdout",
     "output_type": "stream",
     "text": [
      "Computing results for anchors_2oo0upw1_cifar10_p1\n"
     ]
    },
    {
     "name": "stderr",
     "output_type": "stream",
     "text": [
      "batch:   1%|          | 1/176 [00:00<00:41,  4.23it/s]/scratch_local/arubinstein17-163577/starlight/starlight_env/lib/python3.9/site-packages/torch/autograd/__init__.py:266: UserWarning: Deterministic behavior was enabled with either `torch.use_deterministic_algorithms(True)` or `at::Context::setDeterministicAlgorithms(true)`, but this operation is not deterministic because it uses CuBLAS and you have CUDA >= 10.2. To enable deterministic behavior in this case, you must set an environment variable before running your PyTorch application: CUBLAS_WORKSPACE_CONFIG=:4096:8 or CUBLAS_WORKSPACE_CONFIG=:16:8. For more information, go to https://docs.nvidia.com/cuda/cublas/index.html#cublasApi_reproducibility (Triggered internally at ../aten/src/ATen/Context.cpp:164.)\n",
      "  Variable._execution_engine.run_backward(  # Calls into the C++ engine to run the backward pass\n",
      "batch: 100%|██████████| 176/176 [01:31<00:00,  1.92it/s]\n"
     ]
    },
    {
     "name": "stdout",
     "output_type": "stream",
     "text": [
      "Computing results for anchors_3m2c3guk_cifar10_p1\n"
     ]
    },
    {
     "name": "stderr",
     "output_type": "stream",
     "text": [
      "batch: 100%|██████████| 176/176 [01:32<00:00,  1.90it/s]\n"
     ]
    },
    {
     "name": "stdout",
     "output_type": "stream",
     "text": [
      "Computing results for anchors_448kfne2_cifar10_p1\n"
     ]
    },
    {
     "name": "stderr",
     "output_type": "stream",
     "text": [
      "batch:   1%|          | 1/176 [58:41<171:12:21, 3521.95s/it]\n",
      "batch:   1%|          | 1/176 [21:55<63:55:30, 1315.03s/it]\n",
      "batch:   1%|          | 1/176 [21:00<61:15:58, 1260.33s/it]\n",
      "batch:   1%|          | 1/176 [19:37<57:13:11, 1177.10s/it]\n",
      "batch:   1%|          | 1/176 [18:25<53:44:01, 1105.38s/it]\n",
      "batch:   1%|          | 1/176 [17:34<51:14:57, 1054.27s/it]\n",
      "batch:   1%|          | 1/176 [17:05<49:51:13, 1025.56s/it]\n",
      "batch:   1%|          | 1/176 [16:29<48:05:28, 989.31s/it]\n",
      "batch:   1%|          | 1/176 [07:46<22:40:18, 466.39s/it]\n",
      "batch: 100%|██████████| 176/176 [01:33<00:00,  1.89it/s]\n"
     ]
    },
    {
     "name": "stdout",
     "output_type": "stream",
     "text": [
      "Computing results for anchors_52l22gc1_cifar10_p1\n"
     ]
    },
    {
     "name": "stderr",
     "output_type": "stream",
     "text": [
      "batch: 100%|██████████| 176/176 [01:32<00:00,  1.90it/s]\n"
     ]
    },
    {
     "name": "stdout",
     "output_type": "stream",
     "text": [
      "Computing results for anchors_5791j5is_cifar10_p1\n"
     ]
    },
    {
     "name": "stderr",
     "output_type": "stream",
     "text": [
      "batch: 100%|██████████| 176/176 [01:32<00:00,  1.90it/s]\n"
     ]
    },
    {
     "name": "stdout",
     "output_type": "stream",
     "text": [
      "Computing results for anchors_5hrwt8sd_cifar10_p1\n"
     ]
    },
    {
     "name": "stderr",
     "output_type": "stream",
     "text": [
      "batch: 100%|██████████| 176/176 [01:32<00:00,  1.90it/s]\n"
     ]
    },
    {
     "name": "stdout",
     "output_type": "stream",
     "text": [
      "Computing results for anchors_6ids7w54_cifar10_p1\n"
     ]
    },
    {
     "name": "stderr",
     "output_type": "stream",
     "text": [
      "batch: 100%|██████████| 176/176 [01:32<00:00,  1.90it/s]\n"
     ]
    },
    {
     "name": "stdout",
     "output_type": "stream",
     "text": [
      "Computing results for anchors_6kxd228s_cifar10_p1\n"
     ]
    },
    {
     "name": "stderr",
     "output_type": "stream",
     "text": [
      "batch: 100%|██████████| 176/176 [01:32<00:00,  1.90it/s]\n"
     ]
    },
    {
     "name": "stdout",
     "output_type": "stream",
     "text": [
      "Computing results for anchors_7sckybft_cifar10_p1\n"
     ]
    },
    {
     "name": "stderr",
     "output_type": "stream",
     "text": [
      "batch: 100%|██████████| 176/176 [01:32<00:00,  1.90it/s]\n"
     ]
    },
    {
     "name": "stdout",
     "output_type": "stream",
     "text": [
      "Computing results for anchors_7y4wdzel_cifar10_p1\n"
     ]
    },
    {
     "name": "stderr",
     "output_type": "stream",
     "text": [
      "batch: 100%|██████████| 176/176 [01:32<00:00,  1.90it/s]\n"
     ]
    },
    {
     "name": "stdout",
     "output_type": "stream",
     "text": [
      "Computing results for stars_6gps5q6c_cifar10_p1\n"
     ]
    },
    {
     "name": "stderr",
     "output_type": "stream",
     "text": [
      "batch: 100%|██████████| 176/176 [01:32<00:00,  1.90it/s]\n"
     ]
    },
    {
     "name": "stdout",
     "output_type": "stream",
     "text": [
      "Computing results for stars_82pxe1i8_cifar10_p1\n"
     ]
    },
    {
     "name": "stderr",
     "output_type": "stream",
     "text": [
      "batch: 100%|██████████| 176/176 [01:32<00:00,  1.90it/s]\n"
     ]
    },
    {
     "name": "stdout",
     "output_type": "stream",
     "text": [
      "Computing results for stars_8dirowph_cifar10_p1\n"
     ]
    },
    {
     "name": "stderr",
     "output_type": "stream",
     "text": [
      "batch: 100%|██████████| 176/176 [01:32<00:00,  1.90it/s]\n"
     ]
    },
    {
     "name": "stdout",
     "output_type": "stream",
     "text": [
      "Computing results for stars_bezgu0h7_cifar10_p1\n"
     ]
    },
    {
     "name": "stderr",
     "output_type": "stream",
     "text": [
      "batch: 100%|██████████| 176/176 [01:32<00:00,  1.89it/s]\n"
     ]
    },
    {
     "name": "stdout",
     "output_type": "stream",
     "text": [
      "Computing results for stars_by2vpp9d_cifar10_p1\n"
     ]
    },
    {
     "name": "stderr",
     "output_type": "stream",
     "text": [
      "batch: 100%|██████████| 176/176 [01:32<00:00,  1.90it/s]\n"
     ]
    },
    {
     "name": "stdout",
     "output_type": "stream",
     "text": [
      "Computing results for stars_h2qjwxrq_cifar10_p1\n"
     ]
    },
    {
     "name": "stderr",
     "output_type": "stream",
     "text": [
      "batch: 100%|██████████| 176/176 [01:32<00:00,  1.90it/s]\n"
     ]
    },
    {
     "name": "stdout",
     "output_type": "stream",
     "text": [
      "Computing results for stars_n5sjdrla_cifar10_p1\n"
     ]
    },
    {
     "name": "stderr",
     "output_type": "stream",
     "text": [
      "batch: 100%|██████████| 176/176 [01:32<00:00,  1.90it/s]\n"
     ]
    },
    {
     "name": "stdout",
     "output_type": "stream",
     "text": [
      "Computing results for stars_n8vpmpbj_cifar10_p1\n"
     ]
    },
    {
     "name": "stderr",
     "output_type": "stream",
     "text": [
      "batch: 100%|██████████| 176/176 [01:32<00:00,  1.90it/s]\n"
     ]
    },
    {
     "name": "stdout",
     "output_type": "stream",
     "text": [
      "Computing results for stars_nyolmhfc_cifar10_p1\n"
     ]
    },
    {
     "name": "stderr",
     "output_type": "stream",
     "text": [
      "batch: 100%|██████████| 176/176 [01:32<00:00,  1.90it/s]\n"
     ]
    },
    {
     "name": "stdout",
     "output_type": "stream",
     "text": [
      "Computing results for stars_wrvljast_cifar10_p1\n"
     ]
    },
    {
     "name": "stderr",
     "output_type": "stream",
     "text": [
      "batch: 100%|██████████| 176/176 [01:32<00:00,  1.90it/s]\n"
     ]
    }
   ],
   "source": [
    "cifar10_resnet18_res_path = \"./min2pred_l2_cifar10_resnet18_results.pt\"\n",
    "\n",
    "last_10_stars_cifar10_resnet18 = [path for path in stars_resnet18 if get_model_id(path) in last_10_stars]\n",
    "\n",
    "max_cifar10_resnet18_results = compute_results(\n",
    "    anchors_resnet18[:10] + last_10_stars_cifar10_resnet18,\n",
    "    # anchors_resnet18[:2] + last_10_stars_cifar10_resnet18[:2],\n",
    "    cifar10_train_dataloader,\n",
    "    cifar10_resnet18_res_path,\n",
    "    split_name=\"train\",\n",
    "    percent=1,\n",
    "    # percent=0.05,\n",
    "    load_model=get_resnet18_cifar,\n",
    "    # recompute_substring=\"p0\"\n",
    "    recompute_substring=None,\n",
    "    agg=\"min_to_pred\",\n",
    "    norm=\"l2\"\n",
    ")"
   ]
  },
  {
   "cell_type": "code",
   "execution_count": 95,
   "metadata": {},
   "outputs": [
    {
     "data": {
      "text/html": [
       "<div>\n",
       "<style scoped>\n",
       "    .dataframe tbody tr th:only-of-type {\n",
       "        vertical-align: middle;\n",
       "    }\n",
       "\n",
       "    .dataframe tbody tr th {\n",
       "        vertical-align: top;\n",
       "    }\n",
       "\n",
       "    .dataframe thead th {\n",
       "        text-align: right;\n",
       "    }\n",
       "</style>\n",
       "<table border=\"1\" class=\"dataframe\">\n",
       "  <thead>\n",
       "    <tr style=\"text-align: right;\">\n",
       "      <th></th>\n",
       "      <th>margin</th>\n",
       "      <th>model_type</th>\n",
       "      <th>dataset_name</th>\n",
       "      <th>percent</th>\n",
       "      <th>model_id</th>\n",
       "      <th>split_name</th>\n",
       "    </tr>\n",
       "  </thead>\n",
       "  <tbody>\n",
       "    <tr>\n",
       "      <th>anchors_2oo0upw1_cifar10_p1</th>\n",
       "      <td>0.118189</td>\n",
       "      <td>anchors</td>\n",
       "      <td>cifar10</td>\n",
       "      <td>1</td>\n",
       "      <td>2oo0upw1</td>\n",
       "      <td>train</td>\n",
       "    </tr>\n",
       "    <tr>\n",
       "      <th>anchors_3m2c3guk_cifar10_p1</th>\n",
       "      <td>0.118039</td>\n",
       "      <td>anchors</td>\n",
       "      <td>cifar10</td>\n",
       "      <td>1</td>\n",
       "      <td>3m2c3guk</td>\n",
       "      <td>train</td>\n",
       "    </tr>\n",
       "    <tr>\n",
       "      <th>anchors_448kfne2_cifar10_p1</th>\n",
       "      <td>0.112324</td>\n",
       "      <td>anchors</td>\n",
       "      <td>cifar10</td>\n",
       "      <td>1</td>\n",
       "      <td>448kfne2</td>\n",
       "      <td>train</td>\n",
       "    </tr>\n",
       "    <tr>\n",
       "      <th>anchors_52l22gc1_cifar10_p1</th>\n",
       "      <td>0.118346</td>\n",
       "      <td>anchors</td>\n",
       "      <td>cifar10</td>\n",
       "      <td>1</td>\n",
       "      <td>52l22gc1</td>\n",
       "      <td>train</td>\n",
       "    </tr>\n",
       "    <tr>\n",
       "      <th>anchors_5791j5is_cifar10_p1</th>\n",
       "      <td>0.116815</td>\n",
       "      <td>anchors</td>\n",
       "      <td>cifar10</td>\n",
       "      <td>1</td>\n",
       "      <td>5791j5is</td>\n",
       "      <td>train</td>\n",
       "    </tr>\n",
       "    <tr>\n",
       "      <th>anchors_5hrwt8sd_cifar10_p1</th>\n",
       "      <td>0.121371</td>\n",
       "      <td>anchors</td>\n",
       "      <td>cifar10</td>\n",
       "      <td>1</td>\n",
       "      <td>5hrwt8sd</td>\n",
       "      <td>train</td>\n",
       "    </tr>\n",
       "    <tr>\n",
       "      <th>anchors_6ids7w54_cifar10_p1</th>\n",
       "      <td>0.108609</td>\n",
       "      <td>anchors</td>\n",
       "      <td>cifar10</td>\n",
       "      <td>1</td>\n",
       "      <td>6ids7w54</td>\n",
       "      <td>train</td>\n",
       "    </tr>\n",
       "    <tr>\n",
       "      <th>anchors_6kxd228s_cifar10_p1</th>\n",
       "      <td>0.112535</td>\n",
       "      <td>anchors</td>\n",
       "      <td>cifar10</td>\n",
       "      <td>1</td>\n",
       "      <td>6kxd228s</td>\n",
       "      <td>train</td>\n",
       "    </tr>\n",
       "    <tr>\n",
       "      <th>anchors_7sckybft_cifar10_p1</th>\n",
       "      <td>0.120158</td>\n",
       "      <td>anchors</td>\n",
       "      <td>cifar10</td>\n",
       "      <td>1</td>\n",
       "      <td>7sckybft</td>\n",
       "      <td>train</td>\n",
       "    </tr>\n",
       "    <tr>\n",
       "      <th>anchors_7y4wdzel_cifar10_p1</th>\n",
       "      <td>0.122731</td>\n",
       "      <td>anchors</td>\n",
       "      <td>cifar10</td>\n",
       "      <td>1</td>\n",
       "      <td>7y4wdzel</td>\n",
       "      <td>train</td>\n",
       "    </tr>\n",
       "    <tr>\n",
       "      <th>stars_6gps5q6c_cifar10_p1</th>\n",
       "      <td>0.093374</td>\n",
       "      <td>stars</td>\n",
       "      <td>cifar10</td>\n",
       "      <td>1</td>\n",
       "      <td>6gps5q6c</td>\n",
       "      <td>train</td>\n",
       "    </tr>\n",
       "    <tr>\n",
       "      <th>stars_82pxe1i8_cifar10_p1</th>\n",
       "      <td>0.094880</td>\n",
       "      <td>stars</td>\n",
       "      <td>cifar10</td>\n",
       "      <td>1</td>\n",
       "      <td>82pxe1i8</td>\n",
       "      <td>train</td>\n",
       "    </tr>\n",
       "    <tr>\n",
       "      <th>stars_8dirowph_cifar10_p1</th>\n",
       "      <td>0.097538</td>\n",
       "      <td>stars</td>\n",
       "      <td>cifar10</td>\n",
       "      <td>1</td>\n",
       "      <td>8dirowph</td>\n",
       "      <td>train</td>\n",
       "    </tr>\n",
       "    <tr>\n",
       "      <th>stars_bezgu0h7_cifar10_p1</th>\n",
       "      <td>0.098299</td>\n",
       "      <td>stars</td>\n",
       "      <td>cifar10</td>\n",
       "      <td>1</td>\n",
       "      <td>bezgu0h7</td>\n",
       "      <td>train</td>\n",
       "    </tr>\n",
       "    <tr>\n",
       "      <th>stars_by2vpp9d_cifar10_p1</th>\n",
       "      <td>0.099257</td>\n",
       "      <td>stars</td>\n",
       "      <td>cifar10</td>\n",
       "      <td>1</td>\n",
       "      <td>by2vpp9d</td>\n",
       "      <td>train</td>\n",
       "    </tr>\n",
       "    <tr>\n",
       "      <th>stars_h2qjwxrq_cifar10_p1</th>\n",
       "      <td>0.095268</td>\n",
       "      <td>stars</td>\n",
       "      <td>cifar10</td>\n",
       "      <td>1</td>\n",
       "      <td>h2qjwxrq</td>\n",
       "      <td>train</td>\n",
       "    </tr>\n",
       "    <tr>\n",
       "      <th>stars_n5sjdrla_cifar10_p1</th>\n",
       "      <td>0.096734</td>\n",
       "      <td>stars</td>\n",
       "      <td>cifar10</td>\n",
       "      <td>1</td>\n",
       "      <td>n5sjdrla</td>\n",
       "      <td>train</td>\n",
       "    </tr>\n",
       "    <tr>\n",
       "      <th>stars_n8vpmpbj_cifar10_p1</th>\n",
       "      <td>0.096390</td>\n",
       "      <td>stars</td>\n",
       "      <td>cifar10</td>\n",
       "      <td>1</td>\n",
       "      <td>n8vpmpbj</td>\n",
       "      <td>train</td>\n",
       "    </tr>\n",
       "    <tr>\n",
       "      <th>stars_nyolmhfc_cifar10_p1</th>\n",
       "      <td>0.098114</td>\n",
       "      <td>stars</td>\n",
       "      <td>cifar10</td>\n",
       "      <td>1</td>\n",
       "      <td>nyolmhfc</td>\n",
       "      <td>train</td>\n",
       "    </tr>\n",
       "    <tr>\n",
       "      <th>stars_wrvljast_cifar10_p1</th>\n",
       "      <td>0.102421</td>\n",
       "      <td>stars</td>\n",
       "      <td>cifar10</td>\n",
       "      <td>1</td>\n",
       "      <td>wrvljast</td>\n",
       "      <td>train</td>\n",
       "    </tr>\n",
       "  </tbody>\n",
       "</table>\n",
       "</div>"
      ],
      "text/plain": [
       "                               margin model_type dataset_name  percent  \\\n",
       "anchors_2oo0upw1_cifar10_p1  0.118189    anchors      cifar10        1   \n",
       "anchors_3m2c3guk_cifar10_p1  0.118039    anchors      cifar10        1   \n",
       "anchors_448kfne2_cifar10_p1  0.112324    anchors      cifar10        1   \n",
       "anchors_52l22gc1_cifar10_p1  0.118346    anchors      cifar10        1   \n",
       "anchors_5791j5is_cifar10_p1  0.116815    anchors      cifar10        1   \n",
       "anchors_5hrwt8sd_cifar10_p1  0.121371    anchors      cifar10        1   \n",
       "anchors_6ids7w54_cifar10_p1  0.108609    anchors      cifar10        1   \n",
       "anchors_6kxd228s_cifar10_p1  0.112535    anchors      cifar10        1   \n",
       "anchors_7sckybft_cifar10_p1  0.120158    anchors      cifar10        1   \n",
       "anchors_7y4wdzel_cifar10_p1  0.122731    anchors      cifar10        1   \n",
       "stars_6gps5q6c_cifar10_p1    0.093374      stars      cifar10        1   \n",
       "stars_82pxe1i8_cifar10_p1    0.094880      stars      cifar10        1   \n",
       "stars_8dirowph_cifar10_p1    0.097538      stars      cifar10        1   \n",
       "stars_bezgu0h7_cifar10_p1    0.098299      stars      cifar10        1   \n",
       "stars_by2vpp9d_cifar10_p1    0.099257      stars      cifar10        1   \n",
       "stars_h2qjwxrq_cifar10_p1    0.095268      stars      cifar10        1   \n",
       "stars_n5sjdrla_cifar10_p1    0.096734      stars      cifar10        1   \n",
       "stars_n8vpmpbj_cifar10_p1    0.096390      stars      cifar10        1   \n",
       "stars_nyolmhfc_cifar10_p1    0.098114      stars      cifar10        1   \n",
       "stars_wrvljast_cifar10_p1    0.102421      stars      cifar10        1   \n",
       "\n",
       "                             model_id split_name  \n",
       "anchors_2oo0upw1_cifar10_p1  2oo0upw1      train  \n",
       "anchors_3m2c3guk_cifar10_p1  3m2c3guk      train  \n",
       "anchors_448kfne2_cifar10_p1  448kfne2      train  \n",
       "anchors_52l22gc1_cifar10_p1  52l22gc1      train  \n",
       "anchors_5791j5is_cifar10_p1  5791j5is      train  \n",
       "anchors_5hrwt8sd_cifar10_p1  5hrwt8sd      train  \n",
       "anchors_6ids7w54_cifar10_p1  6ids7w54      train  \n",
       "anchors_6kxd228s_cifar10_p1  6kxd228s      train  \n",
       "anchors_7sckybft_cifar10_p1  7sckybft      train  \n",
       "anchors_7y4wdzel_cifar10_p1  7y4wdzel      train  \n",
       "stars_6gps5q6c_cifar10_p1    6gps5q6c      train  \n",
       "stars_82pxe1i8_cifar10_p1    82pxe1i8      train  \n",
       "stars_8dirowph_cifar10_p1    8dirowph      train  \n",
       "stars_bezgu0h7_cifar10_p1    bezgu0h7      train  \n",
       "stars_by2vpp9d_cifar10_p1    by2vpp9d      train  \n",
       "stars_h2qjwxrq_cifar10_p1    h2qjwxrq      train  \n",
       "stars_n5sjdrla_cifar10_p1    n5sjdrla      train  \n",
       "stars_n8vpmpbj_cifar10_p1    n8vpmpbj      train  \n",
       "stars_nyolmhfc_cifar10_p1    nyolmhfc      train  \n",
       "stars_wrvljast_cifar10_p1    wrvljast      train  "
      ]
     },
     "metadata": {},
     "output_type": "display_data"
    }
   ],
   "source": [
    "df = plot_dict(max_cifar10_resnet18_results, to_show=True)"
   ]
  },
  {
   "cell_type": "code",
   "execution_count": 97,
   "metadata": {},
   "outputs": [
    {
     "data": {
      "text/html": [
       "<div>\n",
       "<style scoped>\n",
       "    .dataframe tbody tr th:only-of-type {\n",
       "        vertical-align: middle;\n",
       "    }\n",
       "\n",
       "    .dataframe tbody tr th {\n",
       "        vertical-align: top;\n",
       "    }\n",
       "\n",
       "    .dataframe thead tr th {\n",
       "        text-align: left;\n",
       "    }\n",
       "\n",
       "    .dataframe thead tr:last-of-type th {\n",
       "        text-align: right;\n",
       "    }\n",
       "</style>\n",
       "<table border=\"1\" class=\"dataframe\">\n",
       "  <thead>\n",
       "    <tr>\n",
       "      <th></th>\n",
       "      <th colspan=\"2\" halign=\"left\">margin</th>\n",
       "      <th colspan=\"2\" halign=\"left\">percent</th>\n",
       "    </tr>\n",
       "    <tr>\n",
       "      <th></th>\n",
       "      <th>mean</th>\n",
       "      <th>std</th>\n",
       "      <th>mean</th>\n",
       "      <th>std</th>\n",
       "    </tr>\n",
       "    <tr>\n",
       "      <th>model_type</th>\n",
       "      <th></th>\n",
       "      <th></th>\n",
       "      <th></th>\n",
       "      <th></th>\n",
       "    </tr>\n",
       "  </thead>\n",
       "  <tbody>\n",
       "    <tr>\n",
       "      <th>anchors</th>\n",
       "      <td>0.116912</td>\n",
       "      <td>0.004452</td>\n",
       "      <td>1.0</td>\n",
       "      <td>0.0</td>\n",
       "    </tr>\n",
       "    <tr>\n",
       "      <th>stars</th>\n",
       "      <td>0.097228</td>\n",
       "      <td>0.002544</td>\n",
       "      <td>1.0</td>\n",
       "      <td>0.0</td>\n",
       "    </tr>\n",
       "  </tbody>\n",
       "</table>\n",
       "</div>"
      ],
      "text/plain": [
       "              margin           percent     \n",
       "                mean       std    mean  std\n",
       "model_type                                 \n",
       "anchors     0.116912  0.004452     1.0  0.0\n",
       "stars       0.097228  0.002544     1.0  0.0"
      ]
     },
     "metadata": {},
     "output_type": "display_data"
    }
   ],
   "source": [
    "df = plot_dict(max_cifar10_resnet18_results, to_show=True, drop_columns=[\"index\", \"dataset_name\", \"model_id\", \"split_name\"], group_aggregate_list=[\"model_type\"], query=\"percent == 1.00\")"
   ]
  },
  {
   "cell_type": "markdown",
   "metadata": {},
   "source": [
    "### Max"
   ]
  },
  {
   "cell_type": "code",
   "execution_count": 258,
   "metadata": {},
   "outputs": [
    {
     "name": "stdout",
     "output_type": "stream",
     "text": [
      "Loading existing results from ./max_cifar10_resnet18_results.pt\n",
      "Computing results for anchors_2oo0upw1_cifar10_p1\n"
     ]
    },
    {
     "name": "stderr",
     "output_type": "stream",
     "text": [
      "batch: 100%|██████████| 176/176 [00:51<00:00,  3.41it/s]\n"
     ]
    },
    {
     "name": "stdout",
     "output_type": "stream",
     "text": [
      "Computing results for anchors_3m2c3guk_cifar10_p1\n"
     ]
    },
    {
     "name": "stderr",
     "output_type": "stream",
     "text": [
      "batch: 100%|██████████| 176/176 [00:51<00:00,  3.39it/s]\n"
     ]
    },
    {
     "name": "stdout",
     "output_type": "stream",
     "text": [
      "Computing results for anchors_448kfne2_cifar10_p1\n"
     ]
    },
    {
     "name": "stderr",
     "output_type": "stream",
     "text": [
      "batch: 100%|██████████| 176/176 [00:51<00:00,  3.39it/s]\n"
     ]
    },
    {
     "name": "stdout",
     "output_type": "stream",
     "text": [
      "Computing results for anchors_52l22gc1_cifar10_p1\n"
     ]
    },
    {
     "name": "stderr",
     "output_type": "stream",
     "text": [
      "batch: 100%|██████████| 176/176 [00:52<00:00,  3.38it/s]\n"
     ]
    },
    {
     "name": "stdout",
     "output_type": "stream",
     "text": [
      "Computing results for anchors_5791j5is_cifar10_p1\n"
     ]
    },
    {
     "name": "stderr",
     "output_type": "stream",
     "text": [
      "batch: 100%|██████████| 176/176 [00:52<00:00,  3.38it/s]\n"
     ]
    },
    {
     "name": "stdout",
     "output_type": "stream",
     "text": [
      "Computing results for anchors_5hrwt8sd_cifar10_p1\n"
     ]
    },
    {
     "name": "stderr",
     "output_type": "stream",
     "text": [
      "batch: 100%|██████████| 176/176 [00:51<00:00,  3.39it/s]\n"
     ]
    },
    {
     "name": "stdout",
     "output_type": "stream",
     "text": [
      "Computing results for anchors_6ids7w54_cifar10_p1\n"
     ]
    },
    {
     "name": "stderr",
     "output_type": "stream",
     "text": [
      "batch: 100%|██████████| 176/176 [00:51<00:00,  3.39it/s]\n"
     ]
    },
    {
     "name": "stdout",
     "output_type": "stream",
     "text": [
      "Computing results for anchors_6kxd228s_cifar10_p1\n"
     ]
    },
    {
     "name": "stderr",
     "output_type": "stream",
     "text": [
      "batch: 100%|██████████| 176/176 [00:51<00:00,  3.39it/s]\n"
     ]
    },
    {
     "name": "stdout",
     "output_type": "stream",
     "text": [
      "Computing results for anchors_7sckybft_cifar10_p1\n"
     ]
    },
    {
     "name": "stderr",
     "output_type": "stream",
     "text": [
      "batch: 100%|██████████| 176/176 [00:51<00:00,  3.39it/s]\n"
     ]
    },
    {
     "name": "stdout",
     "output_type": "stream",
     "text": [
      "Computing results for anchors_7y4wdzel_cifar10_p1\n"
     ]
    },
    {
     "name": "stderr",
     "output_type": "stream",
     "text": [
      "batch: 100%|██████████| 176/176 [00:51<00:00,  3.39it/s]\n"
     ]
    },
    {
     "name": "stdout",
     "output_type": "stream",
     "text": [
      "Computing results for stars_6gps5q6c_cifar10_p1\n"
     ]
    },
    {
     "name": "stderr",
     "output_type": "stream",
     "text": [
      "batch: 100%|██████████| 176/176 [00:51<00:00,  3.39it/s]\n"
     ]
    },
    {
     "name": "stdout",
     "output_type": "stream",
     "text": [
      "Computing results for stars_82pxe1i8_cifar10_p1\n"
     ]
    },
    {
     "name": "stderr",
     "output_type": "stream",
     "text": [
      "batch: 100%|██████████| 176/176 [00:51<00:00,  3.39it/s]\n"
     ]
    },
    {
     "name": "stdout",
     "output_type": "stream",
     "text": [
      "Computing results for stars_8dirowph_cifar10_p1\n"
     ]
    },
    {
     "name": "stderr",
     "output_type": "stream",
     "text": [
      "batch: 100%|██████████| 176/176 [00:51<00:00,  3.39it/s]\n"
     ]
    },
    {
     "name": "stdout",
     "output_type": "stream",
     "text": [
      "Computing results for stars_bezgu0h7_cifar10_p1\n"
     ]
    },
    {
     "name": "stderr",
     "output_type": "stream",
     "text": [
      "batch: 100%|██████████| 176/176 [00:51<00:00,  3.39it/s]\n"
     ]
    },
    {
     "name": "stdout",
     "output_type": "stream",
     "text": [
      "Computing results for stars_by2vpp9d_cifar10_p1\n"
     ]
    },
    {
     "name": "stderr",
     "output_type": "stream",
     "text": [
      "batch: 100%|██████████| 176/176 [00:51<00:00,  3.39it/s]\n"
     ]
    },
    {
     "name": "stdout",
     "output_type": "stream",
     "text": [
      "Computing results for stars_h2qjwxrq_cifar10_p1\n"
     ]
    },
    {
     "name": "stderr",
     "output_type": "stream",
     "text": [
      "batch: 100%|██████████| 176/176 [00:51<00:00,  3.39it/s]\n"
     ]
    },
    {
     "name": "stdout",
     "output_type": "stream",
     "text": [
      "Computing results for stars_n5sjdrla_cifar10_p1\n"
     ]
    },
    {
     "name": "stderr",
     "output_type": "stream",
     "text": [
      "batch: 100%|██████████| 176/176 [00:51<00:00,  3.39it/s]\n"
     ]
    },
    {
     "name": "stdout",
     "output_type": "stream",
     "text": [
      "Computing results for stars_n8vpmpbj_cifar10_p1\n"
     ]
    },
    {
     "name": "stderr",
     "output_type": "stream",
     "text": [
      "batch: 100%|██████████| 176/176 [00:51<00:00,  3.39it/s]\n"
     ]
    },
    {
     "name": "stdout",
     "output_type": "stream",
     "text": [
      "Computing results for stars_nyolmhfc_cifar10_p1\n"
     ]
    },
    {
     "name": "stderr",
     "output_type": "stream",
     "text": [
      "batch: 100%|██████████| 176/176 [00:51<00:00,  3.39it/s]\n"
     ]
    },
    {
     "name": "stdout",
     "output_type": "stream",
     "text": [
      "Computing results for stars_wrvljast_cifar10_p1\n"
     ]
    },
    {
     "name": "stderr",
     "output_type": "stream",
     "text": [
      "batch: 100%|██████████| 176/176 [00:51<00:00,  3.39it/s]\n"
     ]
    }
   ],
   "source": [
    "cifar10_resnet18_res_path = \"./max_cifar10_resnet18_results.pt\"\n",
    "\n",
    "last_10_stars_cifar10_resnet18 = [path for path in stars_resnet18 if get_model_id(path) in last_10_stars]\n",
    "\n",
    "max_cifar10_resnet18_results = compute_results(\n",
    "    anchors_resnet18[:10] + last_10_stars_cifar10_resnet18,\n",
    "    # anchors_resnet18[:2] + last_10_stars_cifar10_resnet18[:2],\n",
    "    cifar10_train_dataloader,\n",
    "    cifar10_resnet18_res_path,\n",
    "    split_name=\"train\",\n",
    "    percent=1,\n",
    "    # percent=0.05,\n",
    "    load_model=get_resnet18_cifar,\n",
    "    # recompute_substring=\"p0\"\n",
    "    recompute_substring=None,\n",
    "    agg=\"max\"\n",
    ")"
   ]
  },
  {
   "cell_type": "code",
   "execution_count": 23,
   "metadata": {},
   "outputs": [],
   "source": [
    "max_cifar10_resnet18_res_path = \"./max_cifar10_resnet18_results.pt\"\n",
    "max_cifar10_resnet18_results = torch.load(max_cifar10_resnet18_res_path)"
   ]
  },
  {
   "cell_type": "code",
   "execution_count": 24,
   "metadata": {},
   "outputs": [
    {
     "data": {
      "text/html": [
       "<div>\n",
       "<style scoped>\n",
       "    .dataframe tbody tr th:only-of-type {\n",
       "        vertical-align: middle;\n",
       "    }\n",
       "\n",
       "    .dataframe tbody tr th {\n",
       "        vertical-align: top;\n",
       "    }\n",
       "\n",
       "    .dataframe thead th {\n",
       "        text-align: right;\n",
       "    }\n",
       "</style>\n",
       "<table border=\"1\" class=\"dataframe\">\n",
       "  <thead>\n",
       "    <tr style=\"text-align: right;\">\n",
       "      <th></th>\n",
       "      <th>margin</th>\n",
       "      <th>model_type</th>\n",
       "      <th>dataset_name</th>\n",
       "      <th>percent</th>\n",
       "      <th>model_id</th>\n",
       "      <th>split_name</th>\n",
       "    </tr>\n",
       "  </thead>\n",
       "  <tbody>\n",
       "    <tr>\n",
       "      <th>anchors_2oo0upw1_cifar10_p0.05</th>\n",
       "      <td>0.000104</td>\n",
       "      <td>anchors</td>\n",
       "      <td>cifar10</td>\n",
       "      <td>0.05</td>\n",
       "      <td>2oo0upw1</td>\n",
       "      <td>train</td>\n",
       "    </tr>\n",
       "    <tr>\n",
       "      <th>anchors_3m2c3guk_cifar10_p0.05</th>\n",
       "      <td>0.000104</td>\n",
       "      <td>anchors</td>\n",
       "      <td>cifar10</td>\n",
       "      <td>0.05</td>\n",
       "      <td>3m2c3guk</td>\n",
       "      <td>train</td>\n",
       "    </tr>\n",
       "    <tr>\n",
       "      <th>stars_6gps5q6c_cifar10_p0.05</th>\n",
       "      <td>0.000090</td>\n",
       "      <td>stars</td>\n",
       "      <td>cifar10</td>\n",
       "      <td>0.05</td>\n",
       "      <td>6gps5q6c</td>\n",
       "      <td>train</td>\n",
       "    </tr>\n",
       "    <tr>\n",
       "      <th>stars_82pxe1i8_cifar10_p0.05</th>\n",
       "      <td>0.000089</td>\n",
       "      <td>stars</td>\n",
       "      <td>cifar10</td>\n",
       "      <td>0.05</td>\n",
       "      <td>82pxe1i8</td>\n",
       "      <td>train</td>\n",
       "    </tr>\n",
       "    <tr>\n",
       "      <th>anchors_2oo0upw1_cifar10_p1</th>\n",
       "      <td>0.000105</td>\n",
       "      <td>anchors</td>\n",
       "      <td>cifar10</td>\n",
       "      <td>1.00</td>\n",
       "      <td>2oo0upw1</td>\n",
       "      <td>train</td>\n",
       "    </tr>\n",
       "    <tr>\n",
       "      <th>anchors_3m2c3guk_cifar10_p1</th>\n",
       "      <td>0.000104</td>\n",
       "      <td>anchors</td>\n",
       "      <td>cifar10</td>\n",
       "      <td>1.00</td>\n",
       "      <td>3m2c3guk</td>\n",
       "      <td>train</td>\n",
       "    </tr>\n",
       "    <tr>\n",
       "      <th>anchors_448kfne2_cifar10_p1</th>\n",
       "      <td>0.000100</td>\n",
       "      <td>anchors</td>\n",
       "      <td>cifar10</td>\n",
       "      <td>1.00</td>\n",
       "      <td>448kfne2</td>\n",
       "      <td>train</td>\n",
       "    </tr>\n",
       "    <tr>\n",
       "      <th>anchors_52l22gc1_cifar10_p1</th>\n",
       "      <td>0.000102</td>\n",
       "      <td>anchors</td>\n",
       "      <td>cifar10</td>\n",
       "      <td>1.00</td>\n",
       "      <td>52l22gc1</td>\n",
       "      <td>train</td>\n",
       "    </tr>\n",
       "    <tr>\n",
       "      <th>anchors_5791j5is_cifar10_p1</th>\n",
       "      <td>0.000104</td>\n",
       "      <td>anchors</td>\n",
       "      <td>cifar10</td>\n",
       "      <td>1.00</td>\n",
       "      <td>5791j5is</td>\n",
       "      <td>train</td>\n",
       "    </tr>\n",
       "    <tr>\n",
       "      <th>anchors_5hrwt8sd_cifar10_p1</th>\n",
       "      <td>0.000104</td>\n",
       "      <td>anchors</td>\n",
       "      <td>cifar10</td>\n",
       "      <td>1.00</td>\n",
       "      <td>5hrwt8sd</td>\n",
       "      <td>train</td>\n",
       "    </tr>\n",
       "    <tr>\n",
       "      <th>anchors_6ids7w54_cifar10_p1</th>\n",
       "      <td>0.000096</td>\n",
       "      <td>anchors</td>\n",
       "      <td>cifar10</td>\n",
       "      <td>1.00</td>\n",
       "      <td>6ids7w54</td>\n",
       "      <td>train</td>\n",
       "    </tr>\n",
       "    <tr>\n",
       "      <th>anchors_6kxd228s_cifar10_p1</th>\n",
       "      <td>0.000100</td>\n",
       "      <td>anchors</td>\n",
       "      <td>cifar10</td>\n",
       "      <td>1.00</td>\n",
       "      <td>6kxd228s</td>\n",
       "      <td>train</td>\n",
       "    </tr>\n",
       "    <tr>\n",
       "      <th>anchors_7sckybft_cifar10_p1</th>\n",
       "      <td>0.000107</td>\n",
       "      <td>anchors</td>\n",
       "      <td>cifar10</td>\n",
       "      <td>1.00</td>\n",
       "      <td>7sckybft</td>\n",
       "      <td>train</td>\n",
       "    </tr>\n",
       "    <tr>\n",
       "      <th>anchors_7y4wdzel_cifar10_p1</th>\n",
       "      <td>0.000110</td>\n",
       "      <td>anchors</td>\n",
       "      <td>cifar10</td>\n",
       "      <td>1.00</td>\n",
       "      <td>7y4wdzel</td>\n",
       "      <td>train</td>\n",
       "    </tr>\n",
       "    <tr>\n",
       "      <th>stars_6gps5q6c_cifar10_p1</th>\n",
       "      <td>0.000087</td>\n",
       "      <td>stars</td>\n",
       "      <td>cifar10</td>\n",
       "      <td>1.00</td>\n",
       "      <td>6gps5q6c</td>\n",
       "      <td>train</td>\n",
       "    </tr>\n",
       "    <tr>\n",
       "      <th>stars_82pxe1i8_cifar10_p1</th>\n",
       "      <td>0.000088</td>\n",
       "      <td>stars</td>\n",
       "      <td>cifar10</td>\n",
       "      <td>1.00</td>\n",
       "      <td>82pxe1i8</td>\n",
       "      <td>train</td>\n",
       "    </tr>\n",
       "    <tr>\n",
       "      <th>stars_8dirowph_cifar10_p1</th>\n",
       "      <td>0.000091</td>\n",
       "      <td>stars</td>\n",
       "      <td>cifar10</td>\n",
       "      <td>1.00</td>\n",
       "      <td>8dirowph</td>\n",
       "      <td>train</td>\n",
       "    </tr>\n",
       "    <tr>\n",
       "      <th>stars_bezgu0h7_cifar10_p1</th>\n",
       "      <td>0.000089</td>\n",
       "      <td>stars</td>\n",
       "      <td>cifar10</td>\n",
       "      <td>1.00</td>\n",
       "      <td>bezgu0h7</td>\n",
       "      <td>train</td>\n",
       "    </tr>\n",
       "    <tr>\n",
       "      <th>stars_by2vpp9d_cifar10_p1</th>\n",
       "      <td>0.000091</td>\n",
       "      <td>stars</td>\n",
       "      <td>cifar10</td>\n",
       "      <td>1.00</td>\n",
       "      <td>by2vpp9d</td>\n",
       "      <td>train</td>\n",
       "    </tr>\n",
       "    <tr>\n",
       "      <th>stars_h2qjwxrq_cifar10_p1</th>\n",
       "      <td>0.000090</td>\n",
       "      <td>stars</td>\n",
       "      <td>cifar10</td>\n",
       "      <td>1.00</td>\n",
       "      <td>h2qjwxrq</td>\n",
       "      <td>train</td>\n",
       "    </tr>\n",
       "    <tr>\n",
       "      <th>stars_n5sjdrla_cifar10_p1</th>\n",
       "      <td>0.000088</td>\n",
       "      <td>stars</td>\n",
       "      <td>cifar10</td>\n",
       "      <td>1.00</td>\n",
       "      <td>n5sjdrla</td>\n",
       "      <td>train</td>\n",
       "    </tr>\n",
       "    <tr>\n",
       "      <th>stars_n8vpmpbj_cifar10_p1</th>\n",
       "      <td>0.000087</td>\n",
       "      <td>stars</td>\n",
       "      <td>cifar10</td>\n",
       "      <td>1.00</td>\n",
       "      <td>n8vpmpbj</td>\n",
       "      <td>train</td>\n",
       "    </tr>\n",
       "    <tr>\n",
       "      <th>stars_nyolmhfc_cifar10_p1</th>\n",
       "      <td>0.000088</td>\n",
       "      <td>stars</td>\n",
       "      <td>cifar10</td>\n",
       "      <td>1.00</td>\n",
       "      <td>nyolmhfc</td>\n",
       "      <td>train</td>\n",
       "    </tr>\n",
       "    <tr>\n",
       "      <th>stars_wrvljast_cifar10_p1</th>\n",
       "      <td>0.000094</td>\n",
       "      <td>stars</td>\n",
       "      <td>cifar10</td>\n",
       "      <td>1.00</td>\n",
       "      <td>wrvljast</td>\n",
       "      <td>train</td>\n",
       "    </tr>\n",
       "  </tbody>\n",
       "</table>\n",
       "</div>"
      ],
      "text/plain": [
       "                                  margin model_type dataset_name  percent  \\\n",
       "anchors_2oo0upw1_cifar10_p0.05  0.000104    anchors      cifar10     0.05   \n",
       "anchors_3m2c3guk_cifar10_p0.05  0.000104    anchors      cifar10     0.05   \n",
       "stars_6gps5q6c_cifar10_p0.05    0.000090      stars      cifar10     0.05   \n",
       "stars_82pxe1i8_cifar10_p0.05    0.000089      stars      cifar10     0.05   \n",
       "anchors_2oo0upw1_cifar10_p1     0.000105    anchors      cifar10     1.00   \n",
       "anchors_3m2c3guk_cifar10_p1     0.000104    anchors      cifar10     1.00   \n",
       "anchors_448kfne2_cifar10_p1     0.000100    anchors      cifar10     1.00   \n",
       "anchors_52l22gc1_cifar10_p1     0.000102    anchors      cifar10     1.00   \n",
       "anchors_5791j5is_cifar10_p1     0.000104    anchors      cifar10     1.00   \n",
       "anchors_5hrwt8sd_cifar10_p1     0.000104    anchors      cifar10     1.00   \n",
       "anchors_6ids7w54_cifar10_p1     0.000096    anchors      cifar10     1.00   \n",
       "anchors_6kxd228s_cifar10_p1     0.000100    anchors      cifar10     1.00   \n",
       "anchors_7sckybft_cifar10_p1     0.000107    anchors      cifar10     1.00   \n",
       "anchors_7y4wdzel_cifar10_p1     0.000110    anchors      cifar10     1.00   \n",
       "stars_6gps5q6c_cifar10_p1       0.000087      stars      cifar10     1.00   \n",
       "stars_82pxe1i8_cifar10_p1       0.000088      stars      cifar10     1.00   \n",
       "stars_8dirowph_cifar10_p1       0.000091      stars      cifar10     1.00   \n",
       "stars_bezgu0h7_cifar10_p1       0.000089      stars      cifar10     1.00   \n",
       "stars_by2vpp9d_cifar10_p1       0.000091      stars      cifar10     1.00   \n",
       "stars_h2qjwxrq_cifar10_p1       0.000090      stars      cifar10     1.00   \n",
       "stars_n5sjdrla_cifar10_p1       0.000088      stars      cifar10     1.00   \n",
       "stars_n8vpmpbj_cifar10_p1       0.000087      stars      cifar10     1.00   \n",
       "stars_nyolmhfc_cifar10_p1       0.000088      stars      cifar10     1.00   \n",
       "stars_wrvljast_cifar10_p1       0.000094      stars      cifar10     1.00   \n",
       "\n",
       "                                model_id split_name  \n",
       "anchors_2oo0upw1_cifar10_p0.05  2oo0upw1      train  \n",
       "anchors_3m2c3guk_cifar10_p0.05  3m2c3guk      train  \n",
       "stars_6gps5q6c_cifar10_p0.05    6gps5q6c      train  \n",
       "stars_82pxe1i8_cifar10_p0.05    82pxe1i8      train  \n",
       "anchors_2oo0upw1_cifar10_p1     2oo0upw1      train  \n",
       "anchors_3m2c3guk_cifar10_p1     3m2c3guk      train  \n",
       "anchors_448kfne2_cifar10_p1     448kfne2      train  \n",
       "anchors_52l22gc1_cifar10_p1     52l22gc1      train  \n",
       "anchors_5791j5is_cifar10_p1     5791j5is      train  \n",
       "anchors_5hrwt8sd_cifar10_p1     5hrwt8sd      train  \n",
       "anchors_6ids7w54_cifar10_p1     6ids7w54      train  \n",
       "anchors_6kxd228s_cifar10_p1     6kxd228s      train  \n",
       "anchors_7sckybft_cifar10_p1     7sckybft      train  \n",
       "anchors_7y4wdzel_cifar10_p1     7y4wdzel      train  \n",
       "stars_6gps5q6c_cifar10_p1       6gps5q6c      train  \n",
       "stars_82pxe1i8_cifar10_p1       82pxe1i8      train  \n",
       "stars_8dirowph_cifar10_p1       8dirowph      train  \n",
       "stars_bezgu0h7_cifar10_p1       bezgu0h7      train  \n",
       "stars_by2vpp9d_cifar10_p1       by2vpp9d      train  \n",
       "stars_h2qjwxrq_cifar10_p1       h2qjwxrq      train  \n",
       "stars_n5sjdrla_cifar10_p1       n5sjdrla      train  \n",
       "stars_n8vpmpbj_cifar10_p1       n8vpmpbj      train  \n",
       "stars_nyolmhfc_cifar10_p1       nyolmhfc      train  \n",
       "stars_wrvljast_cifar10_p1       wrvljast      train  "
      ]
     },
     "metadata": {},
     "output_type": "display_data"
    }
   ],
   "source": [
    "df = plot_dict(max_cifar10_resnet18_results, to_show=True)"
   ]
  },
  {
   "cell_type": "code",
   "execution_count": 257,
   "metadata": {},
   "outputs": [
    {
     "data": {
      "text/html": [
       "<div>\n",
       "<style scoped>\n",
       "    .dataframe tbody tr th:only-of-type {\n",
       "        vertical-align: middle;\n",
       "    }\n",
       "\n",
       "    .dataframe tbody tr th {\n",
       "        vertical-align: top;\n",
       "    }\n",
       "\n",
       "    .dataframe thead tr th {\n",
       "        text-align: left;\n",
       "    }\n",
       "\n",
       "    .dataframe thead tr:last-of-type th {\n",
       "        text-align: right;\n",
       "    }\n",
       "</style>\n",
       "<table border=\"1\" class=\"dataframe\">\n",
       "  <thead>\n",
       "    <tr>\n",
       "      <th></th>\n",
       "      <th colspan=\"2\" halign=\"left\">margin</th>\n",
       "      <th colspan=\"2\" halign=\"left\">percent</th>\n",
       "    </tr>\n",
       "    <tr>\n",
       "      <th></th>\n",
       "      <th>mean</th>\n",
       "      <th>std</th>\n",
       "      <th>mean</th>\n",
       "      <th>std</th>\n",
       "    </tr>\n",
       "    <tr>\n",
       "      <th>model_type</th>\n",
       "      <th></th>\n",
       "      <th></th>\n",
       "      <th></th>\n",
       "      <th></th>\n",
       "    </tr>\n",
       "  </thead>\n",
       "  <tbody>\n",
       "    <tr>\n",
       "      <th>anchors</th>\n",
       "      <td>0.000104</td>\n",
       "      <td>7.450299e-08</td>\n",
       "      <td>0.05</td>\n",
       "      <td>0.0</td>\n",
       "    </tr>\n",
       "    <tr>\n",
       "      <th>stars</th>\n",
       "      <td>0.000090</td>\n",
       "      <td>4.076185e-07</td>\n",
       "      <td>0.05</td>\n",
       "      <td>0.0</td>\n",
       "    </tr>\n",
       "  </tbody>\n",
       "</table>\n",
       "</div>"
      ],
      "text/plain": [
       "              margin               percent     \n",
       "                mean           std    mean  std\n",
       "model_type                                     \n",
       "anchors     0.000104  7.450299e-08    0.05  0.0\n",
       "stars       0.000090  4.076185e-07    0.05  0.0"
      ]
     },
     "metadata": {},
     "output_type": "display_data"
    }
   ],
   "source": [
    "df = plot_dict(max_cifar10_resnet18_results, to_show=True, drop_columns=[\"index\", \"dataset_name\", \"model_id\", \"split_name\"], group_aggregate_list=[\"model_type\"], query=\"percent == 1.00\")\n",
    "# df = plot_dict(max_cifar10_resnet18_results, to_show=True, drop_columns=[\"index\", \"dataset_name\", \"model_id\", \"split_name\"], group_aggregate_list=[\"model_type\"], query=\"percent == 0.05\")"
   ]
  },
  {
   "cell_type": "markdown",
   "metadata": {},
   "source": [
    "### Mean"
   ]
  },
  {
   "cell_type": "code",
   "execution_count": null,
   "metadata": {},
   "outputs": [],
   "source": [
    "margin_on_dataloader(get_resnet18_cifar(anchors_resnet18[0]), get_resnet18_cifar(anchors_resnet18[1]), cifar10_train_dataloader, percent=0.10, device=\"cuda:0\")"
   ]
  },
  {
   "cell_type": "code",
   "execution_count": 236,
   "metadata": {},
   "outputs": [
    {
     "name": "stdout",
     "output_type": "stream",
     "text": [
      "Loading existing results from ./cifar10_resnet18_results.pt\n",
      "Computing results for anchors_2oo0upw1_cifar10_p1\n"
     ]
    },
    {
     "name": "stderr",
     "output_type": "stream",
     "text": [
      "batch: 100%|██████████| 176/176 [00:51<00:00,  3.41it/s]\n"
     ]
    },
    {
     "name": "stdout",
     "output_type": "stream",
     "text": [
      "Computing results for anchors_3m2c3guk_cifar10_p1\n"
     ]
    },
    {
     "name": "stderr",
     "output_type": "stream",
     "text": [
      "batch: 100%|██████████| 176/176 [00:51<00:00,  3.40it/s]\n"
     ]
    },
    {
     "name": "stdout",
     "output_type": "stream",
     "text": [
      "Computing results for anchors_448kfne2_cifar10_p1\n"
     ]
    },
    {
     "name": "stderr",
     "output_type": "stream",
     "text": [
      "batch: 100%|██████████| 176/176 [00:51<00:00,  3.39it/s]\n"
     ]
    },
    {
     "name": "stdout",
     "output_type": "stream",
     "text": [
      "Computing results for anchors_52l22gc1_cifar10_p1\n"
     ]
    },
    {
     "name": "stderr",
     "output_type": "stream",
     "text": [
      "batch: 100%|██████████| 176/176 [00:51<00:00,  3.39it/s]\n"
     ]
    },
    {
     "name": "stdout",
     "output_type": "stream",
     "text": [
      "Computing results for anchors_5791j5is_cifar10_p1\n"
     ]
    },
    {
     "name": "stderr",
     "output_type": "stream",
     "text": [
      "batch: 100%|██████████| 176/176 [00:51<00:00,  3.39it/s]\n"
     ]
    },
    {
     "name": "stdout",
     "output_type": "stream",
     "text": [
      "Computing results for anchors_5hrwt8sd_cifar10_p1\n"
     ]
    },
    {
     "name": "stderr",
     "output_type": "stream",
     "text": [
      "batch: 100%|██████████| 176/176 [00:51<00:00,  3.39it/s]\n"
     ]
    },
    {
     "name": "stdout",
     "output_type": "stream",
     "text": [
      "Computing results for anchors_6ids7w54_cifar10_p1\n"
     ]
    },
    {
     "name": "stderr",
     "output_type": "stream",
     "text": [
      "batch: 100%|██████████| 176/176 [00:51<00:00,  3.39it/s]\n"
     ]
    },
    {
     "name": "stdout",
     "output_type": "stream",
     "text": [
      "Computing results for anchors_6kxd228s_cifar10_p1\n"
     ]
    },
    {
     "name": "stderr",
     "output_type": "stream",
     "text": [
      "batch: 100%|██████████| 176/176 [00:51<00:00,  3.40it/s]\n"
     ]
    },
    {
     "name": "stdout",
     "output_type": "stream",
     "text": [
      "Computing results for anchors_7sckybft_cifar10_p1\n"
     ]
    },
    {
     "name": "stderr",
     "output_type": "stream",
     "text": [
      "batch: 100%|██████████| 176/176 [00:51<00:00,  3.39it/s]\n"
     ]
    },
    {
     "name": "stdout",
     "output_type": "stream",
     "text": [
      "Computing results for anchors_7y4wdzel_cifar10_p1\n"
     ]
    },
    {
     "name": "stderr",
     "output_type": "stream",
     "text": [
      "batch: 100%|██████████| 176/176 [00:51<00:00,  3.40it/s]\n"
     ]
    },
    {
     "name": "stdout",
     "output_type": "stream",
     "text": [
      "Computing results for stars_6gps5q6c_cifar10_p1\n"
     ]
    },
    {
     "name": "stderr",
     "output_type": "stream",
     "text": [
      "batch: 100%|██████████| 176/176 [00:51<00:00,  3.39it/s]\n"
     ]
    },
    {
     "name": "stdout",
     "output_type": "stream",
     "text": [
      "Computing results for stars_82pxe1i8_cifar10_p1\n"
     ]
    },
    {
     "name": "stderr",
     "output_type": "stream",
     "text": [
      "batch: 100%|██████████| 176/176 [00:51<00:00,  3.39it/s]\n"
     ]
    },
    {
     "name": "stdout",
     "output_type": "stream",
     "text": [
      "Computing results for stars_8dirowph_cifar10_p1\n"
     ]
    },
    {
     "name": "stderr",
     "output_type": "stream",
     "text": [
      "batch: 100%|██████████| 176/176 [00:51<00:00,  3.39it/s]\n"
     ]
    },
    {
     "name": "stdout",
     "output_type": "stream",
     "text": [
      "Computing results for stars_bezgu0h7_cifar10_p1\n"
     ]
    },
    {
     "name": "stderr",
     "output_type": "stream",
     "text": [
      "batch: 100%|██████████| 176/176 [00:51<00:00,  3.39it/s]\n"
     ]
    },
    {
     "name": "stdout",
     "output_type": "stream",
     "text": [
      "Computing results for stars_by2vpp9d_cifar10_p1\n"
     ]
    },
    {
     "name": "stderr",
     "output_type": "stream",
     "text": [
      "batch: 100%|██████████| 176/176 [00:51<00:00,  3.39it/s]\n"
     ]
    },
    {
     "name": "stdout",
     "output_type": "stream",
     "text": [
      "Computing results for stars_h2qjwxrq_cifar10_p1\n"
     ]
    },
    {
     "name": "stderr",
     "output_type": "stream",
     "text": [
      "batch: 100%|██████████| 176/176 [00:51<00:00,  3.39it/s]\n"
     ]
    },
    {
     "name": "stdout",
     "output_type": "stream",
     "text": [
      "Computing results for stars_n5sjdrla_cifar10_p1\n"
     ]
    },
    {
     "name": "stderr",
     "output_type": "stream",
     "text": [
      "batch: 100%|██████████| 176/176 [00:51<00:00,  3.39it/s]\n"
     ]
    },
    {
     "name": "stdout",
     "output_type": "stream",
     "text": [
      "Computing results for stars_n8vpmpbj_cifar10_p1\n"
     ]
    },
    {
     "name": "stderr",
     "output_type": "stream",
     "text": [
      "batch: 100%|██████████| 176/176 [00:51<00:00,  3.39it/s]\n"
     ]
    },
    {
     "name": "stdout",
     "output_type": "stream",
     "text": [
      "Computing results for stars_nyolmhfc_cifar10_p1\n"
     ]
    },
    {
     "name": "stderr",
     "output_type": "stream",
     "text": [
      "batch: 100%|██████████| 176/176 [00:51<00:00,  3.39it/s]\n"
     ]
    },
    {
     "name": "stdout",
     "output_type": "stream",
     "text": [
      "Computing results for stars_wrvljast_cifar10_p1\n"
     ]
    },
    {
     "name": "stderr",
     "output_type": "stream",
     "text": [
      "batch: 100%|██████████| 176/176 [00:51<00:00,  3.39it/s]\n"
     ]
    }
   ],
   "source": [
    "cifar10_resnet18_res_path = \"./cifar10_resnet18_results.pt\"\n",
    "\n",
    "last_10_stars_cifar10_resnet18 = [path for path in stars_resnet18 if get_model_id(path) in last_10_stars]\n",
    "\n",
    "cifar10_resnet18_results = compute_results(\n",
    "    anchors_resnet18[:10] + last_10_stars_cifar10_resnet18,\n",
    "    cifar10_train_dataloader,\n",
    "    cifar10_resnet18_res_path,\n",
    "    split_name=\"train\",\n",
    "    percent=1,\n",
    "    load_model=get_resnet18_cifar,\n",
    "    # recompute_substring=\"p0\"\n",
    "    recompute_substring=None\n",
    ")"
   ]
  },
  {
   "cell_type": "code",
   "execution_count": 241,
   "metadata": {},
   "outputs": [
    {
     "data": {
      "text/html": [
       "<div>\n",
       "<style scoped>\n",
       "    .dataframe tbody tr th:only-of-type {\n",
       "        vertical-align: middle;\n",
       "    }\n",
       "\n",
       "    .dataframe tbody tr th {\n",
       "        vertical-align: top;\n",
       "    }\n",
       "\n",
       "    .dataframe thead th {\n",
       "        text-align: right;\n",
       "    }\n",
       "</style>\n",
       "<table border=\"1\" class=\"dataframe\">\n",
       "  <thead>\n",
       "    <tr style=\"text-align: right;\">\n",
       "      <th></th>\n",
       "      <th>margin</th>\n",
       "      <th>model_type</th>\n",
       "      <th>dataset_name</th>\n",
       "      <th>percent</th>\n",
       "      <th>model_id</th>\n",
       "      <th>split_name</th>\n",
       "    </tr>\n",
       "  </thead>\n",
       "  <tbody>\n",
       "    <tr>\n",
       "      <th>anchors_2oo0upw1_cifar10_p0.05</th>\n",
       "      <td>0.000081</td>\n",
       "      <td>anchors</td>\n",
       "      <td>cifar10</td>\n",
       "      <td>0.05</td>\n",
       "      <td>2oo0upw1</td>\n",
       "      <td>NaN</td>\n",
       "    </tr>\n",
       "    <tr>\n",
       "      <th>anchors_3m2c3guk_cifar10_p0.05</th>\n",
       "      <td>0.000080</td>\n",
       "      <td>anchors</td>\n",
       "      <td>cifar10</td>\n",
       "      <td>0.05</td>\n",
       "      <td>3m2c3guk</td>\n",
       "      <td>NaN</td>\n",
       "    </tr>\n",
       "    <tr>\n",
       "      <th>stars_0eiwx0xx_cifar10_p0.05</th>\n",
       "      <td>0.000071</td>\n",
       "      <td>stars</td>\n",
       "      <td>cifar10</td>\n",
       "      <td>0.05</td>\n",
       "      <td>0eiwx0xx</td>\n",
       "      <td>NaN</td>\n",
       "    </tr>\n",
       "    <tr>\n",
       "      <th>stars_4s24tjof_cifar10_p0.05</th>\n",
       "      <td>0.000070</td>\n",
       "      <td>stars</td>\n",
       "      <td>cifar10</td>\n",
       "      <td>0.05</td>\n",
       "      <td>4s24tjof</td>\n",
       "      <td>NaN</td>\n",
       "    </tr>\n",
       "    <tr>\n",
       "      <th>anchors_2oo0upw1_cifar10_p1</th>\n",
       "      <td>0.000082</td>\n",
       "      <td>anchors</td>\n",
       "      <td>cifar10</td>\n",
       "      <td>1.00</td>\n",
       "      <td>2oo0upw1</td>\n",
       "      <td>train</td>\n",
       "    </tr>\n",
       "    <tr>\n",
       "      <th>anchors_3m2c3guk_cifar10_p1</th>\n",
       "      <td>0.000081</td>\n",
       "      <td>anchors</td>\n",
       "      <td>cifar10</td>\n",
       "      <td>1.00</td>\n",
       "      <td>3m2c3guk</td>\n",
       "      <td>train</td>\n",
       "    </tr>\n",
       "    <tr>\n",
       "      <th>anchors_448kfne2_cifar10_p1</th>\n",
       "      <td>0.000077</td>\n",
       "      <td>anchors</td>\n",
       "      <td>cifar10</td>\n",
       "      <td>1.00</td>\n",
       "      <td>448kfne2</td>\n",
       "      <td>train</td>\n",
       "    </tr>\n",
       "    <tr>\n",
       "      <th>anchors_52l22gc1_cifar10_p1</th>\n",
       "      <td>0.000080</td>\n",
       "      <td>anchors</td>\n",
       "      <td>cifar10</td>\n",
       "      <td>1.00</td>\n",
       "      <td>52l22gc1</td>\n",
       "      <td>train</td>\n",
       "    </tr>\n",
       "    <tr>\n",
       "      <th>anchors_5791j5is_cifar10_p1</th>\n",
       "      <td>0.000081</td>\n",
       "      <td>anchors</td>\n",
       "      <td>cifar10</td>\n",
       "      <td>1.00</td>\n",
       "      <td>5791j5is</td>\n",
       "      <td>train</td>\n",
       "    </tr>\n",
       "    <tr>\n",
       "      <th>anchors_5hrwt8sd_cifar10_p1</th>\n",
       "      <td>0.000083</td>\n",
       "      <td>anchors</td>\n",
       "      <td>cifar10</td>\n",
       "      <td>1.00</td>\n",
       "      <td>5hrwt8sd</td>\n",
       "      <td>train</td>\n",
       "    </tr>\n",
       "    <tr>\n",
       "      <th>anchors_6ids7w54_cifar10_p1</th>\n",
       "      <td>0.000075</td>\n",
       "      <td>anchors</td>\n",
       "      <td>cifar10</td>\n",
       "      <td>1.00</td>\n",
       "      <td>6ids7w54</td>\n",
       "      <td>train</td>\n",
       "    </tr>\n",
       "    <tr>\n",
       "      <th>anchors_6kxd228s_cifar10_p1</th>\n",
       "      <td>0.000078</td>\n",
       "      <td>anchors</td>\n",
       "      <td>cifar10</td>\n",
       "      <td>1.00</td>\n",
       "      <td>6kxd228s</td>\n",
       "      <td>train</td>\n",
       "    </tr>\n",
       "    <tr>\n",
       "      <th>anchors_7sckybft_cifar10_p1</th>\n",
       "      <td>0.000084</td>\n",
       "      <td>anchors</td>\n",
       "      <td>cifar10</td>\n",
       "      <td>1.00</td>\n",
       "      <td>7sckybft</td>\n",
       "      <td>train</td>\n",
       "    </tr>\n",
       "    <tr>\n",
       "      <th>anchors_7y4wdzel_cifar10_p1</th>\n",
       "      <td>0.000085</td>\n",
       "      <td>anchors</td>\n",
       "      <td>cifar10</td>\n",
       "      <td>1.00</td>\n",
       "      <td>7y4wdzel</td>\n",
       "      <td>train</td>\n",
       "    </tr>\n",
       "    <tr>\n",
       "      <th>stars_6gps5q6c_cifar10_p1</th>\n",
       "      <td>0.000067</td>\n",
       "      <td>stars</td>\n",
       "      <td>cifar10</td>\n",
       "      <td>1.00</td>\n",
       "      <td>6gps5q6c</td>\n",
       "      <td>train</td>\n",
       "    </tr>\n",
       "    <tr>\n",
       "      <th>stars_82pxe1i8_cifar10_p1</th>\n",
       "      <td>0.000068</td>\n",
       "      <td>stars</td>\n",
       "      <td>cifar10</td>\n",
       "      <td>1.00</td>\n",
       "      <td>82pxe1i8</td>\n",
       "      <td>train</td>\n",
       "    </tr>\n",
       "    <tr>\n",
       "      <th>stars_8dirowph_cifar10_p1</th>\n",
       "      <td>0.000071</td>\n",
       "      <td>stars</td>\n",
       "      <td>cifar10</td>\n",
       "      <td>1.00</td>\n",
       "      <td>8dirowph</td>\n",
       "      <td>train</td>\n",
       "    </tr>\n",
       "    <tr>\n",
       "      <th>stars_bezgu0h7_cifar10_p1</th>\n",
       "      <td>0.000070</td>\n",
       "      <td>stars</td>\n",
       "      <td>cifar10</td>\n",
       "      <td>1.00</td>\n",
       "      <td>bezgu0h7</td>\n",
       "      <td>train</td>\n",
       "    </tr>\n",
       "    <tr>\n",
       "      <th>stars_by2vpp9d_cifar10_p1</th>\n",
       "      <td>0.000071</td>\n",
       "      <td>stars</td>\n",
       "      <td>cifar10</td>\n",
       "      <td>1.00</td>\n",
       "      <td>by2vpp9d</td>\n",
       "      <td>train</td>\n",
       "    </tr>\n",
       "    <tr>\n",
       "      <th>stars_h2qjwxrq_cifar10_p1</th>\n",
       "      <td>0.000070</td>\n",
       "      <td>stars</td>\n",
       "      <td>cifar10</td>\n",
       "      <td>1.00</td>\n",
       "      <td>h2qjwxrq</td>\n",
       "      <td>train</td>\n",
       "    </tr>\n",
       "    <tr>\n",
       "      <th>stars_n5sjdrla_cifar10_p1</th>\n",
       "      <td>0.000069</td>\n",
       "      <td>stars</td>\n",
       "      <td>cifar10</td>\n",
       "      <td>1.00</td>\n",
       "      <td>n5sjdrla</td>\n",
       "      <td>train</td>\n",
       "    </tr>\n",
       "    <tr>\n",
       "      <th>stars_n8vpmpbj_cifar10_p1</th>\n",
       "      <td>0.000068</td>\n",
       "      <td>stars</td>\n",
       "      <td>cifar10</td>\n",
       "      <td>1.00</td>\n",
       "      <td>n8vpmpbj</td>\n",
       "      <td>train</td>\n",
       "    </tr>\n",
       "    <tr>\n",
       "      <th>stars_nyolmhfc_cifar10_p1</th>\n",
       "      <td>0.000070</td>\n",
       "      <td>stars</td>\n",
       "      <td>cifar10</td>\n",
       "      <td>1.00</td>\n",
       "      <td>nyolmhfc</td>\n",
       "      <td>train</td>\n",
       "    </tr>\n",
       "    <tr>\n",
       "      <th>stars_wrvljast_cifar10_p1</th>\n",
       "      <td>0.000073</td>\n",
       "      <td>stars</td>\n",
       "      <td>cifar10</td>\n",
       "      <td>1.00</td>\n",
       "      <td>wrvljast</td>\n",
       "      <td>train</td>\n",
       "    </tr>\n",
       "  </tbody>\n",
       "</table>\n",
       "</div>"
      ],
      "text/plain": [
       "                                  margin model_type dataset_name  percent  \\\n",
       "anchors_2oo0upw1_cifar10_p0.05  0.000081    anchors      cifar10     0.05   \n",
       "anchors_3m2c3guk_cifar10_p0.05  0.000080    anchors      cifar10     0.05   \n",
       "stars_0eiwx0xx_cifar10_p0.05    0.000071      stars      cifar10     0.05   \n",
       "stars_4s24tjof_cifar10_p0.05    0.000070      stars      cifar10     0.05   \n",
       "anchors_2oo0upw1_cifar10_p1     0.000082    anchors      cifar10     1.00   \n",
       "anchors_3m2c3guk_cifar10_p1     0.000081    anchors      cifar10     1.00   \n",
       "anchors_448kfne2_cifar10_p1     0.000077    anchors      cifar10     1.00   \n",
       "anchors_52l22gc1_cifar10_p1     0.000080    anchors      cifar10     1.00   \n",
       "anchors_5791j5is_cifar10_p1     0.000081    anchors      cifar10     1.00   \n",
       "anchors_5hrwt8sd_cifar10_p1     0.000083    anchors      cifar10     1.00   \n",
       "anchors_6ids7w54_cifar10_p1     0.000075    anchors      cifar10     1.00   \n",
       "anchors_6kxd228s_cifar10_p1     0.000078    anchors      cifar10     1.00   \n",
       "anchors_7sckybft_cifar10_p1     0.000084    anchors      cifar10     1.00   \n",
       "anchors_7y4wdzel_cifar10_p1     0.000085    anchors      cifar10     1.00   \n",
       "stars_6gps5q6c_cifar10_p1       0.000067      stars      cifar10     1.00   \n",
       "stars_82pxe1i8_cifar10_p1       0.000068      stars      cifar10     1.00   \n",
       "stars_8dirowph_cifar10_p1       0.000071      stars      cifar10     1.00   \n",
       "stars_bezgu0h7_cifar10_p1       0.000070      stars      cifar10     1.00   \n",
       "stars_by2vpp9d_cifar10_p1       0.000071      stars      cifar10     1.00   \n",
       "stars_h2qjwxrq_cifar10_p1       0.000070      stars      cifar10     1.00   \n",
       "stars_n5sjdrla_cifar10_p1       0.000069      stars      cifar10     1.00   \n",
       "stars_n8vpmpbj_cifar10_p1       0.000068      stars      cifar10     1.00   \n",
       "stars_nyolmhfc_cifar10_p1       0.000070      stars      cifar10     1.00   \n",
       "stars_wrvljast_cifar10_p1       0.000073      stars      cifar10     1.00   \n",
       "\n",
       "                                model_id split_name  \n",
       "anchors_2oo0upw1_cifar10_p0.05  2oo0upw1        NaN  \n",
       "anchors_3m2c3guk_cifar10_p0.05  3m2c3guk        NaN  \n",
       "stars_0eiwx0xx_cifar10_p0.05    0eiwx0xx        NaN  \n",
       "stars_4s24tjof_cifar10_p0.05    4s24tjof        NaN  \n",
       "anchors_2oo0upw1_cifar10_p1     2oo0upw1      train  \n",
       "anchors_3m2c3guk_cifar10_p1     3m2c3guk      train  \n",
       "anchors_448kfne2_cifar10_p1     448kfne2      train  \n",
       "anchors_52l22gc1_cifar10_p1     52l22gc1      train  \n",
       "anchors_5791j5is_cifar10_p1     5791j5is      train  \n",
       "anchors_5hrwt8sd_cifar10_p1     5hrwt8sd      train  \n",
       "anchors_6ids7w54_cifar10_p1     6ids7w54      train  \n",
       "anchors_6kxd228s_cifar10_p1     6kxd228s      train  \n",
       "anchors_7sckybft_cifar10_p1     7sckybft      train  \n",
       "anchors_7y4wdzel_cifar10_p1     7y4wdzel      train  \n",
       "stars_6gps5q6c_cifar10_p1       6gps5q6c      train  \n",
       "stars_82pxe1i8_cifar10_p1       82pxe1i8      train  \n",
       "stars_8dirowph_cifar10_p1       8dirowph      train  \n",
       "stars_bezgu0h7_cifar10_p1       bezgu0h7      train  \n",
       "stars_by2vpp9d_cifar10_p1       by2vpp9d      train  \n",
       "stars_h2qjwxrq_cifar10_p1       h2qjwxrq      train  \n",
       "stars_n5sjdrla_cifar10_p1       n5sjdrla      train  \n",
       "stars_n8vpmpbj_cifar10_p1       n8vpmpbj      train  \n",
       "stars_nyolmhfc_cifar10_p1       nyolmhfc      train  \n",
       "stars_wrvljast_cifar10_p1       wrvljast      train  "
      ]
     },
     "metadata": {},
     "output_type": "display_data"
    }
   ],
   "source": [
    "df = plot_dict(cifar10_resnet18_results, to_show=True)"
   ]
  },
  {
   "cell_type": "code",
   "execution_count": 246,
   "metadata": {},
   "outputs": [
    {
     "data": {
      "text/html": [
       "<div>\n",
       "<style scoped>\n",
       "    .dataframe tbody tr th:only-of-type {\n",
       "        vertical-align: middle;\n",
       "    }\n",
       "\n",
       "    .dataframe tbody tr th {\n",
       "        vertical-align: top;\n",
       "    }\n",
       "\n",
       "    .dataframe thead tr th {\n",
       "        text-align: left;\n",
       "    }\n",
       "\n",
       "    .dataframe thead tr:last-of-type th {\n",
       "        text-align: right;\n",
       "    }\n",
       "</style>\n",
       "<table border=\"1\" class=\"dataframe\">\n",
       "  <thead>\n",
       "    <tr>\n",
       "      <th></th>\n",
       "      <th colspan=\"2\" halign=\"left\">margin</th>\n",
       "      <th colspan=\"2\" halign=\"left\">percent</th>\n",
       "    </tr>\n",
       "    <tr>\n",
       "      <th></th>\n",
       "      <th>mean</th>\n",
       "      <th>std</th>\n",
       "      <th>mean</th>\n",
       "      <th>std</th>\n",
       "    </tr>\n",
       "    <tr>\n",
       "      <th>model_type</th>\n",
       "      <th></th>\n",
       "      <th></th>\n",
       "      <th></th>\n",
       "      <th></th>\n",
       "    </tr>\n",
       "  </thead>\n",
       "  <tbody>\n",
       "    <tr>\n",
       "      <th>anchors</th>\n",
       "      <td>0.000081</td>\n",
       "      <td>0.000003</td>\n",
       "      <td>1.0</td>\n",
       "      <td>0.0</td>\n",
       "    </tr>\n",
       "    <tr>\n",
       "      <th>stars</th>\n",
       "      <td>0.000070</td>\n",
       "      <td>0.000002</td>\n",
       "      <td>1.0</td>\n",
       "      <td>0.0</td>\n",
       "    </tr>\n",
       "  </tbody>\n",
       "</table>\n",
       "</div>"
      ],
      "text/plain": [
       "              margin           percent     \n",
       "                mean       std    mean  std\n",
       "model_type                                 \n",
       "anchors     0.000081  0.000003     1.0  0.0\n",
       "stars       0.000070  0.000002     1.0  0.0"
      ]
     },
     "metadata": {},
     "output_type": "display_data"
    }
   ],
   "source": [
    "df = plot_dict(cifar10_resnet18_results, to_show=True, drop_columns=[\"index\", \"dataset_name\", \"model_id\", \"split_name\"], group_aggregate_list=[\"model_type\"], query=\"percent == 1.00\")"
   ]
  },
  {
   "cell_type": "markdown",
   "metadata": {},
   "source": [
    "### For battle test"
   ]
  },
  {
   "cell_type": "code",
   "execution_count": 89,
   "metadata": {},
   "outputs": [
    {
     "name": "stdout",
     "output_type": "stream",
     "text": [
      "Loading existing results from ./battle_test_cifar10_resnet18_results.pt\n",
      "Computing results for anchors_2oo0upw1_cifar10_p0.05\n"
     ]
    },
    {
     "name": "stderr",
     "output_type": "stream",
     "text": [
      "batch:   1%|          | 1/176 [00:00<00:39,  4.43it/s]/scratch_local/arubinstein17-163577/starlight/starlight_env/lib/python3.9/site-packages/torch/autograd/__init__.py:266: UserWarning: Deterministic behavior was enabled with either `torch.use_deterministic_algorithms(True)` or `at::Context::setDeterministicAlgorithms(true)`, but this operation is not deterministic because it uses CuBLAS and you have CUDA >= 10.2. To enable deterministic behavior in this case, you must set an environment variable before running your PyTorch application: CUBLAS_WORKSPACE_CONFIG=:4096:8 or CUBLAS_WORKSPACE_CONFIG=:16:8. For more information, go to https://docs.nvidia.com/cuda/cublas/index.html#cublasApi_reproducibility (Triggered internally at ../aten/src/ATen/Context.cpp:164.)\n",
      "  Variable._execution_engine.run_backward(  # Calls into the C++ engine to run the backward pass\n",
      "batch: 100%|██████████| 176/176 [00:04<00:00, 36.41it/s]\n"
     ]
    },
    {
     "name": "stdout",
     "output_type": "stream",
     "text": [
      "Computing results for anchors_3m2c3guk_cifar10_p0.05\n"
     ]
    },
    {
     "name": "stderr",
     "output_type": "stream",
     "text": [
      "batch: 100%|██████████| 176/176 [00:04<00:00, 36.85it/s]\n"
     ]
    },
    {
     "name": "stdout",
     "output_type": "stream",
     "text": [
      "Computing results for stars_0eiwx0xx_cifar10_p0.05\n"
     ]
    },
    {
     "name": "stderr",
     "output_type": "stream",
     "text": [
      "batch: 100%|██████████| 176/176 [00:05<00:00, 34.84it/s]\n"
     ]
    },
    {
     "name": "stdout",
     "output_type": "stream",
     "text": [
      "Computing results for stars_4s24tjof_cifar10_p0.05\n"
     ]
    },
    {
     "name": "stderr",
     "output_type": "stream",
     "text": [
      "batch: 100%|██████████| 176/176 [00:04<00:00, 36.62it/s]\n"
     ]
    }
   ],
   "source": [
    "cifar10_resnet18_res_path = \"./battle_test_cifar10_resnet18_results.pt\"\n",
    "\n",
    "last_10_stars_cifar10_resnet18 = [path for path in stars_resnet18 if get_model_id(path) in last_10_stars]\n",
    "\n",
    "cifar10_resnet18_results = compute_results(\n",
    "    anchors_resnet18[:2] + stars_resnet18[:2],\n",
    "    cifar10_train_dataloader,\n",
    "    cifar10_resnet18_res_path,\n",
    "    split_name=\"train\",\n",
    "    percent=0.05,\n",
    "    load_model=get_resnet18_cifar,\n",
    "    recompute_substring=\"p0\",\n",
    "    # recompute_substring=None,\n",
    "    # agg=\"max\"\n",
    "    # agg=\"min_to_pred\"\n",
    "    agg=\"max_first\"\n",
    ")"
   ]
  },
  {
   "cell_type": "code",
   "execution_count": 90,
   "metadata": {},
   "outputs": [
    {
     "data": {
      "text/html": [
       "<div>\n",
       "<style scoped>\n",
       "    .dataframe tbody tr th:only-of-type {\n",
       "        vertical-align: middle;\n",
       "    }\n",
       "\n",
       "    .dataframe tbody tr th {\n",
       "        vertical-align: top;\n",
       "    }\n",
       "\n",
       "    .dataframe thead th {\n",
       "        text-align: right;\n",
       "    }\n",
       "</style>\n",
       "<table border=\"1\" class=\"dataframe\">\n",
       "  <thead>\n",
       "    <tr style=\"text-align: right;\">\n",
       "      <th></th>\n",
       "      <th>margin</th>\n",
       "      <th>model_type</th>\n",
       "      <th>dataset_name</th>\n",
       "      <th>percent</th>\n",
       "      <th>model_id</th>\n",
       "      <th>split_name</th>\n",
       "    </tr>\n",
       "  </thead>\n",
       "  <tbody>\n",
       "    <tr>\n",
       "      <th>anchors_2oo0upw1_cifar10_p0.05</th>\n",
       "      <td>0.000357</td>\n",
       "      <td>anchors</td>\n",
       "      <td>cifar10</td>\n",
       "      <td>0.05</td>\n",
       "      <td>2oo0upw1</td>\n",
       "      <td>train</td>\n",
       "    </tr>\n",
       "    <tr>\n",
       "      <th>anchors_3m2c3guk_cifar10_p0.05</th>\n",
       "      <td>0.000352</td>\n",
       "      <td>anchors</td>\n",
       "      <td>cifar10</td>\n",
       "      <td>0.05</td>\n",
       "      <td>3m2c3guk</td>\n",
       "      <td>train</td>\n",
       "    </tr>\n",
       "    <tr>\n",
       "      <th>stars_0eiwx0xx_cifar10_p0.05</th>\n",
       "      <td>0.000305</td>\n",
       "      <td>stars</td>\n",
       "      <td>cifar10</td>\n",
       "      <td>0.05</td>\n",
       "      <td>0eiwx0xx</td>\n",
       "      <td>train</td>\n",
       "    </tr>\n",
       "    <tr>\n",
       "      <th>stars_4s24tjof_cifar10_p0.05</th>\n",
       "      <td>0.000296</td>\n",
       "      <td>stars</td>\n",
       "      <td>cifar10</td>\n",
       "      <td>0.05</td>\n",
       "      <td>4s24tjof</td>\n",
       "      <td>train</td>\n",
       "    </tr>\n",
       "  </tbody>\n",
       "</table>\n",
       "</div>"
      ],
      "text/plain": [
       "                                  margin model_type dataset_name  percent  \\\n",
       "anchors_2oo0upw1_cifar10_p0.05  0.000357    anchors      cifar10     0.05   \n",
       "anchors_3m2c3guk_cifar10_p0.05  0.000352    anchors      cifar10     0.05   \n",
       "stars_0eiwx0xx_cifar10_p0.05    0.000305      stars      cifar10     0.05   \n",
       "stars_4s24tjof_cifar10_p0.05    0.000296      stars      cifar10     0.05   \n",
       "\n",
       "                                model_id split_name  \n",
       "anchors_2oo0upw1_cifar10_p0.05  2oo0upw1      train  \n",
       "anchors_3m2c3guk_cifar10_p0.05  3m2c3guk      train  \n",
       "stars_0eiwx0xx_cifar10_p0.05    0eiwx0xx      train  \n",
       "stars_4s24tjof_cifar10_p0.05    4s24tjof      train  "
      ]
     },
     "metadata": {},
     "output_type": "display_data"
    }
   ],
   "source": [
    "df = plot_dict(cifar10_resnet18_results, to_show=True)"
   ]
  },
  {
   "cell_type": "code",
   "execution_count": 8,
   "metadata": {},
   "outputs": [
    {
     "ename": "KeyError",
     "evalue": "\"['train'] not found in axis\"",
     "output_type": "error",
     "traceback": [
      "\u001b[0;31m---------------------------------------------------------------------------\u001b[0m",
      "\u001b[0;31mKeyError\u001b[0m                                  Traceback (most recent call last)",
      "Cell \u001b[0;32mIn[8], line 1\u001b[0m\n\u001b[0;32m----> 1\u001b[0m df \u001b[38;5;241m=\u001b[39m \u001b[43mplot_dict\u001b[49m\u001b[43m(\u001b[49m\u001b[43mcifar10_resnet18_results\u001b[49m\u001b[43m,\u001b[49m\u001b[43m \u001b[49m\u001b[43mto_show\u001b[49m\u001b[38;5;241;43m=\u001b[39;49m\u001b[38;5;28;43;01mTrue\u001b[39;49;00m\u001b[43m,\u001b[49m\u001b[43m \u001b[49m\u001b[43mdrop_columns\u001b[49m\u001b[38;5;241;43m=\u001b[39;49m\u001b[43m[\u001b[49m\u001b[38;5;124;43m\"\u001b[39;49m\u001b[38;5;124;43mindex\u001b[39;49m\u001b[38;5;124;43m\"\u001b[39;49m\u001b[43m,\u001b[49m\u001b[43m \u001b[49m\u001b[38;5;124;43m\"\u001b[39;49m\u001b[38;5;124;43mdataset_name\u001b[39;49m\u001b[38;5;124;43m\"\u001b[39;49m\u001b[43m,\u001b[49m\u001b[43m \u001b[49m\u001b[38;5;124;43m\"\u001b[39;49m\u001b[38;5;124;43mmodel_id\u001b[39;49m\u001b[38;5;124;43m\"\u001b[39;49m\u001b[43m,\u001b[49m\u001b[43m \u001b[49m\u001b[38;5;124;43m\"\u001b[39;49m\u001b[38;5;124;43mtrain\u001b[39;49m\u001b[38;5;124;43m\"\u001b[39;49m\u001b[43m]\u001b[49m\u001b[43m,\u001b[49m\u001b[43m \u001b[49m\u001b[43mgroup_aggregate_list\u001b[49m\u001b[38;5;241;43m=\u001b[39;49m\u001b[43m[\u001b[49m\u001b[38;5;124;43m\"\u001b[39;49m\u001b[38;5;124;43mmodel_type\u001b[39;49m\u001b[38;5;124;43m\"\u001b[39;49m\u001b[43m]\u001b[49m\u001b[43m,\u001b[49m\u001b[43m \u001b[49m\u001b[43mquery\u001b[49m\u001b[38;5;241;43m=\u001b[39;49m\u001b[38;5;124;43m\"\u001b[39;49m\u001b[38;5;124;43mmodel_type == \u001b[39;49m\u001b[38;5;124;43m'\u001b[39;49m\u001b[38;5;124;43manchors\u001b[39;49m\u001b[38;5;124;43m'\u001b[39;49m\u001b[38;5;124;43m | model_id in [\u001b[39;49m\u001b[38;5;124;43m'\u001b[39;49m\u001b[38;5;124;43m0eiwx0xx\u001b[39;49m\u001b[38;5;124;43m'\u001b[39;49m\u001b[38;5;124;43m]\u001b[39;49m\u001b[38;5;124;43m\"\u001b[39;49m\u001b[43m)\u001b[49m\n",
      "Cell \u001b[0;32mIn[3], line 264\u001b[0m, in \u001b[0;36mplot_dict\u001b[0;34m(res, to_show, filter_dict, drop_columns, group_aggregate_list, query)\u001b[0m\n\u001b[1;32m    262\u001b[0m         df\u001b[38;5;241m.\u001b[39mreset_index(drop\u001b[38;5;241m=\u001b[39m\u001b[38;5;28;01mTrue\u001b[39;00m, inplace\u001b[38;5;241m=\u001b[39m\u001b[38;5;28;01mTrue\u001b[39;00m)\n\u001b[1;32m    263\u001b[0m     \u001b[38;5;28;01melse\u001b[39;00m:\n\u001b[0;32m--> 264\u001b[0m         df \u001b[38;5;241m=\u001b[39m \u001b[43mdf\u001b[49m\u001b[38;5;241;43m.\u001b[39;49m\u001b[43mdrop\u001b[49m\u001b[43m(\u001b[49m\u001b[43mcolumn_name\u001b[49m\u001b[43m,\u001b[49m\u001b[43m \u001b[49m\u001b[43maxis\u001b[49m\u001b[38;5;241;43m=\u001b[39;49m\u001b[38;5;241;43m1\u001b[39;49m\u001b[43m)\u001b[49m\n\u001b[1;32m    266\u001b[0m \u001b[38;5;28;01mfor\u001b[39;00m new_index \u001b[38;5;129;01min\u001b[39;00m group_aggregate_list:\n\u001b[1;32m    267\u001b[0m     df \u001b[38;5;241m=\u001b[39m df\u001b[38;5;241m.\u001b[39mgroupby(new_index)\u001b[38;5;241m.\u001b[39magg([(\u001b[38;5;124mf\u001b[39m\u001b[38;5;124m'\u001b[39m\u001b[38;5;124mmean\u001b[39m\u001b[38;5;124m'\u001b[39m, \u001b[38;5;124m'\u001b[39m\u001b[38;5;124mmean\u001b[39m\u001b[38;5;124m'\u001b[39m), (\u001b[38;5;124mf\u001b[39m\u001b[38;5;124m'\u001b[39m\u001b[38;5;124mstd\u001b[39m\u001b[38;5;124m'\u001b[39m, \u001b[38;5;124m'\u001b[39m\u001b[38;5;124mstd\u001b[39m\u001b[38;5;124m'\u001b[39m)])\n",
      "File \u001b[0;32m/scratch_local/arubinstein17-163577/starlight/starlight_env/lib/python3.9/site-packages/pandas/core/frame.py:5568\u001b[0m, in \u001b[0;36mDataFrame.drop\u001b[0;34m(self, labels, axis, index, columns, level, inplace, errors)\u001b[0m\n\u001b[1;32m   5420\u001b[0m \u001b[38;5;28;01mdef\u001b[39;00m \u001b[38;5;21mdrop\u001b[39m(\n\u001b[1;32m   5421\u001b[0m     \u001b[38;5;28mself\u001b[39m,\n\u001b[1;32m   5422\u001b[0m     labels: IndexLabel \u001b[38;5;241m|\u001b[39m \u001b[38;5;28;01mNone\u001b[39;00m \u001b[38;5;241m=\u001b[39m \u001b[38;5;28;01mNone\u001b[39;00m,\n\u001b[0;32m   (...)\u001b[0m\n\u001b[1;32m   5429\u001b[0m     errors: IgnoreRaise \u001b[38;5;241m=\u001b[39m \u001b[38;5;124m\"\u001b[39m\u001b[38;5;124mraise\u001b[39m\u001b[38;5;124m\"\u001b[39m,\n\u001b[1;32m   5430\u001b[0m ) \u001b[38;5;241m-\u001b[39m\u001b[38;5;241m>\u001b[39m DataFrame \u001b[38;5;241m|\u001b[39m \u001b[38;5;28;01mNone\u001b[39;00m:\n\u001b[1;32m   5431\u001b[0m \u001b[38;5;250m    \u001b[39m\u001b[38;5;124;03m\"\"\"\u001b[39;00m\n\u001b[1;32m   5432\u001b[0m \u001b[38;5;124;03m    Drop specified labels from rows or columns.\u001b[39;00m\n\u001b[1;32m   5433\u001b[0m \n\u001b[0;32m   (...)\u001b[0m\n\u001b[1;32m   5566\u001b[0m \u001b[38;5;124;03m            weight  1.0     0.8\u001b[39;00m\n\u001b[1;32m   5567\u001b[0m \u001b[38;5;124;03m    \"\"\"\u001b[39;00m\n\u001b[0;32m-> 5568\u001b[0m     \u001b[38;5;28;01mreturn\u001b[39;00m \u001b[38;5;28;43msuper\u001b[39;49m\u001b[43m(\u001b[49m\u001b[43m)\u001b[49m\u001b[38;5;241;43m.\u001b[39;49m\u001b[43mdrop\u001b[49m\u001b[43m(\u001b[49m\n\u001b[1;32m   5569\u001b[0m \u001b[43m        \u001b[49m\u001b[43mlabels\u001b[49m\u001b[38;5;241;43m=\u001b[39;49m\u001b[43mlabels\u001b[49m\u001b[43m,\u001b[49m\n\u001b[1;32m   5570\u001b[0m \u001b[43m        \u001b[49m\u001b[43maxis\u001b[49m\u001b[38;5;241;43m=\u001b[39;49m\u001b[43maxis\u001b[49m\u001b[43m,\u001b[49m\n\u001b[1;32m   5571\u001b[0m \u001b[43m        \u001b[49m\u001b[43mindex\u001b[49m\u001b[38;5;241;43m=\u001b[39;49m\u001b[43mindex\u001b[49m\u001b[43m,\u001b[49m\n\u001b[1;32m   5572\u001b[0m \u001b[43m        \u001b[49m\u001b[43mcolumns\u001b[49m\u001b[38;5;241;43m=\u001b[39;49m\u001b[43mcolumns\u001b[49m\u001b[43m,\u001b[49m\n\u001b[1;32m   5573\u001b[0m \u001b[43m        \u001b[49m\u001b[43mlevel\u001b[49m\u001b[38;5;241;43m=\u001b[39;49m\u001b[43mlevel\u001b[49m\u001b[43m,\u001b[49m\n\u001b[1;32m   5574\u001b[0m \u001b[43m        \u001b[49m\u001b[43minplace\u001b[49m\u001b[38;5;241;43m=\u001b[39;49m\u001b[43minplace\u001b[49m\u001b[43m,\u001b[49m\n\u001b[1;32m   5575\u001b[0m \u001b[43m        \u001b[49m\u001b[43merrors\u001b[49m\u001b[38;5;241;43m=\u001b[39;49m\u001b[43merrors\u001b[49m\u001b[43m,\u001b[49m\n\u001b[1;32m   5576\u001b[0m \u001b[43m    \u001b[49m\u001b[43m)\u001b[49m\n",
      "File \u001b[0;32m/scratch_local/arubinstein17-163577/starlight/starlight_env/lib/python3.9/site-packages/pandas/core/generic.py:4785\u001b[0m, in \u001b[0;36mNDFrame.drop\u001b[0;34m(self, labels, axis, index, columns, level, inplace, errors)\u001b[0m\n\u001b[1;32m   4783\u001b[0m \u001b[38;5;28;01mfor\u001b[39;00m axis, labels \u001b[38;5;129;01min\u001b[39;00m axes\u001b[38;5;241m.\u001b[39mitems():\n\u001b[1;32m   4784\u001b[0m     \u001b[38;5;28;01mif\u001b[39;00m labels \u001b[38;5;129;01mis\u001b[39;00m \u001b[38;5;129;01mnot\u001b[39;00m \u001b[38;5;28;01mNone\u001b[39;00m:\n\u001b[0;32m-> 4785\u001b[0m         obj \u001b[38;5;241m=\u001b[39m \u001b[43mobj\u001b[49m\u001b[38;5;241;43m.\u001b[39;49m\u001b[43m_drop_axis\u001b[49m\u001b[43m(\u001b[49m\u001b[43mlabels\u001b[49m\u001b[43m,\u001b[49m\u001b[43m \u001b[49m\u001b[43maxis\u001b[49m\u001b[43m,\u001b[49m\u001b[43m \u001b[49m\u001b[43mlevel\u001b[49m\u001b[38;5;241;43m=\u001b[39;49m\u001b[43mlevel\u001b[49m\u001b[43m,\u001b[49m\u001b[43m \u001b[49m\u001b[43merrors\u001b[49m\u001b[38;5;241;43m=\u001b[39;49m\u001b[43merrors\u001b[49m\u001b[43m)\u001b[49m\n\u001b[1;32m   4787\u001b[0m \u001b[38;5;28;01mif\u001b[39;00m inplace:\n\u001b[1;32m   4788\u001b[0m     \u001b[38;5;28mself\u001b[39m\u001b[38;5;241m.\u001b[39m_update_inplace(obj)\n",
      "File \u001b[0;32m/scratch_local/arubinstein17-163577/starlight/starlight_env/lib/python3.9/site-packages/pandas/core/generic.py:4827\u001b[0m, in \u001b[0;36mNDFrame._drop_axis\u001b[0;34m(self, labels, axis, level, errors, only_slice)\u001b[0m\n\u001b[1;32m   4825\u001b[0m         new_axis \u001b[38;5;241m=\u001b[39m axis\u001b[38;5;241m.\u001b[39mdrop(labels, level\u001b[38;5;241m=\u001b[39mlevel, errors\u001b[38;5;241m=\u001b[39merrors)\n\u001b[1;32m   4826\u001b[0m     \u001b[38;5;28;01melse\u001b[39;00m:\n\u001b[0;32m-> 4827\u001b[0m         new_axis \u001b[38;5;241m=\u001b[39m \u001b[43maxis\u001b[49m\u001b[38;5;241;43m.\u001b[39;49m\u001b[43mdrop\u001b[49m\u001b[43m(\u001b[49m\u001b[43mlabels\u001b[49m\u001b[43m,\u001b[49m\u001b[43m \u001b[49m\u001b[43merrors\u001b[49m\u001b[38;5;241;43m=\u001b[39;49m\u001b[43merrors\u001b[49m\u001b[43m)\u001b[49m\n\u001b[1;32m   4828\u001b[0m     indexer \u001b[38;5;241m=\u001b[39m axis\u001b[38;5;241m.\u001b[39mget_indexer(new_axis)\n\u001b[1;32m   4830\u001b[0m \u001b[38;5;66;03m# Case for non-unique axis\u001b[39;00m\n\u001b[1;32m   4831\u001b[0m \u001b[38;5;28;01melse\u001b[39;00m:\n",
      "File \u001b[0;32m/scratch_local/arubinstein17-163577/starlight/starlight_env/lib/python3.9/site-packages/pandas/core/indexes/base.py:7070\u001b[0m, in \u001b[0;36mIndex.drop\u001b[0;34m(self, labels, errors)\u001b[0m\n\u001b[1;32m   7068\u001b[0m \u001b[38;5;28;01mif\u001b[39;00m mask\u001b[38;5;241m.\u001b[39many():\n\u001b[1;32m   7069\u001b[0m     \u001b[38;5;28;01mif\u001b[39;00m errors \u001b[38;5;241m!=\u001b[39m \u001b[38;5;124m\"\u001b[39m\u001b[38;5;124mignore\u001b[39m\u001b[38;5;124m\"\u001b[39m:\n\u001b[0;32m-> 7070\u001b[0m         \u001b[38;5;28;01mraise\u001b[39;00m \u001b[38;5;167;01mKeyError\u001b[39;00m(\u001b[38;5;124mf\u001b[39m\u001b[38;5;124m\"\u001b[39m\u001b[38;5;132;01m{\u001b[39;00mlabels[mask]\u001b[38;5;241m.\u001b[39mtolist()\u001b[38;5;132;01m}\u001b[39;00m\u001b[38;5;124m not found in axis\u001b[39m\u001b[38;5;124m\"\u001b[39m)\n\u001b[1;32m   7071\u001b[0m     indexer \u001b[38;5;241m=\u001b[39m indexer[\u001b[38;5;241m~\u001b[39mmask]\n\u001b[1;32m   7072\u001b[0m \u001b[38;5;28;01mreturn\u001b[39;00m \u001b[38;5;28mself\u001b[39m\u001b[38;5;241m.\u001b[39mdelete(indexer)\n",
      "\u001b[0;31mKeyError\u001b[0m: \"['train'] not found in axis\""
     ]
    }
   ],
   "source": [
    "df = plot_dict(cifar10_resnet18_results, to_show=True, drop_columns=[\"index\", \"dataset_name\", \"model_id\", \"train\"], group_aggregate_list=[\"model_type\"], query=\"model_type == 'anchors' | model_id in ['0eiwx0xx']\")"
   ]
  },
  {
   "cell_type": "code",
   "execution_count": 209,
   "metadata": {},
   "outputs": [
    {
     "data": {
      "text/html": [
       "<div>\n",
       "<style scoped>\n",
       "    .dataframe tbody tr th:only-of-type {\n",
       "        vertical-align: middle;\n",
       "    }\n",
       "\n",
       "    .dataframe tbody tr th {\n",
       "        vertical-align: top;\n",
       "    }\n",
       "\n",
       "    .dataframe thead tr th {\n",
       "        text-align: left;\n",
       "    }\n",
       "\n",
       "    .dataframe thead tr:last-of-type th {\n",
       "        text-align: right;\n",
       "    }\n",
       "</style>\n",
       "<table border=\"1\" class=\"dataframe\">\n",
       "  <thead>\n",
       "    <tr>\n",
       "      <th></th>\n",
       "      <th colspan=\"2\" halign=\"left\">margin</th>\n",
       "      <th colspan=\"2\" halign=\"left\">percent</th>\n",
       "    </tr>\n",
       "    <tr>\n",
       "      <th></th>\n",
       "      <th>mean</th>\n",
       "      <th>std</th>\n",
       "      <th>mean</th>\n",
       "      <th>std</th>\n",
       "    </tr>\n",
       "    <tr>\n",
       "      <th>model_type</th>\n",
       "      <th></th>\n",
       "      <th></th>\n",
       "      <th></th>\n",
       "      <th></th>\n",
       "    </tr>\n",
       "  </thead>\n",
       "  <tbody>\n",
       "    <tr>\n",
       "      <th>anchors</th>\n",
       "      <td>0.000081</td>\n",
       "      <td>7.595591e-07</td>\n",
       "      <td>0.05</td>\n",
       "      <td>0.0</td>\n",
       "    </tr>\n",
       "    <tr>\n",
       "      <th>stars</th>\n",
       "      <td>0.000071</td>\n",
       "      <td>NaN</td>\n",
       "      <td>0.05</td>\n",
       "      <td>NaN</td>\n",
       "    </tr>\n",
       "  </tbody>\n",
       "</table>\n",
       "</div>"
      ],
      "text/plain": [
       "              margin               percent     \n",
       "                mean           std    mean  std\n",
       "model_type                                     \n",
       "anchors     0.000081  7.595591e-07    0.05  0.0\n",
       "stars       0.000071           NaN    0.05  NaN"
      ]
     },
     "metadata": {},
     "output_type": "display_data"
    }
   ],
   "source": [
    "# df = plot_dict(cifar10_resnet18_results, to_show=True, drop_columns=[\"index\", \"dataset_name\", \"model_id\"], group_aggregate_list=[\"model_type\"], query=\"model_type == 'anchors' | model_id in ['0eiwx0xx']\")"
   ]
  },
  {
   "cell_type": "markdown",
   "metadata": {},
   "source": [
    "# Save df"
   ]
  },
  {
   "cell_type": "code",
   "execution_count": 121,
   "metadata": {},
   "outputs": [],
   "source": [
    "df.to_csv(\"tmp.csv\")"
   ]
  }
 ],
 "metadata": {
  "kernelspec": {
   "display_name": "Python 3",
   "language": "python",
   "name": "python3"
  },
  "language_info": {
   "codemirror_mode": {
    "name": "ipython",
    "version": 3
   },
   "file_extension": ".py",
   "mimetype": "text/x-python",
   "name": "python",
   "nbconvert_exporter": "python",
   "pygments_lexer": "ipython3",
   "version": "3.9.0"
  }
 },
 "nbformat": 4,
 "nbformat_minor": 2
}
