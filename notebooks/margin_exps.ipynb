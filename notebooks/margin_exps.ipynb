{
 "cells": [
  {
   "cell_type": "markdown",
   "metadata": {},
   "source": [
    "# Imports"
   ]
  },
  {
   "cell_type": "code",
   "execution_count": 37,
   "metadata": {},
   "outputs": [
    {
     "data": {
      "text/plain": [
       "'/scratch_local/arubinstein17-163577/starlight'"
      ]
     },
     "execution_count": 37,
     "metadata": {},
     "output_type": "execute_result"
    }
   ],
   "source": [
    "%reload_ext autoreload\n",
    "%autoreload 2\n",
    "%matplotlib inline\n",
    "\n",
    "\n",
    "import os\n",
    "import sys\n",
    "import torch\n",
    "from tqdm import tqdm\n",
    "import copy\n",
    "# import h5py\n",
    "import numpy as np\n",
    "# import pandas as pd\n",
    "from IPython.display import display\n",
    "import random\n",
    "import matplotlib.ticker as ticker\n",
    "import matplotlib.pyplot as plt\n",
    "import numpy as np\n",
    "# import sklearn\n",
    "\n",
    "\n",
    "# local imports\n",
    "sys.path.insert(\n",
    "    0,\n",
    "    os.path.join(\n",
    "        os.path.dirname(os.path.abspath(''))\n",
    "    )\n",
    ")\n",
    "from dataloaders.cifar10 import (\n",
    "    load_cifar10\n",
    ")\n",
    "from models import models_dict as MODELS_DICT\n",
    "# models_dict = {\n",
    "#     \"resnet18_cifar\": resnet18_cifar,\n",
    "#     \"resnet18_torch\": torchvision.models.resnet18,\n",
    "#     \"resnet50_torch\": torchvision.models.resnet50,\n",
    "#     \"densenet_cifar\": densenet_cifar\n",
    "# }\n",
    "sys.path.pop(0)\n"
   ]
  },
  {
   "cell_type": "code",
   "execution_count": 57,
   "metadata": {},
   "outputs": [],
   "source": [
    "def get_link(raw_link):\n",
    "    id = raw_link.split(\"/d/\")[-1].split(\"/\")[0]\n",
    "    return f\"https://drive.google.com/uc?id={id}\"\n",
    "\n",
    "\n",
    "def get_model(chkpt_path, model_name, model_settings={}):\n",
    "    model = MODELS_DICT[model_name](**model_settings)\n",
    "    model.load_state_dict(torch.load(chkpt_path)[\"state_dict\"])\n",
    "    return model\n",
    "\n",
    "\n",
    "def get_resnet18_cifar(chkpt_path):\n",
    "    return get_model(\n",
    "        chkpt_path,\n",
    "        \"resnet18_cifar\",\n",
    "        model_settings={\"num_classes\": 10}\n",
    ")\n",
    "\n",
    "\n",
    "def compute_margin_for_batch():\n",
    "    for class_i, class_j in ??:\n",
    "        margin = compute_margin(\n",
    "            output_1,\n",
    "            output_2,\n",
    "            class_i,\n",
    "            class_j,\n",
    "            x,\n",
    "            norm=\"l1\"\n",
    "        )\n",
    "        ?? save grad for class_i - provide grad_i - precompute gradients and compute ouptus\n",
    "        margins.append(margin)\n",
    "\n",
    "\n",
    "def compute_margin(output_1, output_2, class_i, class_j, x, norm=\"l1\", retain_graph=True):\n",
    "    # d = |f_i(x) - f_j(x)| / |grad_x f_i(x) - grad_x f_j (x)|_1\n",
    "    # def process_x(model, class_i, x):\n",
    "    def process_x(output, class_i, x, retain_graph):\n",
    "        assert x.requires_grad == True\n",
    "        with torch.enable_grad():\n",
    "            # output = model(x)[..., class_i]\n",
    "            differentiable_value = output[..., class_i].sum()\n",
    "\n",
    "        differentiable_value.backward(inputs=x, retain_graph=retain_graph)\n",
    "        grad = x.grad\n",
    "        x.grad = None\n",
    "        return output, grad\n",
    "\n",
    "    x.requires_grad = True\n",
    "\n",
    "    output_1, grad_1 = process_x(output_1, class_i, x, retain_graph)\n",
    "    output_2, grad_2 = process_x(output_2, class_j, x, retain_graph)\n",
    "\n",
    "    assert norm == \"l1\"\n",
    "    if norm == \"l1\":\n",
    "        return (\n",
    "                (output_1 - output_2).abs()\n",
    "            /\n",
    "                (grad_1 - grad_2).abs().sum()\n",
    "        )\n",
    "    else:\n",
    "        raise NotImplementedError(\"Only L1 norm is supported\")\n",
    "\n",
    "\n",
    "# def compute_margin(model_1, model_2, class_i, class_j, x, norm=\"l1\"):\n",
    "#     # d = |f_i(x) - f_j(x)| / |grad_x f_i(x) - grad_x f_j (x)|_1\n",
    "#     def process_x(model, class_i, x):\n",
    "#         assert x.requires_grad == True\n",
    "#         with torch.enable_grad():\n",
    "#             output = model(x)[..., class_i]\n",
    "#             differentiable_value = output.sum()\n",
    "\n",
    "#         differentiable_value.backward(inputs=x)\n",
    "#         grad = x.grad\n",
    "#         x.grad = None\n",
    "#         return output, grad\n",
    "\n",
    "#     x.requires_grad = True\n",
    "\n",
    "#     output_1, grad_1 = process_x(model_1, class_i, x)\n",
    "#     output_2, grad_2 = process_x(model_2, class_j, x)\n",
    "\n",
    "#     assert norm == \"l1\"\n",
    "#     if norm == \"l1\":\n",
    "#         return (\n",
    "#                 (output_1 - output_2).abs()\n",
    "#             /\n",
    "#                 (grad_1 - grad_2).abs().sum()\n",
    "#         )\n",
    "#     else:\n",
    "#         raise NotImplementedError(\"Only L1 norm is supported\")"
   ]
  },
  {
   "cell_type": "code",
   "execution_count": 13,
   "metadata": {},
   "outputs": [
    {
     "data": {
      "text/plain": [
       "'https://drive.google.com/uc?id=1g-TxEGbORtHmxVEefoJtk2yxSf_mHL28'"
      ]
     },
     "execution_count": 13,
     "metadata": {},
     "output_type": "execute_result"
    }
   ],
   "source": [
    "get_link(\"https://drive.google.com/file/d/1g-TxEGbORtHmxVEefoJtk2yxSf_mHL28/view?usp=drive_link\")"
   ]
  },
  {
   "cell_type": "code",
   "execution_count": 8,
   "metadata": {},
   "outputs": [
    {
     "name": "stdout",
     "output_type": "stream",
     "text": [
      "Downloading...\n",
      "From (original): https://drive.google.com/uc?id=1g-TxEGbORtHmxVEefoJtk2yxSf_mHL28\n",
      "From (redirected): https://drive.google.com/uc?id=1g-TxEGbORtHmxVEefoJtk2yxSf_mHL28&confirm=t&uuid=98788ac5-cd93-4eba-bc9b-97a69c1064f5\n",
      "To: /scratch_local/arubinstein17-163577/starlight/notebooks/cifar10_resnet18.zip\n",
      "100%|███████████████████████████████████████| 4.37G/4.37G [00:42<00:00, 104MB/s]\n"
     ]
    }
   ],
   "source": [
    "!gdown https://drive.google.com/uc?id=1g-TxEGbORtHmxVEefoJtk2yxSf_mHL28"
   ]
  },
  {
   "cell_type": "code",
   "execution_count": 10,
   "metadata": {},
   "outputs": [
    {
     "name": "stdout",
     "output_type": "stream",
     "text": [
      "Archive:  cifar10_resnet18.zip\n",
      "   creating: ./cifar10_resnet18/\n",
      "   creating: ./cifar10_resnet18/anchors/\n",
      "  inflating: ./cifar10_resnet18/anchors/2oo0upw1.pt  \n",
      "  inflating: ./cifar10_resnet18/anchors/3m2c3guk.pt  \n",
      "  inflating: ./cifar10_resnet18/anchors/448kfne2.pt  \n",
      "  inflating: ./cifar10_resnet18/anchors/52l22gc1.pt  \n",
      "  inflating: ./cifar10_resnet18/anchors/5791j5is.pt  \n",
      "  inflating: ./cifar10_resnet18/anchors/5hrwt8sd.pt  \n",
      "  inflating: ./cifar10_resnet18/anchors/6ids7w54.pt  \n",
      "  inflating: ./cifar10_resnet18/anchors/6kxd228s.pt  \n",
      "  inflating: ./cifar10_resnet18/anchors/7sckybft.pt  \n",
      "  inflating: ./cifar10_resnet18/anchors/7y4wdzel.pt  \n",
      "  inflating: ./cifar10_resnet18/anchors/8wmcs3t5.pt  \n",
      "  inflating: ./cifar10_resnet18/anchors/ahszhrke.pt  \n",
      "  inflating: ./cifar10_resnet18/anchors/atn3ky2k.pt  \n",
      "  inflating: ./cifar10_resnet18/anchors/ce0idfac.pt  \n",
      "  inflating: ./cifar10_resnet18/anchors/e4fr64ya.pt  \n",
      "  inflating: ./cifar10_resnet18/anchors/eq157ykm.pt  \n",
      "  inflating: ./cifar10_resnet18/anchors/ezzf8pzr.pt  \n",
      "  inflating: ./cifar10_resnet18/anchors/f05nvpkk.pt  \n",
      "  inflating: ./cifar10_resnet18/anchors/fkw0sgy5.pt  \n",
      "  inflating: ./cifar10_resnet18/anchors/g3qsov5b.pt  \n",
      "  inflating: ./cifar10_resnet18/anchors/gbydip83.pt  \n",
      "  inflating: ./cifar10_resnet18/anchors/gd0wyvtu.pt  \n",
      "  inflating: ./cifar10_resnet18/anchors/hsk4z5ct.pt  \n",
      "  inflating: ./cifar10_resnet18/anchors/i9xybq30.pt  \n",
      "  inflating: ./cifar10_resnet18/anchors/icpc2wwc.pt  \n",
      "  inflating: ./cifar10_resnet18/anchors/ima01h3w.pt  \n",
      "  inflating: ./cifar10_resnet18/anchors/ixhqaxw7.pt  \n",
      "  inflating: ./cifar10_resnet18/anchors/j33hh4kk.pt  \n",
      "  inflating: ./cifar10_resnet18/anchors/jgwp44bl.pt  \n",
      "  inflating: ./cifar10_resnet18/anchors/jh0k2kwv.pt  \n",
      "  inflating: ./cifar10_resnet18/anchors/jlf1t880.pt  \n",
      "  inflating: ./cifar10_resnet18/anchors/jra1jv67.pt  \n",
      "  inflating: ./cifar10_resnet18/anchors/kgs9amvk.pt  \n",
      "  inflating: ./cifar10_resnet18/anchors/ox2uk04m.pt  \n",
      "  inflating: ./cifar10_resnet18/anchors/p4afk6rk.pt  \n",
      "  inflating: ./cifar10_resnet18/anchors/p4emcgu4.pt  \n",
      "  inflating: ./cifar10_resnet18/anchors/p4fvb7n7.pt  \n",
      "  inflating: ./cifar10_resnet18/anchors/q8i1otj3.pt  \n",
      "  inflating: ./cifar10_resnet18/anchors/qev36hbl.pt  \n",
      "  inflating: ./cifar10_resnet18/anchors/qrw3qvbu.pt  \n",
      "  inflating: ./cifar10_resnet18/anchors/qw35l7g4.pt  \n",
      "  inflating: ./cifar10_resnet18/anchors/rbdhdhru.pt  \n",
      "  inflating: ./cifar10_resnet18/anchors/szgmvbf2.pt  \n",
      "  inflating: ./cifar10_resnet18/anchors/ux53i0ja.pt  \n",
      "  inflating: ./cifar10_resnet18/anchors/v1uf9cme.pt  \n",
      "  inflating: ./cifar10_resnet18/anchors/vo7og34k.pt  \n",
      "  inflating: ./cifar10_resnet18/anchors/vt3he185.pt  \n",
      "  inflating: ./cifar10_resnet18/anchors/vtvbt443.pt  \n",
      "  inflating: ./cifar10_resnet18/anchors/z28eizcb.pt  \n",
      "  inflating: ./cifar10_resnet18/anchors/zagpj9do.pt  \n",
      "   creating: ./cifar10_resnet18/held_out/\n",
      "  inflating: ./cifar10_resnet18/held_out/5bluce0j.pt  \n",
      "  inflating: ./cifar10_resnet18/held_out/j53z28km.pt  \n",
      "  inflating: ./cifar10_resnet18/held_out/soba3yez.pt  \n",
      "  inflating: ./cifar10_resnet18/held_out/t25mz93m.pt  \n",
      "  inflating: ./cifar10_resnet18/held_out/vecgrxkl.pt  \n",
      "   creating: ./cifar10_resnet18/stars/\n",
      "  inflating: ./cifar10_resnet18/stars/0eiwx0xx.pt  \n",
      "  inflating: ./cifar10_resnet18/stars/4s24tjof.pt  \n",
      "  inflating: ./cifar10_resnet18/stars/51y9jsu6.pt  \n",
      "  inflating: ./cifar10_resnet18/stars/52ko7teg.pt  \n",
      "  inflating: ./cifar10_resnet18/stars/5emm5yub.pt  \n",
      "  inflating: ./cifar10_resnet18/stars/5zclde69.pt  \n",
      "  inflating: ./cifar10_resnet18/stars/69kjnr8e.pt  \n",
      "  inflating: ./cifar10_resnet18/stars/6gps5q6c.pt  \n",
      "  inflating: ./cifar10_resnet18/stars/7lvvg6vt.pt  \n",
      "  inflating: ./cifar10_resnet18/stars/82pxe1i8.pt  \n",
      "  inflating: ./cifar10_resnet18/stars/84frwc37.pt  \n",
      "  inflating: ./cifar10_resnet18/stars/8crvzaj1.pt  \n",
      "  inflating: ./cifar10_resnet18/stars/8dirowph.pt  \n",
      "  inflating: ./cifar10_resnet18/stars/8jlh8m2d.pt  \n",
      "  inflating: ./cifar10_resnet18/stars/8l7au5v6.pt  \n",
      "  inflating: ./cifar10_resnet18/stars/8o9awx08.pt  \n",
      "  inflating: ./cifar10_resnet18/stars/9pvinqaq.pt  \n",
      "  inflating: ./cifar10_resnet18/stars/9x4yviaz.pt  \n",
      "  inflating: ./cifar10_resnet18/stars/bezgu0h7.pt  \n",
      "  inflating: ./cifar10_resnet18/stars/by2vpp9d.pt  \n",
      "  inflating: ./cifar10_resnet18/stars/cbk5wpnf.pt  \n",
      "  inflating: ./cifar10_resnet18/stars/cdu3a0jj.pt  \n",
      "  inflating: ./cifar10_resnet18/stars/e35vecib.pt  \n",
      "  inflating: ./cifar10_resnet18/stars/eirtydgk.pt  \n",
      "  inflating: ./cifar10_resnet18/stars/ex2fcs4k.pt  \n",
      "  inflating: ./cifar10_resnet18/stars/gzgzb5q9.pt  \n",
      "  inflating: ./cifar10_resnet18/stars/h2qjwxrq.pt  \n",
      "  inflating: ./cifar10_resnet18/stars/isfg07d8.pt  \n",
      "  inflating: ./cifar10_resnet18/stars/j2inz7uv.pt  \n",
      "  inflating: ./cifar10_resnet18/stars/ld3kvc9z.pt  \n",
      "  inflating: ./cifar10_resnet18/stars/lxaadzad.pt  \n",
      "  inflating: ./cifar10_resnet18/stars/n5sjdrla.pt  \n",
      "  inflating: ./cifar10_resnet18/stars/n8vpmpbj.pt  \n",
      "  inflating: ./cifar10_resnet18/stars/nyolmhfc.pt  \n",
      "  inflating: ./cifar10_resnet18/stars/ovgk6fmw.pt  \n",
      "  inflating: ./cifar10_resnet18/stars/ovq6mpnl.pt  \n",
      "  inflating: ./cifar10_resnet18/stars/p6juczq3.pt  \n",
      "  inflating: ./cifar10_resnet18/stars/p6o2u3b4.pt  \n",
      "  inflating: ./cifar10_resnet18/stars/pajmb0fq.pt  \n",
      "  inflating: ./cifar10_resnet18/stars/r0ispnub.pt  \n",
      "  inflating: ./cifar10_resnet18/stars/rbtifw7r.pt  \n",
      "  inflating: ./cifar10_resnet18/stars/s0gzzdw7.pt  \n",
      "  inflating: ./cifar10_resnet18/stars/ssyfcnh5.pt  \n",
      "  inflating: ./cifar10_resnet18/stars/ue0cyt8u.pt  \n",
      "  inflating: ./cifar10_resnet18/stars/vzwht6g0.pt  \n",
      "  inflating: ./cifar10_resnet18/stars/wrvljast.pt  \n",
      "  inflating: ./cifar10_resnet18/stars/yupmkpsi.pt  \n",
      "  inflating: ./cifar10_resnet18/stars/yw0vl386.pt  \n",
      "  inflating: ./cifar10_resnet18/stars/yyoredii.pt  \n",
      "  inflating: ./cifar10_resnet18/stars/zubysod8.pt  \n"
     ]
    }
   ],
   "source": [
    "# !tar -xzf /scratch_local/arubinstein17-163577/starlight/notebooks/cifar10_resnet18.zip\n",
    "!unzip cifar10_resnet18.zip -d ./"
   ]
  },
  {
   "cell_type": "code",
   "execution_count": 16,
   "metadata": {},
   "outputs": [],
   "source": [
    "cifar_path = \"./cifar10_resnet18/\"\n",
    "stars_path = os.path.join(cifar_path, \"stars\")\n",
    "anchors_path = os.path.join(cifar_path, \"anchors\")\n",
    "# anchors = os.listdir(\"./cifar10_resnet18/anchors\")\n",
    "anchors = [os.path.join(anchors_path, name) for name in os.listdir(anchors_path)]\n",
    "stars = [os.path.join(stars_path, name) for name in os.listdir(stars_path)]"
   ]
  },
  {
   "cell_type": "markdown",
   "metadata": {},
   "source": [
    "# Compute margin"
   ]
  },
  {
   "cell_type": "code",
   "execution_count": 19,
   "metadata": {},
   "outputs": [],
   "source": [
    "anchor_1 = anchors[0]\n",
    "anchor_2 = anchors[1]\n",
    "star_1 = stars[0]\n",
    "star_2 = stars[1]"
   ]
  },
  {
   "cell_type": "code",
   "execution_count": 25,
   "metadata": {},
   "outputs": [
    {
     "name": "stdout",
     "output_type": "stream",
     "text": [
      "Files already downloaded and verified\n",
      "Files already downloaded and verified\n",
      "Files already downloaded and verified\n",
      "Using 45000 images for training\n",
      "Using 5000 images for validation\n",
      "Using train transform Compose(\n",
      "    IdentityTransform()\n",
      "    ToTensor()\n",
      "    Normalize(mean=[0.485 0.456 0.406], std=[0.229 0.224 0.225])\n",
      ")\n"
     ]
    }
   ],
   "source": [
    "cifar10_train_dataloader, _, _ = load_cifar10(\n",
    "    batch_size=256,\n",
    "    num_workers=8,\n",
    "    img_size=32,\n",
    "    normalize=True,\n",
    "    resize=False,\n",
    "    horizontal_flip=False,\n",
    "    vertical_flip=False,\n",
    "    random_crop_resize=False,\n",
    "    random_resize_crop=False,\n",
    "    color_jitter=False,\n",
    "    rotation_range=0,\n",
    "    pad_random_crop=False,\n",
    "    random_one_aug=False,\n",
    "    train_set_fraction=1.0,\n",
    "    return_ds=False,\n",
    ")"
   ]
  },
  {
   "cell_type": "code",
   "execution_count": 29,
   "metadata": {},
   "outputs": [],
   "source": [
    "for batch in cifar10_train_dataloader:\n",
    "    x, y = batch\n",
    "    break"
   ]
  },
  {
   "cell_type": "code",
   "execution_count": 43,
   "metadata": {},
   "outputs": [
    {
     "data": {
      "text/plain": [
       "dict_keys(['state_dict'])"
      ]
     },
     "execution_count": 43,
     "metadata": {},
     "output_type": "execute_result"
    }
   ],
   "source": [
    "model_1.keys()"
   ]
  },
  {
   "cell_type": "code",
   "execution_count": 45,
   "metadata": {},
   "outputs": [],
   "source": [
    "model_1 = get_resnet18_cifar(anchor_1, \"resnet18_cifar\", model_settings={\"num_classes\": 10})"
   ]
  },
  {
   "cell_type": "code",
   "execution_count": 46,
   "metadata": {},
   "outputs": [],
   "source": [
    "output = model_1(x)"
   ]
  },
  {
   "cell_type": "markdown",
   "metadata": {},
   "source": [
    "## Resnet18 Cifar10"
   ]
  },
  {
   "cell_type": "code",
   "execution_count": 58,
   "metadata": {},
   "outputs": [],
   "source": [
    "class_i = 0\n",
    "class_j = 1\n",
    "model_1 = get_resnet18_cifar(anchor_1)\n",
    "model_2 = get_resnet18_cifar(anchor_2)\n",
    "margin = compute_margin(model_1, model_2, class_i, class_j, x, norm=\"l1\")"
   ]
  }
 ],
 "metadata": {
  "kernelspec": {
   "display_name": "Python 3",
   "language": "python",
   "name": "python3"
  },
  "language_info": {
   "codemirror_mode": {
    "name": "ipython",
    "version": 3
   },
   "file_extension": ".py",
   "mimetype": "text/x-python",
   "name": "python",
   "nbconvert_exporter": "python",
   "pygments_lexer": "ipython3",
   "version": "3.9.0"
  }
 },
 "nbformat": 4,
 "nbformat_minor": 2
}
