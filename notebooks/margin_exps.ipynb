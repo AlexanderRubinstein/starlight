{
 "cells": [
  {
   "cell_type": "markdown",
   "metadata": {},
   "source": [
    "# Imports"
   ]
  },
  {
   "cell_type": "code",
   "execution_count": 185,
   "metadata": {},
   "outputs": [
    {
     "data": {
      "text/plain": [
       "'/scratch_local/arubinstein17-163577/starlight'"
      ]
     },
     "execution_count": 185,
     "metadata": {},
     "output_type": "execute_result"
    }
   ],
   "source": [
    "%reload_ext autoreload\n",
    "%autoreload 2\n",
    "%matplotlib inline\n",
    "\n",
    "\n",
    "import os\n",
    "import sys\n",
    "import torch\n",
    "from tqdm import tqdm\n",
    "import pandas as pd\n",
    "# import copy\n",
    "# import h5py\n",
    "# import numpy as np\n",
    "# import pandas as pd\n",
    "from IPython.display import display\n",
    "# import random\n",
    "# import matplotlib.ticker as ticker\n",
    "# import matplotlib.pyplot as plt\n",
    "import numpy as np\n",
    "# import itertools\n",
    "# import sklearn\n",
    "\n",
    "\n",
    "# local imports\n",
    "sys.path.insert(\n",
    "    0,\n",
    "    os.path.join(\n",
    "        os.path.dirname(os.path.abspath(''))\n",
    "    )\n",
    ")\n",
    "from dataloaders.cifar10 import (\n",
    "    load_cifar10\n",
    ")\n",
    "from dataloaders.cifar100 import (\n",
    "    load_cifar100\n",
    ")\n",
    "from models import models_dict as MODELS_DICT\n",
    "# models_dict = {\n",
    "#     \"resnet18_cifar\": resnet18_cifar,\n",
    "#     \"resnet18_torch\": torchvision.models.resnet18,\n",
    "#     \"resnet50_torch\": torchvision.models.resnet50,\n",
    "#     \"densenet_cifar\": densenet_cifar\n",
    "# }\n",
    "sys.path.pop(0)\n"
   ]
  },
  {
   "cell_type": "markdown",
   "metadata": {},
   "source": [
    "# Functions"
   ]
  },
  {
   "cell_type": "code",
   "execution_count": 206,
   "metadata": {},
   "outputs": [],
   "source": [
    "def get_link(raw_link):\n",
    "    id = raw_link.split(\"/d/\")[-1].split(\"/\")[0]\n",
    "    return f\"https://drive.google.com/uc?id={id}\"\n",
    "\n",
    "\n",
    "def get_model(chkpt_path, model_name, model_settings={}):\n",
    "    model = MODELS_DICT[model_name](**model_settings)\n",
    "    model.load_state_dict(torch.load(chkpt_path)[\"state_dict\"])\n",
    "    return model\n",
    "\n",
    "\n",
    "def get_resnet18_cifar(chkpt_path, num_classes=10):\n",
    "    return get_model(\n",
    "        chkpt_path,\n",
    "        \"resnet18_cifar\",\n",
    "        model_settings={\"num_classes\": num_classes}\n",
    ")\n",
    "\n",
    "\n",
    "def get_resnet18_cifar100(chkpt_path):\n",
    "    return get_resnet18_cifar(chkpt_path, num_classes=100)\n",
    "\n",
    "\n",
    "\n",
    "def get_paths(root_path):\n",
    "    stars_path = os.path.join(root_path, \"stars\")\n",
    "    anchors_path = os.path.join(root_path, \"anchors\")\n",
    "    # anchors = os.listdir(\"./cifar10_resnet18/anchors\")\n",
    "    anchors = [\n",
    "        os.path.join(anchors_path, name) for name in os.listdir(anchors_path)\n",
    "    ]\n",
    "    stars = [\n",
    "        os.path.join(stars_path, name) for name in os.listdir(stars_path)\n",
    "    ]\n",
    "    return anchors, stars\n",
    "\n",
    "\n",
    "@torch.no_grad\n",
    "def compute_margin_for_batch(model, x, device=\"cuda:0\"):\n",
    "\n",
    "    x.requires_grad = True\n",
    "\n",
    "    with torch.enable_grad():\n",
    "        output = model(x)\n",
    "\n",
    "    output = output.to(device)\n",
    "\n",
    "    num_classes = output.shape[-1]\n",
    "    margins_for_all_class_pairs = []\n",
    "    used_classes = range(num_classes)\n",
    "\n",
    "    model_grads = {}\n",
    "\n",
    "    with torch.enable_grad():\n",
    "        for class_i in used_classes:\n",
    "            model_grads[class_i] = get_grad(\n",
    "                output[..., class_i],\n",
    "                x,\n",
    "                retain_graph=True\n",
    "            )\n",
    "\n",
    "    # cartesian_product = list(itertools.product(used_classes, repeat=2))\n",
    "    # for i, (class_i, class_j) in (enumerate(cartesian_product)):\n",
    "    for i in range(len(used_classes)):\n",
    "        for j in range(i + 1, len(used_classes)):\n",
    "\n",
    "            class_i = used_classes[i]\n",
    "            class_j = used_classes[j]\n",
    "\n",
    "            output_i = output[..., class_i]\n",
    "            output_j = output[..., class_j]\n",
    "\n",
    "            grad_i = model_grads[class_i]\n",
    "            grad_j = model_grads[class_j]\n",
    "            batch_margins_for_class_pair = compute_margin(\n",
    "                output_i,\n",
    "                output_j,\n",
    "                grad_i,\n",
    "                grad_j,\n",
    "                norm=\"l1\"\n",
    "            )\n",
    "\n",
    "            margins_for_all_class_pairs.append(batch_margins_for_class_pair.mean())\n",
    "    return torch.Tensor(margins_for_all_class_pairs).mean()\n",
    "\n",
    "\n",
    "def get_grad(output_i, x, retain_graph):\n",
    "    assert x.requires_grad == True\n",
    "    differentiable_value = output_i.sum()\n",
    "    differentiable_value.backward(inputs=x, retain_graph=retain_graph)\n",
    "    grad = x.grad\n",
    "    x.grad = None\n",
    "    return grad\n",
    "\n",
    "\n",
    "def compute_margin(output_i, output_j, grad_i, grad_j, norm=\"l1\"):\n",
    "    # eq. 7 here: https://proceedings.neurips.cc/paper_files/paper/2018/file/42998cf32d552343bc8e460416382dca-Paper.pdf\n",
    "    # d = |f_i(x) - f_j(x)| / |grad_x f_i(x) - grad_x f_j (x)|_q\n",
    "    assert norm == \"l1\"\n",
    "    if norm == \"l1\":\n",
    "        return (\n",
    "                (output_i - output_j).abs()\n",
    "            /\n",
    "                (grad_i - grad_j).abs().sum()\n",
    "        )\n",
    "    else:\n",
    "        raise NotImplementedError(\"Only L1 norm is supported\")\n",
    "\n",
    "\n",
    "def margin_on_dataloader(\n",
    "    model,\n",
    "    dataloader,\n",
    "    percent=0.01,\n",
    "    device=\"cuda:0\"\n",
    "):\n",
    "\n",
    "    model.eval()\n",
    "    model.to(device)\n",
    "\n",
    "    dataloader_len = len(dataloader)\n",
    "    if percent == 1:\n",
    "        active_batches = list(range(dataloader_len))\n",
    "    else:\n",
    "        total_batches = int(percent * dataloader_len)\n",
    "        active_batches = np.linspace(0, dataloader_len, total_batches)\n",
    "        active_batches = active_batches.astype(int)\n",
    "\n",
    "    res = []\n",
    "    pb = tqdm(total=dataloader_len, desc='batch', position=0)\n",
    "    for i, batch in (enumerate(dataloader)):\n",
    "        pb.update(1)\n",
    "        if i not in active_batches:\n",
    "            continue\n",
    "        x, y = batch\n",
    "        x = x.to(device)\n",
    "        batch_margin = compute_margin_for_batch(\n",
    "            model,\n",
    "            x,\n",
    "            device=device\n",
    "        )\n",
    "        res.append(batch_margin)\n",
    "    return torch.Tensor(res).mean().item()\n",
    "\n",
    "\n",
    "def compute_results(\n",
    "    model_paths,\n",
    "    dataloader,\n",
    "    cache_path,\n",
    "    percent=1,\n",
    "    load_model=get_resnet18_cifar,\n",
    "    recompute_substring=None\n",
    "):\n",
    "    res = {}\n",
    "    if os.path.exists(cache_path):\n",
    "        print(f\"Loading existing results from {cache_path}\")\n",
    "        res = torch.load(cache_path)\n",
    "    else:\n",
    "        res = {}\n",
    "\n",
    "    dataset_root = dataloader.dataset.dataset.__dict__[\"root\"]\n",
    "    dataset_name = dataset_root.split(os.sep)[-1]\n",
    "    for model_path in model_paths:\n",
    "\n",
    "        path_split = model_path.split(os.sep)[-2:]\n",
    "        assert len(path_split) == 2\n",
    "        model_type = path_split[0]\n",
    "        model_id = path_split[1].split(\".\")[0]\n",
    "        df_id = f\"{model_type}_{model_id}_{dataset_name}_p{percent}\"\n",
    "        to_recompute = (not df_id in res)\n",
    "        if not to_recompute and recompute_substring is not None:\n",
    "            to_recompute = recompute_substring in df_id\n",
    "\n",
    "        if to_recompute:\n",
    "            print(f\"Computing results for {df_id}\")\n",
    "            res[df_id] = {}\n",
    "            res[df_id][\"margin\"] = margin_on_dataloader(\n",
    "                load_model(model_path),\n",
    "                dataloader,\n",
    "                percent=percent,\n",
    "                device=\"cuda:0\"\n",
    "            )\n",
    "            res[df_id][\"model_type\"] = model_type\n",
    "            res[df_id][\"dataset_name\"] = dataset_name\n",
    "            res[df_id][\"percent\"] = percent\n",
    "            res[df_id][\"model_id\"] = model_id\n",
    "        else:\n",
    "            print(f\"Reusing results for {df_id}\")\n",
    "    torch.save(res, cache_path)\n",
    "    return res\n",
    "\n",
    "\n",
    "def plot_dict(\n",
    "    res,\n",
    "    to_show=True,\n",
    "    filter_dict={},\n",
    "    drop_columns=[],\n",
    "    group_aggregate_list=[],\n",
    "    query=None\n",
    "):\n",
    "\n",
    "    df = pd.DataFrame.from_dict(res, orient='index')\n",
    "\n",
    "    for column_name, allowed_values in filter_dict.items():\n",
    "        df = df[df[column_name] in allowed_values]\n",
    "\n",
    "    if query is not None:\n",
    "        df = df.query(query)\n",
    "\n",
    "    for column_name in drop_columns:\n",
    "        if column_name == \"index\":\n",
    "            df.reset_index(drop=True, inplace=True)\n",
    "        else:\n",
    "            df = df.drop(column_name, axis=1)\n",
    "\n",
    "    for new_index in group_aggregate_list:\n",
    "        df = df.groupby(new_index).agg([(f'mean', 'mean'), (f'std', 'std')])\n",
    "\n",
    "    if to_show:\n",
    "        display(df)\n",
    "    return df"
   ]
  },
  {
   "cell_type": "markdown",
   "metadata": {},
   "source": [
    "# Prepare cifar100"
   ]
  },
  {
   "cell_type": "code",
   "execution_count": 177,
   "metadata": {},
   "outputs": [
    {
     "data": {
      "text/plain": [
       "'https://drive.google.com/uc?id=1zTH5_YBM9h4AYfeQWhkJyqXW_14xS38B'"
      ]
     },
     "execution_count": 177,
     "metadata": {},
     "output_type": "execute_result"
    }
   ],
   "source": [
    "get_link(\"https://drive.google.com/file/d/1zTH5_YBM9h4AYfeQWhkJyqXW_14xS38B/view?usp=drive_link\")"
   ]
  },
  {
   "cell_type": "code",
   "execution_count": 178,
   "metadata": {},
   "outputs": [
    {
     "name": "stdout",
     "output_type": "stream",
     "text": [
      "Downloading...\n",
      "From (original): https://drive.google.com/uc?id=1zTH5_YBM9h4AYfeQWhkJyqXW_14xS38B\n",
      "From (redirected): https://drive.google.com/uc?id=1zTH5_YBM9h4AYfeQWhkJyqXW_14xS38B&confirm=t&uuid=51724791-d6b0-4e41-9a83-bae8a9e60ecc\n",
      "To: /scratch_local/arubinstein17-163577/starlight/notebooks/cifar100_resnet18.zip\n",
      "100%|██████████████████████████████████████| 4.38G/4.38G [00:57<00:00, 76.1MB/s]\n"
     ]
    }
   ],
   "source": [
    "!gdown https://drive.google.com/uc?id=1zTH5_YBM9h4AYfeQWhkJyqXW_14xS38B"
   ]
  },
  {
   "cell_type": "code",
   "execution_count": 182,
   "metadata": {},
   "outputs": [
    {
     "name": "stdout",
     "output_type": "stream",
     "text": [
      "Archive:  cifar100_resnet18.zip\n",
      "   creating: ./cifar100_resnet18/\n",
      "   creating: ./cifar100_resnet18/anchors/\n",
      "  inflating: ./cifar100_resnet18/anchors/0eqk0gla.pt  \n",
      "  inflating: ./cifar100_resnet18/anchors/384qnuxm.pt  \n",
      "  inflating: ./cifar100_resnet18/anchors/3n8ftowe.pt  \n",
      "  inflating: ./cifar100_resnet18/anchors/4808726s.pt  \n",
      "  inflating: ./cifar100_resnet18/anchors/4rjdi4pa.pt  \n",
      "  inflating: ./cifar100_resnet18/anchors/5bfkmro6.pt  \n",
      "  inflating: ./cifar100_resnet18/anchors/65cr1zyr.pt  \n",
      "  inflating: ./cifar100_resnet18/anchors/6hapim4a.pt  \n",
      "  inflating: ./cifar100_resnet18/anchors/73s47o0m.pt  \n",
      "  inflating: ./cifar100_resnet18/anchors/75eeo9bw.pt  \n",
      "  inflating: ./cifar100_resnet18/anchors/7wgab2a1.pt  \n",
      "  inflating: ./cifar100_resnet18/anchors/82yrfx4p.pt  \n",
      "  inflating: ./cifar100_resnet18/anchors/85izljav.pt  \n",
      "  inflating: ./cifar100_resnet18/anchors/8pppxxoh.pt  \n",
      "  inflating: ./cifar100_resnet18/anchors/9ansq593.pt  \n",
      "  inflating: ./cifar100_resnet18/anchors/9lzove03.pt  \n",
      "  inflating: ./cifar100_resnet18/anchors/9re9ls52.pt  \n",
      "  inflating: ./cifar100_resnet18/anchors/b8edhde7.pt  \n",
      "  inflating: ./cifar100_resnet18/anchors/br07xk8k.pt  \n",
      "  inflating: ./cifar100_resnet18/anchors/dvwez9x0.pt  \n",
      "  inflating: ./cifar100_resnet18/anchors/eiy3zm52.pt  \n",
      "  inflating: ./cifar100_resnet18/anchors/erl5jo46.pt  \n",
      "  inflating: ./cifar100_resnet18/anchors/esyfmqwh.pt  \n",
      "  inflating: ./cifar100_resnet18/anchors/hy5ha0xa.pt  \n",
      "  inflating: ./cifar100_resnet18/anchors/i0elfh2k.pt  \n",
      "  inflating: ./cifar100_resnet18/anchors/k6mlympe.pt  \n",
      "  inflating: ./cifar100_resnet18/anchors/m8i4h50d.pt  \n",
      "  inflating: ./cifar100_resnet18/anchors/my5cprnt.pt  \n",
      "  inflating: ./cifar100_resnet18/anchors/n35vnizu.pt  \n",
      "  inflating: ./cifar100_resnet18/anchors/n7oxm1xb.pt  \n",
      "  inflating: ./cifar100_resnet18/anchors/nkg68phw.pt  \n",
      "  inflating: ./cifar100_resnet18/anchors/nuumgejz.pt  \n",
      "  inflating: ./cifar100_resnet18/anchors/o2oyi2nf.pt  \n",
      "  inflating: ./cifar100_resnet18/anchors/oox16zjn.pt  \n",
      "  inflating: ./cifar100_resnet18/anchors/ov6x1lqj.pt  \n",
      "  inflating: ./cifar100_resnet18/anchors/pe310882.pt  \n",
      "  inflating: ./cifar100_resnet18/anchors/q2gllnjv.pt  \n",
      "  inflating: ./cifar100_resnet18/anchors/r2o7x5i1.pt  \n",
      "  inflating: ./cifar100_resnet18/anchors/rh9yri3q.pt  \n",
      "  inflating: ./cifar100_resnet18/anchors/snvoiwk8.pt  \n",
      "  inflating: ./cifar100_resnet18/anchors/tkidvkts.pt  \n",
      "  inflating: ./cifar100_resnet18/anchors/ujlp84sv.pt  \n",
      "  inflating: ./cifar100_resnet18/anchors/uy9nifms.pt  \n",
      "  inflating: ./cifar100_resnet18/anchors/vkizt9fw.pt  \n",
      "  inflating: ./cifar100_resnet18/anchors/vxjpcom6.pt  \n",
      "  inflating: ./cifar100_resnet18/anchors/w5f9zlyz.pt  \n",
      "  inflating: ./cifar100_resnet18/anchors/xgiriafc.pt  \n",
      "  inflating: ./cifar100_resnet18/anchors/xin4qq61.pt  \n",
      "  inflating: ./cifar100_resnet18/anchors/yitudn1n.pt  \n",
      "  inflating: ./cifar100_resnet18/anchors/yym0yakn.pt  \n",
      "   creating: ./cifar100_resnet18/held_out/\n",
      "  inflating: ./cifar100_resnet18/held_out/5ybrap81.pt  \n",
      "  inflating: ./cifar100_resnet18/held_out/deeyhj64.pt  \n",
      "  inflating: ./cifar100_resnet18/held_out/iz5dbedn.pt  \n",
      "  inflating: ./cifar100_resnet18/held_out/lu136w7y.pt  \n",
      "  inflating: ./cifar100_resnet18/held_out/pfb5z421.pt  \n",
      "   creating: ./cifar100_resnet18/stars/\n",
      "  inflating: ./cifar100_resnet18/stars/01fj1cav.pt  \n",
      "  inflating: ./cifar100_resnet18/stars/212q5op8.pt  \n",
      "  inflating: ./cifar100_resnet18/stars/2umwboaq.pt  \n",
      "  inflating: ./cifar100_resnet18/stars/4g7iow4i.pt  \n",
      "  inflating: ./cifar100_resnet18/stars/4ka33yun.pt  \n",
      "  inflating: ./cifar100_resnet18/stars/4mpboz6f.pt  \n",
      "  inflating: ./cifar100_resnet18/stars/5dbhkw8n.pt  \n",
      "  inflating: ./cifar100_resnet18/stars/5fvuoo9o.pt  \n",
      "  inflating: ./cifar100_resnet18/stars/62vupcxw.pt  \n",
      "  inflating: ./cifar100_resnet18/stars/8ohvns2x.pt  \n",
      "  inflating: ./cifar100_resnet18/stars/9wbxgj27.pt  \n",
      "  inflating: ./cifar100_resnet18/stars/asjzt0xi.pt  \n",
      "  inflating: ./cifar100_resnet18/stars/c1inahy6.pt  \n",
      "  inflating: ./cifar100_resnet18/stars/co2azwwu.pt  \n",
      "  inflating: ./cifar100_resnet18/stars/dae3lsxe.pt  \n",
      "  inflating: ./cifar100_resnet18/stars/dlheymzg.pt  \n",
      "  inflating: ./cifar100_resnet18/stars/f0bx9406.pt  \n",
      "  inflating: ./cifar100_resnet18/stars/f7om0hjv.pt  \n",
      "  inflating: ./cifar100_resnet18/stars/flplzcv0.pt  \n",
      "  inflating: ./cifar100_resnet18/stars/fxo5dvzl.pt  \n",
      "  inflating: ./cifar100_resnet18/stars/g33gez6l.pt  \n",
      "  inflating: ./cifar100_resnet18/stars/gubc215d.pt  \n",
      "  inflating: ./cifar100_resnet18/stars/htkden3t.pt  \n",
      "  inflating: ./cifar100_resnet18/stars/ifdm9ivb.pt  \n",
      "  inflating: ./cifar100_resnet18/stars/igx4038c.pt  \n",
      "  inflating: ./cifar100_resnet18/stars/jb319hd6.pt  \n",
      "  inflating: ./cifar100_resnet18/stars/jb9n9mfr.pt  \n",
      "  inflating: ./cifar100_resnet18/stars/jq5wq4dp.pt  \n",
      "  inflating: ./cifar100_resnet18/stars/k18od5rh.pt  \n",
      "  inflating: ./cifar100_resnet18/stars/lgd1aief.pt  \n",
      "  inflating: ./cifar100_resnet18/stars/ly0u9r9m.pt  \n",
      "  inflating: ./cifar100_resnet18/stars/mgcabk97.pt  \n",
      "  inflating: ./cifar100_resnet18/stars/n1fhedyf.pt  \n",
      "  inflating: ./cifar100_resnet18/stars/odzwjvjg.pt  \n",
      "  inflating: ./cifar100_resnet18/stars/oj7wbagz.pt  \n",
      "  inflating: ./cifar100_resnet18/stars/pjdaet20.pt  \n",
      "  inflating: ./cifar100_resnet18/stars/pmckxm16.pt  \n",
      "  inflating: ./cifar100_resnet18/stars/qap7gxl1.pt  \n",
      "  inflating: ./cifar100_resnet18/stars/qohmwx0f.pt  \n",
      "  inflating: ./cifar100_resnet18/stars/rylbd95p.pt  \n",
      "  inflating: ./cifar100_resnet18/stars/s4kgdrmw.pt  \n",
      "  inflating: ./cifar100_resnet18/stars/sq6rjqfp.pt  \n",
      "  inflating: ./cifar100_resnet18/stars/swhl6q8t.pt  \n",
      "  inflating: ./cifar100_resnet18/stars/t200saru.pt  \n",
      "  inflating: ./cifar100_resnet18/stars/tautonsr.pt  \n",
      "  inflating: ./cifar100_resnet18/stars/wa8x6rt9.pt  \n",
      "  inflating: ./cifar100_resnet18/stars/wjius2n1.pt  \n",
      "  inflating: ./cifar100_resnet18/stars/xepnvp6t.pt  \n",
      "  inflating: ./cifar100_resnet18/stars/yvi97vmj.pt  \n",
      "  inflating: ./cifar100_resnet18/stars/zcgviume.pt  \n"
     ]
    }
   ],
   "source": [
    "!unzip cifar100_resnet18.zip -d ./"
   ]
  },
  {
   "cell_type": "code",
   "execution_count": 186,
   "metadata": {},
   "outputs": [
    {
     "name": "stdout",
     "output_type": "stream",
     "text": [
      "Downloading https://www.cs.toronto.edu/~kriz/cifar-100-python.tar.gz to /mnt/qb/work/oh/arubinstein17/datasets/cifar100/cifar-100-python.tar.gz\n"
     ]
    },
    {
     "name": "stderr",
     "output_type": "stream",
     "text": [
      "100%|██████████| 169001437/169001437 [00:07<00:00, 23051054.87it/s]\n"
     ]
    },
    {
     "name": "stdout",
     "output_type": "stream",
     "text": [
      "Extracting /mnt/qb/work/oh/arubinstein17/datasets/cifar100/cifar-100-python.tar.gz to /mnt/qb/work/oh/arubinstein17/datasets/cifar100\n",
      "Files already downloaded and verified\n",
      "Files already downloaded and verified\n",
      "Using 45000 images for training\n",
      "Using 5000 images for validation\n",
      "Using train transform Compose(\n",
      "    IdentityTransform()\n",
      "    ToTensor()\n",
      "    Normalize(mean=[0.485 0.456 0.406], std=[0.229 0.224 0.225])\n",
      ")\n"
     ]
    }
   ],
   "source": [
    "anchors_cifar100_resnet18, stars_cifar100_resnet18 = get_paths(\"./cifar100_resnet18/\")\n",
    "\n",
    "cifar100_train_dataloader, _, _ = load_cifar100(\n",
    "    batch_size=256,\n",
    "    num_workers=8,\n",
    "    img_size=32,\n",
    "    normalize=True,\n",
    "    resize=False,\n",
    "    horizontal_flip=False,\n",
    "    vertical_flip=False,\n",
    "    random_crop_resize=False,\n",
    "    random_resize_crop=False,\n",
    "    color_jitter=False,\n",
    "    rotation_range=0,\n",
    "    pad_random_crop=False,\n",
    "    random_one_aug=False,\n",
    "    train_set_fraction=1.0,\n",
    "    return_ds=False,\n",
    ")"
   ]
  },
  {
   "cell_type": "markdown",
   "metadata": {},
   "source": [
    "# Prepare cifar10"
   ]
  },
  {
   "cell_type": "code",
   "execution_count": null,
   "metadata": {},
   "outputs": [],
   "source": [
    "get_link(\"https://drive.google.com/file/d/1g-TxEGbORtHmxVEefoJtk2yxSf_mHL28/view?usp=drive_link\")"
   ]
  },
  {
   "cell_type": "code",
   "execution_count": null,
   "metadata": {},
   "outputs": [],
   "source": [
    "!gdown https://drive.google.com/uc?id=1g-TxEGbORtHmxVEefoJtk2yxSf_mHL28"
   ]
  },
  {
   "cell_type": "code",
   "execution_count": null,
   "metadata": {},
   "outputs": [],
   "source": [
    "!unzip cifar10_resnet18.zip -d ./"
   ]
  },
  {
   "cell_type": "code",
   "execution_count": 16,
   "metadata": {},
   "outputs": [],
   "source": [
    "anchors_resnet18, stars_resnet18 = get_paths(\"./cifar10_resnet18/\")\n",
    "\n",
    "cifar10_train_dataloader, _, _ = load_cifar10(\n",
    "    batch_size=256,\n",
    "    num_workers=8,\n",
    "    img_size=32,\n",
    "    normalize=True,\n",
    "    resize=False,\n",
    "    horizontal_flip=False,\n",
    "    vertical_flip=False,\n",
    "    random_crop_resize=False,\n",
    "    random_resize_crop=False,\n",
    "    color_jitter=False,\n",
    "    rotation_range=0,\n",
    "    pad_random_crop=False,\n",
    "    random_one_aug=False,\n",
    "    train_set_fraction=1.0,\n",
    "    return_ds=False,\n",
    ")"
   ]
  },
  {
   "cell_type": "markdown",
   "metadata": {},
   "source": [
    "# Compute margin"
   ]
  },
  {
   "cell_type": "markdown",
   "metadata": {},
   "source": [
    "## Resnet18 Cifar100"
   ]
  },
  {
   "cell_type": "code",
   "execution_count": 190,
   "metadata": {},
   "outputs": [
    {
     "name": "stdout",
     "output_type": "stream",
     "text": [
      "Computing results for anchors_0eqk0gla_cifar100_p0.05\n"
     ]
    },
    {
     "name": "stderr",
     "output_type": "stream",
     "text": [
      "batch: 100%|██████████| 176/176 [00:22<00:00,  7.76it/s]\n"
     ]
    },
    {
     "name": "stdout",
     "output_type": "stream",
     "text": [
      "Computing results for anchors_384qnuxm_cifar100_p0.05\n"
     ]
    },
    {
     "name": "stderr",
     "output_type": "stream",
     "text": [
      "batch: 100%|██████████| 176/176 [00:22<00:00,  7.66it/s]\n"
     ]
    },
    {
     "name": "stdout",
     "output_type": "stream",
     "text": [
      "Computing results for stars_01fj1cav_cifar100_p0.05\n"
     ]
    },
    {
     "name": "stderr",
     "output_type": "stream",
     "text": [
      "batch: 100%|██████████| 176/176 [00:22<00:00,  7.69it/s]\n"
     ]
    },
    {
     "name": "stdout",
     "output_type": "stream",
     "text": [
      "Computing results for stars_212q5op8_cifar100_p0.05\n"
     ]
    },
    {
     "name": "stderr",
     "output_type": "stream",
     "text": [
      "batch: 100%|██████████| 176/176 [00:22<00:00,  7.68it/s]\n"
     ]
    }
   ],
   "source": [
    "cifar100_resnet18_res_path = \"./cifar100_resnet18_results.pt\"\n",
    "\n",
    "cifar100_resnet18_results = compute_results(\n",
    "    anchors_cifar100_resnet18 + stars_cifar100_resnet18,\n",
    "    cifar100_train_dataloader,\n",
    "    cifar100_resnet18_res_path,\n",
    "    percent=0.05,\n",
    "    load_model=get_resnet18_cifar100,\n",
    "    # recompute_substring=\"p0\"\n",
    "    recompute_substring=None\n",
    ")"
   ]
  },
  {
   "cell_type": "code",
   "execution_count": 192,
   "metadata": {},
   "outputs": [
    {
     "name": "stdout",
     "output_type": "stream",
     "text": [
      "                                   margin model_type dataset_name  percent\n",
      "anchors_0eqk0gla_cifar100_p0.05  0.000035    anchors     cifar100     0.05\n",
      "anchors_384qnuxm_cifar100_p0.05  0.000035    anchors     cifar100     0.05\n",
      "stars_01fj1cav_cifar100_p0.05    0.000034      stars     cifar100     0.05\n",
      "stars_212q5op8_cifar100_p0.05    0.000033      stars     cifar100     0.05\n"
     ]
    },
    {
     "data": {
      "text/html": [
       "<div>\n",
       "<style scoped>\n",
       "    .dataframe tbody tr th:only-of-type {\n",
       "        vertical-align: middle;\n",
       "    }\n",
       "\n",
       "    .dataframe tbody tr th {\n",
       "        vertical-align: top;\n",
       "    }\n",
       "\n",
       "    .dataframe thead th {\n",
       "        text-align: right;\n",
       "    }\n",
       "</style>\n",
       "<table border=\"1\" class=\"dataframe\">\n",
       "  <thead>\n",
       "    <tr style=\"text-align: right;\">\n",
       "      <th></th>\n",
       "      <th>margin</th>\n",
       "      <th>model_type</th>\n",
       "      <th>dataset_name</th>\n",
       "      <th>percent</th>\n",
       "    </tr>\n",
       "  </thead>\n",
       "  <tbody>\n",
       "    <tr>\n",
       "      <th>anchors_0eqk0gla_cifar100_p0.05</th>\n",
       "      <td>0.000035</td>\n",
       "      <td>anchors</td>\n",
       "      <td>cifar100</td>\n",
       "      <td>0.05</td>\n",
       "    </tr>\n",
       "    <tr>\n",
       "      <th>anchors_384qnuxm_cifar100_p0.05</th>\n",
       "      <td>0.000035</td>\n",
       "      <td>anchors</td>\n",
       "      <td>cifar100</td>\n",
       "      <td>0.05</td>\n",
       "    </tr>\n",
       "    <tr>\n",
       "      <th>stars_01fj1cav_cifar100_p0.05</th>\n",
       "      <td>0.000034</td>\n",
       "      <td>stars</td>\n",
       "      <td>cifar100</td>\n",
       "      <td>0.05</td>\n",
       "    </tr>\n",
       "    <tr>\n",
       "      <th>stars_212q5op8_cifar100_p0.05</th>\n",
       "      <td>0.000033</td>\n",
       "      <td>stars</td>\n",
       "      <td>cifar100</td>\n",
       "      <td>0.05</td>\n",
       "    </tr>\n",
       "  </tbody>\n",
       "</table>\n",
       "</div>"
      ],
      "text/plain": [
       "                                   margin model_type dataset_name  percent\n",
       "anchors_0eqk0gla_cifar100_p0.05  0.000035    anchors     cifar100     0.05\n",
       "anchors_384qnuxm_cifar100_p0.05  0.000035    anchors     cifar100     0.05\n",
       "stars_01fj1cav_cifar100_p0.05    0.000034      stars     cifar100     0.05\n",
       "stars_212q5op8_cifar100_p0.05    0.000033      stars     cifar100     0.05"
      ]
     },
     "metadata": {},
     "output_type": "display_data"
    }
   ],
   "source": [
    "df = plot_dict(cifar100_resnet18_results, to_show=True)"
   ]
  },
  {
   "cell_type": "code",
   "execution_count": 207,
   "metadata": {},
   "outputs": [
    {
     "data": {
      "text/html": [
       "<div>\n",
       "<style scoped>\n",
       "    .dataframe tbody tr th:only-of-type {\n",
       "        vertical-align: middle;\n",
       "    }\n",
       "\n",
       "    .dataframe tbody tr th {\n",
       "        vertical-align: top;\n",
       "    }\n",
       "\n",
       "    .dataframe thead tr th {\n",
       "        text-align: left;\n",
       "    }\n",
       "\n",
       "    .dataframe thead tr:last-of-type th {\n",
       "        text-align: right;\n",
       "    }\n",
       "</style>\n",
       "<table border=\"1\" class=\"dataframe\">\n",
       "  <thead>\n",
       "    <tr>\n",
       "      <th></th>\n",
       "      <th colspan=\"2\" halign=\"left\">margin</th>\n",
       "      <th colspan=\"2\" halign=\"left\">percent</th>\n",
       "    </tr>\n",
       "    <tr>\n",
       "      <th></th>\n",
       "      <th>mean</th>\n",
       "      <th>std</th>\n",
       "      <th>mean</th>\n",
       "      <th>std</th>\n",
       "    </tr>\n",
       "    <tr>\n",
       "      <th>model_type</th>\n",
       "      <th></th>\n",
       "      <th></th>\n",
       "      <th></th>\n",
       "      <th></th>\n",
       "    </tr>\n",
       "  </thead>\n",
       "  <tbody>\n",
       "    <tr>\n",
       "      <th>anchors</th>\n",
       "      <td>0.000035</td>\n",
       "      <td>2.278152e-07</td>\n",
       "      <td>0.05</td>\n",
       "      <td>0.0</td>\n",
       "    </tr>\n",
       "    <tr>\n",
       "      <th>stars</th>\n",
       "      <td>0.000034</td>\n",
       "      <td>6.369489e-07</td>\n",
       "      <td>0.05</td>\n",
       "      <td>0.0</td>\n",
       "    </tr>\n",
       "  </tbody>\n",
       "</table>\n",
       "</div>"
      ],
      "text/plain": [
       "              margin               percent     \n",
       "                mean           std    mean  std\n",
       "model_type                                     \n",
       "anchors     0.000035  2.278152e-07    0.05  0.0\n",
       "stars       0.000034  6.369489e-07    0.05  0.0"
      ]
     },
     "metadata": {},
     "output_type": "display_data"
    }
   ],
   "source": [
    "df = plot_dict(cifar100_resnet18_results, to_show=True, filter_dict={}, drop_columns=[\"index\", \"dataset_name\"], group_aggregate_list=[\"model_type\"])"
   ]
  },
  {
   "cell_type": "markdown",
   "metadata": {},
   "source": [
    "## Resnet18 Cifar10"
   ]
  },
  {
   "cell_type": "code",
   "execution_count": null,
   "metadata": {},
   "outputs": [],
   "source": [
    "margin_on_dataloader(get_resnet18_cifar(anchors_resnet18[0]), get_resnet18_cifar(anchors_resnet18[1]), cifar10_train_dataloader, percent=0.10, device=\"cuda:0\")"
   ]
  },
  {
   "cell_type": "code",
   "execution_count": null,
   "metadata": {},
   "outputs": [],
   "source": [
    "cifar10_resnet18_res_path = \"./cifar10_resnet18_results.pt\"\n",
    "\n",
    "cifar10_resnet18_results = compute_results(\n",
    "    anchors_resnet18 + stars_resnet18,\n",
    "    cifar10_train_dataloader,\n",
    "    cifar10_resnet18_res_path,\n",
    "    percent=1,\n",
    "    load_model=get_resnet18_cifar,\n",
    "    # recompute_substring=\"p0\"\n",
    "    recompute_substring=None\n",
    ")"
   ]
  },
  {
   "cell_type": "code",
   "execution_count": 205,
   "metadata": {},
   "outputs": [
    {
     "data": {
      "text/html": [
       "<div>\n",
       "<style scoped>\n",
       "    .dataframe tbody tr th:only-of-type {\n",
       "        vertical-align: middle;\n",
       "    }\n",
       "\n",
       "    .dataframe tbody tr th {\n",
       "        vertical-align: top;\n",
       "    }\n",
       "\n",
       "    .dataframe thead th {\n",
       "        text-align: right;\n",
       "    }\n",
       "</style>\n",
       "<table border=\"1\" class=\"dataframe\">\n",
       "  <thead>\n",
       "    <tr style=\"text-align: right;\">\n",
       "      <th></th>\n",
       "      <th>margin</th>\n",
       "      <th>model_type</th>\n",
       "      <th>dataset_name</th>\n",
       "      <th>percent</th>\n",
       "      <th>model_id</th>\n",
       "    </tr>\n",
       "  </thead>\n",
       "  <tbody>\n",
       "    <tr>\n",
       "      <th>anchors_2oo0upw1_cifar10_p0.05</th>\n",
       "      <td>0.000081</td>\n",
       "      <td>anchors</td>\n",
       "      <td>cifar10</td>\n",
       "      <td>0.05</td>\n",
       "      <td>2oo0upw1</td>\n",
       "    </tr>\n",
       "    <tr>\n",
       "      <th>anchors_3m2c3guk_cifar10_p0.05</th>\n",
       "      <td>0.000080</td>\n",
       "      <td>anchors</td>\n",
       "      <td>cifar10</td>\n",
       "      <td>0.05</td>\n",
       "      <td>3m2c3guk</td>\n",
       "    </tr>\n",
       "    <tr>\n",
       "      <th>stars_0eiwx0xx_cifar10_p0.05</th>\n",
       "      <td>0.000071</td>\n",
       "      <td>stars</td>\n",
       "      <td>cifar10</td>\n",
       "      <td>0.05</td>\n",
       "      <td>0eiwx0xx</td>\n",
       "    </tr>\n",
       "    <tr>\n",
       "      <th>stars_4s24tjof_cifar10_p0.05</th>\n",
       "      <td>0.000070</td>\n",
       "      <td>stars</td>\n",
       "      <td>cifar10</td>\n",
       "      <td>0.05</td>\n",
       "      <td>4s24tjof</td>\n",
       "    </tr>\n",
       "  </tbody>\n",
       "</table>\n",
       "</div>"
      ],
      "text/plain": [
       "                                  margin model_type dataset_name  percent  \\\n",
       "anchors_2oo0upw1_cifar10_p0.05  0.000081    anchors      cifar10     0.05   \n",
       "anchors_3m2c3guk_cifar10_p0.05  0.000080    anchors      cifar10     0.05   \n",
       "stars_0eiwx0xx_cifar10_p0.05    0.000071      stars      cifar10     0.05   \n",
       "stars_4s24tjof_cifar10_p0.05    0.000070      stars      cifar10     0.05   \n",
       "\n",
       "                                model_id  \n",
       "anchors_2oo0upw1_cifar10_p0.05  2oo0upw1  \n",
       "anchors_3m2c3guk_cifar10_p0.05  3m2c3guk  \n",
       "stars_0eiwx0xx_cifar10_p0.05    0eiwx0xx  \n",
       "stars_4s24tjof_cifar10_p0.05    4s24tjof  "
      ]
     },
     "metadata": {},
     "output_type": "display_data"
    }
   ],
   "source": [
    "df = plot_dict(cifar10_resnet18_results, to_show=True)"
   ]
  },
  {
   "cell_type": "code",
   "execution_count": 209,
   "metadata": {},
   "outputs": [
    {
     "data": {
      "text/html": [
       "<div>\n",
       "<style scoped>\n",
       "    .dataframe tbody tr th:only-of-type {\n",
       "        vertical-align: middle;\n",
       "    }\n",
       "\n",
       "    .dataframe tbody tr th {\n",
       "        vertical-align: top;\n",
       "    }\n",
       "\n",
       "    .dataframe thead tr th {\n",
       "        text-align: left;\n",
       "    }\n",
       "\n",
       "    .dataframe thead tr:last-of-type th {\n",
       "        text-align: right;\n",
       "    }\n",
       "</style>\n",
       "<table border=\"1\" class=\"dataframe\">\n",
       "  <thead>\n",
       "    <tr>\n",
       "      <th></th>\n",
       "      <th colspan=\"2\" halign=\"left\">margin</th>\n",
       "      <th colspan=\"2\" halign=\"left\">percent</th>\n",
       "    </tr>\n",
       "    <tr>\n",
       "      <th></th>\n",
       "      <th>mean</th>\n",
       "      <th>std</th>\n",
       "      <th>mean</th>\n",
       "      <th>std</th>\n",
       "    </tr>\n",
       "    <tr>\n",
       "      <th>model_type</th>\n",
       "      <th></th>\n",
       "      <th></th>\n",
       "      <th></th>\n",
       "      <th></th>\n",
       "    </tr>\n",
       "  </thead>\n",
       "  <tbody>\n",
       "    <tr>\n",
       "      <th>anchors</th>\n",
       "      <td>0.000081</td>\n",
       "      <td>7.595591e-07</td>\n",
       "      <td>0.05</td>\n",
       "      <td>0.0</td>\n",
       "    </tr>\n",
       "    <tr>\n",
       "      <th>stars</th>\n",
       "      <td>0.000071</td>\n",
       "      <td>NaN</td>\n",
       "      <td>0.05</td>\n",
       "      <td>NaN</td>\n",
       "    </tr>\n",
       "  </tbody>\n",
       "</table>\n",
       "</div>"
      ],
      "text/plain": [
       "              margin               percent     \n",
       "                mean           std    mean  std\n",
       "model_type                                     \n",
       "anchors     0.000081  7.595591e-07    0.05  0.0\n",
       "stars       0.000071           NaN    0.05  NaN"
      ]
     },
     "metadata": {},
     "output_type": "display_data"
    }
   ],
   "source": [
    "df = plot_dict(cifar10_resnet18_results, to_show=True, drop_columns=[\"index\", \"dataset_name\", \"model_id\"], group_aggregate_list=[\"model_type\"], query=\"model_type == 'anchors' | model_id in ['0eiwx0xx']\")"
   ]
  },
  {
   "cell_type": "markdown",
   "metadata": {},
   "source": [
    "# Save df"
   ]
  },
  {
   "cell_type": "code",
   "execution_count": null,
   "metadata": {},
   "outputs": [],
   "source": [
    "df.to_csv(\"tmp.csv\")"
   ]
  }
 ],
 "metadata": {
  "kernelspec": {
   "display_name": "Python 3",
   "language": "python",
   "name": "python3"
  },
  "language_info": {
   "codemirror_mode": {
    "name": "ipython",
    "version": 3
   },
   "file_extension": ".py",
   "mimetype": "text/x-python",
   "name": "python",
   "nbconvert_exporter": "python",
   "pygments_lexer": "ipython3",
   "version": "3.9.0"
  }
 },
 "nbformat": 4,
 "nbformat_minor": 2
}
