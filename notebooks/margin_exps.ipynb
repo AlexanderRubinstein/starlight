{
 "cells": [
  {
   "cell_type": "code",
   "execution_count": 5,
   "metadata": {},
   "outputs": [
    {
     "data": {
      "text/plain": [
       "'/scratch_local/arubinstein17-163577/starlight/src'"
      ]
     },
     "execution_count": 5,
     "metadata": {},
     "output_type": "execute_result"
    }
   ],
   "source": [
    "%reload_ext autoreload\n",
    "%autoreload 2\n",
    "%matplotlib inline\n",
    "\n",
    "\n",
    "import os\n",
    "import sys\n",
    "import torch\n",
    "from tqdm import tqdm\n",
    "import copy\n",
    "# import h5py\n",
    "import numpy as np\n",
    "# import pandas as pd\n",
    "from IPython.display import display\n",
    "import random\n",
    "import matplotlib.ticker as ticker\n",
    "import matplotlib.pyplot as plt\n",
    "import numpy as np\n",
    "# import sklearn\n",
    "\n",
    "\n",
    "# local imports\n",
    "sys.path.insert(\n",
    "    0,\n",
    "    os.path.join(\n",
    "        os.path.dirname(os.path.abspath('')), \"src\"\n",
    "    )\n",
    ")\n",
    "pass\n",
    "sys.path.pop(0)\n"
   ]
  },
  {
   "cell_type": "code",
   "execution_count": 12,
   "metadata": {},
   "outputs": [],
   "source": [
    "def get_link(raw_link):\n",
    "    id = raw_link.split(\"/d/\")[-1].split(\"/\")[0]\n",
    "    return f\"https://drive.google.com/uc?id={id}\""
   ]
  },
  {
   "cell_type": "code",
   "execution_count": 13,
   "metadata": {},
   "outputs": [
    {
     "data": {
      "text/plain": [
       "'https://drive.google.com/uc?id=1g-TxEGbORtHmxVEefoJtk2yxSf_mHL28'"
      ]
     },
     "execution_count": 13,
     "metadata": {},
     "output_type": "execute_result"
    }
   ],
   "source": [
    "get_link(\"https://drive.google.com/file/d/1g-TxEGbORtHmxVEefoJtk2yxSf_mHL28/view?usp=drive_link\")"
   ]
  },
  {
   "cell_type": "code",
   "execution_count": 8,
   "metadata": {},
   "outputs": [
    {
     "name": "stdout",
     "output_type": "stream",
     "text": [
      "Downloading...\n",
      "From (original): https://drive.google.com/uc?id=1g-TxEGbORtHmxVEefoJtk2yxSf_mHL28\n",
      "From (redirected): https://drive.google.com/uc?id=1g-TxEGbORtHmxVEefoJtk2yxSf_mHL28&confirm=t&uuid=98788ac5-cd93-4eba-bc9b-97a69c1064f5\n",
      "To: /scratch_local/arubinstein17-163577/starlight/notebooks/cifar10_resnet18.zip\n",
      "100%|███████████████████████████████████████| 4.37G/4.37G [00:42<00:00, 104MB/s]\n"
     ]
    }
   ],
   "source": [
    "!gdown https://drive.google.com/uc?id=1g-TxEGbORtHmxVEefoJtk2yxSf_mHL28"
   ]
  },
  {
   "cell_type": "code",
   "execution_count": 10,
   "metadata": {},
   "outputs": [
    {
     "name": "stdout",
     "output_type": "stream",
     "text": [
      "Archive:  cifar10_resnet18.zip\n",
      "   creating: ./cifar10_resnet18/\n",
      "   creating: ./cifar10_resnet18/anchors/\n",
      "  inflating: ./cifar10_resnet18/anchors/2oo0upw1.pt  \n",
      "  inflating: ./cifar10_resnet18/anchors/3m2c3guk.pt  \n",
      "  inflating: ./cifar10_resnet18/anchors/448kfne2.pt  \n",
      "  inflating: ./cifar10_resnet18/anchors/52l22gc1.pt  \n",
      "  inflating: ./cifar10_resnet18/anchors/5791j5is.pt  \n",
      "  inflating: ./cifar10_resnet18/anchors/5hrwt8sd.pt  \n",
      "  inflating: ./cifar10_resnet18/anchors/6ids7w54.pt  \n",
      "  inflating: ./cifar10_resnet18/anchors/6kxd228s.pt  \n",
      "  inflating: ./cifar10_resnet18/anchors/7sckybft.pt  \n",
      "  inflating: ./cifar10_resnet18/anchors/7y4wdzel.pt  \n",
      "  inflating: ./cifar10_resnet18/anchors/8wmcs3t5.pt  \n",
      "  inflating: ./cifar10_resnet18/anchors/ahszhrke.pt  \n",
      "  inflating: ./cifar10_resnet18/anchors/atn3ky2k.pt  \n",
      "  inflating: ./cifar10_resnet18/anchors/ce0idfac.pt  \n",
      "  inflating: ./cifar10_resnet18/anchors/e4fr64ya.pt  \n",
      "  inflating: ./cifar10_resnet18/anchors/eq157ykm.pt  \n",
      "  inflating: ./cifar10_resnet18/anchors/ezzf8pzr.pt  \n",
      "  inflating: ./cifar10_resnet18/anchors/f05nvpkk.pt  \n",
      "  inflating: ./cifar10_resnet18/anchors/fkw0sgy5.pt  \n",
      "  inflating: ./cifar10_resnet18/anchors/g3qsov5b.pt  \n",
      "  inflating: ./cifar10_resnet18/anchors/gbydip83.pt  \n",
      "  inflating: ./cifar10_resnet18/anchors/gd0wyvtu.pt  \n",
      "  inflating: ./cifar10_resnet18/anchors/hsk4z5ct.pt  \n",
      "  inflating: ./cifar10_resnet18/anchors/i9xybq30.pt  \n",
      "  inflating: ./cifar10_resnet18/anchors/icpc2wwc.pt  \n",
      "  inflating: ./cifar10_resnet18/anchors/ima01h3w.pt  \n",
      "  inflating: ./cifar10_resnet18/anchors/ixhqaxw7.pt  \n",
      "  inflating: ./cifar10_resnet18/anchors/j33hh4kk.pt  \n",
      "  inflating: ./cifar10_resnet18/anchors/jgwp44bl.pt  \n",
      "  inflating: ./cifar10_resnet18/anchors/jh0k2kwv.pt  \n",
      "  inflating: ./cifar10_resnet18/anchors/jlf1t880.pt  \n",
      "  inflating: ./cifar10_resnet18/anchors/jra1jv67.pt  \n",
      "  inflating: ./cifar10_resnet18/anchors/kgs9amvk.pt  \n",
      "  inflating: ./cifar10_resnet18/anchors/ox2uk04m.pt  \n",
      "  inflating: ./cifar10_resnet18/anchors/p4afk6rk.pt  \n",
      "  inflating: ./cifar10_resnet18/anchors/p4emcgu4.pt  \n",
      "  inflating: ./cifar10_resnet18/anchors/p4fvb7n7.pt  \n",
      "  inflating: ./cifar10_resnet18/anchors/q8i1otj3.pt  \n",
      "  inflating: ./cifar10_resnet18/anchors/qev36hbl.pt  \n",
      "  inflating: ./cifar10_resnet18/anchors/qrw3qvbu.pt  \n",
      "  inflating: ./cifar10_resnet18/anchors/qw35l7g4.pt  \n",
      "  inflating: ./cifar10_resnet18/anchors/rbdhdhru.pt  \n",
      "  inflating: ./cifar10_resnet18/anchors/szgmvbf2.pt  \n",
      "  inflating: ./cifar10_resnet18/anchors/ux53i0ja.pt  \n",
      "  inflating: ./cifar10_resnet18/anchors/v1uf9cme.pt  \n",
      "  inflating: ./cifar10_resnet18/anchors/vo7og34k.pt  \n",
      "  inflating: ./cifar10_resnet18/anchors/vt3he185.pt  \n",
      "  inflating: ./cifar10_resnet18/anchors/vtvbt443.pt  \n",
      "  inflating: ./cifar10_resnet18/anchors/z28eizcb.pt  \n",
      "  inflating: ./cifar10_resnet18/anchors/zagpj9do.pt  \n",
      "   creating: ./cifar10_resnet18/held_out/\n",
      "  inflating: ./cifar10_resnet18/held_out/5bluce0j.pt  \n",
      "  inflating: ./cifar10_resnet18/held_out/j53z28km.pt  \n",
      "  inflating: ./cifar10_resnet18/held_out/soba3yez.pt  \n",
      "  inflating: ./cifar10_resnet18/held_out/t25mz93m.pt  \n",
      "  inflating: ./cifar10_resnet18/held_out/vecgrxkl.pt  \n",
      "   creating: ./cifar10_resnet18/stars/\n",
      "  inflating: ./cifar10_resnet18/stars/0eiwx0xx.pt  \n",
      "  inflating: ./cifar10_resnet18/stars/4s24tjof.pt  \n",
      "  inflating: ./cifar10_resnet18/stars/51y9jsu6.pt  \n",
      "  inflating: ./cifar10_resnet18/stars/52ko7teg.pt  \n",
      "  inflating: ./cifar10_resnet18/stars/5emm5yub.pt  \n",
      "  inflating: ./cifar10_resnet18/stars/5zclde69.pt  \n",
      "  inflating: ./cifar10_resnet18/stars/69kjnr8e.pt  \n",
      "  inflating: ./cifar10_resnet18/stars/6gps5q6c.pt  \n",
      "  inflating: ./cifar10_resnet18/stars/7lvvg6vt.pt  \n",
      "  inflating: ./cifar10_resnet18/stars/82pxe1i8.pt  \n",
      "  inflating: ./cifar10_resnet18/stars/84frwc37.pt  \n",
      "  inflating: ./cifar10_resnet18/stars/8crvzaj1.pt  \n",
      "  inflating: ./cifar10_resnet18/stars/8dirowph.pt  \n",
      "  inflating: ./cifar10_resnet18/stars/8jlh8m2d.pt  \n",
      "  inflating: ./cifar10_resnet18/stars/8l7au5v6.pt  \n",
      "  inflating: ./cifar10_resnet18/stars/8o9awx08.pt  \n",
      "  inflating: ./cifar10_resnet18/stars/9pvinqaq.pt  \n",
      "  inflating: ./cifar10_resnet18/stars/9x4yviaz.pt  \n",
      "  inflating: ./cifar10_resnet18/stars/bezgu0h7.pt  \n",
      "  inflating: ./cifar10_resnet18/stars/by2vpp9d.pt  \n",
      "  inflating: ./cifar10_resnet18/stars/cbk5wpnf.pt  \n",
      "  inflating: ./cifar10_resnet18/stars/cdu3a0jj.pt  \n",
      "  inflating: ./cifar10_resnet18/stars/e35vecib.pt  \n",
      "  inflating: ./cifar10_resnet18/stars/eirtydgk.pt  \n",
      "  inflating: ./cifar10_resnet18/stars/ex2fcs4k.pt  \n",
      "  inflating: ./cifar10_resnet18/stars/gzgzb5q9.pt  \n",
      "  inflating: ./cifar10_resnet18/stars/h2qjwxrq.pt  \n",
      "  inflating: ./cifar10_resnet18/stars/isfg07d8.pt  \n",
      "  inflating: ./cifar10_resnet18/stars/j2inz7uv.pt  \n",
      "  inflating: ./cifar10_resnet18/stars/ld3kvc9z.pt  \n",
      "  inflating: ./cifar10_resnet18/stars/lxaadzad.pt  \n",
      "  inflating: ./cifar10_resnet18/stars/n5sjdrla.pt  \n",
      "  inflating: ./cifar10_resnet18/stars/n8vpmpbj.pt  \n",
      "  inflating: ./cifar10_resnet18/stars/nyolmhfc.pt  \n",
      "  inflating: ./cifar10_resnet18/stars/ovgk6fmw.pt  \n",
      "  inflating: ./cifar10_resnet18/stars/ovq6mpnl.pt  \n",
      "  inflating: ./cifar10_resnet18/stars/p6juczq3.pt  \n",
      "  inflating: ./cifar10_resnet18/stars/p6o2u3b4.pt  \n",
      "  inflating: ./cifar10_resnet18/stars/pajmb0fq.pt  \n",
      "  inflating: ./cifar10_resnet18/stars/r0ispnub.pt  \n",
      "  inflating: ./cifar10_resnet18/stars/rbtifw7r.pt  \n",
      "  inflating: ./cifar10_resnet18/stars/s0gzzdw7.pt  \n",
      "  inflating: ./cifar10_resnet18/stars/ssyfcnh5.pt  \n",
      "  inflating: ./cifar10_resnet18/stars/ue0cyt8u.pt  \n",
      "  inflating: ./cifar10_resnet18/stars/vzwht6g0.pt  \n",
      "  inflating: ./cifar10_resnet18/stars/wrvljast.pt  \n",
      "  inflating: ./cifar10_resnet18/stars/yupmkpsi.pt  \n",
      "  inflating: ./cifar10_resnet18/stars/yw0vl386.pt  \n",
      "  inflating: ./cifar10_resnet18/stars/yyoredii.pt  \n",
      "  inflating: ./cifar10_resnet18/stars/zubysod8.pt  \n"
     ]
    }
   ],
   "source": [
    "# !tar -xzf /scratch_local/arubinstein17-163577/starlight/notebooks/cifar10_resnet18.zip\n",
    "!unzip cifar10_resnet18.zip -d ./"
   ]
  },
  {
   "cell_type": "code",
   "execution_count": null,
   "metadata": {},
   "outputs": [],
   "source": [
    "def compute_margin(model_1, model_2, class_i, class_j, x, norm=\"l1\"):\n",
    "    # d = |f_i(x) - f_j(x)| / |grad_x f_i(x) - grad_x f_j (x)|_1\n",
    "    def process_x(model, class_i, x):\n",
    "        assert x.requires_grad == True\n",
    "        with torch.enable_grad():\n",
    "            output = model(x)[..., class_i]\n",
    "\n",
    "            # grad = torch.autograd.grad(\n",
    "            #     output,\n",
    "            #     x,\n",
    "            #     create_graph=False\n",
    "            # )[0]\n",
    "        output.backward(input=x)\n",
    "        grad = x.grad\n",
    "        x.grad = None\n",
    "        return output, grad\n",
    "\n",
    "    x.requires_grad = True\n",
    "\n",
    "    output_1, grad_1 = process_x(model_1, class_i, x)\n",
    "    output_2, grad_2 = process_x(model_2, class_j, x)\n",
    "\n",
    "    # assert x.grad = None\n",
    "    assert norm == \"l1\"\n",
    "    if norm == \"l1\":\n",
    "        return (\n",
    "                (output_1 - output_2).abs()\n",
    "            /\n",
    "                (grad_1(x) - grad_2(x)).abs().sum()\n",
    "        )\n",
    "    else:\n",
    "        raise NotImplementedError(\"Only L1 norm is supported\")"
   ]
  }
 ],
 "metadata": {
  "kernelspec": {
   "display_name": "Python 3",
   "language": "python",
   "name": "python3"
  },
  "language_info": {
   "codemirror_mode": {
    "name": "ipython",
    "version": 3
   },
   "file_extension": ".py",
   "mimetype": "text/x-python",
   "name": "python",
   "nbconvert_exporter": "python",
   "pygments_lexer": "ipython3",
   "version": "3.9.0"
  }
 },
 "nbformat": 4,
 "nbformat_minor": 2
}
