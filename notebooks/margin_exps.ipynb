{
 "cells": [
  {
   "cell_type": "markdown",
   "metadata": {},
   "source": [
    "# Imports"
   ]
  },
  {
   "cell_type": "code",
   "execution_count": 1,
   "metadata": {},
   "outputs": [
    {
     "data": {
      "text/plain": [
       "'/scratch_local/arubinstein17-163577/starlight'"
      ]
     },
     "execution_count": 1,
     "metadata": {},
     "output_type": "execute_result"
    }
   ],
   "source": [
    "%reload_ext autoreload\n",
    "%autoreload 2\n",
    "%matplotlib inline\n",
    "\n",
    "\n",
    "import os\n",
    "import sys\n",
    "import torch\n",
    "from tqdm import tqdm\n",
    "import pandas as pd\n",
    "import random\n",
    "# import copy\n",
    "# import h5py\n",
    "# import numpy as np\n",
    "# import pandas as pd\n",
    "from IPython.display import display\n",
    "# import random\n",
    "# import matplotlib.ticker as ticker\n",
    "# import matplotlib.pyplot as plt\n",
    "import numpy as np\n",
    "# import itertools\n",
    "# import sklearn\n",
    "\n",
    "\n",
    "# local imports\n",
    "sys.path.insert(\n",
    "    0,\n",
    "    os.path.join(\n",
    "        os.path.dirname(os.path.abspath(''))\n",
    "    )\n",
    ")\n",
    "from dataloaders.cifar10 import (\n",
    "    load_cifar10\n",
    ")\n",
    "from dataloaders.cifar100 import (\n",
    "    load_cifar100\n",
    ")\n",
    "from models import models_dict as MODELS_DICT\n",
    "# models_dict = {\n",
    "#     \"resnet18_cifar\": resnet18_cifar,\n",
    "#     \"resnet18_torch\": torchvision.models.resnet18,\n",
    "#     \"resnet50_torch\": torchvision.models.resnet50,\n",
    "#     \"densenet_cifar\": densenet_cifar\n",
    "# }\n",
    "sys.path.pop(0)\n"
   ]
  },
  {
   "cell_type": "markdown",
   "metadata": {},
   "source": [
    "# Functions"
   ]
  },
  {
   "cell_type": "code",
   "execution_count": 3,
   "metadata": {},
   "outputs": [],
   "source": [
    "\n",
    "def apply_random_seed(random_seed):\n",
    "    random.seed(random_seed)\n",
    "    np.random.seed(random_seed)\n",
    "    torch.manual_seed(random_seed)\n",
    "    torch.cuda.manual_seed(random_seed)\n",
    "    torch.cuda.manual_seed_all(random_seed)\n",
    "    torch.backends.cudnn.benchmark = False\n",
    "    torch.backends.cudnn.deterministic = True\n",
    "    os.environ[\"CUBLAS_WORKSPACE_CONFIG\"] = \":4096:8\"  # to suppress warning\n",
    "    torch.use_deterministic_algorithms(True, warn_only=True)\n",
    "\n",
    "\n",
    "def extract_list_from_huge_string(huge_string):\n",
    "    assert isinstance(huge_string, str)\n",
    "    split = huge_string.split('\\n')\n",
    "    res = []\n",
    "    for el in split:\n",
    "        el = el.strip()\n",
    "        if el != '':\n",
    "            res.append(el)\n",
    "    return res\n",
    "\n",
    "\n",
    "def get_model_id(model_path):\n",
    "    return model_path.split(os.sep)[-1].split(\".\")[0]\n",
    "\n",
    "\n",
    "def get_link(raw_link):\n",
    "    id = raw_link.split(\"/d/\")[-1].split(\"/\")[0]\n",
    "    return f\"https://drive.google.com/uc?id={id}\"\n",
    "\n",
    "\n",
    "def get_model(chkpt_path, model_name, model_settings={}):\n",
    "    model = MODELS_DICT[model_name](**model_settings)\n",
    "    model.load_state_dict(torch.load(chkpt_path)[\"state_dict\"])\n",
    "    return model\n",
    "\n",
    "\n",
    "def get_resnet18_cifar(chkpt_path, num_classes=10):\n",
    "    return get_model(\n",
    "        chkpt_path,\n",
    "        \"resnet18_cifar\",\n",
    "        model_settings={\"num_classes\": num_classes}\n",
    ")\n",
    "\n",
    "\n",
    "def get_resnet18_cifar100(chkpt_path):\n",
    "    return get_resnet18_cifar(chkpt_path, num_classes=100)\n",
    "\n",
    "\n",
    "def get_paths(root_path):\n",
    "    stars_path = os.path.join(root_path, \"stars\")\n",
    "    anchors_path = os.path.join(root_path, \"anchors\")\n",
    "\n",
    "    anchors = [\n",
    "        os.path.join(anchors_path, name) for name in os.listdir(anchors_path)\n",
    "    ]\n",
    "    stars = [\n",
    "        os.path.join(stars_path, name) for name in os.listdir(stars_path)\n",
    "    ]\n",
    "    return anchors, stars\n",
    "\n",
    "\n",
    "@torch.no_grad\n",
    "def compute_margin_for_batch(model, x, device=\"cuda:0\", agg=\"mean\", norm=\"l1\"):\n",
    "\n",
    "    x.requires_grad = True\n",
    "\n",
    "    with torch.enable_grad():\n",
    "        output = model(x)\n",
    "\n",
    "    output = output.to(device)\n",
    "\n",
    "    num_classes = output.shape[-1]\n",
    "    batch_size = output.shape[0]\n",
    "    used_classes = range(num_classes)\n",
    "\n",
    "    model_grads = {}\n",
    "\n",
    "    with torch.enable_grad():\n",
    "        for i, class_i in enumerate(used_classes):\n",
    "            model_grads[class_i] = get_grad(\n",
    "                output[..., class_i],\n",
    "                x,\n",
    "                retain_graph=(i != len(used_classes) - 1)\n",
    "            )\n",
    "\n",
    "        if agg == \"min_to_pred\":\n",
    "            margins_for_all_class_pairs = torch.ones(\n",
    "                batch_size,\n",
    "                num_classes,\n",
    "                num_classes\n",
    "            ).to(output.device) * torch.inf\n",
    "        else:\n",
    "            margins_for_all_class_pairs = torch.zeros(\n",
    "                batch_size,\n",
    "                num_classes,\n",
    "                num_classes\n",
    "            ).to(output.device)\n",
    "\n",
    "        for i in range(len(used_classes)):\n",
    "            for j in range(i + 1, len(used_classes)):\n",
    "\n",
    "                class_i = used_classes[i]\n",
    "                class_j = used_classes[j]\n",
    "\n",
    "                output_i = output[..., class_i]\n",
    "                output_j = output[..., class_j]\n",
    "\n",
    "                grad_i = model_grads[class_i]\n",
    "                grad_j = model_grads[class_j]\n",
    "                batch_margins_for_class_pair = compute_margin(\n",
    "                    output_i,\n",
    "                    output_j,\n",
    "                    grad_i,\n",
    "                    grad_j,\n",
    "                    norm=norm\n",
    "                )\n",
    "\n",
    "                # [batch_size, num_classes, num_classes],\n",
    "                # (s, i, j) - margin between classes i and j for sample s\n",
    "                margins_for_all_class_pairs[:, class_i, class_j] \\\n",
    "                    = batch_margins_for_class_pair\n",
    "                margins_for_all_class_pairs[:, class_j, class_i] \\\n",
    "                    = batch_margins_for_class_pair\n",
    "\n",
    "        if agg == \"min_to_pred\":\n",
    "            pred = output.argmax(dim=-1)\n",
    "\n",
    "            min_distances_for_all_classes = margins_for_all_class_pairs.min(dim=-1).values\n",
    "\n",
    "            min_distances_to_pred = min_distances_for_all_classes[\n",
    "                torch.arange(batch_size).to(pred.device),\n",
    "                pred\n",
    "            ]\n",
    "            return min_distances_to_pred.mean()\n",
    "        elif agg == \"max_first\":\n",
    "            # sanity check that it is higher than min_to_pred\n",
    "            res = margins_for_all_class_pairs.max(dim=-1).values.max(-1).values.mean()\n",
    "            return res\n",
    "        else:\n",
    "            res = margins_for_all_class_pairs.mean(dim=0)\n",
    "            if agg == \"mean\":\n",
    "                # diagonal for class_i == class_j has only zeros,\n",
    "                # so we don't need to use them in mean computation\n",
    "                return res.mean() * (num_classes / (num_classes - 1))\n",
    "            else:\n",
    "                assert agg == \"max\"\n",
    "                return res.max()\n",
    "\n",
    "\n",
    "def get_grad(output_i, x, retain_graph):\n",
    "    assert x.requires_grad == True\n",
    "    differentiable_value = output_i.sum()\n",
    "    differentiable_value.backward(inputs=x, retain_graph=retain_graph)\n",
    "    grad = x.grad\n",
    "    x.grad = None\n",
    "    return grad\n",
    "\n",
    "\n",
    "def compute_margin(output_i, output_j, grad_i, grad_j, norm=\"l1\"):\n",
    "    # eq. 7 here: https://proceedings.neurips.cc/paper_files/paper/2018/file/42998cf32d552343bc8e460416382dca-Paper.pdf\n",
    "    # d = |f_i(x) - f_j(x)| / |grad_x f_i(x) - grad_x f_j (x)|_q\n",
    "    outputs_diff = (output_i - output_j).abs()\n",
    "    grads_diff = (grad_i - grad_j)\n",
    "    if norm == \"l1\":\n",
    "        return (\n",
    "                outputs_diff\n",
    "            /\n",
    "                grads_diff.abs().sum()\n",
    "        )\n",
    "    elif norm == \"l2\":\n",
    "        return (\n",
    "                outputs_diff\n",
    "            /\n",
    "                # grads_diff.abs().pow(2).sum().sqrt()\n",
    "                torch.linalg.vector_norm(grads_diff, ord=2)\n",
    "        )\n",
    "    else:\n",
    "        raise NotImplementedError(\"Only L1 norm is supported\")\n",
    "\n",
    "\n",
    "def margin_on_dataloader(\n",
    "    model,\n",
    "    dataloader,\n",
    "    percent=0.01,\n",
    "    device=\"cuda:0\",\n",
    "    agg=\"mean\",\n",
    "    norm=\"l1\",\n",
    "    random_seed=42\n",
    "):\n",
    "\n",
    "    model.eval()\n",
    "    model.to(device)\n",
    "\n",
    "    dataloader_len = len(dataloader)\n",
    "    if percent == 1:\n",
    "        active_batches = list(range(dataloader_len))\n",
    "    else:\n",
    "        total_batches = int(percent * dataloader_len)\n",
    "        active_batches = np.linspace(0, dataloader_len, total_batches)\n",
    "        active_batches = active_batches.astype(int)\n",
    "\n",
    "    res = []\n",
    "    pb = tqdm(total=dataloader_len, desc='batch', position=0)\n",
    "    apply_random_seed(random_seed)\n",
    "    for i, batch in (enumerate(dataloader)):\n",
    "        pb.update(1)\n",
    "        if i not in active_batches:\n",
    "            continue\n",
    "        x, y = batch\n",
    "        x = x.to(device)\n",
    "        batch_margin = compute_margin_for_batch(\n",
    "            model,\n",
    "            x,\n",
    "            device=device,\n",
    "            agg=agg,\n",
    "            norm=norm\n",
    "        )\n",
    "        res.append(batch_margin)\n",
    "    return torch.Tensor(res).mean().item()\n",
    "\n",
    "\n",
    "def compute_results(\n",
    "    model_paths,\n",
    "    dataloader,\n",
    "    cache_path,\n",
    "    split_name,\n",
    "    percent=1,\n",
    "    load_model=get_resnet18_cifar,\n",
    "    recompute_substring=None,\n",
    "    agg=\"mean\",\n",
    "    norm=\"l1\"\n",
    "):\n",
    "    res = {}\n",
    "    if os.path.exists(cache_path):\n",
    "        print(f\"Loading existing results from {cache_path}\")\n",
    "        res = torch.load(cache_path)\n",
    "    else:\n",
    "        res = {}\n",
    "\n",
    "    dataset_root = dataloader.dataset.dataset.__dict__[\"root\"]\n",
    "    dataset_name = dataset_root.split(os.sep)[-1]\n",
    "    for model_path in model_paths:\n",
    "\n",
    "        path_split = model_path.split(os.sep)[-2:]\n",
    "        assert len(path_split) == 2\n",
    "        model_type = path_split[0]\n",
    "        model_id = path_split[1].split(\".\")[0]\n",
    "        df_id = f\"{model_type}_{model_id}_{dataset_name}_p{percent}\"\n",
    "        to_recompute = (not df_id in res)\n",
    "        if not to_recompute and recompute_substring is not None:\n",
    "            to_recompute = recompute_substring in df_id\n",
    "\n",
    "        if to_recompute:\n",
    "            print(f\"Computing results for {df_id}\")\n",
    "            res[df_id] = {}\n",
    "            res[df_id][\"margin\"] = margin_on_dataloader(\n",
    "                load_model(model_path),\n",
    "                dataloader,\n",
    "                percent=percent,\n",
    "                device=\"cuda:0\",\n",
    "                agg=agg,\n",
    "                norm=norm\n",
    "            )\n",
    "            res[df_id][\"model_type\"] = model_type\n",
    "            res[df_id][\"dataset_name\"] = dataset_name\n",
    "            res[df_id][\"percent\"] = percent\n",
    "            res[df_id][\"model_id\"] = model_id\n",
    "            res[df_id][\"split_name\"] = split_name\n",
    "        else:\n",
    "            print(f\"Reusing results for {df_id}\")\n",
    "    torch.save(res, cache_path)\n",
    "    return res\n",
    "\n",
    "\n",
    "def plot_dict(\n",
    "    res,\n",
    "    to_show=True,\n",
    "    filter_dict={},\n",
    "    drop_columns=[],\n",
    "    group_aggregate_list=[],\n",
    "    query=None\n",
    "):\n",
    "\n",
    "    df = pd.DataFrame.from_dict(res, orient='index')\n",
    "\n",
    "    for column_name, allowed_values in filter_dict.items():\n",
    "        df = df[df[column_name] in allowed_values]\n",
    "\n",
    "    if query is not None:\n",
    "        df = df.query(query)\n",
    "\n",
    "    for column_name in drop_columns:\n",
    "        if column_name == \"index\":\n",
    "            df.reset_index(drop=True, inplace=True)\n",
    "        else:\n",
    "            df = df.drop(column_name, axis=1)\n",
    "\n",
    "    for new_index in group_aggregate_list:\n",
    "        df = df.groupby(new_index).agg([(f'mean', 'mean'), (f'std', 'std')])\n",
    "\n",
    "    if to_show:\n",
    "        display(df)\n",
    "    return df"
   ]
  },
  {
   "cell_type": "markdown",
   "metadata": {},
   "source": [
    "# Prepare cifar100"
   ]
  },
  {
   "cell_type": "code",
   "execution_count": 177,
   "metadata": {},
   "outputs": [
    {
     "data": {
      "text/plain": [
       "'https://drive.google.com/uc?id=1zTH5_YBM9h4AYfeQWhkJyqXW_14xS38B'"
      ]
     },
     "execution_count": 177,
     "metadata": {},
     "output_type": "execute_result"
    }
   ],
   "source": [
    "get_link(\"https://drive.google.com/file/d/1zTH5_YBM9h4AYfeQWhkJyqXW_14xS38B/view?usp=drive_link\")"
   ]
  },
  {
   "cell_type": "code",
   "execution_count": 178,
   "metadata": {},
   "outputs": [
    {
     "name": "stdout",
     "output_type": "stream",
     "text": [
      "Downloading...\n",
      "From (original): https://drive.google.com/uc?id=1zTH5_YBM9h4AYfeQWhkJyqXW_14xS38B\n",
      "From (redirected): https://drive.google.com/uc?id=1zTH5_YBM9h4AYfeQWhkJyqXW_14xS38B&confirm=t&uuid=51724791-d6b0-4e41-9a83-bae8a9e60ecc\n",
      "To: /scratch_local/arubinstein17-163577/starlight/notebooks/cifar100_resnet18.zip\n",
      "100%|██████████████████████████████████████| 4.38G/4.38G [00:57<00:00, 76.1MB/s]\n"
     ]
    }
   ],
   "source": [
    "!gdown https://drive.google.com/uc?id=1zTH5_YBM9h4AYfeQWhkJyqXW_14xS38B"
   ]
  },
  {
   "cell_type": "code",
   "execution_count": 182,
   "metadata": {},
   "outputs": [
    {
     "name": "stdout",
     "output_type": "stream",
     "text": [
      "Archive:  cifar100_resnet18.zip\n",
      "   creating: ./cifar100_resnet18/\n",
      "   creating: ./cifar100_resnet18/anchors/\n",
      "  inflating: ./cifar100_resnet18/anchors/0eqk0gla.pt  \n",
      "  inflating: ./cifar100_resnet18/anchors/384qnuxm.pt  \n",
      "  inflating: ./cifar100_resnet18/anchors/3n8ftowe.pt  \n",
      "  inflating: ./cifar100_resnet18/anchors/4808726s.pt  \n",
      "  inflating: ./cifar100_resnet18/anchors/4rjdi4pa.pt  \n",
      "  inflating: ./cifar100_resnet18/anchors/5bfkmro6.pt  \n",
      "  inflating: ./cifar100_resnet18/anchors/65cr1zyr.pt  \n",
      "  inflating: ./cifar100_resnet18/anchors/6hapim4a.pt  \n",
      "  inflating: ./cifar100_resnet18/anchors/73s47o0m.pt  \n",
      "  inflating: ./cifar100_resnet18/anchors/75eeo9bw.pt  \n",
      "  inflating: ./cifar100_resnet18/anchors/7wgab2a1.pt  \n",
      "  inflating: ./cifar100_resnet18/anchors/82yrfx4p.pt  \n",
      "  inflating: ./cifar100_resnet18/anchors/85izljav.pt  \n",
      "  inflating: ./cifar100_resnet18/anchors/8pppxxoh.pt  \n",
      "  inflating: ./cifar100_resnet18/anchors/9ansq593.pt  \n",
      "  inflating: ./cifar100_resnet18/anchors/9lzove03.pt  \n",
      "  inflating: ./cifar100_resnet18/anchors/9re9ls52.pt  \n",
      "  inflating: ./cifar100_resnet18/anchors/b8edhde7.pt  \n",
      "  inflating: ./cifar100_resnet18/anchors/br07xk8k.pt  \n",
      "  inflating: ./cifar100_resnet18/anchors/dvwez9x0.pt  \n",
      "  inflating: ./cifar100_resnet18/anchors/eiy3zm52.pt  \n",
      "  inflating: ./cifar100_resnet18/anchors/erl5jo46.pt  \n",
      "  inflating: ./cifar100_resnet18/anchors/esyfmqwh.pt  \n",
      "  inflating: ./cifar100_resnet18/anchors/hy5ha0xa.pt  \n",
      "  inflating: ./cifar100_resnet18/anchors/i0elfh2k.pt  \n",
      "  inflating: ./cifar100_resnet18/anchors/k6mlympe.pt  \n",
      "  inflating: ./cifar100_resnet18/anchors/m8i4h50d.pt  \n",
      "  inflating: ./cifar100_resnet18/anchors/my5cprnt.pt  \n",
      "  inflating: ./cifar100_resnet18/anchors/n35vnizu.pt  \n",
      "  inflating: ./cifar100_resnet18/anchors/n7oxm1xb.pt  \n",
      "  inflating: ./cifar100_resnet18/anchors/nkg68phw.pt  \n",
      "  inflating: ./cifar100_resnet18/anchors/nuumgejz.pt  \n",
      "  inflating: ./cifar100_resnet18/anchors/o2oyi2nf.pt  \n",
      "  inflating: ./cifar100_resnet18/anchors/oox16zjn.pt  \n",
      "  inflating: ./cifar100_resnet18/anchors/ov6x1lqj.pt  \n",
      "  inflating: ./cifar100_resnet18/anchors/pe310882.pt  \n",
      "  inflating: ./cifar100_resnet18/anchors/q2gllnjv.pt  \n",
      "  inflating: ./cifar100_resnet18/anchors/r2o7x5i1.pt  \n",
      "  inflating: ./cifar100_resnet18/anchors/rh9yri3q.pt  \n",
      "  inflating: ./cifar100_resnet18/anchors/snvoiwk8.pt  \n",
      "  inflating: ./cifar100_resnet18/anchors/tkidvkts.pt  \n",
      "  inflating: ./cifar100_resnet18/anchors/ujlp84sv.pt  \n",
      "  inflating: ./cifar100_resnet18/anchors/uy9nifms.pt  \n",
      "  inflating: ./cifar100_resnet18/anchors/vkizt9fw.pt  \n",
      "  inflating: ./cifar100_resnet18/anchors/vxjpcom6.pt  \n",
      "  inflating: ./cifar100_resnet18/anchors/w5f9zlyz.pt  \n",
      "  inflating: ./cifar100_resnet18/anchors/xgiriafc.pt  \n",
      "  inflating: ./cifar100_resnet18/anchors/xin4qq61.pt  \n",
      "  inflating: ./cifar100_resnet18/anchors/yitudn1n.pt  \n",
      "  inflating: ./cifar100_resnet18/anchors/yym0yakn.pt  \n",
      "   creating: ./cifar100_resnet18/held_out/\n",
      "  inflating: ./cifar100_resnet18/held_out/5ybrap81.pt  \n",
      "  inflating: ./cifar100_resnet18/held_out/deeyhj64.pt  \n",
      "  inflating: ./cifar100_resnet18/held_out/iz5dbedn.pt  \n",
      "  inflating: ./cifar100_resnet18/held_out/lu136w7y.pt  \n",
      "  inflating: ./cifar100_resnet18/held_out/pfb5z421.pt  \n",
      "   creating: ./cifar100_resnet18/stars/\n",
      "  inflating: ./cifar100_resnet18/stars/01fj1cav.pt  \n",
      "  inflating: ./cifar100_resnet18/stars/212q5op8.pt  \n",
      "  inflating: ./cifar100_resnet18/stars/2umwboaq.pt  \n",
      "  inflating: ./cifar100_resnet18/stars/4g7iow4i.pt  \n",
      "  inflating: ./cifar100_resnet18/stars/4ka33yun.pt  \n",
      "  inflating: ./cifar100_resnet18/stars/4mpboz6f.pt  \n",
      "  inflating: ./cifar100_resnet18/stars/5dbhkw8n.pt  \n",
      "  inflating: ./cifar100_resnet18/stars/5fvuoo9o.pt  \n",
      "  inflating: ./cifar100_resnet18/stars/62vupcxw.pt  \n",
      "  inflating: ./cifar100_resnet18/stars/8ohvns2x.pt  \n",
      "  inflating: ./cifar100_resnet18/stars/9wbxgj27.pt  \n",
      "  inflating: ./cifar100_resnet18/stars/asjzt0xi.pt  \n",
      "  inflating: ./cifar100_resnet18/stars/c1inahy6.pt  \n",
      "  inflating: ./cifar100_resnet18/stars/co2azwwu.pt  \n",
      "  inflating: ./cifar100_resnet18/stars/dae3lsxe.pt  \n",
      "  inflating: ./cifar100_resnet18/stars/dlheymzg.pt  \n",
      "  inflating: ./cifar100_resnet18/stars/f0bx9406.pt  \n",
      "  inflating: ./cifar100_resnet18/stars/f7om0hjv.pt  \n",
      "  inflating: ./cifar100_resnet18/stars/flplzcv0.pt  \n",
      "  inflating: ./cifar100_resnet18/stars/fxo5dvzl.pt  \n",
      "  inflating: ./cifar100_resnet18/stars/g33gez6l.pt  \n",
      "  inflating: ./cifar100_resnet18/stars/gubc215d.pt  \n",
      "  inflating: ./cifar100_resnet18/stars/htkden3t.pt  \n",
      "  inflating: ./cifar100_resnet18/stars/ifdm9ivb.pt  \n",
      "  inflating: ./cifar100_resnet18/stars/igx4038c.pt  \n",
      "  inflating: ./cifar100_resnet18/stars/jb319hd6.pt  \n",
      "  inflating: ./cifar100_resnet18/stars/jb9n9mfr.pt  \n",
      "  inflating: ./cifar100_resnet18/stars/jq5wq4dp.pt  \n",
      "  inflating: ./cifar100_resnet18/stars/k18od5rh.pt  \n",
      "  inflating: ./cifar100_resnet18/stars/lgd1aief.pt  \n",
      "  inflating: ./cifar100_resnet18/stars/ly0u9r9m.pt  \n",
      "  inflating: ./cifar100_resnet18/stars/mgcabk97.pt  \n",
      "  inflating: ./cifar100_resnet18/stars/n1fhedyf.pt  \n",
      "  inflating: ./cifar100_resnet18/stars/odzwjvjg.pt  \n",
      "  inflating: ./cifar100_resnet18/stars/oj7wbagz.pt  \n",
      "  inflating: ./cifar100_resnet18/stars/pjdaet20.pt  \n",
      "  inflating: ./cifar100_resnet18/stars/pmckxm16.pt  \n",
      "  inflating: ./cifar100_resnet18/stars/qap7gxl1.pt  \n",
      "  inflating: ./cifar100_resnet18/stars/qohmwx0f.pt  \n",
      "  inflating: ./cifar100_resnet18/stars/rylbd95p.pt  \n",
      "  inflating: ./cifar100_resnet18/stars/s4kgdrmw.pt  \n",
      "  inflating: ./cifar100_resnet18/stars/sq6rjqfp.pt  \n",
      "  inflating: ./cifar100_resnet18/stars/swhl6q8t.pt  \n",
      "  inflating: ./cifar100_resnet18/stars/t200saru.pt  \n",
      "  inflating: ./cifar100_resnet18/stars/tautonsr.pt  \n",
      "  inflating: ./cifar100_resnet18/stars/wa8x6rt9.pt  \n",
      "  inflating: ./cifar100_resnet18/stars/wjius2n1.pt  \n",
      "  inflating: ./cifar100_resnet18/stars/xepnvp6t.pt  \n",
      "  inflating: ./cifar100_resnet18/stars/yvi97vmj.pt  \n",
      "  inflating: ./cifar100_resnet18/stars/zcgviume.pt  \n"
     ]
    }
   ],
   "source": [
    "!unzip cifar100_resnet18.zip -d ./"
   ]
  },
  {
   "cell_type": "code",
   "execution_count": 4,
   "metadata": {},
   "outputs": [],
   "source": [
    "last_10_stars_cifar100_resnet18_names = extract_list_from_huge_string(\n",
    "    \"\"\"212q5op8\n",
    "ly0u9r9m\n",
    "t200saru\n",
    "zcgviume\n",
    "mgcabk97\n",
    "2umwboaq\n",
    "wa8x6rt9\n",
    "yvi97vmj\n",
    "lgd1aief\n",
    "rylbd95p\"\"\"\n",
    ")"
   ]
  },
  {
   "cell_type": "code",
   "execution_count": 5,
   "metadata": {},
   "outputs": [
    {
     "name": "stdout",
     "output_type": "stream",
     "text": [
      "Files already downloaded and verified\n",
      "Files already downloaded and verified\n",
      "Files already downloaded and verified\n",
      "Using 45000 images for training\n",
      "Using 5000 images for validation\n",
      "Using train transform Compose(\n",
      "    IdentityTransform()\n",
      "    ToTensor()\n",
      "    Normalize(mean=[0.485 0.456 0.406], std=[0.229 0.224 0.225])\n",
      ")\n"
     ]
    }
   ],
   "source": [
    "anchors_cifar100_resnet18, stars_cifar100_resnet18 = get_paths(\"./cifar100_resnet18/\")\n",
    "\n",
    "cifar100_train_dataloader, _, _ = load_cifar100(\n",
    "    batch_size=256,\n",
    "    num_workers=8,\n",
    "    img_size=32,\n",
    "    normalize=True,\n",
    "    resize=False,\n",
    "    horizontal_flip=False,\n",
    "    vertical_flip=False,\n",
    "    random_crop_resize=False,\n",
    "    random_resize_crop=False,\n",
    "    color_jitter=False,\n",
    "    rotation_range=0,\n",
    "    pad_random_crop=False,\n",
    "    random_one_aug=False,\n",
    "    train_set_fraction=1.0,\n",
    "    return_ds=False,\n",
    ")"
   ]
  },
  {
   "cell_type": "markdown",
   "metadata": {},
   "source": [
    "# Prepare cifar10"
   ]
  },
  {
   "cell_type": "code",
   "execution_count": null,
   "metadata": {},
   "outputs": [],
   "source": [
    "get_link(\"https://drive.google.com/file/d/1g-TxEGbORtHmxVEefoJtk2yxSf_mHL28/view?usp=drive_link\")"
   ]
  },
  {
   "cell_type": "code",
   "execution_count": null,
   "metadata": {},
   "outputs": [],
   "source": [
    "!gdown https://drive.google.com/uc?id=1g-TxEGbORtHmxVEefoJtk2yxSf_mHL28"
   ]
  },
  {
   "cell_type": "code",
   "execution_count": null,
   "metadata": {},
   "outputs": [],
   "source": [
    "!unzip cifar10_resnet18.zip -d ./"
   ]
  },
  {
   "cell_type": "code",
   "execution_count": 4,
   "metadata": {},
   "outputs": [],
   "source": [
    "last_10_stars = extract_list_from_huge_string(\"\"\"8dirowph\n",
    "wrvljast\n",
    "nyolmhfc\n",
    "82pxe1i8\n",
    "n8vpmpbj\n",
    "h2qjwxrq\n",
    "n5sjdrla\n",
    "6gps5q6c\n",
    "bezgu0h7\n",
    "by2vpp9d\"\"\")"
   ]
  },
  {
   "cell_type": "code",
   "execution_count": 5,
   "metadata": {},
   "outputs": [
    {
     "name": "stdout",
     "output_type": "stream",
     "text": [
      "Files already downloaded and verified\n",
      "Files already downloaded and verified\n",
      "Files already downloaded and verified\n",
      "Using 45000 images for training\n",
      "Using 5000 images for validation\n",
      "Using train transform Compose(\n",
      "    IdentityTransform()\n",
      "    ToTensor()\n",
      "    Normalize(mean=[0.485 0.456 0.406], std=[0.229 0.224 0.225])\n",
      ")\n"
     ]
    }
   ],
   "source": [
    "anchors_resnet18, stars_resnet18 = get_paths(\"./cifar10_resnet18/\")\n",
    "\n",
    "# stars_resnet18 = [path for path in stars_resnet18 if get_model_id(path) in last_10_stars]\n",
    "\n",
    "cifar10_train_dataloader, _, _ = load_cifar10(\n",
    "    batch_size=256,\n",
    "    num_workers=8,\n",
    "    img_size=32,\n",
    "    normalize=True,\n",
    "    resize=False,\n",
    "    horizontal_flip=False,\n",
    "    vertical_flip=False,\n",
    "    random_crop_resize=False,\n",
    "    random_resize_crop=False,\n",
    "    color_jitter=False,\n",
    "    rotation_range=0,\n",
    "    pad_random_crop=False,\n",
    "    random_one_aug=False,\n",
    "    train_set_fraction=1.0,\n",
    "    return_ds=False,\n",
    ")"
   ]
  },
  {
   "cell_type": "markdown",
   "metadata": {},
   "source": [
    "# Compute margin"
   ]
  },
  {
   "cell_type": "markdown",
   "metadata": {},
   "source": [
    "## Resnet18 Cifar100"
   ]
  },
  {
   "cell_type": "markdown",
   "metadata": {},
   "source": [
    "### L2 + min to pred"
   ]
  },
  {
   "cell_type": "code",
   "execution_count": 6,
   "metadata": {},
   "outputs": [
    {
     "name": "stdout",
     "output_type": "stream",
     "text": [
      "Computing results for anchors_0eqk0gla_cifar100_p0.1\n"
     ]
    },
    {
     "name": "stderr",
     "output_type": "stream",
     "text": [
      "batch: 100%|██████████| 176/176 [01:29<00:00,  1.96it/s]\n"
     ]
    },
    {
     "name": "stdout",
     "output_type": "stream",
     "text": [
      "Computing results for anchors_384qnuxm_cifar100_p0.1\n"
     ]
    },
    {
     "name": "stderr",
     "output_type": "stream",
     "text": [
      "batch: 100%|██████████| 176/176 [01:30<00:00,  1.95it/s]\n"
     ]
    },
    {
     "name": "stdout",
     "output_type": "stream",
     "text": [
      "Computing results for anchors_3n8ftowe_cifar100_p0.1\n"
     ]
    },
    {
     "name": "stderr",
     "output_type": "stream",
     "text": [
      "batch: 100%|██████████| 176/176 [01:30<00:00,  1.95it/s]\n"
     ]
    },
    {
     "name": "stdout",
     "output_type": "stream",
     "text": [
      "Computing results for anchors_4808726s_cifar100_p0.1\n"
     ]
    },
    {
     "name": "stderr",
     "output_type": "stream",
     "text": [
      "batch: 100%|██████████| 176/176 [01:30<00:00,  1.95it/s]\n"
     ]
    },
    {
     "name": "stdout",
     "output_type": "stream",
     "text": [
      "Computing results for anchors_4rjdi4pa_cifar100_p0.1\n"
     ]
    },
    {
     "name": "stderr",
     "output_type": "stream",
     "text": [
      "batch: 100%|██████████| 176/176 [01:30<00:00,  1.95it/s]\n"
     ]
    },
    {
     "name": "stdout",
     "output_type": "stream",
     "text": [
      "Computing results for anchors_5bfkmro6_cifar100_p0.1\n"
     ]
    },
    {
     "name": "stderr",
     "output_type": "stream",
     "text": [
      "batch: 100%|██████████| 176/176 [01:30<00:00,  1.95it/s]\n"
     ]
    },
    {
     "name": "stdout",
     "output_type": "stream",
     "text": [
      "Computing results for anchors_65cr1zyr_cifar100_p0.1\n"
     ]
    },
    {
     "name": "stderr",
     "output_type": "stream",
     "text": [
      "batch: 100%|██████████| 176/176 [01:30<00:00,  1.95it/s]\n"
     ]
    },
    {
     "name": "stdout",
     "output_type": "stream",
     "text": [
      "Computing results for anchors_6hapim4a_cifar100_p0.1\n"
     ]
    },
    {
     "name": "stderr",
     "output_type": "stream",
     "text": [
      "batch: 100%|██████████| 176/176 [01:30<00:00,  1.95it/s]\n"
     ]
    },
    {
     "name": "stdout",
     "output_type": "stream",
     "text": [
      "Computing results for anchors_73s47o0m_cifar100_p0.1\n"
     ]
    },
    {
     "name": "stderr",
     "output_type": "stream",
     "text": [
      "batch: 100%|██████████| 176/176 [01:30<00:00,  1.95it/s]\n"
     ]
    },
    {
     "name": "stdout",
     "output_type": "stream",
     "text": [
      "Computing results for anchors_75eeo9bw_cifar100_p0.1\n"
     ]
    },
    {
     "name": "stderr",
     "output_type": "stream",
     "text": [
      "batch: 100%|██████████| 176/176 [01:30<00:00,  1.95it/s]\n"
     ]
    },
    {
     "name": "stdout",
     "output_type": "stream",
     "text": [
      "Computing results for stars_212q5op8_cifar100_p0.1\n"
     ]
    },
    {
     "name": "stderr",
     "output_type": "stream",
     "text": [
      "batch: 100%|██████████| 176/176 [01:36<00:00,  1.83it/s]\n"
     ]
    },
    {
     "name": "stdout",
     "output_type": "stream",
     "text": [
      "Computing results for stars_2umwboaq_cifar100_p0.1\n"
     ]
    },
    {
     "name": "stderr",
     "output_type": "stream",
     "text": [
      "batch: 100%|██████████| 176/176 [01:30<00:00,  1.95it/s]\n"
     ]
    },
    {
     "name": "stdout",
     "output_type": "stream",
     "text": [
      "Computing results for stars_lgd1aief_cifar100_p0.1\n"
     ]
    },
    {
     "name": "stderr",
     "output_type": "stream",
     "text": [
      "batch: 100%|██████████| 176/176 [01:30<00:00,  1.94it/s]\n"
     ]
    },
    {
     "name": "stdout",
     "output_type": "stream",
     "text": [
      "Computing results for stars_ly0u9r9m_cifar100_p0.1\n"
     ]
    },
    {
     "name": "stderr",
     "output_type": "stream",
     "text": [
      "batch: 100%|██████████| 176/176 [01:30<00:00,  1.95it/s]\n"
     ]
    },
    {
     "name": "stdout",
     "output_type": "stream",
     "text": [
      "Computing results for stars_mgcabk97_cifar100_p0.1\n"
     ]
    },
    {
     "name": "stderr",
     "output_type": "stream",
     "text": [
      "batch: 100%|██████████| 176/176 [01:30<00:00,  1.94it/s]\n"
     ]
    },
    {
     "name": "stdout",
     "output_type": "stream",
     "text": [
      "Computing results for stars_rylbd95p_cifar100_p0.1\n"
     ]
    },
    {
     "name": "stderr",
     "output_type": "stream",
     "text": [
      "batch: 100%|██████████| 176/176 [01:30<00:00,  1.95it/s]\n"
     ]
    },
    {
     "name": "stdout",
     "output_type": "stream",
     "text": [
      "Computing results for stars_t200saru_cifar100_p0.1\n"
     ]
    },
    {
     "name": "stderr",
     "output_type": "stream",
     "text": [
      "batch: 100%|██████████| 176/176 [01:30<00:00,  1.95it/s]\n"
     ]
    },
    {
     "name": "stdout",
     "output_type": "stream",
     "text": [
      "Computing results for stars_wa8x6rt9_cifar100_p0.1\n"
     ]
    },
    {
     "name": "stderr",
     "output_type": "stream",
     "text": [
      "batch: 100%|██████████| 176/176 [01:30<00:00,  1.95it/s]\n"
     ]
    },
    {
     "name": "stdout",
     "output_type": "stream",
     "text": [
      "Computing results for stars_yvi97vmj_cifar100_p0.1\n"
     ]
    },
    {
     "name": "stderr",
     "output_type": "stream",
     "text": [
      "batch: 100%|██████████| 176/176 [01:30<00:00,  1.95it/s]\n"
     ]
    },
    {
     "name": "stdout",
     "output_type": "stream",
     "text": [
      "Computing results for stars_zcgviume_cifar100_p0.1\n"
     ]
    },
    {
     "name": "stderr",
     "output_type": "stream",
     "text": [
      "batch: 100%|██████████| 176/176 [01:30<00:00,  1.95it/s]\n"
     ]
    }
   ],
   "source": [
    "cifar100_resnet18_res_path = \"./min2pred_l2_cifar100_resnet18_results.pt\"\n",
    "\n",
    "last_10_stars_cifar100_resnet18 = [\n",
    "    path for path in stars_cifar100_resnet18 if get_model_id(path) in last_10_stars_cifar100_resnet18_names\n",
    "]\n",
    "\n",
    "max_cifar100_resnet18_results = compute_results(\n",
    "    anchors_cifar100_resnet18[:10] + last_10_stars_cifar100_resnet18,\n",
    "    cifar100_train_dataloader,\n",
    "    cifar100_resnet18_res_path,\n",
    "    split_name=\"train\",\n",
    "    percent=0.1,\n",
    "    load_model=get_resnet18_cifar100,\n",
    "    # recompute_substring=\"p0\"\n",
    "    recompute_substring=None,\n",
    "    agg=\"min_to_pred\",\n",
    "    norm=\"l2\"\n",
    ")"
   ]
  },
  {
   "cell_type": "code",
   "execution_count": 8,
   "metadata": {},
   "outputs": [
    {
     "data": {
      "text/html": [
       "<div>\n",
       "<style scoped>\n",
       "    .dataframe tbody tr th:only-of-type {\n",
       "        vertical-align: middle;\n",
       "    }\n",
       "\n",
       "    .dataframe tbody tr th {\n",
       "        vertical-align: top;\n",
       "    }\n",
       "\n",
       "    .dataframe thead th {\n",
       "        text-align: right;\n",
       "    }\n",
       "</style>\n",
       "<table border=\"1\" class=\"dataframe\">\n",
       "  <thead>\n",
       "    <tr style=\"text-align: right;\">\n",
       "      <th></th>\n",
       "      <th>margin</th>\n",
       "      <th>model_type</th>\n",
       "      <th>dataset_name</th>\n",
       "      <th>percent</th>\n",
       "      <th>model_id</th>\n",
       "      <th>split_name</th>\n",
       "    </tr>\n",
       "  </thead>\n",
       "  <tbody>\n",
       "    <tr>\n",
       "      <th>anchors_0eqk0gla_cifar100_p0.1</th>\n",
       "      <td>0.104104</td>\n",
       "      <td>anchors</td>\n",
       "      <td>cifar100</td>\n",
       "      <td>0.1</td>\n",
       "      <td>0eqk0gla</td>\n",
       "      <td>train</td>\n",
       "    </tr>\n",
       "    <tr>\n",
       "      <th>anchors_384qnuxm_cifar100_p0.1</th>\n",
       "      <td>0.107184</td>\n",
       "      <td>anchors</td>\n",
       "      <td>cifar100</td>\n",
       "      <td>0.1</td>\n",
       "      <td>384qnuxm</td>\n",
       "      <td>train</td>\n",
       "    </tr>\n",
       "    <tr>\n",
       "      <th>anchors_3n8ftowe_cifar100_p0.1</th>\n",
       "      <td>0.100297</td>\n",
       "      <td>anchors</td>\n",
       "      <td>cifar100</td>\n",
       "      <td>0.1</td>\n",
       "      <td>3n8ftowe</td>\n",
       "      <td>train</td>\n",
       "    </tr>\n",
       "    <tr>\n",
       "      <th>anchors_4808726s_cifar100_p0.1</th>\n",
       "      <td>0.106649</td>\n",
       "      <td>anchors</td>\n",
       "      <td>cifar100</td>\n",
       "      <td>0.1</td>\n",
       "      <td>4808726s</td>\n",
       "      <td>train</td>\n",
       "    </tr>\n",
       "    <tr>\n",
       "      <th>anchors_4rjdi4pa_cifar100_p0.1</th>\n",
       "      <td>0.101742</td>\n",
       "      <td>anchors</td>\n",
       "      <td>cifar100</td>\n",
       "      <td>0.1</td>\n",
       "      <td>4rjdi4pa</td>\n",
       "      <td>train</td>\n",
       "    </tr>\n",
       "    <tr>\n",
       "      <th>anchors_5bfkmro6_cifar100_p0.1</th>\n",
       "      <td>0.101090</td>\n",
       "      <td>anchors</td>\n",
       "      <td>cifar100</td>\n",
       "      <td>0.1</td>\n",
       "      <td>5bfkmro6</td>\n",
       "      <td>train</td>\n",
       "    </tr>\n",
       "    <tr>\n",
       "      <th>anchors_65cr1zyr_cifar100_p0.1</th>\n",
       "      <td>0.099083</td>\n",
       "      <td>anchors</td>\n",
       "      <td>cifar100</td>\n",
       "      <td>0.1</td>\n",
       "      <td>65cr1zyr</td>\n",
       "      <td>train</td>\n",
       "    </tr>\n",
       "    <tr>\n",
       "      <th>anchors_6hapim4a_cifar100_p0.1</th>\n",
       "      <td>0.103731</td>\n",
       "      <td>anchors</td>\n",
       "      <td>cifar100</td>\n",
       "      <td>0.1</td>\n",
       "      <td>6hapim4a</td>\n",
       "      <td>train</td>\n",
       "    </tr>\n",
       "    <tr>\n",
       "      <th>anchors_73s47o0m_cifar100_p0.1</th>\n",
       "      <td>0.098944</td>\n",
       "      <td>anchors</td>\n",
       "      <td>cifar100</td>\n",
       "      <td>0.1</td>\n",
       "      <td>73s47o0m</td>\n",
       "      <td>train</td>\n",
       "    </tr>\n",
       "    <tr>\n",
       "      <th>anchors_75eeo9bw_cifar100_p0.1</th>\n",
       "      <td>0.102124</td>\n",
       "      <td>anchors</td>\n",
       "      <td>cifar100</td>\n",
       "      <td>0.1</td>\n",
       "      <td>75eeo9bw</td>\n",
       "      <td>train</td>\n",
       "    </tr>\n",
       "    <tr>\n",
       "      <th>stars_212q5op8_cifar100_p0.1</th>\n",
       "      <td>0.066593</td>\n",
       "      <td>stars</td>\n",
       "      <td>cifar100</td>\n",
       "      <td>0.1</td>\n",
       "      <td>212q5op8</td>\n",
       "      <td>train</td>\n",
       "    </tr>\n",
       "    <tr>\n",
       "      <th>stars_2umwboaq_cifar100_p0.1</th>\n",
       "      <td>0.067317</td>\n",
       "      <td>stars</td>\n",
       "      <td>cifar100</td>\n",
       "      <td>0.1</td>\n",
       "      <td>2umwboaq</td>\n",
       "      <td>train</td>\n",
       "    </tr>\n",
       "    <tr>\n",
       "      <th>stars_lgd1aief_cifar100_p0.1</th>\n",
       "      <td>0.067419</td>\n",
       "      <td>stars</td>\n",
       "      <td>cifar100</td>\n",
       "      <td>0.1</td>\n",
       "      <td>lgd1aief</td>\n",
       "      <td>train</td>\n",
       "    </tr>\n",
       "    <tr>\n",
       "      <th>stars_ly0u9r9m_cifar100_p0.1</th>\n",
       "      <td>0.066342</td>\n",
       "      <td>stars</td>\n",
       "      <td>cifar100</td>\n",
       "      <td>0.1</td>\n",
       "      <td>ly0u9r9m</td>\n",
       "      <td>train</td>\n",
       "    </tr>\n",
       "    <tr>\n",
       "      <th>stars_mgcabk97_cifar100_p0.1</th>\n",
       "      <td>0.067288</td>\n",
       "      <td>stars</td>\n",
       "      <td>cifar100</td>\n",
       "      <td>0.1</td>\n",
       "      <td>mgcabk97</td>\n",
       "      <td>train</td>\n",
       "    </tr>\n",
       "    <tr>\n",
       "      <th>stars_rylbd95p_cifar100_p0.1</th>\n",
       "      <td>0.066606</td>\n",
       "      <td>stars</td>\n",
       "      <td>cifar100</td>\n",
       "      <td>0.1</td>\n",
       "      <td>rylbd95p</td>\n",
       "      <td>train</td>\n",
       "    </tr>\n",
       "    <tr>\n",
       "      <th>stars_t200saru_cifar100_p0.1</th>\n",
       "      <td>0.066501</td>\n",
       "      <td>stars</td>\n",
       "      <td>cifar100</td>\n",
       "      <td>0.1</td>\n",
       "      <td>t200saru</td>\n",
       "      <td>train</td>\n",
       "    </tr>\n",
       "    <tr>\n",
       "      <th>stars_wa8x6rt9_cifar100_p0.1</th>\n",
       "      <td>0.065690</td>\n",
       "      <td>stars</td>\n",
       "      <td>cifar100</td>\n",
       "      <td>0.1</td>\n",
       "      <td>wa8x6rt9</td>\n",
       "      <td>train</td>\n",
       "    </tr>\n",
       "    <tr>\n",
       "      <th>stars_yvi97vmj_cifar100_p0.1</th>\n",
       "      <td>0.065679</td>\n",
       "      <td>stars</td>\n",
       "      <td>cifar100</td>\n",
       "      <td>0.1</td>\n",
       "      <td>yvi97vmj</td>\n",
       "      <td>train</td>\n",
       "    </tr>\n",
       "    <tr>\n",
       "      <th>stars_zcgviume_cifar100_p0.1</th>\n",
       "      <td>0.067168</td>\n",
       "      <td>stars</td>\n",
       "      <td>cifar100</td>\n",
       "      <td>0.1</td>\n",
       "      <td>zcgviume</td>\n",
       "      <td>train</td>\n",
       "    </tr>\n",
       "  </tbody>\n",
       "</table>\n",
       "</div>"
      ],
      "text/plain": [
       "                                  margin model_type dataset_name  percent  \\\n",
       "anchors_0eqk0gla_cifar100_p0.1  0.104104    anchors     cifar100      0.1   \n",
       "anchors_384qnuxm_cifar100_p0.1  0.107184    anchors     cifar100      0.1   \n",
       "anchors_3n8ftowe_cifar100_p0.1  0.100297    anchors     cifar100      0.1   \n",
       "anchors_4808726s_cifar100_p0.1  0.106649    anchors     cifar100      0.1   \n",
       "anchors_4rjdi4pa_cifar100_p0.1  0.101742    anchors     cifar100      0.1   \n",
       "anchors_5bfkmro6_cifar100_p0.1  0.101090    anchors     cifar100      0.1   \n",
       "anchors_65cr1zyr_cifar100_p0.1  0.099083    anchors     cifar100      0.1   \n",
       "anchors_6hapim4a_cifar100_p0.1  0.103731    anchors     cifar100      0.1   \n",
       "anchors_73s47o0m_cifar100_p0.1  0.098944    anchors     cifar100      0.1   \n",
       "anchors_75eeo9bw_cifar100_p0.1  0.102124    anchors     cifar100      0.1   \n",
       "stars_212q5op8_cifar100_p0.1    0.066593      stars     cifar100      0.1   \n",
       "stars_2umwboaq_cifar100_p0.1    0.067317      stars     cifar100      0.1   \n",
       "stars_lgd1aief_cifar100_p0.1    0.067419      stars     cifar100      0.1   \n",
       "stars_ly0u9r9m_cifar100_p0.1    0.066342      stars     cifar100      0.1   \n",
       "stars_mgcabk97_cifar100_p0.1    0.067288      stars     cifar100      0.1   \n",
       "stars_rylbd95p_cifar100_p0.1    0.066606      stars     cifar100      0.1   \n",
       "stars_t200saru_cifar100_p0.1    0.066501      stars     cifar100      0.1   \n",
       "stars_wa8x6rt9_cifar100_p0.1    0.065690      stars     cifar100      0.1   \n",
       "stars_yvi97vmj_cifar100_p0.1    0.065679      stars     cifar100      0.1   \n",
       "stars_zcgviume_cifar100_p0.1    0.067168      stars     cifar100      0.1   \n",
       "\n",
       "                                model_id split_name  \n",
       "anchors_0eqk0gla_cifar100_p0.1  0eqk0gla      train  \n",
       "anchors_384qnuxm_cifar100_p0.1  384qnuxm      train  \n",
       "anchors_3n8ftowe_cifar100_p0.1  3n8ftowe      train  \n",
       "anchors_4808726s_cifar100_p0.1  4808726s      train  \n",
       "anchors_4rjdi4pa_cifar100_p0.1  4rjdi4pa      train  \n",
       "anchors_5bfkmro6_cifar100_p0.1  5bfkmro6      train  \n",
       "anchors_65cr1zyr_cifar100_p0.1  65cr1zyr      train  \n",
       "anchors_6hapim4a_cifar100_p0.1  6hapim4a      train  \n",
       "anchors_73s47o0m_cifar100_p0.1  73s47o0m      train  \n",
       "anchors_75eeo9bw_cifar100_p0.1  75eeo9bw      train  \n",
       "stars_212q5op8_cifar100_p0.1    212q5op8      train  \n",
       "stars_2umwboaq_cifar100_p0.1    2umwboaq      train  \n",
       "stars_lgd1aief_cifar100_p0.1    lgd1aief      train  \n",
       "stars_ly0u9r9m_cifar100_p0.1    ly0u9r9m      train  \n",
       "stars_mgcabk97_cifar100_p0.1    mgcabk97      train  \n",
       "stars_rylbd95p_cifar100_p0.1    rylbd95p      train  \n",
       "stars_t200saru_cifar100_p0.1    t200saru      train  \n",
       "stars_wa8x6rt9_cifar100_p0.1    wa8x6rt9      train  \n",
       "stars_yvi97vmj_cifar100_p0.1    yvi97vmj      train  \n",
       "stars_zcgviume_cifar100_p0.1    zcgviume      train  "
      ]
     },
     "metadata": {},
     "output_type": "display_data"
    }
   ],
   "source": [
    "df = plot_dict(max_cifar100_resnet18_results, to_show=True)"
   ]
  },
  {
   "cell_type": "code",
   "execution_count": 9,
   "metadata": {},
   "outputs": [
    {
     "data": {
      "text/html": [
       "<div>\n",
       "<style scoped>\n",
       "    .dataframe tbody tr th:only-of-type {\n",
       "        vertical-align: middle;\n",
       "    }\n",
       "\n",
       "    .dataframe tbody tr th {\n",
       "        vertical-align: top;\n",
       "    }\n",
       "\n",
       "    .dataframe thead tr th {\n",
       "        text-align: left;\n",
       "    }\n",
       "\n",
       "    .dataframe thead tr:last-of-type th {\n",
       "        text-align: right;\n",
       "    }\n",
       "</style>\n",
       "<table border=\"1\" class=\"dataframe\">\n",
       "  <thead>\n",
       "    <tr>\n",
       "      <th></th>\n",
       "      <th colspan=\"2\" halign=\"left\">margin</th>\n",
       "      <th colspan=\"2\" halign=\"left\">percent</th>\n",
       "    </tr>\n",
       "    <tr>\n",
       "      <th></th>\n",
       "      <th>mean</th>\n",
       "      <th>std</th>\n",
       "      <th>mean</th>\n",
       "      <th>std</th>\n",
       "    </tr>\n",
       "    <tr>\n",
       "      <th>model_type</th>\n",
       "      <th></th>\n",
       "      <th></th>\n",
       "      <th></th>\n",
       "      <th></th>\n",
       "    </tr>\n",
       "  </thead>\n",
       "  <tbody>\n",
       "    <tr>\n",
       "      <th>anchors</th>\n",
       "      <td>0.102495</td>\n",
       "      <td>0.002889</td>\n",
       "      <td>0.1</td>\n",
       "      <td>0.0</td>\n",
       "    </tr>\n",
       "    <tr>\n",
       "      <th>stars</th>\n",
       "      <td>0.066660</td>\n",
       "      <td>0.000641</td>\n",
       "      <td>0.1</td>\n",
       "      <td>0.0</td>\n",
       "    </tr>\n",
       "  </tbody>\n",
       "</table>\n",
       "</div>"
      ],
      "text/plain": [
       "              margin           percent     \n",
       "                mean       std    mean  std\n",
       "model_type                                 \n",
       "anchors     0.102495  0.002889     0.1  0.0\n",
       "stars       0.066660  0.000641     0.1  0.0"
      ]
     },
     "metadata": {},
     "output_type": "display_data"
    }
   ],
   "source": [
    "df = plot_dict(max_cifar100_resnet18_results, to_show=True, filter_dict={}, drop_columns=[\"index\", \"dataset_name\", \"model_id\", \"split_name\"], group_aggregate_list=[\"model_type\"], query=\"percent == 0.10\")"
   ]
  },
  {
   "cell_type": "markdown",
   "metadata": {},
   "source": [
    "### Max"
   ]
  },
  {
   "cell_type": "code",
   "execution_count": 259,
   "metadata": {},
   "outputs": [
    {
     "name": "stdout",
     "output_type": "stream",
     "text": [
      "Computing results for anchors_0eqk0gla_cifar100_p0.1\n"
     ]
    },
    {
     "name": "stderr",
     "output_type": "stream",
     "text": [
      "batch: 100%|██████████| 176/176 [00:49<00:00,  3.55it/s]\n"
     ]
    },
    {
     "name": "stdout",
     "output_type": "stream",
     "text": [
      "Computing results for anchors_384qnuxm_cifar100_p0.1\n"
     ]
    },
    {
     "name": "stderr",
     "output_type": "stream",
     "text": [
      "batch: 100%|██████████| 176/176 [00:49<00:00,  3.55it/s]\n"
     ]
    },
    {
     "name": "stdout",
     "output_type": "stream",
     "text": [
      "Computing results for anchors_3n8ftowe_cifar100_p0.1\n"
     ]
    },
    {
     "name": "stderr",
     "output_type": "stream",
     "text": [
      "batch: 100%|██████████| 176/176 [00:49<00:00,  3.56it/s]\n"
     ]
    },
    {
     "name": "stdout",
     "output_type": "stream",
     "text": [
      "Computing results for anchors_4808726s_cifar100_p0.1\n"
     ]
    },
    {
     "name": "stderr",
     "output_type": "stream",
     "text": [
      "batch: 100%|██████████| 176/176 [00:49<00:00,  3.55it/s]\n"
     ]
    },
    {
     "name": "stdout",
     "output_type": "stream",
     "text": [
      "Computing results for anchors_4rjdi4pa_cifar100_p0.1\n"
     ]
    },
    {
     "name": "stderr",
     "output_type": "stream",
     "text": [
      "batch: 100%|██████████| 176/176 [00:49<00:00,  3.56it/s]\n"
     ]
    },
    {
     "name": "stdout",
     "output_type": "stream",
     "text": [
      "Computing results for anchors_5bfkmro6_cifar100_p0.1\n"
     ]
    },
    {
     "name": "stderr",
     "output_type": "stream",
     "text": [
      "batch: 100%|██████████| 176/176 [00:49<00:00,  3.55it/s]\n"
     ]
    },
    {
     "name": "stdout",
     "output_type": "stream",
     "text": [
      "Computing results for anchors_65cr1zyr_cifar100_p0.1\n"
     ]
    },
    {
     "name": "stderr",
     "output_type": "stream",
     "text": [
      "batch: 100%|██████████| 176/176 [00:49<00:00,  3.55it/s]\n"
     ]
    },
    {
     "name": "stdout",
     "output_type": "stream",
     "text": [
      "Computing results for anchors_6hapim4a_cifar100_p0.1\n"
     ]
    },
    {
     "name": "stderr",
     "output_type": "stream",
     "text": [
      "batch:  59%|█████▊    | 103/176 [26:28<18:45, 15.42s/it]\n",
      "batch: 100%|██████████| 176/176 [00:49<00:00,  3.53it/s]\n"
     ]
    },
    {
     "name": "stdout",
     "output_type": "stream",
     "text": [
      "Computing results for anchors_73s47o0m_cifar100_p0.1\n"
     ]
    },
    {
     "name": "stderr",
     "output_type": "stream",
     "text": [
      "batch: 100%|██████████| 176/176 [00:49<00:00,  3.55it/s]\n"
     ]
    },
    {
     "name": "stdout",
     "output_type": "stream",
     "text": [
      "Computing results for anchors_75eeo9bw_cifar100_p0.1\n"
     ]
    },
    {
     "name": "stderr",
     "output_type": "stream",
     "text": [
      "batch: 100%|██████████| 176/176 [00:49<00:00,  3.56it/s]\n"
     ]
    },
    {
     "name": "stdout",
     "output_type": "stream",
     "text": [
      "Computing results for stars_212q5op8_cifar100_p0.1\n"
     ]
    },
    {
     "name": "stderr",
     "output_type": "stream",
     "text": [
      "batch: 100%|██████████| 176/176 [00:49<00:00,  3.55it/s]\n"
     ]
    },
    {
     "name": "stdout",
     "output_type": "stream",
     "text": [
      "Computing results for stars_2umwboaq_cifar100_p0.1\n"
     ]
    },
    {
     "name": "stderr",
     "output_type": "stream",
     "text": [
      "batch: 100%|██████████| 176/176 [00:49<00:00,  3.55it/s]\n"
     ]
    },
    {
     "name": "stdout",
     "output_type": "stream",
     "text": [
      "Computing results for stars_lgd1aief_cifar100_p0.1\n"
     ]
    },
    {
     "name": "stderr",
     "output_type": "stream",
     "text": [
      "batch: 100%|██████████| 176/176 [00:49<00:00,  3.55it/s]\n"
     ]
    },
    {
     "name": "stdout",
     "output_type": "stream",
     "text": [
      "Computing results for stars_ly0u9r9m_cifar100_p0.1\n"
     ]
    },
    {
     "name": "stderr",
     "output_type": "stream",
     "text": [
      "batch: 100%|██████████| 176/176 [00:49<00:00,  3.55it/s]\n"
     ]
    },
    {
     "name": "stdout",
     "output_type": "stream",
     "text": [
      "Computing results for stars_mgcabk97_cifar100_p0.1\n"
     ]
    },
    {
     "name": "stderr",
     "output_type": "stream",
     "text": [
      "batch: 100%|██████████| 176/176 [00:49<00:00,  3.55it/s]\n"
     ]
    },
    {
     "name": "stdout",
     "output_type": "stream",
     "text": [
      "Computing results for stars_rylbd95p_cifar100_p0.1\n"
     ]
    },
    {
     "name": "stderr",
     "output_type": "stream",
     "text": [
      "batch: 100%|██████████| 176/176 [00:49<00:00,  3.53it/s]\n"
     ]
    },
    {
     "name": "stdout",
     "output_type": "stream",
     "text": [
      "Computing results for stars_t200saru_cifar100_p0.1\n"
     ]
    },
    {
     "name": "stderr",
     "output_type": "stream",
     "text": [
      "batch: 100%|██████████| 176/176 [00:49<00:00,  3.55it/s]\n"
     ]
    },
    {
     "name": "stdout",
     "output_type": "stream",
     "text": [
      "Computing results for stars_wa8x6rt9_cifar100_p0.1\n"
     ]
    },
    {
     "name": "stderr",
     "output_type": "stream",
     "text": [
      "batch: 100%|██████████| 176/176 [00:49<00:00,  3.54it/s]\n"
     ]
    },
    {
     "name": "stdout",
     "output_type": "stream",
     "text": [
      "Computing results for stars_yvi97vmj_cifar100_p0.1\n"
     ]
    },
    {
     "name": "stderr",
     "output_type": "stream",
     "text": [
      "batch: 100%|██████████| 176/176 [00:49<00:00,  3.54it/s]\n"
     ]
    },
    {
     "name": "stdout",
     "output_type": "stream",
     "text": [
      "Computing results for stars_zcgviume_cifar100_p0.1\n"
     ]
    },
    {
     "name": "stderr",
     "output_type": "stream",
     "text": [
      "batch: 100%|██████████| 176/176 [00:49<00:00,  3.54it/s]\n"
     ]
    }
   ],
   "source": [
    "cifar100_resnet18_res_path = \"./max_cifar100_resnet18_results.pt\"\n",
    "\n",
    "last_10_stars_cifar100_resnet18 = [\n",
    "    path for path in stars_cifar100_resnet18 if get_model_id(path) in last_10_stars_cifar100_resnet18_names\n",
    "]\n",
    "\n",
    "max_cifar100_resnet18_results = compute_results(\n",
    "    anchors_cifar100_resnet18[:10] + last_10_stars_cifar100_resnet18,\n",
    "    cifar100_train_dataloader,\n",
    "    cifar100_resnet18_res_path,\n",
    "    split_name=\"train\",\n",
    "    percent=0.1,\n",
    "    load_model=get_resnet18_cifar100,\n",
    "    # recompute_substring=\"p0\"\n",
    "    recompute_substring=None,\n",
    "    agg=\"max\"\n",
    ")"
   ]
  },
  {
   "cell_type": "code",
   "execution_count": 260,
   "metadata": {},
   "outputs": [
    {
     "data": {
      "text/html": [
       "<div>\n",
       "<style scoped>\n",
       "    .dataframe tbody tr th:only-of-type {\n",
       "        vertical-align: middle;\n",
       "    }\n",
       "\n",
       "    .dataframe tbody tr th {\n",
       "        vertical-align: top;\n",
       "    }\n",
       "\n",
       "    .dataframe thead tr th {\n",
       "        text-align: left;\n",
       "    }\n",
       "\n",
       "    .dataframe thead tr:last-of-type th {\n",
       "        text-align: right;\n",
       "    }\n",
       "</style>\n",
       "<table border=\"1\" class=\"dataframe\">\n",
       "  <thead>\n",
       "    <tr>\n",
       "      <th></th>\n",
       "      <th colspan=\"2\" halign=\"left\">margin</th>\n",
       "      <th colspan=\"2\" halign=\"left\">percent</th>\n",
       "    </tr>\n",
       "    <tr>\n",
       "      <th></th>\n",
       "      <th>mean</th>\n",
       "      <th>std</th>\n",
       "      <th>mean</th>\n",
       "      <th>std</th>\n",
       "    </tr>\n",
       "    <tr>\n",
       "      <th>model_type</th>\n",
       "      <th></th>\n",
       "      <th></th>\n",
       "      <th></th>\n",
       "      <th></th>\n",
       "    </tr>\n",
       "  </thead>\n",
       "  <tbody>\n",
       "    <tr>\n",
       "      <th>anchors</th>\n",
       "      <td>0.000046</td>\n",
       "      <td>9.583485e-07</td>\n",
       "      <td>0.1</td>\n",
       "      <td>0.0</td>\n",
       "    </tr>\n",
       "    <tr>\n",
       "      <th>stars</th>\n",
       "      <td>0.000043</td>\n",
       "      <td>6.390722e-07</td>\n",
       "      <td>0.1</td>\n",
       "      <td>0.0</td>\n",
       "    </tr>\n",
       "  </tbody>\n",
       "</table>\n",
       "</div>"
      ],
      "text/plain": [
       "              margin               percent     \n",
       "                mean           std    mean  std\n",
       "model_type                                     \n",
       "anchors     0.000046  9.583485e-07     0.1  0.0\n",
       "stars       0.000043  6.390722e-07     0.1  0.0"
      ]
     },
     "metadata": {},
     "output_type": "display_data"
    }
   ],
   "source": [
    "df = plot_dict(max_cifar100_resnet18_results, to_show=True, filter_dict={}, drop_columns=[\"index\", \"dataset_name\", \"model_id\", \"split_name\"], group_aggregate_list=[\"model_type\"], query=\"percent == 0.10\")"
   ]
  },
  {
   "cell_type": "markdown",
   "metadata": {},
   "source": [
    "### Mean"
   ]
  },
  {
   "cell_type": "code",
   "execution_count": 240,
   "metadata": {},
   "outputs": [
    {
     "name": "stdout",
     "output_type": "stream",
     "text": [
      "Loading existing results from ./cifar100_resnet18_results.pt\n",
      "Reusing results for anchors_0eqk0gla_cifar100_p0.1\n",
      "Reusing results for anchors_384qnuxm_cifar100_p0.1\n",
      "Reusing results for anchors_3n8ftowe_cifar100_p0.1\n",
      "Reusing results for anchors_4808726s_cifar100_p0.1\n",
      "Reusing results for anchors_4rjdi4pa_cifar100_p0.1\n",
      "Reusing results for anchors_5bfkmro6_cifar100_p0.1\n",
      "Reusing results for anchors_65cr1zyr_cifar100_p0.1\n",
      "Reusing results for anchors_6hapim4a_cifar100_p0.1\n",
      "Reusing results for anchors_73s47o0m_cifar100_p0.1\n",
      "Reusing results for anchors_75eeo9bw_cifar100_p0.1\n",
      "Computing results for stars_212q5op8_cifar100_p0.1\n"
     ]
    },
    {
     "name": "stderr",
     "output_type": "stream",
     "text": [
      "batch: 100%|██████████| 176/176 [00:49<00:00,  3.58it/s]\n"
     ]
    },
    {
     "name": "stdout",
     "output_type": "stream",
     "text": [
      "Computing results for stars_2umwboaq_cifar100_p0.1\n"
     ]
    },
    {
     "name": "stderr",
     "output_type": "stream",
     "text": [
      "batch: 100%|██████████| 176/176 [00:49<00:00,  3.56it/s]\n"
     ]
    },
    {
     "name": "stdout",
     "output_type": "stream",
     "text": [
      "Computing results for stars_lgd1aief_cifar100_p0.1\n"
     ]
    },
    {
     "name": "stderr",
     "output_type": "stream",
     "text": [
      "batch: 100%|██████████| 176/176 [00:49<00:00,  3.56it/s]\n"
     ]
    },
    {
     "name": "stdout",
     "output_type": "stream",
     "text": [
      "Computing results for stars_ly0u9r9m_cifar100_p0.1\n"
     ]
    },
    {
     "name": "stderr",
     "output_type": "stream",
     "text": [
      "batch: 100%|██████████| 176/176 [00:49<00:00,  3.53it/s]\n"
     ]
    },
    {
     "name": "stdout",
     "output_type": "stream",
     "text": [
      "Computing results for stars_mgcabk97_cifar100_p0.1\n"
     ]
    },
    {
     "name": "stderr",
     "output_type": "stream",
     "text": [
      "batch: 100%|██████████| 176/176 [00:49<00:00,  3.55it/s]\n"
     ]
    },
    {
     "name": "stdout",
     "output_type": "stream",
     "text": [
      "Computing results for stars_rylbd95p_cifar100_p0.1\n"
     ]
    },
    {
     "name": "stderr",
     "output_type": "stream",
     "text": [
      "batch: 100%|██████████| 176/176 [00:49<00:00,  3.55it/s]\n"
     ]
    },
    {
     "name": "stdout",
     "output_type": "stream",
     "text": [
      "Computing results for stars_t200saru_cifar100_p0.1\n"
     ]
    },
    {
     "name": "stderr",
     "output_type": "stream",
     "text": [
      "batch: 100%|██████████| 176/176 [00:49<00:00,  3.55it/s]\n"
     ]
    },
    {
     "name": "stdout",
     "output_type": "stream",
     "text": [
      "Computing results for stars_wa8x6rt9_cifar100_p0.1\n"
     ]
    },
    {
     "name": "stderr",
     "output_type": "stream",
     "text": [
      "batch: 100%|██████████| 176/176 [00:49<00:00,  3.55it/s]\n"
     ]
    },
    {
     "name": "stdout",
     "output_type": "stream",
     "text": [
      "Computing results for stars_yvi97vmj_cifar100_p0.1\n"
     ]
    },
    {
     "name": "stderr",
     "output_type": "stream",
     "text": [
      "batch: 100%|██████████| 176/176 [00:49<00:00,  3.55it/s]\n"
     ]
    },
    {
     "name": "stdout",
     "output_type": "stream",
     "text": [
      "Computing results for stars_zcgviume_cifar100_p0.1\n"
     ]
    },
    {
     "name": "stderr",
     "output_type": "stream",
     "text": [
      "batch: 100%|██████████| 176/176 [00:49<00:00,  3.56it/s]\n"
     ]
    }
   ],
   "source": [
    "cifar100_resnet18_res_path = \"./cifar100_resnet18_results.pt\"\n",
    "\n",
    "last_10_stars_cifar100_resnet18 = [\n",
    "    path for path in stars_cifar100_resnet18 if get_model_id(path) in last_10_stars_cifar100_resnet18_names\n",
    "]\n",
    "\n",
    "cifar100_resnet18_results = compute_results(\n",
    "    anchors_cifar100_resnet18[:10] + last_10_stars_cifar100_resnet18,\n",
    "    cifar100_train_dataloader,\n",
    "    cifar100_resnet18_res_path,\n",
    "    split_name=\"train\",\n",
    "    percent=0.1,\n",
    "    load_model=get_resnet18_cifar100,\n",
    "    # recompute_substring=\"p0\"\n",
    "    recompute_substring=None\n",
    ")"
   ]
  },
  {
   "cell_type": "code",
   "execution_count": 252,
   "metadata": {},
   "outputs": [
    {
     "data": {
      "text/html": [
       "<div>\n",
       "<style scoped>\n",
       "    .dataframe tbody tr th:only-of-type {\n",
       "        vertical-align: middle;\n",
       "    }\n",
       "\n",
       "    .dataframe tbody tr th {\n",
       "        vertical-align: top;\n",
       "    }\n",
       "\n",
       "    .dataframe thead th {\n",
       "        text-align: right;\n",
       "    }\n",
       "</style>\n",
       "<table border=\"1\" class=\"dataframe\">\n",
       "  <thead>\n",
       "    <tr style=\"text-align: right;\">\n",
       "      <th></th>\n",
       "      <th>margin</th>\n",
       "      <th>model_type</th>\n",
       "      <th>dataset_name</th>\n",
       "      <th>percent</th>\n",
       "      <th>model_id</th>\n",
       "      <th>split_name</th>\n",
       "    </tr>\n",
       "  </thead>\n",
       "  <tbody>\n",
       "    <tr>\n",
       "      <th>anchors_0eqk0gla_cifar100_p0.05</th>\n",
       "      <td>0.000035</td>\n",
       "      <td>anchors</td>\n",
       "      <td>cifar100</td>\n",
       "      <td>0.05</td>\n",
       "      <td>NaN</td>\n",
       "      <td>NaN</td>\n",
       "    </tr>\n",
       "    <tr>\n",
       "      <th>anchors_384qnuxm_cifar100_p0.05</th>\n",
       "      <td>0.000035</td>\n",
       "      <td>anchors</td>\n",
       "      <td>cifar100</td>\n",
       "      <td>0.05</td>\n",
       "      <td>NaN</td>\n",
       "      <td>NaN</td>\n",
       "    </tr>\n",
       "    <tr>\n",
       "      <th>stars_01fj1cav_cifar100_p0.05</th>\n",
       "      <td>0.000034</td>\n",
       "      <td>stars</td>\n",
       "      <td>cifar100</td>\n",
       "      <td>0.05</td>\n",
       "      <td>NaN</td>\n",
       "      <td>NaN</td>\n",
       "    </tr>\n",
       "    <tr>\n",
       "      <th>stars_212q5op8_cifar100_p0.05</th>\n",
       "      <td>0.000033</td>\n",
       "      <td>stars</td>\n",
       "      <td>cifar100</td>\n",
       "      <td>0.05</td>\n",
       "      <td>NaN</td>\n",
       "      <td>NaN</td>\n",
       "    </tr>\n",
       "    <tr>\n",
       "      <th>anchors_0eqk0gla_cifar100_p0.1</th>\n",
       "      <td>0.000034</td>\n",
       "      <td>anchors</td>\n",
       "      <td>cifar100</td>\n",
       "      <td>0.10</td>\n",
       "      <td>0eqk0gla</td>\n",
       "      <td>train</td>\n",
       "    </tr>\n",
       "    <tr>\n",
       "      <th>anchors_384qnuxm_cifar100_p0.1</th>\n",
       "      <td>0.000035</td>\n",
       "      <td>anchors</td>\n",
       "      <td>cifar100</td>\n",
       "      <td>0.10</td>\n",
       "      <td>384qnuxm</td>\n",
       "      <td>train</td>\n",
       "    </tr>\n",
       "    <tr>\n",
       "      <th>anchors_3n8ftowe_cifar100_p0.1</th>\n",
       "      <td>0.000033</td>\n",
       "      <td>anchors</td>\n",
       "      <td>cifar100</td>\n",
       "      <td>0.10</td>\n",
       "      <td>3n8ftowe</td>\n",
       "      <td>train</td>\n",
       "    </tr>\n",
       "    <tr>\n",
       "      <th>anchors_4808726s_cifar100_p0.1</th>\n",
       "      <td>0.000035</td>\n",
       "      <td>anchors</td>\n",
       "      <td>cifar100</td>\n",
       "      <td>0.10</td>\n",
       "      <td>4808726s</td>\n",
       "      <td>train</td>\n",
       "    </tr>\n",
       "    <tr>\n",
       "      <th>anchors_4rjdi4pa_cifar100_p0.1</th>\n",
       "      <td>0.000034</td>\n",
       "      <td>anchors</td>\n",
       "      <td>cifar100</td>\n",
       "      <td>0.10</td>\n",
       "      <td>4rjdi4pa</td>\n",
       "      <td>train</td>\n",
       "    </tr>\n",
       "    <tr>\n",
       "      <th>anchors_5bfkmro6_cifar100_p0.1</th>\n",
       "      <td>0.000034</td>\n",
       "      <td>anchors</td>\n",
       "      <td>cifar100</td>\n",
       "      <td>0.10</td>\n",
       "      <td>5bfkmro6</td>\n",
       "      <td>train</td>\n",
       "    </tr>\n",
       "    <tr>\n",
       "      <th>anchors_65cr1zyr_cifar100_p0.1</th>\n",
       "      <td>0.000033</td>\n",
       "      <td>anchors</td>\n",
       "      <td>cifar100</td>\n",
       "      <td>0.10</td>\n",
       "      <td>65cr1zyr</td>\n",
       "      <td>train</td>\n",
       "    </tr>\n",
       "    <tr>\n",
       "      <th>anchors_6hapim4a_cifar100_p0.1</th>\n",
       "      <td>0.000034</td>\n",
       "      <td>anchors</td>\n",
       "      <td>cifar100</td>\n",
       "      <td>0.10</td>\n",
       "      <td>6hapim4a</td>\n",
       "      <td>train</td>\n",
       "    </tr>\n",
       "    <tr>\n",
       "      <th>anchors_73s47o0m_cifar100_p0.1</th>\n",
       "      <td>0.000033</td>\n",
       "      <td>anchors</td>\n",
       "      <td>cifar100</td>\n",
       "      <td>0.10</td>\n",
       "      <td>73s47o0m</td>\n",
       "      <td>train</td>\n",
       "    </tr>\n",
       "    <tr>\n",
       "      <th>anchors_75eeo9bw_cifar100_p0.1</th>\n",
       "      <td>0.000033</td>\n",
       "      <td>anchors</td>\n",
       "      <td>cifar100</td>\n",
       "      <td>0.10</td>\n",
       "      <td>75eeo9bw</td>\n",
       "      <td>train</td>\n",
       "    </tr>\n",
       "    <tr>\n",
       "      <th>stars_212q5op8_cifar100_p0.1</th>\n",
       "      <td>0.000033</td>\n",
       "      <td>stars</td>\n",
       "      <td>cifar100</td>\n",
       "      <td>0.10</td>\n",
       "      <td>212q5op8</td>\n",
       "      <td>train</td>\n",
       "    </tr>\n",
       "    <tr>\n",
       "      <th>stars_2umwboaq_cifar100_p0.1</th>\n",
       "      <td>0.000034</td>\n",
       "      <td>stars</td>\n",
       "      <td>cifar100</td>\n",
       "      <td>0.10</td>\n",
       "      <td>2umwboaq</td>\n",
       "      <td>train</td>\n",
       "    </tr>\n",
       "    <tr>\n",
       "      <th>stars_lgd1aief_cifar100_p0.1</th>\n",
       "      <td>0.000033</td>\n",
       "      <td>stars</td>\n",
       "      <td>cifar100</td>\n",
       "      <td>0.10</td>\n",
       "      <td>lgd1aief</td>\n",
       "      <td>train</td>\n",
       "    </tr>\n",
       "    <tr>\n",
       "      <th>stars_ly0u9r9m_cifar100_p0.1</th>\n",
       "      <td>0.000033</td>\n",
       "      <td>stars</td>\n",
       "      <td>cifar100</td>\n",
       "      <td>0.10</td>\n",
       "      <td>ly0u9r9m</td>\n",
       "      <td>train</td>\n",
       "    </tr>\n",
       "    <tr>\n",
       "      <th>stars_mgcabk97_cifar100_p0.1</th>\n",
       "      <td>0.000033</td>\n",
       "      <td>stars</td>\n",
       "      <td>cifar100</td>\n",
       "      <td>0.10</td>\n",
       "      <td>mgcabk97</td>\n",
       "      <td>train</td>\n",
       "    </tr>\n",
       "    <tr>\n",
       "      <th>stars_rylbd95p_cifar100_p0.1</th>\n",
       "      <td>0.000033</td>\n",
       "      <td>stars</td>\n",
       "      <td>cifar100</td>\n",
       "      <td>0.10</td>\n",
       "      <td>rylbd95p</td>\n",
       "      <td>train</td>\n",
       "    </tr>\n",
       "    <tr>\n",
       "      <th>stars_t200saru_cifar100_p0.1</th>\n",
       "      <td>0.000033</td>\n",
       "      <td>stars</td>\n",
       "      <td>cifar100</td>\n",
       "      <td>0.10</td>\n",
       "      <td>t200saru</td>\n",
       "      <td>train</td>\n",
       "    </tr>\n",
       "    <tr>\n",
       "      <th>stars_wa8x6rt9_cifar100_p0.1</th>\n",
       "      <td>0.000033</td>\n",
       "      <td>stars</td>\n",
       "      <td>cifar100</td>\n",
       "      <td>0.10</td>\n",
       "      <td>wa8x6rt9</td>\n",
       "      <td>train</td>\n",
       "    </tr>\n",
       "    <tr>\n",
       "      <th>stars_yvi97vmj_cifar100_p0.1</th>\n",
       "      <td>0.000033</td>\n",
       "      <td>stars</td>\n",
       "      <td>cifar100</td>\n",
       "      <td>0.10</td>\n",
       "      <td>yvi97vmj</td>\n",
       "      <td>train</td>\n",
       "    </tr>\n",
       "    <tr>\n",
       "      <th>stars_zcgviume_cifar100_p0.1</th>\n",
       "      <td>0.000033</td>\n",
       "      <td>stars</td>\n",
       "      <td>cifar100</td>\n",
       "      <td>0.10</td>\n",
       "      <td>zcgviume</td>\n",
       "      <td>train</td>\n",
       "    </tr>\n",
       "  </tbody>\n",
       "</table>\n",
       "</div>"
      ],
      "text/plain": [
       "                                   margin model_type dataset_name  percent  \\\n",
       "anchors_0eqk0gla_cifar100_p0.05  0.000035    anchors     cifar100     0.05   \n",
       "anchors_384qnuxm_cifar100_p0.05  0.000035    anchors     cifar100     0.05   \n",
       "stars_01fj1cav_cifar100_p0.05    0.000034      stars     cifar100     0.05   \n",
       "stars_212q5op8_cifar100_p0.05    0.000033      stars     cifar100     0.05   \n",
       "anchors_0eqk0gla_cifar100_p0.1   0.000034    anchors     cifar100     0.10   \n",
       "anchors_384qnuxm_cifar100_p0.1   0.000035    anchors     cifar100     0.10   \n",
       "anchors_3n8ftowe_cifar100_p0.1   0.000033    anchors     cifar100     0.10   \n",
       "anchors_4808726s_cifar100_p0.1   0.000035    anchors     cifar100     0.10   \n",
       "anchors_4rjdi4pa_cifar100_p0.1   0.000034    anchors     cifar100     0.10   \n",
       "anchors_5bfkmro6_cifar100_p0.1   0.000034    anchors     cifar100     0.10   \n",
       "anchors_65cr1zyr_cifar100_p0.1   0.000033    anchors     cifar100     0.10   \n",
       "anchors_6hapim4a_cifar100_p0.1   0.000034    anchors     cifar100     0.10   \n",
       "anchors_73s47o0m_cifar100_p0.1   0.000033    anchors     cifar100     0.10   \n",
       "anchors_75eeo9bw_cifar100_p0.1   0.000033    anchors     cifar100     0.10   \n",
       "stars_212q5op8_cifar100_p0.1     0.000033      stars     cifar100     0.10   \n",
       "stars_2umwboaq_cifar100_p0.1     0.000034      stars     cifar100     0.10   \n",
       "stars_lgd1aief_cifar100_p0.1     0.000033      stars     cifar100     0.10   \n",
       "stars_ly0u9r9m_cifar100_p0.1     0.000033      stars     cifar100     0.10   \n",
       "stars_mgcabk97_cifar100_p0.1     0.000033      stars     cifar100     0.10   \n",
       "stars_rylbd95p_cifar100_p0.1     0.000033      stars     cifar100     0.10   \n",
       "stars_t200saru_cifar100_p0.1     0.000033      stars     cifar100     0.10   \n",
       "stars_wa8x6rt9_cifar100_p0.1     0.000033      stars     cifar100     0.10   \n",
       "stars_yvi97vmj_cifar100_p0.1     0.000033      stars     cifar100     0.10   \n",
       "stars_zcgviume_cifar100_p0.1     0.000033      stars     cifar100     0.10   \n",
       "\n",
       "                                 model_id split_name  \n",
       "anchors_0eqk0gla_cifar100_p0.05       NaN        NaN  \n",
       "anchors_384qnuxm_cifar100_p0.05       NaN        NaN  \n",
       "stars_01fj1cav_cifar100_p0.05         NaN        NaN  \n",
       "stars_212q5op8_cifar100_p0.05         NaN        NaN  \n",
       "anchors_0eqk0gla_cifar100_p0.1   0eqk0gla      train  \n",
       "anchors_384qnuxm_cifar100_p0.1   384qnuxm      train  \n",
       "anchors_3n8ftowe_cifar100_p0.1   3n8ftowe      train  \n",
       "anchors_4808726s_cifar100_p0.1   4808726s      train  \n",
       "anchors_4rjdi4pa_cifar100_p0.1   4rjdi4pa      train  \n",
       "anchors_5bfkmro6_cifar100_p0.1   5bfkmro6      train  \n",
       "anchors_65cr1zyr_cifar100_p0.1   65cr1zyr      train  \n",
       "anchors_6hapim4a_cifar100_p0.1   6hapim4a      train  \n",
       "anchors_73s47o0m_cifar100_p0.1   73s47o0m      train  \n",
       "anchors_75eeo9bw_cifar100_p0.1   75eeo9bw      train  \n",
       "stars_212q5op8_cifar100_p0.1     212q5op8      train  \n",
       "stars_2umwboaq_cifar100_p0.1     2umwboaq      train  \n",
       "stars_lgd1aief_cifar100_p0.1     lgd1aief      train  \n",
       "stars_ly0u9r9m_cifar100_p0.1     ly0u9r9m      train  \n",
       "stars_mgcabk97_cifar100_p0.1     mgcabk97      train  \n",
       "stars_rylbd95p_cifar100_p0.1     rylbd95p      train  \n",
       "stars_t200saru_cifar100_p0.1     t200saru      train  \n",
       "stars_wa8x6rt9_cifar100_p0.1     wa8x6rt9      train  \n",
       "stars_yvi97vmj_cifar100_p0.1     yvi97vmj      train  \n",
       "stars_zcgviume_cifar100_p0.1     zcgviume      train  "
      ]
     },
     "metadata": {},
     "output_type": "display_data"
    }
   ],
   "source": [
    "df = plot_dict(cifar100_resnet18_results, to_show=True)"
   ]
  },
  {
   "cell_type": "code",
   "execution_count": null,
   "metadata": {},
   "outputs": [],
   "source": [
    "df = plot_dict(cifar100_resnet18_results, to_show=True, filter_dict={}, drop_columns=[\"index\", \"dataset_name\"], group_aggregate_list=[\"model_type\"])"
   ]
  },
  {
   "cell_type": "code",
   "execution_count": 251,
   "metadata": {},
   "outputs": [
    {
     "data": {
      "text/html": [
       "<div>\n",
       "<style scoped>\n",
       "    .dataframe tbody tr th:only-of-type {\n",
       "        vertical-align: middle;\n",
       "    }\n",
       "\n",
       "    .dataframe tbody tr th {\n",
       "        vertical-align: top;\n",
       "    }\n",
       "\n",
       "    .dataframe thead tr th {\n",
       "        text-align: left;\n",
       "    }\n",
       "\n",
       "    .dataframe thead tr:last-of-type th {\n",
       "        text-align: right;\n",
       "    }\n",
       "</style>\n",
       "<table border=\"1\" class=\"dataframe\">\n",
       "  <thead>\n",
       "    <tr>\n",
       "      <th></th>\n",
       "      <th colspan=\"2\" halign=\"left\">margin</th>\n",
       "      <th colspan=\"2\" halign=\"left\">percent</th>\n",
       "    </tr>\n",
       "    <tr>\n",
       "      <th></th>\n",
       "      <th>mean</th>\n",
       "      <th>std</th>\n",
       "      <th>mean</th>\n",
       "      <th>std</th>\n",
       "    </tr>\n",
       "    <tr>\n",
       "      <th>model_type</th>\n",
       "      <th></th>\n",
       "      <th></th>\n",
       "      <th></th>\n",
       "      <th></th>\n",
       "    </tr>\n",
       "  </thead>\n",
       "  <tbody>\n",
       "    <tr>\n",
       "      <th>anchors</th>\n",
       "      <td>0.000034</td>\n",
       "      <td>7.466623e-07</td>\n",
       "      <td>0.1</td>\n",
       "      <td>0.0</td>\n",
       "    </tr>\n",
       "    <tr>\n",
       "      <th>stars</th>\n",
       "      <td>0.000033</td>\n",
       "      <td>2.407625e-07</td>\n",
       "      <td>0.1</td>\n",
       "      <td>0.0</td>\n",
       "    </tr>\n",
       "  </tbody>\n",
       "</table>\n",
       "</div>"
      ],
      "text/plain": [
       "              margin               percent     \n",
       "                mean           std    mean  std\n",
       "model_type                                     \n",
       "anchors     0.000034  7.466623e-07     0.1  0.0\n",
       "stars       0.000033  2.407625e-07     0.1  0.0"
      ]
     },
     "metadata": {},
     "output_type": "display_data"
    }
   ],
   "source": [
    "df = plot_dict(cifar100_resnet18_results, to_show=True, filter_dict={}, drop_columns=[\"index\", \"dataset_name\", \"model_id\", \"split_name\"], group_aggregate_list=[\"model_type\"], query=\"percent == 0.10\")"
   ]
  },
  {
   "cell_type": "markdown",
   "metadata": {},
   "source": [
    "## Resnet18 Cifar10"
   ]
  },
  {
   "cell_type": "markdown",
   "metadata": {},
   "source": [
    "### L2 + min margin to pred"
   ]
  },
  {
   "cell_type": "code",
   "execution_count": 92,
   "metadata": {},
   "outputs": [
    {
     "name": "stdout",
     "output_type": "stream",
     "text": [
      "Computing results for anchors_2oo0upw1_cifar10_p1\n"
     ]
    },
    {
     "name": "stderr",
     "output_type": "stream",
     "text": [
      "batch:   1%|          | 1/176 [00:00<00:41,  4.23it/s]/scratch_local/arubinstein17-163577/starlight/starlight_env/lib/python3.9/site-packages/torch/autograd/__init__.py:266: UserWarning: Deterministic behavior was enabled with either `torch.use_deterministic_algorithms(True)` or `at::Context::setDeterministicAlgorithms(true)`, but this operation is not deterministic because it uses CuBLAS and you have CUDA >= 10.2. To enable deterministic behavior in this case, you must set an environment variable before running your PyTorch application: CUBLAS_WORKSPACE_CONFIG=:4096:8 or CUBLAS_WORKSPACE_CONFIG=:16:8. For more information, go to https://docs.nvidia.com/cuda/cublas/index.html#cublasApi_reproducibility (Triggered internally at ../aten/src/ATen/Context.cpp:164.)\n",
      "  Variable._execution_engine.run_backward(  # Calls into the C++ engine to run the backward pass\n",
      "batch: 100%|██████████| 176/176 [01:31<00:00,  1.92it/s]\n"
     ]
    },
    {
     "name": "stdout",
     "output_type": "stream",
     "text": [
      "Computing results for anchors_3m2c3guk_cifar10_p1\n"
     ]
    },
    {
     "name": "stderr",
     "output_type": "stream",
     "text": [
      "batch: 100%|██████████| 176/176 [01:32<00:00,  1.90it/s]\n"
     ]
    },
    {
     "name": "stdout",
     "output_type": "stream",
     "text": [
      "Computing results for anchors_448kfne2_cifar10_p1\n"
     ]
    },
    {
     "name": "stderr",
     "output_type": "stream",
     "text": [
      "batch:   1%|          | 1/176 [58:41<171:12:21, 3521.95s/it]\n",
      "batch:   1%|          | 1/176 [21:55<63:55:30, 1315.03s/it]\n",
      "batch:   1%|          | 1/176 [21:00<61:15:58, 1260.33s/it]\n",
      "batch:   1%|          | 1/176 [19:37<57:13:11, 1177.10s/it]\n",
      "batch:   1%|          | 1/176 [18:25<53:44:01, 1105.38s/it]\n",
      "batch:   1%|          | 1/176 [17:34<51:14:57, 1054.27s/it]\n",
      "batch:   1%|          | 1/176 [17:05<49:51:13, 1025.56s/it]\n",
      "batch:   1%|          | 1/176 [16:29<48:05:28, 989.31s/it]\n",
      "batch:   1%|          | 1/176 [07:46<22:40:18, 466.39s/it]\n",
      "batch: 100%|██████████| 176/176 [01:33<00:00,  1.89it/s]\n"
     ]
    },
    {
     "name": "stdout",
     "output_type": "stream",
     "text": [
      "Computing results for anchors_52l22gc1_cifar10_p1\n"
     ]
    },
    {
     "name": "stderr",
     "output_type": "stream",
     "text": [
      "batch: 100%|██████████| 176/176 [01:32<00:00,  1.90it/s]\n"
     ]
    },
    {
     "name": "stdout",
     "output_type": "stream",
     "text": [
      "Computing results for anchors_5791j5is_cifar10_p1\n"
     ]
    },
    {
     "name": "stderr",
     "output_type": "stream",
     "text": [
      "batch: 100%|██████████| 176/176 [01:32<00:00,  1.90it/s]\n"
     ]
    },
    {
     "name": "stdout",
     "output_type": "stream",
     "text": [
      "Computing results for anchors_5hrwt8sd_cifar10_p1\n"
     ]
    },
    {
     "name": "stderr",
     "output_type": "stream",
     "text": [
      "batch: 100%|██████████| 176/176 [01:32<00:00,  1.90it/s]\n"
     ]
    },
    {
     "name": "stdout",
     "output_type": "stream",
     "text": [
      "Computing results for anchors_6ids7w54_cifar10_p1\n"
     ]
    },
    {
     "name": "stderr",
     "output_type": "stream",
     "text": [
      "batch: 100%|██████████| 176/176 [01:32<00:00,  1.90it/s]\n"
     ]
    },
    {
     "name": "stdout",
     "output_type": "stream",
     "text": [
      "Computing results for anchors_6kxd228s_cifar10_p1\n"
     ]
    },
    {
     "name": "stderr",
     "output_type": "stream",
     "text": [
      "batch: 100%|██████████| 176/176 [01:32<00:00,  1.90it/s]\n"
     ]
    },
    {
     "name": "stdout",
     "output_type": "stream",
     "text": [
      "Computing results for anchors_7sckybft_cifar10_p1\n"
     ]
    },
    {
     "name": "stderr",
     "output_type": "stream",
     "text": [
      "batch: 100%|██████████| 176/176 [01:32<00:00,  1.90it/s]\n"
     ]
    },
    {
     "name": "stdout",
     "output_type": "stream",
     "text": [
      "Computing results for anchors_7y4wdzel_cifar10_p1\n"
     ]
    },
    {
     "name": "stderr",
     "output_type": "stream",
     "text": [
      "batch: 100%|██████████| 176/176 [01:32<00:00,  1.90it/s]\n"
     ]
    },
    {
     "name": "stdout",
     "output_type": "stream",
     "text": [
      "Computing results for stars_6gps5q6c_cifar10_p1\n"
     ]
    },
    {
     "name": "stderr",
     "output_type": "stream",
     "text": [
      "batch: 100%|██████████| 176/176 [01:32<00:00,  1.90it/s]\n"
     ]
    },
    {
     "name": "stdout",
     "output_type": "stream",
     "text": [
      "Computing results for stars_82pxe1i8_cifar10_p1\n"
     ]
    },
    {
     "name": "stderr",
     "output_type": "stream",
     "text": [
      "batch: 100%|██████████| 176/176 [01:32<00:00,  1.90it/s]\n"
     ]
    },
    {
     "name": "stdout",
     "output_type": "stream",
     "text": [
      "Computing results for stars_8dirowph_cifar10_p1\n"
     ]
    },
    {
     "name": "stderr",
     "output_type": "stream",
     "text": [
      "batch: 100%|██████████| 176/176 [01:32<00:00,  1.90it/s]\n"
     ]
    },
    {
     "name": "stdout",
     "output_type": "stream",
     "text": [
      "Computing results for stars_bezgu0h7_cifar10_p1\n"
     ]
    },
    {
     "name": "stderr",
     "output_type": "stream",
     "text": [
      "batch: 100%|██████████| 176/176 [01:32<00:00,  1.89it/s]\n"
     ]
    },
    {
     "name": "stdout",
     "output_type": "stream",
     "text": [
      "Computing results for stars_by2vpp9d_cifar10_p1\n"
     ]
    },
    {
     "name": "stderr",
     "output_type": "stream",
     "text": [
      "batch: 100%|██████████| 176/176 [01:32<00:00,  1.90it/s]\n"
     ]
    },
    {
     "name": "stdout",
     "output_type": "stream",
     "text": [
      "Computing results for stars_h2qjwxrq_cifar10_p1\n"
     ]
    },
    {
     "name": "stderr",
     "output_type": "stream",
     "text": [
      "batch: 100%|██████████| 176/176 [01:32<00:00,  1.90it/s]\n"
     ]
    },
    {
     "name": "stdout",
     "output_type": "stream",
     "text": [
      "Computing results for stars_n5sjdrla_cifar10_p1\n"
     ]
    },
    {
     "name": "stderr",
     "output_type": "stream",
     "text": [
      "batch: 100%|██████████| 176/176 [01:32<00:00,  1.90it/s]\n"
     ]
    },
    {
     "name": "stdout",
     "output_type": "stream",
     "text": [
      "Computing results for stars_n8vpmpbj_cifar10_p1\n"
     ]
    },
    {
     "name": "stderr",
     "output_type": "stream",
     "text": [
      "batch: 100%|██████████| 176/176 [01:32<00:00,  1.90it/s]\n"
     ]
    },
    {
     "name": "stdout",
     "output_type": "stream",
     "text": [
      "Computing results for stars_nyolmhfc_cifar10_p1\n"
     ]
    },
    {
     "name": "stderr",
     "output_type": "stream",
     "text": [
      "batch: 100%|██████████| 176/176 [01:32<00:00,  1.90it/s]\n"
     ]
    },
    {
     "name": "stdout",
     "output_type": "stream",
     "text": [
      "Computing results for stars_wrvljast_cifar10_p1\n"
     ]
    },
    {
     "name": "stderr",
     "output_type": "stream",
     "text": [
      "batch: 100%|██████████| 176/176 [01:32<00:00,  1.90it/s]\n"
     ]
    }
   ],
   "source": [
    "cifar10_resnet18_res_path = \"./min2pred_l2_cifar10_resnet18_results.pt\"\n",
    "\n",
    "last_10_stars_cifar10_resnet18 = [path for path in stars_resnet18 if get_model_id(path) in last_10_stars]\n",
    "\n",
    "max_cifar10_resnet18_results = compute_results(\n",
    "    anchors_resnet18[:10] + last_10_stars_cifar10_resnet18,\n",
    "    # anchors_resnet18[:2] + last_10_stars_cifar10_resnet18[:2],\n",
    "    cifar10_train_dataloader,\n",
    "    cifar10_resnet18_res_path,\n",
    "    split_name=\"train\",\n",
    "    percent=1,\n",
    "    # percent=0.05,\n",
    "    load_model=get_resnet18_cifar,\n",
    "    # recompute_substring=\"p0\"\n",
    "    recompute_substring=None,\n",
    "    agg=\"min_to_pred\",\n",
    "    norm=\"l2\"\n",
    ")"
   ]
  },
  {
   "cell_type": "code",
   "execution_count": 95,
   "metadata": {},
   "outputs": [
    {
     "data": {
      "text/html": [
       "<div>\n",
       "<style scoped>\n",
       "    .dataframe tbody tr th:only-of-type {\n",
       "        vertical-align: middle;\n",
       "    }\n",
       "\n",
       "    .dataframe tbody tr th {\n",
       "        vertical-align: top;\n",
       "    }\n",
       "\n",
       "    .dataframe thead th {\n",
       "        text-align: right;\n",
       "    }\n",
       "</style>\n",
       "<table border=\"1\" class=\"dataframe\">\n",
       "  <thead>\n",
       "    <tr style=\"text-align: right;\">\n",
       "      <th></th>\n",
       "      <th>margin</th>\n",
       "      <th>model_type</th>\n",
       "      <th>dataset_name</th>\n",
       "      <th>percent</th>\n",
       "      <th>model_id</th>\n",
       "      <th>split_name</th>\n",
       "    </tr>\n",
       "  </thead>\n",
       "  <tbody>\n",
       "    <tr>\n",
       "      <th>anchors_2oo0upw1_cifar10_p1</th>\n",
       "      <td>0.118189</td>\n",
       "      <td>anchors</td>\n",
       "      <td>cifar10</td>\n",
       "      <td>1</td>\n",
       "      <td>2oo0upw1</td>\n",
       "      <td>train</td>\n",
       "    </tr>\n",
       "    <tr>\n",
       "      <th>anchors_3m2c3guk_cifar10_p1</th>\n",
       "      <td>0.118039</td>\n",
       "      <td>anchors</td>\n",
       "      <td>cifar10</td>\n",
       "      <td>1</td>\n",
       "      <td>3m2c3guk</td>\n",
       "      <td>train</td>\n",
       "    </tr>\n",
       "    <tr>\n",
       "      <th>anchors_448kfne2_cifar10_p1</th>\n",
       "      <td>0.112324</td>\n",
       "      <td>anchors</td>\n",
       "      <td>cifar10</td>\n",
       "      <td>1</td>\n",
       "      <td>448kfne2</td>\n",
       "      <td>train</td>\n",
       "    </tr>\n",
       "    <tr>\n",
       "      <th>anchors_52l22gc1_cifar10_p1</th>\n",
       "      <td>0.118346</td>\n",
       "      <td>anchors</td>\n",
       "      <td>cifar10</td>\n",
       "      <td>1</td>\n",
       "      <td>52l22gc1</td>\n",
       "      <td>train</td>\n",
       "    </tr>\n",
       "    <tr>\n",
       "      <th>anchors_5791j5is_cifar10_p1</th>\n",
       "      <td>0.116815</td>\n",
       "      <td>anchors</td>\n",
       "      <td>cifar10</td>\n",
       "      <td>1</td>\n",
       "      <td>5791j5is</td>\n",
       "      <td>train</td>\n",
       "    </tr>\n",
       "    <tr>\n",
       "      <th>anchors_5hrwt8sd_cifar10_p1</th>\n",
       "      <td>0.121371</td>\n",
       "      <td>anchors</td>\n",
       "      <td>cifar10</td>\n",
       "      <td>1</td>\n",
       "      <td>5hrwt8sd</td>\n",
       "      <td>train</td>\n",
       "    </tr>\n",
       "    <tr>\n",
       "      <th>anchors_6ids7w54_cifar10_p1</th>\n",
       "      <td>0.108609</td>\n",
       "      <td>anchors</td>\n",
       "      <td>cifar10</td>\n",
       "      <td>1</td>\n",
       "      <td>6ids7w54</td>\n",
       "      <td>train</td>\n",
       "    </tr>\n",
       "    <tr>\n",
       "      <th>anchors_6kxd228s_cifar10_p1</th>\n",
       "      <td>0.112535</td>\n",
       "      <td>anchors</td>\n",
       "      <td>cifar10</td>\n",
       "      <td>1</td>\n",
       "      <td>6kxd228s</td>\n",
       "      <td>train</td>\n",
       "    </tr>\n",
       "    <tr>\n",
       "      <th>anchors_7sckybft_cifar10_p1</th>\n",
       "      <td>0.120158</td>\n",
       "      <td>anchors</td>\n",
       "      <td>cifar10</td>\n",
       "      <td>1</td>\n",
       "      <td>7sckybft</td>\n",
       "      <td>train</td>\n",
       "    </tr>\n",
       "    <tr>\n",
       "      <th>anchors_7y4wdzel_cifar10_p1</th>\n",
       "      <td>0.122731</td>\n",
       "      <td>anchors</td>\n",
       "      <td>cifar10</td>\n",
       "      <td>1</td>\n",
       "      <td>7y4wdzel</td>\n",
       "      <td>train</td>\n",
       "    </tr>\n",
       "    <tr>\n",
       "      <th>stars_6gps5q6c_cifar10_p1</th>\n",
       "      <td>0.093374</td>\n",
       "      <td>stars</td>\n",
       "      <td>cifar10</td>\n",
       "      <td>1</td>\n",
       "      <td>6gps5q6c</td>\n",
       "      <td>train</td>\n",
       "    </tr>\n",
       "    <tr>\n",
       "      <th>stars_82pxe1i8_cifar10_p1</th>\n",
       "      <td>0.094880</td>\n",
       "      <td>stars</td>\n",
       "      <td>cifar10</td>\n",
       "      <td>1</td>\n",
       "      <td>82pxe1i8</td>\n",
       "      <td>train</td>\n",
       "    </tr>\n",
       "    <tr>\n",
       "      <th>stars_8dirowph_cifar10_p1</th>\n",
       "      <td>0.097538</td>\n",
       "      <td>stars</td>\n",
       "      <td>cifar10</td>\n",
       "      <td>1</td>\n",
       "      <td>8dirowph</td>\n",
       "      <td>train</td>\n",
       "    </tr>\n",
       "    <tr>\n",
       "      <th>stars_bezgu0h7_cifar10_p1</th>\n",
       "      <td>0.098299</td>\n",
       "      <td>stars</td>\n",
       "      <td>cifar10</td>\n",
       "      <td>1</td>\n",
       "      <td>bezgu0h7</td>\n",
       "      <td>train</td>\n",
       "    </tr>\n",
       "    <tr>\n",
       "      <th>stars_by2vpp9d_cifar10_p1</th>\n",
       "      <td>0.099257</td>\n",
       "      <td>stars</td>\n",
       "      <td>cifar10</td>\n",
       "      <td>1</td>\n",
       "      <td>by2vpp9d</td>\n",
       "      <td>train</td>\n",
       "    </tr>\n",
       "    <tr>\n",
       "      <th>stars_h2qjwxrq_cifar10_p1</th>\n",
       "      <td>0.095268</td>\n",
       "      <td>stars</td>\n",
       "      <td>cifar10</td>\n",
       "      <td>1</td>\n",
       "      <td>h2qjwxrq</td>\n",
       "      <td>train</td>\n",
       "    </tr>\n",
       "    <tr>\n",
       "      <th>stars_n5sjdrla_cifar10_p1</th>\n",
       "      <td>0.096734</td>\n",
       "      <td>stars</td>\n",
       "      <td>cifar10</td>\n",
       "      <td>1</td>\n",
       "      <td>n5sjdrla</td>\n",
       "      <td>train</td>\n",
       "    </tr>\n",
       "    <tr>\n",
       "      <th>stars_n8vpmpbj_cifar10_p1</th>\n",
       "      <td>0.096390</td>\n",
       "      <td>stars</td>\n",
       "      <td>cifar10</td>\n",
       "      <td>1</td>\n",
       "      <td>n8vpmpbj</td>\n",
       "      <td>train</td>\n",
       "    </tr>\n",
       "    <tr>\n",
       "      <th>stars_nyolmhfc_cifar10_p1</th>\n",
       "      <td>0.098114</td>\n",
       "      <td>stars</td>\n",
       "      <td>cifar10</td>\n",
       "      <td>1</td>\n",
       "      <td>nyolmhfc</td>\n",
       "      <td>train</td>\n",
       "    </tr>\n",
       "    <tr>\n",
       "      <th>stars_wrvljast_cifar10_p1</th>\n",
       "      <td>0.102421</td>\n",
       "      <td>stars</td>\n",
       "      <td>cifar10</td>\n",
       "      <td>1</td>\n",
       "      <td>wrvljast</td>\n",
       "      <td>train</td>\n",
       "    </tr>\n",
       "  </tbody>\n",
       "</table>\n",
       "</div>"
      ],
      "text/plain": [
       "                               margin model_type dataset_name  percent  \\\n",
       "anchors_2oo0upw1_cifar10_p1  0.118189    anchors      cifar10        1   \n",
       "anchors_3m2c3guk_cifar10_p1  0.118039    anchors      cifar10        1   \n",
       "anchors_448kfne2_cifar10_p1  0.112324    anchors      cifar10        1   \n",
       "anchors_52l22gc1_cifar10_p1  0.118346    anchors      cifar10        1   \n",
       "anchors_5791j5is_cifar10_p1  0.116815    anchors      cifar10        1   \n",
       "anchors_5hrwt8sd_cifar10_p1  0.121371    anchors      cifar10        1   \n",
       "anchors_6ids7w54_cifar10_p1  0.108609    anchors      cifar10        1   \n",
       "anchors_6kxd228s_cifar10_p1  0.112535    anchors      cifar10        1   \n",
       "anchors_7sckybft_cifar10_p1  0.120158    anchors      cifar10        1   \n",
       "anchors_7y4wdzel_cifar10_p1  0.122731    anchors      cifar10        1   \n",
       "stars_6gps5q6c_cifar10_p1    0.093374      stars      cifar10        1   \n",
       "stars_82pxe1i8_cifar10_p1    0.094880      stars      cifar10        1   \n",
       "stars_8dirowph_cifar10_p1    0.097538      stars      cifar10        1   \n",
       "stars_bezgu0h7_cifar10_p1    0.098299      stars      cifar10        1   \n",
       "stars_by2vpp9d_cifar10_p1    0.099257      stars      cifar10        1   \n",
       "stars_h2qjwxrq_cifar10_p1    0.095268      stars      cifar10        1   \n",
       "stars_n5sjdrla_cifar10_p1    0.096734      stars      cifar10        1   \n",
       "stars_n8vpmpbj_cifar10_p1    0.096390      stars      cifar10        1   \n",
       "stars_nyolmhfc_cifar10_p1    0.098114      stars      cifar10        1   \n",
       "stars_wrvljast_cifar10_p1    0.102421      stars      cifar10        1   \n",
       "\n",
       "                             model_id split_name  \n",
       "anchors_2oo0upw1_cifar10_p1  2oo0upw1      train  \n",
       "anchors_3m2c3guk_cifar10_p1  3m2c3guk      train  \n",
       "anchors_448kfne2_cifar10_p1  448kfne2      train  \n",
       "anchors_52l22gc1_cifar10_p1  52l22gc1      train  \n",
       "anchors_5791j5is_cifar10_p1  5791j5is      train  \n",
       "anchors_5hrwt8sd_cifar10_p1  5hrwt8sd      train  \n",
       "anchors_6ids7w54_cifar10_p1  6ids7w54      train  \n",
       "anchors_6kxd228s_cifar10_p1  6kxd228s      train  \n",
       "anchors_7sckybft_cifar10_p1  7sckybft      train  \n",
       "anchors_7y4wdzel_cifar10_p1  7y4wdzel      train  \n",
       "stars_6gps5q6c_cifar10_p1    6gps5q6c      train  \n",
       "stars_82pxe1i8_cifar10_p1    82pxe1i8      train  \n",
       "stars_8dirowph_cifar10_p1    8dirowph      train  \n",
       "stars_bezgu0h7_cifar10_p1    bezgu0h7      train  \n",
       "stars_by2vpp9d_cifar10_p1    by2vpp9d      train  \n",
       "stars_h2qjwxrq_cifar10_p1    h2qjwxrq      train  \n",
       "stars_n5sjdrla_cifar10_p1    n5sjdrla      train  \n",
       "stars_n8vpmpbj_cifar10_p1    n8vpmpbj      train  \n",
       "stars_nyolmhfc_cifar10_p1    nyolmhfc      train  \n",
       "stars_wrvljast_cifar10_p1    wrvljast      train  "
      ]
     },
     "metadata": {},
     "output_type": "display_data"
    }
   ],
   "source": [
    "df = plot_dict(max_cifar10_resnet18_results, to_show=True)"
   ]
  },
  {
   "cell_type": "code",
   "execution_count": 97,
   "metadata": {},
   "outputs": [
    {
     "data": {
      "text/html": [
       "<div>\n",
       "<style scoped>\n",
       "    .dataframe tbody tr th:only-of-type {\n",
       "        vertical-align: middle;\n",
       "    }\n",
       "\n",
       "    .dataframe tbody tr th {\n",
       "        vertical-align: top;\n",
       "    }\n",
       "\n",
       "    .dataframe thead tr th {\n",
       "        text-align: left;\n",
       "    }\n",
       "\n",
       "    .dataframe thead tr:last-of-type th {\n",
       "        text-align: right;\n",
       "    }\n",
       "</style>\n",
       "<table border=\"1\" class=\"dataframe\">\n",
       "  <thead>\n",
       "    <tr>\n",
       "      <th></th>\n",
       "      <th colspan=\"2\" halign=\"left\">margin</th>\n",
       "      <th colspan=\"2\" halign=\"left\">percent</th>\n",
       "    </tr>\n",
       "    <tr>\n",
       "      <th></th>\n",
       "      <th>mean</th>\n",
       "      <th>std</th>\n",
       "      <th>mean</th>\n",
       "      <th>std</th>\n",
       "    </tr>\n",
       "    <tr>\n",
       "      <th>model_type</th>\n",
       "      <th></th>\n",
       "      <th></th>\n",
       "      <th></th>\n",
       "      <th></th>\n",
       "    </tr>\n",
       "  </thead>\n",
       "  <tbody>\n",
       "    <tr>\n",
       "      <th>anchors</th>\n",
       "      <td>0.116912</td>\n",
       "      <td>0.004452</td>\n",
       "      <td>1.0</td>\n",
       "      <td>0.0</td>\n",
       "    </tr>\n",
       "    <tr>\n",
       "      <th>stars</th>\n",
       "      <td>0.097228</td>\n",
       "      <td>0.002544</td>\n",
       "      <td>1.0</td>\n",
       "      <td>0.0</td>\n",
       "    </tr>\n",
       "  </tbody>\n",
       "</table>\n",
       "</div>"
      ],
      "text/plain": [
       "              margin           percent     \n",
       "                mean       std    mean  std\n",
       "model_type                                 \n",
       "anchors     0.116912  0.004452     1.0  0.0\n",
       "stars       0.097228  0.002544     1.0  0.0"
      ]
     },
     "metadata": {},
     "output_type": "display_data"
    }
   ],
   "source": [
    "df = plot_dict(max_cifar10_resnet18_results, to_show=True, drop_columns=[\"index\", \"dataset_name\", \"model_id\", \"split_name\"], group_aggregate_list=[\"model_type\"], query=\"percent == 1.00\")"
   ]
  },
  {
   "cell_type": "markdown",
   "metadata": {},
   "source": [
    "### Max"
   ]
  },
  {
   "cell_type": "code",
   "execution_count": 258,
   "metadata": {},
   "outputs": [
    {
     "name": "stdout",
     "output_type": "stream",
     "text": [
      "Loading existing results from ./max_cifar10_resnet18_results.pt\n",
      "Computing results for anchors_2oo0upw1_cifar10_p1\n"
     ]
    },
    {
     "name": "stderr",
     "output_type": "stream",
     "text": [
      "batch: 100%|██████████| 176/176 [00:51<00:00,  3.41it/s]\n"
     ]
    },
    {
     "name": "stdout",
     "output_type": "stream",
     "text": [
      "Computing results for anchors_3m2c3guk_cifar10_p1\n"
     ]
    },
    {
     "name": "stderr",
     "output_type": "stream",
     "text": [
      "batch: 100%|██████████| 176/176 [00:51<00:00,  3.39it/s]\n"
     ]
    },
    {
     "name": "stdout",
     "output_type": "stream",
     "text": [
      "Computing results for anchors_448kfne2_cifar10_p1\n"
     ]
    },
    {
     "name": "stderr",
     "output_type": "stream",
     "text": [
      "batch: 100%|██████████| 176/176 [00:51<00:00,  3.39it/s]\n"
     ]
    },
    {
     "name": "stdout",
     "output_type": "stream",
     "text": [
      "Computing results for anchors_52l22gc1_cifar10_p1\n"
     ]
    },
    {
     "name": "stderr",
     "output_type": "stream",
     "text": [
      "batch: 100%|██████████| 176/176 [00:52<00:00,  3.38it/s]\n"
     ]
    },
    {
     "name": "stdout",
     "output_type": "stream",
     "text": [
      "Computing results for anchors_5791j5is_cifar10_p1\n"
     ]
    },
    {
     "name": "stderr",
     "output_type": "stream",
     "text": [
      "batch: 100%|██████████| 176/176 [00:52<00:00,  3.38it/s]\n"
     ]
    },
    {
     "name": "stdout",
     "output_type": "stream",
     "text": [
      "Computing results for anchors_5hrwt8sd_cifar10_p1\n"
     ]
    },
    {
     "name": "stderr",
     "output_type": "stream",
     "text": [
      "batch: 100%|██████████| 176/176 [00:51<00:00,  3.39it/s]\n"
     ]
    },
    {
     "name": "stdout",
     "output_type": "stream",
     "text": [
      "Computing results for anchors_6ids7w54_cifar10_p1\n"
     ]
    },
    {
     "name": "stderr",
     "output_type": "stream",
     "text": [
      "batch: 100%|██████████| 176/176 [00:51<00:00,  3.39it/s]\n"
     ]
    },
    {
     "name": "stdout",
     "output_type": "stream",
     "text": [
      "Computing results for anchors_6kxd228s_cifar10_p1\n"
     ]
    },
    {
     "name": "stderr",
     "output_type": "stream",
     "text": [
      "batch: 100%|██████████| 176/176 [00:51<00:00,  3.39it/s]\n"
     ]
    },
    {
     "name": "stdout",
     "output_type": "stream",
     "text": [
      "Computing results for anchors_7sckybft_cifar10_p1\n"
     ]
    },
    {
     "name": "stderr",
     "output_type": "stream",
     "text": [
      "batch: 100%|██████████| 176/176 [00:51<00:00,  3.39it/s]\n"
     ]
    },
    {
     "name": "stdout",
     "output_type": "stream",
     "text": [
      "Computing results for anchors_7y4wdzel_cifar10_p1\n"
     ]
    },
    {
     "name": "stderr",
     "output_type": "stream",
     "text": [
      "batch: 100%|██████████| 176/176 [00:51<00:00,  3.39it/s]\n"
     ]
    },
    {
     "name": "stdout",
     "output_type": "stream",
     "text": [
      "Computing results for stars_6gps5q6c_cifar10_p1\n"
     ]
    },
    {
     "name": "stderr",
     "output_type": "stream",
     "text": [
      "batch: 100%|██████████| 176/176 [00:51<00:00,  3.39it/s]\n"
     ]
    },
    {
     "name": "stdout",
     "output_type": "stream",
     "text": [
      "Computing results for stars_82pxe1i8_cifar10_p1\n"
     ]
    },
    {
     "name": "stderr",
     "output_type": "stream",
     "text": [
      "batch: 100%|██████████| 176/176 [00:51<00:00,  3.39it/s]\n"
     ]
    },
    {
     "name": "stdout",
     "output_type": "stream",
     "text": [
      "Computing results for stars_8dirowph_cifar10_p1\n"
     ]
    },
    {
     "name": "stderr",
     "output_type": "stream",
     "text": [
      "batch: 100%|██████████| 176/176 [00:51<00:00,  3.39it/s]\n"
     ]
    },
    {
     "name": "stdout",
     "output_type": "stream",
     "text": [
      "Computing results for stars_bezgu0h7_cifar10_p1\n"
     ]
    },
    {
     "name": "stderr",
     "output_type": "stream",
     "text": [
      "batch: 100%|██████████| 176/176 [00:51<00:00,  3.39it/s]\n"
     ]
    },
    {
     "name": "stdout",
     "output_type": "stream",
     "text": [
      "Computing results for stars_by2vpp9d_cifar10_p1\n"
     ]
    },
    {
     "name": "stderr",
     "output_type": "stream",
     "text": [
      "batch: 100%|██████████| 176/176 [00:51<00:00,  3.39it/s]\n"
     ]
    },
    {
     "name": "stdout",
     "output_type": "stream",
     "text": [
      "Computing results for stars_h2qjwxrq_cifar10_p1\n"
     ]
    },
    {
     "name": "stderr",
     "output_type": "stream",
     "text": [
      "batch: 100%|██████████| 176/176 [00:51<00:00,  3.39it/s]\n"
     ]
    },
    {
     "name": "stdout",
     "output_type": "stream",
     "text": [
      "Computing results for stars_n5sjdrla_cifar10_p1\n"
     ]
    },
    {
     "name": "stderr",
     "output_type": "stream",
     "text": [
      "batch: 100%|██████████| 176/176 [00:51<00:00,  3.39it/s]\n"
     ]
    },
    {
     "name": "stdout",
     "output_type": "stream",
     "text": [
      "Computing results for stars_n8vpmpbj_cifar10_p1\n"
     ]
    },
    {
     "name": "stderr",
     "output_type": "stream",
     "text": [
      "batch: 100%|██████████| 176/176 [00:51<00:00,  3.39it/s]\n"
     ]
    },
    {
     "name": "stdout",
     "output_type": "stream",
     "text": [
      "Computing results for stars_nyolmhfc_cifar10_p1\n"
     ]
    },
    {
     "name": "stderr",
     "output_type": "stream",
     "text": [
      "batch: 100%|██████████| 176/176 [00:51<00:00,  3.39it/s]\n"
     ]
    },
    {
     "name": "stdout",
     "output_type": "stream",
     "text": [
      "Computing results for stars_wrvljast_cifar10_p1\n"
     ]
    },
    {
     "name": "stderr",
     "output_type": "stream",
     "text": [
      "batch: 100%|██████████| 176/176 [00:51<00:00,  3.39it/s]\n"
     ]
    }
   ],
   "source": [
    "cifar10_resnet18_res_path = \"./max_cifar10_resnet18_results.pt\"\n",
    "\n",
    "last_10_stars_cifar10_resnet18 = [path for path in stars_resnet18 if get_model_id(path) in last_10_stars]\n",
    "\n",
    "max_cifar10_resnet18_results = compute_results(\n",
    "    anchors_resnet18[:10] + last_10_stars_cifar10_resnet18,\n",
    "    # anchors_resnet18[:2] + last_10_stars_cifar10_resnet18[:2],\n",
    "    cifar10_train_dataloader,\n",
    "    cifar10_resnet18_res_path,\n",
    "    split_name=\"train\",\n",
    "    percent=1,\n",
    "    # percent=0.05,\n",
    "    load_model=get_resnet18_cifar,\n",
    "    # recompute_substring=\"p0\"\n",
    "    recompute_substring=None,\n",
    "    agg=\"max\"\n",
    ")"
   ]
  },
  {
   "cell_type": "code",
   "execution_count": 23,
   "metadata": {},
   "outputs": [],
   "source": [
    "max_cifar10_resnet18_res_path = \"./max_cifar10_resnet18_results.pt\"\n",
    "max_cifar10_resnet18_results = torch.load(max_cifar10_resnet18_res_path)"
   ]
  },
  {
   "cell_type": "code",
   "execution_count": 24,
   "metadata": {},
   "outputs": [
    {
     "data": {
      "text/html": [
       "<div>\n",
       "<style scoped>\n",
       "    .dataframe tbody tr th:only-of-type {\n",
       "        vertical-align: middle;\n",
       "    }\n",
       "\n",
       "    .dataframe tbody tr th {\n",
       "        vertical-align: top;\n",
       "    }\n",
       "\n",
       "    .dataframe thead th {\n",
       "        text-align: right;\n",
       "    }\n",
       "</style>\n",
       "<table border=\"1\" class=\"dataframe\">\n",
       "  <thead>\n",
       "    <tr style=\"text-align: right;\">\n",
       "      <th></th>\n",
       "      <th>margin</th>\n",
       "      <th>model_type</th>\n",
       "      <th>dataset_name</th>\n",
       "      <th>percent</th>\n",
       "      <th>model_id</th>\n",
       "      <th>split_name</th>\n",
       "    </tr>\n",
       "  </thead>\n",
       "  <tbody>\n",
       "    <tr>\n",
       "      <th>anchors_2oo0upw1_cifar10_p0.05</th>\n",
       "      <td>0.000104</td>\n",
       "      <td>anchors</td>\n",
       "      <td>cifar10</td>\n",
       "      <td>0.05</td>\n",
       "      <td>2oo0upw1</td>\n",
       "      <td>train</td>\n",
       "    </tr>\n",
       "    <tr>\n",
       "      <th>anchors_3m2c3guk_cifar10_p0.05</th>\n",
       "      <td>0.000104</td>\n",
       "      <td>anchors</td>\n",
       "      <td>cifar10</td>\n",
       "      <td>0.05</td>\n",
       "      <td>3m2c3guk</td>\n",
       "      <td>train</td>\n",
       "    </tr>\n",
       "    <tr>\n",
       "      <th>stars_6gps5q6c_cifar10_p0.05</th>\n",
       "      <td>0.000090</td>\n",
       "      <td>stars</td>\n",
       "      <td>cifar10</td>\n",
       "      <td>0.05</td>\n",
       "      <td>6gps5q6c</td>\n",
       "      <td>train</td>\n",
       "    </tr>\n",
       "    <tr>\n",
       "      <th>stars_82pxe1i8_cifar10_p0.05</th>\n",
       "      <td>0.000089</td>\n",
       "      <td>stars</td>\n",
       "      <td>cifar10</td>\n",
       "      <td>0.05</td>\n",
       "      <td>82pxe1i8</td>\n",
       "      <td>train</td>\n",
       "    </tr>\n",
       "    <tr>\n",
       "      <th>anchors_2oo0upw1_cifar10_p1</th>\n",
       "      <td>0.000105</td>\n",
       "      <td>anchors</td>\n",
       "      <td>cifar10</td>\n",
       "      <td>1.00</td>\n",
       "      <td>2oo0upw1</td>\n",
       "      <td>train</td>\n",
       "    </tr>\n",
       "    <tr>\n",
       "      <th>anchors_3m2c3guk_cifar10_p1</th>\n",
       "      <td>0.000104</td>\n",
       "      <td>anchors</td>\n",
       "      <td>cifar10</td>\n",
       "      <td>1.00</td>\n",
       "      <td>3m2c3guk</td>\n",
       "      <td>train</td>\n",
       "    </tr>\n",
       "    <tr>\n",
       "      <th>anchors_448kfne2_cifar10_p1</th>\n",
       "      <td>0.000100</td>\n",
       "      <td>anchors</td>\n",
       "      <td>cifar10</td>\n",
       "      <td>1.00</td>\n",
       "      <td>448kfne2</td>\n",
       "      <td>train</td>\n",
       "    </tr>\n",
       "    <tr>\n",
       "      <th>anchors_52l22gc1_cifar10_p1</th>\n",
       "      <td>0.000102</td>\n",
       "      <td>anchors</td>\n",
       "      <td>cifar10</td>\n",
       "      <td>1.00</td>\n",
       "      <td>52l22gc1</td>\n",
       "      <td>train</td>\n",
       "    </tr>\n",
       "    <tr>\n",
       "      <th>anchors_5791j5is_cifar10_p1</th>\n",
       "      <td>0.000104</td>\n",
       "      <td>anchors</td>\n",
       "      <td>cifar10</td>\n",
       "      <td>1.00</td>\n",
       "      <td>5791j5is</td>\n",
       "      <td>train</td>\n",
       "    </tr>\n",
       "    <tr>\n",
       "      <th>anchors_5hrwt8sd_cifar10_p1</th>\n",
       "      <td>0.000104</td>\n",
       "      <td>anchors</td>\n",
       "      <td>cifar10</td>\n",
       "      <td>1.00</td>\n",
       "      <td>5hrwt8sd</td>\n",
       "      <td>train</td>\n",
       "    </tr>\n",
       "    <tr>\n",
       "      <th>anchors_6ids7w54_cifar10_p1</th>\n",
       "      <td>0.000096</td>\n",
       "      <td>anchors</td>\n",
       "      <td>cifar10</td>\n",
       "      <td>1.00</td>\n",
       "      <td>6ids7w54</td>\n",
       "      <td>train</td>\n",
       "    </tr>\n",
       "    <tr>\n",
       "      <th>anchors_6kxd228s_cifar10_p1</th>\n",
       "      <td>0.000100</td>\n",
       "      <td>anchors</td>\n",
       "      <td>cifar10</td>\n",
       "      <td>1.00</td>\n",
       "      <td>6kxd228s</td>\n",
       "      <td>train</td>\n",
       "    </tr>\n",
       "    <tr>\n",
       "      <th>anchors_7sckybft_cifar10_p1</th>\n",
       "      <td>0.000107</td>\n",
       "      <td>anchors</td>\n",
       "      <td>cifar10</td>\n",
       "      <td>1.00</td>\n",
       "      <td>7sckybft</td>\n",
       "      <td>train</td>\n",
       "    </tr>\n",
       "    <tr>\n",
       "      <th>anchors_7y4wdzel_cifar10_p1</th>\n",
       "      <td>0.000110</td>\n",
       "      <td>anchors</td>\n",
       "      <td>cifar10</td>\n",
       "      <td>1.00</td>\n",
       "      <td>7y4wdzel</td>\n",
       "      <td>train</td>\n",
       "    </tr>\n",
       "    <tr>\n",
       "      <th>stars_6gps5q6c_cifar10_p1</th>\n",
       "      <td>0.000087</td>\n",
       "      <td>stars</td>\n",
       "      <td>cifar10</td>\n",
       "      <td>1.00</td>\n",
       "      <td>6gps5q6c</td>\n",
       "      <td>train</td>\n",
       "    </tr>\n",
       "    <tr>\n",
       "      <th>stars_82pxe1i8_cifar10_p1</th>\n",
       "      <td>0.000088</td>\n",
       "      <td>stars</td>\n",
       "      <td>cifar10</td>\n",
       "      <td>1.00</td>\n",
       "      <td>82pxe1i8</td>\n",
       "      <td>train</td>\n",
       "    </tr>\n",
       "    <tr>\n",
       "      <th>stars_8dirowph_cifar10_p1</th>\n",
       "      <td>0.000091</td>\n",
       "      <td>stars</td>\n",
       "      <td>cifar10</td>\n",
       "      <td>1.00</td>\n",
       "      <td>8dirowph</td>\n",
       "      <td>train</td>\n",
       "    </tr>\n",
       "    <tr>\n",
       "      <th>stars_bezgu0h7_cifar10_p1</th>\n",
       "      <td>0.000089</td>\n",
       "      <td>stars</td>\n",
       "      <td>cifar10</td>\n",
       "      <td>1.00</td>\n",
       "      <td>bezgu0h7</td>\n",
       "      <td>train</td>\n",
       "    </tr>\n",
       "    <tr>\n",
       "      <th>stars_by2vpp9d_cifar10_p1</th>\n",
       "      <td>0.000091</td>\n",
       "      <td>stars</td>\n",
       "      <td>cifar10</td>\n",
       "      <td>1.00</td>\n",
       "      <td>by2vpp9d</td>\n",
       "      <td>train</td>\n",
       "    </tr>\n",
       "    <tr>\n",
       "      <th>stars_h2qjwxrq_cifar10_p1</th>\n",
       "      <td>0.000090</td>\n",
       "      <td>stars</td>\n",
       "      <td>cifar10</td>\n",
       "      <td>1.00</td>\n",
       "      <td>h2qjwxrq</td>\n",
       "      <td>train</td>\n",
       "    </tr>\n",
       "    <tr>\n",
       "      <th>stars_n5sjdrla_cifar10_p1</th>\n",
       "      <td>0.000088</td>\n",
       "      <td>stars</td>\n",
       "      <td>cifar10</td>\n",
       "      <td>1.00</td>\n",
       "      <td>n5sjdrla</td>\n",
       "      <td>train</td>\n",
       "    </tr>\n",
       "    <tr>\n",
       "      <th>stars_n8vpmpbj_cifar10_p1</th>\n",
       "      <td>0.000087</td>\n",
       "      <td>stars</td>\n",
       "      <td>cifar10</td>\n",
       "      <td>1.00</td>\n",
       "      <td>n8vpmpbj</td>\n",
       "      <td>train</td>\n",
       "    </tr>\n",
       "    <tr>\n",
       "      <th>stars_nyolmhfc_cifar10_p1</th>\n",
       "      <td>0.000088</td>\n",
       "      <td>stars</td>\n",
       "      <td>cifar10</td>\n",
       "      <td>1.00</td>\n",
       "      <td>nyolmhfc</td>\n",
       "      <td>train</td>\n",
       "    </tr>\n",
       "    <tr>\n",
       "      <th>stars_wrvljast_cifar10_p1</th>\n",
       "      <td>0.000094</td>\n",
       "      <td>stars</td>\n",
       "      <td>cifar10</td>\n",
       "      <td>1.00</td>\n",
       "      <td>wrvljast</td>\n",
       "      <td>train</td>\n",
       "    </tr>\n",
       "  </tbody>\n",
       "</table>\n",
       "</div>"
      ],
      "text/plain": [
       "                                  margin model_type dataset_name  percent  \\\n",
       "anchors_2oo0upw1_cifar10_p0.05  0.000104    anchors      cifar10     0.05   \n",
       "anchors_3m2c3guk_cifar10_p0.05  0.000104    anchors      cifar10     0.05   \n",
       "stars_6gps5q6c_cifar10_p0.05    0.000090      stars      cifar10     0.05   \n",
       "stars_82pxe1i8_cifar10_p0.05    0.000089      stars      cifar10     0.05   \n",
       "anchors_2oo0upw1_cifar10_p1     0.000105    anchors      cifar10     1.00   \n",
       "anchors_3m2c3guk_cifar10_p1     0.000104    anchors      cifar10     1.00   \n",
       "anchors_448kfne2_cifar10_p1     0.000100    anchors      cifar10     1.00   \n",
       "anchors_52l22gc1_cifar10_p1     0.000102    anchors      cifar10     1.00   \n",
       "anchors_5791j5is_cifar10_p1     0.000104    anchors      cifar10     1.00   \n",
       "anchors_5hrwt8sd_cifar10_p1     0.000104    anchors      cifar10     1.00   \n",
       "anchors_6ids7w54_cifar10_p1     0.000096    anchors      cifar10     1.00   \n",
       "anchors_6kxd228s_cifar10_p1     0.000100    anchors      cifar10     1.00   \n",
       "anchors_7sckybft_cifar10_p1     0.000107    anchors      cifar10     1.00   \n",
       "anchors_7y4wdzel_cifar10_p1     0.000110    anchors      cifar10     1.00   \n",
       "stars_6gps5q6c_cifar10_p1       0.000087      stars      cifar10     1.00   \n",
       "stars_82pxe1i8_cifar10_p1       0.000088      stars      cifar10     1.00   \n",
       "stars_8dirowph_cifar10_p1       0.000091      stars      cifar10     1.00   \n",
       "stars_bezgu0h7_cifar10_p1       0.000089      stars      cifar10     1.00   \n",
       "stars_by2vpp9d_cifar10_p1       0.000091      stars      cifar10     1.00   \n",
       "stars_h2qjwxrq_cifar10_p1       0.000090      stars      cifar10     1.00   \n",
       "stars_n5sjdrla_cifar10_p1       0.000088      stars      cifar10     1.00   \n",
       "stars_n8vpmpbj_cifar10_p1       0.000087      stars      cifar10     1.00   \n",
       "stars_nyolmhfc_cifar10_p1       0.000088      stars      cifar10     1.00   \n",
       "stars_wrvljast_cifar10_p1       0.000094      stars      cifar10     1.00   \n",
       "\n",
       "                                model_id split_name  \n",
       "anchors_2oo0upw1_cifar10_p0.05  2oo0upw1      train  \n",
       "anchors_3m2c3guk_cifar10_p0.05  3m2c3guk      train  \n",
       "stars_6gps5q6c_cifar10_p0.05    6gps5q6c      train  \n",
       "stars_82pxe1i8_cifar10_p0.05    82pxe1i8      train  \n",
       "anchors_2oo0upw1_cifar10_p1     2oo0upw1      train  \n",
       "anchors_3m2c3guk_cifar10_p1     3m2c3guk      train  \n",
       "anchors_448kfne2_cifar10_p1     448kfne2      train  \n",
       "anchors_52l22gc1_cifar10_p1     52l22gc1      train  \n",
       "anchors_5791j5is_cifar10_p1     5791j5is      train  \n",
       "anchors_5hrwt8sd_cifar10_p1     5hrwt8sd      train  \n",
       "anchors_6ids7w54_cifar10_p1     6ids7w54      train  \n",
       "anchors_6kxd228s_cifar10_p1     6kxd228s      train  \n",
       "anchors_7sckybft_cifar10_p1     7sckybft      train  \n",
       "anchors_7y4wdzel_cifar10_p1     7y4wdzel      train  \n",
       "stars_6gps5q6c_cifar10_p1       6gps5q6c      train  \n",
       "stars_82pxe1i8_cifar10_p1       82pxe1i8      train  \n",
       "stars_8dirowph_cifar10_p1       8dirowph      train  \n",
       "stars_bezgu0h7_cifar10_p1       bezgu0h7      train  \n",
       "stars_by2vpp9d_cifar10_p1       by2vpp9d      train  \n",
       "stars_h2qjwxrq_cifar10_p1       h2qjwxrq      train  \n",
       "stars_n5sjdrla_cifar10_p1       n5sjdrla      train  \n",
       "stars_n8vpmpbj_cifar10_p1       n8vpmpbj      train  \n",
       "stars_nyolmhfc_cifar10_p1       nyolmhfc      train  \n",
       "stars_wrvljast_cifar10_p1       wrvljast      train  "
      ]
     },
     "metadata": {},
     "output_type": "display_data"
    }
   ],
   "source": [
    "df = plot_dict(max_cifar10_resnet18_results, to_show=True)"
   ]
  },
  {
   "cell_type": "code",
   "execution_count": 257,
   "metadata": {},
   "outputs": [
    {
     "data": {
      "text/html": [
       "<div>\n",
       "<style scoped>\n",
       "    .dataframe tbody tr th:only-of-type {\n",
       "        vertical-align: middle;\n",
       "    }\n",
       "\n",
       "    .dataframe tbody tr th {\n",
       "        vertical-align: top;\n",
       "    }\n",
       "\n",
       "    .dataframe thead tr th {\n",
       "        text-align: left;\n",
       "    }\n",
       "\n",
       "    .dataframe thead tr:last-of-type th {\n",
       "        text-align: right;\n",
       "    }\n",
       "</style>\n",
       "<table border=\"1\" class=\"dataframe\">\n",
       "  <thead>\n",
       "    <tr>\n",
       "      <th></th>\n",
       "      <th colspan=\"2\" halign=\"left\">margin</th>\n",
       "      <th colspan=\"2\" halign=\"left\">percent</th>\n",
       "    </tr>\n",
       "    <tr>\n",
       "      <th></th>\n",
       "      <th>mean</th>\n",
       "      <th>std</th>\n",
       "      <th>mean</th>\n",
       "      <th>std</th>\n",
       "    </tr>\n",
       "    <tr>\n",
       "      <th>model_type</th>\n",
       "      <th></th>\n",
       "      <th></th>\n",
       "      <th></th>\n",
       "      <th></th>\n",
       "    </tr>\n",
       "  </thead>\n",
       "  <tbody>\n",
       "    <tr>\n",
       "      <th>anchors</th>\n",
       "      <td>0.000104</td>\n",
       "      <td>7.450299e-08</td>\n",
       "      <td>0.05</td>\n",
       "      <td>0.0</td>\n",
       "    </tr>\n",
       "    <tr>\n",
       "      <th>stars</th>\n",
       "      <td>0.000090</td>\n",
       "      <td>4.076185e-07</td>\n",
       "      <td>0.05</td>\n",
       "      <td>0.0</td>\n",
       "    </tr>\n",
       "  </tbody>\n",
       "</table>\n",
       "</div>"
      ],
      "text/plain": [
       "              margin               percent     \n",
       "                mean           std    mean  std\n",
       "model_type                                     \n",
       "anchors     0.000104  7.450299e-08    0.05  0.0\n",
       "stars       0.000090  4.076185e-07    0.05  0.0"
      ]
     },
     "metadata": {},
     "output_type": "display_data"
    }
   ],
   "source": [
    "df = plot_dict(max_cifar10_resnet18_results, to_show=True, drop_columns=[\"index\", \"dataset_name\", \"model_id\", \"split_name\"], group_aggregate_list=[\"model_type\"], query=\"percent == 1.00\")\n",
    "# df = plot_dict(max_cifar10_resnet18_results, to_show=True, drop_columns=[\"index\", \"dataset_name\", \"model_id\", \"split_name\"], group_aggregate_list=[\"model_type\"], query=\"percent == 0.05\")"
   ]
  },
  {
   "cell_type": "markdown",
   "metadata": {},
   "source": [
    "### Mean"
   ]
  },
  {
   "cell_type": "code",
   "execution_count": null,
   "metadata": {},
   "outputs": [],
   "source": [
    "margin_on_dataloader(get_resnet18_cifar(anchors_resnet18[0]), get_resnet18_cifar(anchors_resnet18[1]), cifar10_train_dataloader, percent=0.10, device=\"cuda:0\")"
   ]
  },
  {
   "cell_type": "code",
   "execution_count": 236,
   "metadata": {},
   "outputs": [
    {
     "name": "stdout",
     "output_type": "stream",
     "text": [
      "Loading existing results from ./cifar10_resnet18_results.pt\n",
      "Computing results for anchors_2oo0upw1_cifar10_p1\n"
     ]
    },
    {
     "name": "stderr",
     "output_type": "stream",
     "text": [
      "batch: 100%|██████████| 176/176 [00:51<00:00,  3.41it/s]\n"
     ]
    },
    {
     "name": "stdout",
     "output_type": "stream",
     "text": [
      "Computing results for anchors_3m2c3guk_cifar10_p1\n"
     ]
    },
    {
     "name": "stderr",
     "output_type": "stream",
     "text": [
      "batch: 100%|██████████| 176/176 [00:51<00:00,  3.40it/s]\n"
     ]
    },
    {
     "name": "stdout",
     "output_type": "stream",
     "text": [
      "Computing results for anchors_448kfne2_cifar10_p1\n"
     ]
    },
    {
     "name": "stderr",
     "output_type": "stream",
     "text": [
      "batch: 100%|██████████| 176/176 [00:51<00:00,  3.39it/s]\n"
     ]
    },
    {
     "name": "stdout",
     "output_type": "stream",
     "text": [
      "Computing results for anchors_52l22gc1_cifar10_p1\n"
     ]
    },
    {
     "name": "stderr",
     "output_type": "stream",
     "text": [
      "batch: 100%|██████████| 176/176 [00:51<00:00,  3.39it/s]\n"
     ]
    },
    {
     "name": "stdout",
     "output_type": "stream",
     "text": [
      "Computing results for anchors_5791j5is_cifar10_p1\n"
     ]
    },
    {
     "name": "stderr",
     "output_type": "stream",
     "text": [
      "batch: 100%|██████████| 176/176 [00:51<00:00,  3.39it/s]\n"
     ]
    },
    {
     "name": "stdout",
     "output_type": "stream",
     "text": [
      "Computing results for anchors_5hrwt8sd_cifar10_p1\n"
     ]
    },
    {
     "name": "stderr",
     "output_type": "stream",
     "text": [
      "batch: 100%|██████████| 176/176 [00:51<00:00,  3.39it/s]\n"
     ]
    },
    {
     "name": "stdout",
     "output_type": "stream",
     "text": [
      "Computing results for anchors_6ids7w54_cifar10_p1\n"
     ]
    },
    {
     "name": "stderr",
     "output_type": "stream",
     "text": [
      "batch: 100%|██████████| 176/176 [00:51<00:00,  3.39it/s]\n"
     ]
    },
    {
     "name": "stdout",
     "output_type": "stream",
     "text": [
      "Computing results for anchors_6kxd228s_cifar10_p1\n"
     ]
    },
    {
     "name": "stderr",
     "output_type": "stream",
     "text": [
      "batch: 100%|██████████| 176/176 [00:51<00:00,  3.40it/s]\n"
     ]
    },
    {
     "name": "stdout",
     "output_type": "stream",
     "text": [
      "Computing results for anchors_7sckybft_cifar10_p1\n"
     ]
    },
    {
     "name": "stderr",
     "output_type": "stream",
     "text": [
      "batch: 100%|██████████| 176/176 [00:51<00:00,  3.39it/s]\n"
     ]
    },
    {
     "name": "stdout",
     "output_type": "stream",
     "text": [
      "Computing results for anchors_7y4wdzel_cifar10_p1\n"
     ]
    },
    {
     "name": "stderr",
     "output_type": "stream",
     "text": [
      "batch: 100%|██████████| 176/176 [00:51<00:00,  3.40it/s]\n"
     ]
    },
    {
     "name": "stdout",
     "output_type": "stream",
     "text": [
      "Computing results for stars_6gps5q6c_cifar10_p1\n"
     ]
    },
    {
     "name": "stderr",
     "output_type": "stream",
     "text": [
      "batch: 100%|██████████| 176/176 [00:51<00:00,  3.39it/s]\n"
     ]
    },
    {
     "name": "stdout",
     "output_type": "stream",
     "text": [
      "Computing results for stars_82pxe1i8_cifar10_p1\n"
     ]
    },
    {
     "name": "stderr",
     "output_type": "stream",
     "text": [
      "batch: 100%|██████████| 176/176 [00:51<00:00,  3.39it/s]\n"
     ]
    },
    {
     "name": "stdout",
     "output_type": "stream",
     "text": [
      "Computing results for stars_8dirowph_cifar10_p1\n"
     ]
    },
    {
     "name": "stderr",
     "output_type": "stream",
     "text": [
      "batch: 100%|██████████| 176/176 [00:51<00:00,  3.39it/s]\n"
     ]
    },
    {
     "name": "stdout",
     "output_type": "stream",
     "text": [
      "Computing results for stars_bezgu0h7_cifar10_p1\n"
     ]
    },
    {
     "name": "stderr",
     "output_type": "stream",
     "text": [
      "batch: 100%|██████████| 176/176 [00:51<00:00,  3.39it/s]\n"
     ]
    },
    {
     "name": "stdout",
     "output_type": "stream",
     "text": [
      "Computing results for stars_by2vpp9d_cifar10_p1\n"
     ]
    },
    {
     "name": "stderr",
     "output_type": "stream",
     "text": [
      "batch: 100%|██████████| 176/176 [00:51<00:00,  3.39it/s]\n"
     ]
    },
    {
     "name": "stdout",
     "output_type": "stream",
     "text": [
      "Computing results for stars_h2qjwxrq_cifar10_p1\n"
     ]
    },
    {
     "name": "stderr",
     "output_type": "stream",
     "text": [
      "batch: 100%|██████████| 176/176 [00:51<00:00,  3.39it/s]\n"
     ]
    },
    {
     "name": "stdout",
     "output_type": "stream",
     "text": [
      "Computing results for stars_n5sjdrla_cifar10_p1\n"
     ]
    },
    {
     "name": "stderr",
     "output_type": "stream",
     "text": [
      "batch: 100%|██████████| 176/176 [00:51<00:00,  3.39it/s]\n"
     ]
    },
    {
     "name": "stdout",
     "output_type": "stream",
     "text": [
      "Computing results for stars_n8vpmpbj_cifar10_p1\n"
     ]
    },
    {
     "name": "stderr",
     "output_type": "stream",
     "text": [
      "batch: 100%|██████████| 176/176 [00:51<00:00,  3.39it/s]\n"
     ]
    },
    {
     "name": "stdout",
     "output_type": "stream",
     "text": [
      "Computing results for stars_nyolmhfc_cifar10_p1\n"
     ]
    },
    {
     "name": "stderr",
     "output_type": "stream",
     "text": [
      "batch: 100%|██████████| 176/176 [00:51<00:00,  3.39it/s]\n"
     ]
    },
    {
     "name": "stdout",
     "output_type": "stream",
     "text": [
      "Computing results for stars_wrvljast_cifar10_p1\n"
     ]
    },
    {
     "name": "stderr",
     "output_type": "stream",
     "text": [
      "batch: 100%|██████████| 176/176 [00:51<00:00,  3.39it/s]\n"
     ]
    }
   ],
   "source": [
    "cifar10_resnet18_res_path = \"./cifar10_resnet18_results.pt\"\n",
    "\n",
    "last_10_stars_cifar10_resnet18 = [path for path in stars_resnet18 if get_model_id(path) in last_10_stars]\n",
    "\n",
    "cifar10_resnet18_results = compute_results(\n",
    "    anchors_resnet18[:10] + last_10_stars_cifar10_resnet18,\n",
    "    cifar10_train_dataloader,\n",
    "    cifar10_resnet18_res_path,\n",
    "    split_name=\"train\",\n",
    "    percent=1,\n",
    "    load_model=get_resnet18_cifar,\n",
    "    # recompute_substring=\"p0\"\n",
    "    recompute_substring=None\n",
    ")"
   ]
  },
  {
   "cell_type": "code",
   "execution_count": 241,
   "metadata": {},
   "outputs": [
    {
     "data": {
      "text/html": [
       "<div>\n",
       "<style scoped>\n",
       "    .dataframe tbody tr th:only-of-type {\n",
       "        vertical-align: middle;\n",
       "    }\n",
       "\n",
       "    .dataframe tbody tr th {\n",
       "        vertical-align: top;\n",
       "    }\n",
       "\n",
       "    .dataframe thead th {\n",
       "        text-align: right;\n",
       "    }\n",
       "</style>\n",
       "<table border=\"1\" class=\"dataframe\">\n",
       "  <thead>\n",
       "    <tr style=\"text-align: right;\">\n",
       "      <th></th>\n",
       "      <th>margin</th>\n",
       "      <th>model_type</th>\n",
       "      <th>dataset_name</th>\n",
       "      <th>percent</th>\n",
       "      <th>model_id</th>\n",
       "      <th>split_name</th>\n",
       "    </tr>\n",
       "  </thead>\n",
       "  <tbody>\n",
       "    <tr>\n",
       "      <th>anchors_2oo0upw1_cifar10_p0.05</th>\n",
       "      <td>0.000081</td>\n",
       "      <td>anchors</td>\n",
       "      <td>cifar10</td>\n",
       "      <td>0.05</td>\n",
       "      <td>2oo0upw1</td>\n",
       "      <td>NaN</td>\n",
       "    </tr>\n",
       "    <tr>\n",
       "      <th>anchors_3m2c3guk_cifar10_p0.05</th>\n",
       "      <td>0.000080</td>\n",
       "      <td>anchors</td>\n",
       "      <td>cifar10</td>\n",
       "      <td>0.05</td>\n",
       "      <td>3m2c3guk</td>\n",
       "      <td>NaN</td>\n",
       "    </tr>\n",
       "    <tr>\n",
       "      <th>stars_0eiwx0xx_cifar10_p0.05</th>\n",
       "      <td>0.000071</td>\n",
       "      <td>stars</td>\n",
       "      <td>cifar10</td>\n",
       "      <td>0.05</td>\n",
       "      <td>0eiwx0xx</td>\n",
       "      <td>NaN</td>\n",
       "    </tr>\n",
       "    <tr>\n",
       "      <th>stars_4s24tjof_cifar10_p0.05</th>\n",
       "      <td>0.000070</td>\n",
       "      <td>stars</td>\n",
       "      <td>cifar10</td>\n",
       "      <td>0.05</td>\n",
       "      <td>4s24tjof</td>\n",
       "      <td>NaN</td>\n",
       "    </tr>\n",
       "    <tr>\n",
       "      <th>anchors_2oo0upw1_cifar10_p1</th>\n",
       "      <td>0.000082</td>\n",
       "      <td>anchors</td>\n",
       "      <td>cifar10</td>\n",
       "      <td>1.00</td>\n",
       "      <td>2oo0upw1</td>\n",
       "      <td>train</td>\n",
       "    </tr>\n",
       "    <tr>\n",
       "      <th>anchors_3m2c3guk_cifar10_p1</th>\n",
       "      <td>0.000081</td>\n",
       "      <td>anchors</td>\n",
       "      <td>cifar10</td>\n",
       "      <td>1.00</td>\n",
       "      <td>3m2c3guk</td>\n",
       "      <td>train</td>\n",
       "    </tr>\n",
       "    <tr>\n",
       "      <th>anchors_448kfne2_cifar10_p1</th>\n",
       "      <td>0.000077</td>\n",
       "      <td>anchors</td>\n",
       "      <td>cifar10</td>\n",
       "      <td>1.00</td>\n",
       "      <td>448kfne2</td>\n",
       "      <td>train</td>\n",
       "    </tr>\n",
       "    <tr>\n",
       "      <th>anchors_52l22gc1_cifar10_p1</th>\n",
       "      <td>0.000080</td>\n",
       "      <td>anchors</td>\n",
       "      <td>cifar10</td>\n",
       "      <td>1.00</td>\n",
       "      <td>52l22gc1</td>\n",
       "      <td>train</td>\n",
       "    </tr>\n",
       "    <tr>\n",
       "      <th>anchors_5791j5is_cifar10_p1</th>\n",
       "      <td>0.000081</td>\n",
       "      <td>anchors</td>\n",
       "      <td>cifar10</td>\n",
       "      <td>1.00</td>\n",
       "      <td>5791j5is</td>\n",
       "      <td>train</td>\n",
       "    </tr>\n",
       "    <tr>\n",
       "      <th>anchors_5hrwt8sd_cifar10_p1</th>\n",
       "      <td>0.000083</td>\n",
       "      <td>anchors</td>\n",
       "      <td>cifar10</td>\n",
       "      <td>1.00</td>\n",
       "      <td>5hrwt8sd</td>\n",
       "      <td>train</td>\n",
       "    </tr>\n",
       "    <tr>\n",
       "      <th>anchors_6ids7w54_cifar10_p1</th>\n",
       "      <td>0.000075</td>\n",
       "      <td>anchors</td>\n",
       "      <td>cifar10</td>\n",
       "      <td>1.00</td>\n",
       "      <td>6ids7w54</td>\n",
       "      <td>train</td>\n",
       "    </tr>\n",
       "    <tr>\n",
       "      <th>anchors_6kxd228s_cifar10_p1</th>\n",
       "      <td>0.000078</td>\n",
       "      <td>anchors</td>\n",
       "      <td>cifar10</td>\n",
       "      <td>1.00</td>\n",
       "      <td>6kxd228s</td>\n",
       "      <td>train</td>\n",
       "    </tr>\n",
       "    <tr>\n",
       "      <th>anchors_7sckybft_cifar10_p1</th>\n",
       "      <td>0.000084</td>\n",
       "      <td>anchors</td>\n",
       "      <td>cifar10</td>\n",
       "      <td>1.00</td>\n",
       "      <td>7sckybft</td>\n",
       "      <td>train</td>\n",
       "    </tr>\n",
       "    <tr>\n",
       "      <th>anchors_7y4wdzel_cifar10_p1</th>\n",
       "      <td>0.000085</td>\n",
       "      <td>anchors</td>\n",
       "      <td>cifar10</td>\n",
       "      <td>1.00</td>\n",
       "      <td>7y4wdzel</td>\n",
       "      <td>train</td>\n",
       "    </tr>\n",
       "    <tr>\n",
       "      <th>stars_6gps5q6c_cifar10_p1</th>\n",
       "      <td>0.000067</td>\n",
       "      <td>stars</td>\n",
       "      <td>cifar10</td>\n",
       "      <td>1.00</td>\n",
       "      <td>6gps5q6c</td>\n",
       "      <td>train</td>\n",
       "    </tr>\n",
       "    <tr>\n",
       "      <th>stars_82pxe1i8_cifar10_p1</th>\n",
       "      <td>0.000068</td>\n",
       "      <td>stars</td>\n",
       "      <td>cifar10</td>\n",
       "      <td>1.00</td>\n",
       "      <td>82pxe1i8</td>\n",
       "      <td>train</td>\n",
       "    </tr>\n",
       "    <tr>\n",
       "      <th>stars_8dirowph_cifar10_p1</th>\n",
       "      <td>0.000071</td>\n",
       "      <td>stars</td>\n",
       "      <td>cifar10</td>\n",
       "      <td>1.00</td>\n",
       "      <td>8dirowph</td>\n",
       "      <td>train</td>\n",
       "    </tr>\n",
       "    <tr>\n",
       "      <th>stars_bezgu0h7_cifar10_p1</th>\n",
       "      <td>0.000070</td>\n",
       "      <td>stars</td>\n",
       "      <td>cifar10</td>\n",
       "      <td>1.00</td>\n",
       "      <td>bezgu0h7</td>\n",
       "      <td>train</td>\n",
       "    </tr>\n",
       "    <tr>\n",
       "      <th>stars_by2vpp9d_cifar10_p1</th>\n",
       "      <td>0.000071</td>\n",
       "      <td>stars</td>\n",
       "      <td>cifar10</td>\n",
       "      <td>1.00</td>\n",
       "      <td>by2vpp9d</td>\n",
       "      <td>train</td>\n",
       "    </tr>\n",
       "    <tr>\n",
       "      <th>stars_h2qjwxrq_cifar10_p1</th>\n",
       "      <td>0.000070</td>\n",
       "      <td>stars</td>\n",
       "      <td>cifar10</td>\n",
       "      <td>1.00</td>\n",
       "      <td>h2qjwxrq</td>\n",
       "      <td>train</td>\n",
       "    </tr>\n",
       "    <tr>\n",
       "      <th>stars_n5sjdrla_cifar10_p1</th>\n",
       "      <td>0.000069</td>\n",
       "      <td>stars</td>\n",
       "      <td>cifar10</td>\n",
       "      <td>1.00</td>\n",
       "      <td>n5sjdrla</td>\n",
       "      <td>train</td>\n",
       "    </tr>\n",
       "    <tr>\n",
       "      <th>stars_n8vpmpbj_cifar10_p1</th>\n",
       "      <td>0.000068</td>\n",
       "      <td>stars</td>\n",
       "      <td>cifar10</td>\n",
       "      <td>1.00</td>\n",
       "      <td>n8vpmpbj</td>\n",
       "      <td>train</td>\n",
       "    </tr>\n",
       "    <tr>\n",
       "      <th>stars_nyolmhfc_cifar10_p1</th>\n",
       "      <td>0.000070</td>\n",
       "      <td>stars</td>\n",
       "      <td>cifar10</td>\n",
       "      <td>1.00</td>\n",
       "      <td>nyolmhfc</td>\n",
       "      <td>train</td>\n",
       "    </tr>\n",
       "    <tr>\n",
       "      <th>stars_wrvljast_cifar10_p1</th>\n",
       "      <td>0.000073</td>\n",
       "      <td>stars</td>\n",
       "      <td>cifar10</td>\n",
       "      <td>1.00</td>\n",
       "      <td>wrvljast</td>\n",
       "      <td>train</td>\n",
       "    </tr>\n",
       "  </tbody>\n",
       "</table>\n",
       "</div>"
      ],
      "text/plain": [
       "                                  margin model_type dataset_name  percent  \\\n",
       "anchors_2oo0upw1_cifar10_p0.05  0.000081    anchors      cifar10     0.05   \n",
       "anchors_3m2c3guk_cifar10_p0.05  0.000080    anchors      cifar10     0.05   \n",
       "stars_0eiwx0xx_cifar10_p0.05    0.000071      stars      cifar10     0.05   \n",
       "stars_4s24tjof_cifar10_p0.05    0.000070      stars      cifar10     0.05   \n",
       "anchors_2oo0upw1_cifar10_p1     0.000082    anchors      cifar10     1.00   \n",
       "anchors_3m2c3guk_cifar10_p1     0.000081    anchors      cifar10     1.00   \n",
       "anchors_448kfne2_cifar10_p1     0.000077    anchors      cifar10     1.00   \n",
       "anchors_52l22gc1_cifar10_p1     0.000080    anchors      cifar10     1.00   \n",
       "anchors_5791j5is_cifar10_p1     0.000081    anchors      cifar10     1.00   \n",
       "anchors_5hrwt8sd_cifar10_p1     0.000083    anchors      cifar10     1.00   \n",
       "anchors_6ids7w54_cifar10_p1     0.000075    anchors      cifar10     1.00   \n",
       "anchors_6kxd228s_cifar10_p1     0.000078    anchors      cifar10     1.00   \n",
       "anchors_7sckybft_cifar10_p1     0.000084    anchors      cifar10     1.00   \n",
       "anchors_7y4wdzel_cifar10_p1     0.000085    anchors      cifar10     1.00   \n",
       "stars_6gps5q6c_cifar10_p1       0.000067      stars      cifar10     1.00   \n",
       "stars_82pxe1i8_cifar10_p1       0.000068      stars      cifar10     1.00   \n",
       "stars_8dirowph_cifar10_p1       0.000071      stars      cifar10     1.00   \n",
       "stars_bezgu0h7_cifar10_p1       0.000070      stars      cifar10     1.00   \n",
       "stars_by2vpp9d_cifar10_p1       0.000071      stars      cifar10     1.00   \n",
       "stars_h2qjwxrq_cifar10_p1       0.000070      stars      cifar10     1.00   \n",
       "stars_n5sjdrla_cifar10_p1       0.000069      stars      cifar10     1.00   \n",
       "stars_n8vpmpbj_cifar10_p1       0.000068      stars      cifar10     1.00   \n",
       "stars_nyolmhfc_cifar10_p1       0.000070      stars      cifar10     1.00   \n",
       "stars_wrvljast_cifar10_p1       0.000073      stars      cifar10     1.00   \n",
       "\n",
       "                                model_id split_name  \n",
       "anchors_2oo0upw1_cifar10_p0.05  2oo0upw1        NaN  \n",
       "anchors_3m2c3guk_cifar10_p0.05  3m2c3guk        NaN  \n",
       "stars_0eiwx0xx_cifar10_p0.05    0eiwx0xx        NaN  \n",
       "stars_4s24tjof_cifar10_p0.05    4s24tjof        NaN  \n",
       "anchors_2oo0upw1_cifar10_p1     2oo0upw1      train  \n",
       "anchors_3m2c3guk_cifar10_p1     3m2c3guk      train  \n",
       "anchors_448kfne2_cifar10_p1     448kfne2      train  \n",
       "anchors_52l22gc1_cifar10_p1     52l22gc1      train  \n",
       "anchors_5791j5is_cifar10_p1     5791j5is      train  \n",
       "anchors_5hrwt8sd_cifar10_p1     5hrwt8sd      train  \n",
       "anchors_6ids7w54_cifar10_p1     6ids7w54      train  \n",
       "anchors_6kxd228s_cifar10_p1     6kxd228s      train  \n",
       "anchors_7sckybft_cifar10_p1     7sckybft      train  \n",
       "anchors_7y4wdzel_cifar10_p1     7y4wdzel      train  \n",
       "stars_6gps5q6c_cifar10_p1       6gps5q6c      train  \n",
       "stars_82pxe1i8_cifar10_p1       82pxe1i8      train  \n",
       "stars_8dirowph_cifar10_p1       8dirowph      train  \n",
       "stars_bezgu0h7_cifar10_p1       bezgu0h7      train  \n",
       "stars_by2vpp9d_cifar10_p1       by2vpp9d      train  \n",
       "stars_h2qjwxrq_cifar10_p1       h2qjwxrq      train  \n",
       "stars_n5sjdrla_cifar10_p1       n5sjdrla      train  \n",
       "stars_n8vpmpbj_cifar10_p1       n8vpmpbj      train  \n",
       "stars_nyolmhfc_cifar10_p1       nyolmhfc      train  \n",
       "stars_wrvljast_cifar10_p1       wrvljast      train  "
      ]
     },
     "metadata": {},
     "output_type": "display_data"
    }
   ],
   "source": [
    "df = plot_dict(cifar10_resnet18_results, to_show=True)"
   ]
  },
  {
   "cell_type": "code",
   "execution_count": 246,
   "metadata": {},
   "outputs": [
    {
     "data": {
      "text/html": [
       "<div>\n",
       "<style scoped>\n",
       "    .dataframe tbody tr th:only-of-type {\n",
       "        vertical-align: middle;\n",
       "    }\n",
       "\n",
       "    .dataframe tbody tr th {\n",
       "        vertical-align: top;\n",
       "    }\n",
       "\n",
       "    .dataframe thead tr th {\n",
       "        text-align: left;\n",
       "    }\n",
       "\n",
       "    .dataframe thead tr:last-of-type th {\n",
       "        text-align: right;\n",
       "    }\n",
       "</style>\n",
       "<table border=\"1\" class=\"dataframe\">\n",
       "  <thead>\n",
       "    <tr>\n",
       "      <th></th>\n",
       "      <th colspan=\"2\" halign=\"left\">margin</th>\n",
       "      <th colspan=\"2\" halign=\"left\">percent</th>\n",
       "    </tr>\n",
       "    <tr>\n",
       "      <th></th>\n",
       "      <th>mean</th>\n",
       "      <th>std</th>\n",
       "      <th>mean</th>\n",
       "      <th>std</th>\n",
       "    </tr>\n",
       "    <tr>\n",
       "      <th>model_type</th>\n",
       "      <th></th>\n",
       "      <th></th>\n",
       "      <th></th>\n",
       "      <th></th>\n",
       "    </tr>\n",
       "  </thead>\n",
       "  <tbody>\n",
       "    <tr>\n",
       "      <th>anchors</th>\n",
       "      <td>0.000081</td>\n",
       "      <td>0.000003</td>\n",
       "      <td>1.0</td>\n",
       "      <td>0.0</td>\n",
       "    </tr>\n",
       "    <tr>\n",
       "      <th>stars</th>\n",
       "      <td>0.000070</td>\n",
       "      <td>0.000002</td>\n",
       "      <td>1.0</td>\n",
       "      <td>0.0</td>\n",
       "    </tr>\n",
       "  </tbody>\n",
       "</table>\n",
       "</div>"
      ],
      "text/plain": [
       "              margin           percent     \n",
       "                mean       std    mean  std\n",
       "model_type                                 \n",
       "anchors     0.000081  0.000003     1.0  0.0\n",
       "stars       0.000070  0.000002     1.0  0.0"
      ]
     },
     "metadata": {},
     "output_type": "display_data"
    }
   ],
   "source": [
    "df = plot_dict(cifar10_resnet18_results, to_show=True, drop_columns=[\"index\", \"dataset_name\", \"model_id\", \"split_name\"], group_aggregate_list=[\"model_type\"], query=\"percent == 1.00\")"
   ]
  },
  {
   "cell_type": "markdown",
   "metadata": {},
   "source": [
    "### For battle test"
   ]
  },
  {
   "cell_type": "code",
   "execution_count": 89,
   "metadata": {},
   "outputs": [
    {
     "name": "stdout",
     "output_type": "stream",
     "text": [
      "Loading existing results from ./battle_test_cifar10_resnet18_results.pt\n",
      "Computing results for anchors_2oo0upw1_cifar10_p0.05\n"
     ]
    },
    {
     "name": "stderr",
     "output_type": "stream",
     "text": [
      "batch:   1%|          | 1/176 [00:00<00:39,  4.43it/s]/scratch_local/arubinstein17-163577/starlight/starlight_env/lib/python3.9/site-packages/torch/autograd/__init__.py:266: UserWarning: Deterministic behavior was enabled with either `torch.use_deterministic_algorithms(True)` or `at::Context::setDeterministicAlgorithms(true)`, but this operation is not deterministic because it uses CuBLAS and you have CUDA >= 10.2. To enable deterministic behavior in this case, you must set an environment variable before running your PyTorch application: CUBLAS_WORKSPACE_CONFIG=:4096:8 or CUBLAS_WORKSPACE_CONFIG=:16:8. For more information, go to https://docs.nvidia.com/cuda/cublas/index.html#cublasApi_reproducibility (Triggered internally at ../aten/src/ATen/Context.cpp:164.)\n",
      "  Variable._execution_engine.run_backward(  # Calls into the C++ engine to run the backward pass\n",
      "batch: 100%|██████████| 176/176 [00:04<00:00, 36.41it/s]\n"
     ]
    },
    {
     "name": "stdout",
     "output_type": "stream",
     "text": [
      "Computing results for anchors_3m2c3guk_cifar10_p0.05\n"
     ]
    },
    {
     "name": "stderr",
     "output_type": "stream",
     "text": [
      "batch: 100%|██████████| 176/176 [00:04<00:00, 36.85it/s]\n"
     ]
    },
    {
     "name": "stdout",
     "output_type": "stream",
     "text": [
      "Computing results for stars_0eiwx0xx_cifar10_p0.05\n"
     ]
    },
    {
     "name": "stderr",
     "output_type": "stream",
     "text": [
      "batch: 100%|██████████| 176/176 [00:05<00:00, 34.84it/s]\n"
     ]
    },
    {
     "name": "stdout",
     "output_type": "stream",
     "text": [
      "Computing results for stars_4s24tjof_cifar10_p0.05\n"
     ]
    },
    {
     "name": "stderr",
     "output_type": "stream",
     "text": [
      "batch: 100%|██████████| 176/176 [00:04<00:00, 36.62it/s]\n"
     ]
    }
   ],
   "source": [
    "cifar10_resnet18_res_path = \"./battle_test_cifar10_resnet18_results.pt\"\n",
    "\n",
    "last_10_stars_cifar10_resnet18 = [path for path in stars_resnet18 if get_model_id(path) in last_10_stars]\n",
    "\n",
    "cifar10_resnet18_results = compute_results(\n",
    "    anchors_resnet18[:2] + stars_resnet18[:2],\n",
    "    cifar10_train_dataloader,\n",
    "    cifar10_resnet18_res_path,\n",
    "    split_name=\"train\",\n",
    "    percent=0.05,\n",
    "    load_model=get_resnet18_cifar,\n",
    "    recompute_substring=\"p0\",\n",
    "    # recompute_substring=None,\n",
    "    # agg=\"max\"\n",
    "    # agg=\"min_to_pred\"\n",
    "    agg=\"max_first\"\n",
    ")"
   ]
  },
  {
   "cell_type": "code",
   "execution_count": 90,
   "metadata": {},
   "outputs": [
    {
     "data": {
      "text/html": [
       "<div>\n",
       "<style scoped>\n",
       "    .dataframe tbody tr th:only-of-type {\n",
       "        vertical-align: middle;\n",
       "    }\n",
       "\n",
       "    .dataframe tbody tr th {\n",
       "        vertical-align: top;\n",
       "    }\n",
       "\n",
       "    .dataframe thead th {\n",
       "        text-align: right;\n",
       "    }\n",
       "</style>\n",
       "<table border=\"1\" class=\"dataframe\">\n",
       "  <thead>\n",
       "    <tr style=\"text-align: right;\">\n",
       "      <th></th>\n",
       "      <th>margin</th>\n",
       "      <th>model_type</th>\n",
       "      <th>dataset_name</th>\n",
       "      <th>percent</th>\n",
       "      <th>model_id</th>\n",
       "      <th>split_name</th>\n",
       "    </tr>\n",
       "  </thead>\n",
       "  <tbody>\n",
       "    <tr>\n",
       "      <th>anchors_2oo0upw1_cifar10_p0.05</th>\n",
       "      <td>0.000357</td>\n",
       "      <td>anchors</td>\n",
       "      <td>cifar10</td>\n",
       "      <td>0.05</td>\n",
       "      <td>2oo0upw1</td>\n",
       "      <td>train</td>\n",
       "    </tr>\n",
       "    <tr>\n",
       "      <th>anchors_3m2c3guk_cifar10_p0.05</th>\n",
       "      <td>0.000352</td>\n",
       "      <td>anchors</td>\n",
       "      <td>cifar10</td>\n",
       "      <td>0.05</td>\n",
       "      <td>3m2c3guk</td>\n",
       "      <td>train</td>\n",
       "    </tr>\n",
       "    <tr>\n",
       "      <th>stars_0eiwx0xx_cifar10_p0.05</th>\n",
       "      <td>0.000305</td>\n",
       "      <td>stars</td>\n",
       "      <td>cifar10</td>\n",
       "      <td>0.05</td>\n",
       "      <td>0eiwx0xx</td>\n",
       "      <td>train</td>\n",
       "    </tr>\n",
       "    <tr>\n",
       "      <th>stars_4s24tjof_cifar10_p0.05</th>\n",
       "      <td>0.000296</td>\n",
       "      <td>stars</td>\n",
       "      <td>cifar10</td>\n",
       "      <td>0.05</td>\n",
       "      <td>4s24tjof</td>\n",
       "      <td>train</td>\n",
       "    </tr>\n",
       "  </tbody>\n",
       "</table>\n",
       "</div>"
      ],
      "text/plain": [
       "                                  margin model_type dataset_name  percent  \\\n",
       "anchors_2oo0upw1_cifar10_p0.05  0.000357    anchors      cifar10     0.05   \n",
       "anchors_3m2c3guk_cifar10_p0.05  0.000352    anchors      cifar10     0.05   \n",
       "stars_0eiwx0xx_cifar10_p0.05    0.000305      stars      cifar10     0.05   \n",
       "stars_4s24tjof_cifar10_p0.05    0.000296      stars      cifar10     0.05   \n",
       "\n",
       "                                model_id split_name  \n",
       "anchors_2oo0upw1_cifar10_p0.05  2oo0upw1      train  \n",
       "anchors_3m2c3guk_cifar10_p0.05  3m2c3guk      train  \n",
       "stars_0eiwx0xx_cifar10_p0.05    0eiwx0xx      train  \n",
       "stars_4s24tjof_cifar10_p0.05    4s24tjof      train  "
      ]
     },
     "metadata": {},
     "output_type": "display_data"
    }
   ],
   "source": [
    "df = plot_dict(cifar10_resnet18_results, to_show=True)"
   ]
  },
  {
   "cell_type": "code",
   "execution_count": 8,
   "metadata": {},
   "outputs": [
    {
     "ename": "KeyError",
     "evalue": "\"['train'] not found in axis\"",
     "output_type": "error",
     "traceback": [
      "\u001b[0;31m---------------------------------------------------------------------------\u001b[0m",
      "\u001b[0;31mKeyError\u001b[0m                                  Traceback (most recent call last)",
      "Cell \u001b[0;32mIn[8], line 1\u001b[0m\n\u001b[0;32m----> 1\u001b[0m df \u001b[38;5;241m=\u001b[39m \u001b[43mplot_dict\u001b[49m\u001b[43m(\u001b[49m\u001b[43mcifar10_resnet18_results\u001b[49m\u001b[43m,\u001b[49m\u001b[43m \u001b[49m\u001b[43mto_show\u001b[49m\u001b[38;5;241;43m=\u001b[39;49m\u001b[38;5;28;43;01mTrue\u001b[39;49;00m\u001b[43m,\u001b[49m\u001b[43m \u001b[49m\u001b[43mdrop_columns\u001b[49m\u001b[38;5;241;43m=\u001b[39;49m\u001b[43m[\u001b[49m\u001b[38;5;124;43m\"\u001b[39;49m\u001b[38;5;124;43mindex\u001b[39;49m\u001b[38;5;124;43m\"\u001b[39;49m\u001b[43m,\u001b[49m\u001b[43m \u001b[49m\u001b[38;5;124;43m\"\u001b[39;49m\u001b[38;5;124;43mdataset_name\u001b[39;49m\u001b[38;5;124;43m\"\u001b[39;49m\u001b[43m,\u001b[49m\u001b[43m \u001b[49m\u001b[38;5;124;43m\"\u001b[39;49m\u001b[38;5;124;43mmodel_id\u001b[39;49m\u001b[38;5;124;43m\"\u001b[39;49m\u001b[43m,\u001b[49m\u001b[43m \u001b[49m\u001b[38;5;124;43m\"\u001b[39;49m\u001b[38;5;124;43mtrain\u001b[39;49m\u001b[38;5;124;43m\"\u001b[39;49m\u001b[43m]\u001b[49m\u001b[43m,\u001b[49m\u001b[43m \u001b[49m\u001b[43mgroup_aggregate_list\u001b[49m\u001b[38;5;241;43m=\u001b[39;49m\u001b[43m[\u001b[49m\u001b[38;5;124;43m\"\u001b[39;49m\u001b[38;5;124;43mmodel_type\u001b[39;49m\u001b[38;5;124;43m\"\u001b[39;49m\u001b[43m]\u001b[49m\u001b[43m,\u001b[49m\u001b[43m \u001b[49m\u001b[43mquery\u001b[49m\u001b[38;5;241;43m=\u001b[39;49m\u001b[38;5;124;43m\"\u001b[39;49m\u001b[38;5;124;43mmodel_type == \u001b[39;49m\u001b[38;5;124;43m'\u001b[39;49m\u001b[38;5;124;43manchors\u001b[39;49m\u001b[38;5;124;43m'\u001b[39;49m\u001b[38;5;124;43m | model_id in [\u001b[39;49m\u001b[38;5;124;43m'\u001b[39;49m\u001b[38;5;124;43m0eiwx0xx\u001b[39;49m\u001b[38;5;124;43m'\u001b[39;49m\u001b[38;5;124;43m]\u001b[39;49m\u001b[38;5;124;43m\"\u001b[39;49m\u001b[43m)\u001b[49m\n",
      "Cell \u001b[0;32mIn[3], line 264\u001b[0m, in \u001b[0;36mplot_dict\u001b[0;34m(res, to_show, filter_dict, drop_columns, group_aggregate_list, query)\u001b[0m\n\u001b[1;32m    262\u001b[0m         df\u001b[38;5;241m.\u001b[39mreset_index(drop\u001b[38;5;241m=\u001b[39m\u001b[38;5;28;01mTrue\u001b[39;00m, inplace\u001b[38;5;241m=\u001b[39m\u001b[38;5;28;01mTrue\u001b[39;00m)\n\u001b[1;32m    263\u001b[0m     \u001b[38;5;28;01melse\u001b[39;00m:\n\u001b[0;32m--> 264\u001b[0m         df \u001b[38;5;241m=\u001b[39m \u001b[43mdf\u001b[49m\u001b[38;5;241;43m.\u001b[39;49m\u001b[43mdrop\u001b[49m\u001b[43m(\u001b[49m\u001b[43mcolumn_name\u001b[49m\u001b[43m,\u001b[49m\u001b[43m \u001b[49m\u001b[43maxis\u001b[49m\u001b[38;5;241;43m=\u001b[39;49m\u001b[38;5;241;43m1\u001b[39;49m\u001b[43m)\u001b[49m\n\u001b[1;32m    266\u001b[0m \u001b[38;5;28;01mfor\u001b[39;00m new_index \u001b[38;5;129;01min\u001b[39;00m group_aggregate_list:\n\u001b[1;32m    267\u001b[0m     df \u001b[38;5;241m=\u001b[39m df\u001b[38;5;241m.\u001b[39mgroupby(new_index)\u001b[38;5;241m.\u001b[39magg([(\u001b[38;5;124mf\u001b[39m\u001b[38;5;124m'\u001b[39m\u001b[38;5;124mmean\u001b[39m\u001b[38;5;124m'\u001b[39m, \u001b[38;5;124m'\u001b[39m\u001b[38;5;124mmean\u001b[39m\u001b[38;5;124m'\u001b[39m), (\u001b[38;5;124mf\u001b[39m\u001b[38;5;124m'\u001b[39m\u001b[38;5;124mstd\u001b[39m\u001b[38;5;124m'\u001b[39m, \u001b[38;5;124m'\u001b[39m\u001b[38;5;124mstd\u001b[39m\u001b[38;5;124m'\u001b[39m)])\n",
      "File \u001b[0;32m/scratch_local/arubinstein17-163577/starlight/starlight_env/lib/python3.9/site-packages/pandas/core/frame.py:5568\u001b[0m, in \u001b[0;36mDataFrame.drop\u001b[0;34m(self, labels, axis, index, columns, level, inplace, errors)\u001b[0m\n\u001b[1;32m   5420\u001b[0m \u001b[38;5;28;01mdef\u001b[39;00m \u001b[38;5;21mdrop\u001b[39m(\n\u001b[1;32m   5421\u001b[0m     \u001b[38;5;28mself\u001b[39m,\n\u001b[1;32m   5422\u001b[0m     labels: IndexLabel \u001b[38;5;241m|\u001b[39m \u001b[38;5;28;01mNone\u001b[39;00m \u001b[38;5;241m=\u001b[39m \u001b[38;5;28;01mNone\u001b[39;00m,\n\u001b[0;32m   (...)\u001b[0m\n\u001b[1;32m   5429\u001b[0m     errors: IgnoreRaise \u001b[38;5;241m=\u001b[39m \u001b[38;5;124m\"\u001b[39m\u001b[38;5;124mraise\u001b[39m\u001b[38;5;124m\"\u001b[39m,\n\u001b[1;32m   5430\u001b[0m ) \u001b[38;5;241m-\u001b[39m\u001b[38;5;241m>\u001b[39m DataFrame \u001b[38;5;241m|\u001b[39m \u001b[38;5;28;01mNone\u001b[39;00m:\n\u001b[1;32m   5431\u001b[0m \u001b[38;5;250m    \u001b[39m\u001b[38;5;124;03m\"\"\"\u001b[39;00m\n\u001b[1;32m   5432\u001b[0m \u001b[38;5;124;03m    Drop specified labels from rows or columns.\u001b[39;00m\n\u001b[1;32m   5433\u001b[0m \n\u001b[0;32m   (...)\u001b[0m\n\u001b[1;32m   5566\u001b[0m \u001b[38;5;124;03m            weight  1.0     0.8\u001b[39;00m\n\u001b[1;32m   5567\u001b[0m \u001b[38;5;124;03m    \"\"\"\u001b[39;00m\n\u001b[0;32m-> 5568\u001b[0m     \u001b[38;5;28;01mreturn\u001b[39;00m \u001b[38;5;28;43msuper\u001b[39;49m\u001b[43m(\u001b[49m\u001b[43m)\u001b[49m\u001b[38;5;241;43m.\u001b[39;49m\u001b[43mdrop\u001b[49m\u001b[43m(\u001b[49m\n\u001b[1;32m   5569\u001b[0m \u001b[43m        \u001b[49m\u001b[43mlabels\u001b[49m\u001b[38;5;241;43m=\u001b[39;49m\u001b[43mlabels\u001b[49m\u001b[43m,\u001b[49m\n\u001b[1;32m   5570\u001b[0m \u001b[43m        \u001b[49m\u001b[43maxis\u001b[49m\u001b[38;5;241;43m=\u001b[39;49m\u001b[43maxis\u001b[49m\u001b[43m,\u001b[49m\n\u001b[1;32m   5571\u001b[0m \u001b[43m        \u001b[49m\u001b[43mindex\u001b[49m\u001b[38;5;241;43m=\u001b[39;49m\u001b[43mindex\u001b[49m\u001b[43m,\u001b[49m\n\u001b[1;32m   5572\u001b[0m \u001b[43m        \u001b[49m\u001b[43mcolumns\u001b[49m\u001b[38;5;241;43m=\u001b[39;49m\u001b[43mcolumns\u001b[49m\u001b[43m,\u001b[49m\n\u001b[1;32m   5573\u001b[0m \u001b[43m        \u001b[49m\u001b[43mlevel\u001b[49m\u001b[38;5;241;43m=\u001b[39;49m\u001b[43mlevel\u001b[49m\u001b[43m,\u001b[49m\n\u001b[1;32m   5574\u001b[0m \u001b[43m        \u001b[49m\u001b[43minplace\u001b[49m\u001b[38;5;241;43m=\u001b[39;49m\u001b[43minplace\u001b[49m\u001b[43m,\u001b[49m\n\u001b[1;32m   5575\u001b[0m \u001b[43m        \u001b[49m\u001b[43merrors\u001b[49m\u001b[38;5;241;43m=\u001b[39;49m\u001b[43merrors\u001b[49m\u001b[43m,\u001b[49m\n\u001b[1;32m   5576\u001b[0m \u001b[43m    \u001b[49m\u001b[43m)\u001b[49m\n",
      "File \u001b[0;32m/scratch_local/arubinstein17-163577/starlight/starlight_env/lib/python3.9/site-packages/pandas/core/generic.py:4785\u001b[0m, in \u001b[0;36mNDFrame.drop\u001b[0;34m(self, labels, axis, index, columns, level, inplace, errors)\u001b[0m\n\u001b[1;32m   4783\u001b[0m \u001b[38;5;28;01mfor\u001b[39;00m axis, labels \u001b[38;5;129;01min\u001b[39;00m axes\u001b[38;5;241m.\u001b[39mitems():\n\u001b[1;32m   4784\u001b[0m     \u001b[38;5;28;01mif\u001b[39;00m labels \u001b[38;5;129;01mis\u001b[39;00m \u001b[38;5;129;01mnot\u001b[39;00m \u001b[38;5;28;01mNone\u001b[39;00m:\n\u001b[0;32m-> 4785\u001b[0m         obj \u001b[38;5;241m=\u001b[39m \u001b[43mobj\u001b[49m\u001b[38;5;241;43m.\u001b[39;49m\u001b[43m_drop_axis\u001b[49m\u001b[43m(\u001b[49m\u001b[43mlabels\u001b[49m\u001b[43m,\u001b[49m\u001b[43m \u001b[49m\u001b[43maxis\u001b[49m\u001b[43m,\u001b[49m\u001b[43m \u001b[49m\u001b[43mlevel\u001b[49m\u001b[38;5;241;43m=\u001b[39;49m\u001b[43mlevel\u001b[49m\u001b[43m,\u001b[49m\u001b[43m \u001b[49m\u001b[43merrors\u001b[49m\u001b[38;5;241;43m=\u001b[39;49m\u001b[43merrors\u001b[49m\u001b[43m)\u001b[49m\n\u001b[1;32m   4787\u001b[0m \u001b[38;5;28;01mif\u001b[39;00m inplace:\n\u001b[1;32m   4788\u001b[0m     \u001b[38;5;28mself\u001b[39m\u001b[38;5;241m.\u001b[39m_update_inplace(obj)\n",
      "File \u001b[0;32m/scratch_local/arubinstein17-163577/starlight/starlight_env/lib/python3.9/site-packages/pandas/core/generic.py:4827\u001b[0m, in \u001b[0;36mNDFrame._drop_axis\u001b[0;34m(self, labels, axis, level, errors, only_slice)\u001b[0m\n\u001b[1;32m   4825\u001b[0m         new_axis \u001b[38;5;241m=\u001b[39m axis\u001b[38;5;241m.\u001b[39mdrop(labels, level\u001b[38;5;241m=\u001b[39mlevel, errors\u001b[38;5;241m=\u001b[39merrors)\n\u001b[1;32m   4826\u001b[0m     \u001b[38;5;28;01melse\u001b[39;00m:\n\u001b[0;32m-> 4827\u001b[0m         new_axis \u001b[38;5;241m=\u001b[39m \u001b[43maxis\u001b[49m\u001b[38;5;241;43m.\u001b[39;49m\u001b[43mdrop\u001b[49m\u001b[43m(\u001b[49m\u001b[43mlabels\u001b[49m\u001b[43m,\u001b[49m\u001b[43m \u001b[49m\u001b[43merrors\u001b[49m\u001b[38;5;241;43m=\u001b[39;49m\u001b[43merrors\u001b[49m\u001b[43m)\u001b[49m\n\u001b[1;32m   4828\u001b[0m     indexer \u001b[38;5;241m=\u001b[39m axis\u001b[38;5;241m.\u001b[39mget_indexer(new_axis)\n\u001b[1;32m   4830\u001b[0m \u001b[38;5;66;03m# Case for non-unique axis\u001b[39;00m\n\u001b[1;32m   4831\u001b[0m \u001b[38;5;28;01melse\u001b[39;00m:\n",
      "File \u001b[0;32m/scratch_local/arubinstein17-163577/starlight/starlight_env/lib/python3.9/site-packages/pandas/core/indexes/base.py:7070\u001b[0m, in \u001b[0;36mIndex.drop\u001b[0;34m(self, labels, errors)\u001b[0m\n\u001b[1;32m   7068\u001b[0m \u001b[38;5;28;01mif\u001b[39;00m mask\u001b[38;5;241m.\u001b[39many():\n\u001b[1;32m   7069\u001b[0m     \u001b[38;5;28;01mif\u001b[39;00m errors \u001b[38;5;241m!=\u001b[39m \u001b[38;5;124m\"\u001b[39m\u001b[38;5;124mignore\u001b[39m\u001b[38;5;124m\"\u001b[39m:\n\u001b[0;32m-> 7070\u001b[0m         \u001b[38;5;28;01mraise\u001b[39;00m \u001b[38;5;167;01mKeyError\u001b[39;00m(\u001b[38;5;124mf\u001b[39m\u001b[38;5;124m\"\u001b[39m\u001b[38;5;132;01m{\u001b[39;00mlabels[mask]\u001b[38;5;241m.\u001b[39mtolist()\u001b[38;5;132;01m}\u001b[39;00m\u001b[38;5;124m not found in axis\u001b[39m\u001b[38;5;124m\"\u001b[39m)\n\u001b[1;32m   7071\u001b[0m     indexer \u001b[38;5;241m=\u001b[39m indexer[\u001b[38;5;241m~\u001b[39mmask]\n\u001b[1;32m   7072\u001b[0m \u001b[38;5;28;01mreturn\u001b[39;00m \u001b[38;5;28mself\u001b[39m\u001b[38;5;241m.\u001b[39mdelete(indexer)\n",
      "\u001b[0;31mKeyError\u001b[0m: \"['train'] not found in axis\""
     ]
    }
   ],
   "source": [
    "df = plot_dict(cifar10_resnet18_results, to_show=True, drop_columns=[\"index\", \"dataset_name\", \"model_id\", \"train\"], group_aggregate_list=[\"model_type\"], query=\"model_type == 'anchors' | model_id in ['0eiwx0xx']\")"
   ]
  },
  {
   "cell_type": "code",
   "execution_count": 209,
   "metadata": {},
   "outputs": [
    {
     "data": {
      "text/html": [
       "<div>\n",
       "<style scoped>\n",
       "    .dataframe tbody tr th:only-of-type {\n",
       "        vertical-align: middle;\n",
       "    }\n",
       "\n",
       "    .dataframe tbody tr th {\n",
       "        vertical-align: top;\n",
       "    }\n",
       "\n",
       "    .dataframe thead tr th {\n",
       "        text-align: left;\n",
       "    }\n",
       "\n",
       "    .dataframe thead tr:last-of-type th {\n",
       "        text-align: right;\n",
       "    }\n",
       "</style>\n",
       "<table border=\"1\" class=\"dataframe\">\n",
       "  <thead>\n",
       "    <tr>\n",
       "      <th></th>\n",
       "      <th colspan=\"2\" halign=\"left\">margin</th>\n",
       "      <th colspan=\"2\" halign=\"left\">percent</th>\n",
       "    </tr>\n",
       "    <tr>\n",
       "      <th></th>\n",
       "      <th>mean</th>\n",
       "      <th>std</th>\n",
       "      <th>mean</th>\n",
       "      <th>std</th>\n",
       "    </tr>\n",
       "    <tr>\n",
       "      <th>model_type</th>\n",
       "      <th></th>\n",
       "      <th></th>\n",
       "      <th></th>\n",
       "      <th></th>\n",
       "    </tr>\n",
       "  </thead>\n",
       "  <tbody>\n",
       "    <tr>\n",
       "      <th>anchors</th>\n",
       "      <td>0.000081</td>\n",
       "      <td>7.595591e-07</td>\n",
       "      <td>0.05</td>\n",
       "      <td>0.0</td>\n",
       "    </tr>\n",
       "    <tr>\n",
       "      <th>stars</th>\n",
       "      <td>0.000071</td>\n",
       "      <td>NaN</td>\n",
       "      <td>0.05</td>\n",
       "      <td>NaN</td>\n",
       "    </tr>\n",
       "  </tbody>\n",
       "</table>\n",
       "</div>"
      ],
      "text/plain": [
       "              margin               percent     \n",
       "                mean           std    mean  std\n",
       "model_type                                     \n",
       "anchors     0.000081  7.595591e-07    0.05  0.0\n",
       "stars       0.000071           NaN    0.05  NaN"
      ]
     },
     "metadata": {},
     "output_type": "display_data"
    }
   ],
   "source": [
    "# df = plot_dict(cifar10_resnet18_results, to_show=True, drop_columns=[\"index\", \"dataset_name\", \"model_id\"], group_aggregate_list=[\"model_type\"], query=\"model_type == 'anchors' | model_id in ['0eiwx0xx']\")"
   ]
  },
  {
   "cell_type": "markdown",
   "metadata": {},
   "source": [
    "# Save df"
   ]
  },
  {
   "cell_type": "code",
   "execution_count": 10,
   "metadata": {},
   "outputs": [],
   "source": [
    "df.to_csv(\"tmp.csv\")"
   ]
  }
 ],
 "metadata": {
  "kernelspec": {
   "display_name": "Python 3",
   "language": "python",
   "name": "python3"
  },
  "language_info": {
   "codemirror_mode": {
    "name": "ipython",
    "version": 3
   },
   "file_extension": ".py",
   "mimetype": "text/x-python",
   "name": "python",
   "nbconvert_exporter": "python",
   "pygments_lexer": "ipython3",
   "version": "3.9.0"
  }
 },
 "nbformat": 4,
 "nbformat_minor": 2
}
